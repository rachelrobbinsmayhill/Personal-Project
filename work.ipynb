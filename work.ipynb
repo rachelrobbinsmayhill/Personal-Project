{
 "cells": [
  {
   "cell_type": "markdown",
   "id": "b64e8d56-c5b1-4dd8-ae08-4ab210c6296f",
   "metadata": {},
   "source": [
    "# DRAFT WORKBOOK:\n",
    "## CAN I GET A LITTLE CREDIT? \n",
    "### An Exploration of Credit Worthiness, Using Classification to Predict Serious Repayment Delinquency"
   ]
  },
  {
   "cell_type": "markdown",
   "id": "f2f23c67-16dc-41fe-a684-9d8c6a5d6ccc",
   "metadata": {},
   "source": [
    "Personal Project & Final Report Created By: Rachel Robbins-Mayhill | April , 2022"
   ]
  },
  {
   "cell_type": "code",
   "execution_count": 1,
   "id": "35ed9df3-b52c-4e9a-be38-f980725e6fe6",
   "metadata": {},
   "outputs": [],
   "source": [
    "# Import for data manipulation\n",
    "import pandas as pd\n",
    "import numpy as np\n",
    "\n",
    "# Import for data viz\n",
    "import seaborn as sns\n",
    "from matplotlib import pyplot as plt\n",
    "from matplotlib.ticker import StrMethodFormatter\n",
    "import squarify\n",
    "\n",
    "# Import for Hypothesis Testing\n",
    "import scipy.stats as stats\n",
    "from sklearn.tree import DecisionTreeClassifier, plot_tree\n",
    "from sklearn.metrics import classification_report\n",
    "from sklearn.metrics import confusion_matrix\n",
    "\n",
    "from sklearn.ensemble import RandomForestClassifier\n",
    "from sklearn.neighbors import KNeighborsClassifier\n",
    "from sklearn.linear_model import LogisticRegression\n",
    "\n",
    "# Import for acquisition\n",
    "import env\n",
    "import os\n",
    "import wrangle\n",
    "\n",
    "# Add for setting to see all rows and columns\n",
    "pd.options.display.max_rows = None\n",
    "pd.options.display.max_columns = None\n",
    "\n",
    "# Import to ignore warnings\n",
    "import warnings\n",
    "warnings.filterwarnings('ignore')"
   ]
  },
  {
   "cell_type": "markdown",
   "id": "5d79abdd-5f4e-406a-8b2a-65343b1e5e90",
   "metadata": {},
   "source": [
    "## PROJECT DESCRIPTION"
   ]
  },
  {
   "cell_type": "markdown",
   "id": "0ba83e44-a072-44cb-8867-f87746c41061",
   "metadata": {},
   "source": [
    "Banks play a crucial role in market economies. They decide who can get finance and on what terms and can make or break investment decisions. For markets and society to function, individuals and companies need access to credit. \n",
    "\n",
    "Credit scoring algorithms, which make a guess at the probability of default, are the methods banks use to determine whether or not a loan should be granted. This project aims to improve upon the state of the art in credit scoring, by predicting the probability that somebody will experience financial distress in the next two years.\n",
    "\n",
    "I am interested in this project because identifying at-risk populations helps to protect the consumer, the business, the market, and society as a whole. Identifying customers who are at risk of default helps to prevent the consumer from entering into a situation that could be harmful to their long-term financial stability. It helps the banking institution prevent significant and costly losses which could impact business sustainability and limit the potential to help others. Lastly, as we saw with the housing crisis of 2008, accurately identifying at-risk loan applicants can prevent the destabilizing of the market which can have far-reaching consequences for society as a whole."
   ]
  },
  {
   "cell_type": "markdown",
   "id": "c6c3a10e-363f-4dd6-8ae9-2caa45b6b63e",
   "metadata": {},
   "source": [
    "## PROJECT GOAL"
   ]
  },
  {
   "cell_type": "markdown",
   "id": "cb3b7928-cfb2-438a-abc3-f0b55c898dca",
   "metadata": {},
   "source": [
    "The goal of this project is to build a model that borrowers can use to help make the best financial decisions."
   ]
  },
  {
   "cell_type": "markdown",
   "id": "9cead56f-1368-4878-ab45-ff439325e708",
   "metadata": {},
   "source": [
    "## I. ACQUIRE"
   ]
  },
  {
   "cell_type": "code",
   "execution_count": 2,
   "id": "5c213a55-3ad2-4d0b-afb5-11d36f846574",
   "metadata": {},
   "outputs": [
    {
     "data": {
      "text/html": [
       "<div>\n",
       "<style scoped>\n",
       "    .dataframe tbody tr th:only-of-type {\n",
       "        vertical-align: middle;\n",
       "    }\n",
       "\n",
       "    .dataframe tbody tr th {\n",
       "        vertical-align: top;\n",
       "    }\n",
       "\n",
       "    .dataframe thead th {\n",
       "        text-align: right;\n",
       "    }\n",
       "</style>\n",
       "<table border=\"1\" class=\"dataframe\">\n",
       "  <thead>\n",
       "    <tr style=\"text-align: right;\">\n",
       "      <th></th>\n",
       "      <th>Unnamed: 0</th>\n",
       "      <th>SeriousDlqin2yrs</th>\n",
       "      <th>RevolvingUtilizationOfUnsecuredLines</th>\n",
       "      <th>age</th>\n",
       "      <th>NumberOfTime30-59DaysPastDueNotWorse</th>\n",
       "      <th>DebtRatio</th>\n",
       "      <th>MonthlyIncome</th>\n",
       "      <th>NumberOfOpenCreditLinesAndLoans</th>\n",
       "      <th>NumberOfTimes90DaysLate</th>\n",
       "      <th>NumberRealEstateLoansOrLines</th>\n",
       "      <th>NumberOfTime60-89DaysPastDueNotWorse</th>\n",
       "      <th>NumberOfDependents</th>\n",
       "    </tr>\n",
       "  </thead>\n",
       "  <tbody>\n",
       "    <tr>\n",
       "      <th>0</th>\n",
       "      <td>1</td>\n",
       "      <td>1</td>\n",
       "      <td>0.766127</td>\n",
       "      <td>45</td>\n",
       "      <td>2</td>\n",
       "      <td>0.802982</td>\n",
       "      <td>9120.0</td>\n",
       "      <td>13</td>\n",
       "      <td>0</td>\n",
       "      <td>6</td>\n",
       "      <td>0</td>\n",
       "      <td>2.0</td>\n",
       "    </tr>\n",
       "    <tr>\n",
       "      <th>1</th>\n",
       "      <td>2</td>\n",
       "      <td>0</td>\n",
       "      <td>0.957151</td>\n",
       "      <td>40</td>\n",
       "      <td>0</td>\n",
       "      <td>0.121876</td>\n",
       "      <td>2600.0</td>\n",
       "      <td>4</td>\n",
       "      <td>0</td>\n",
       "      <td>0</td>\n",
       "      <td>0</td>\n",
       "      <td>1.0</td>\n",
       "    </tr>\n",
       "    <tr>\n",
       "      <th>2</th>\n",
       "      <td>3</td>\n",
       "      <td>0</td>\n",
       "      <td>0.658180</td>\n",
       "      <td>38</td>\n",
       "      <td>1</td>\n",
       "      <td>0.085113</td>\n",
       "      <td>3042.0</td>\n",
       "      <td>2</td>\n",
       "      <td>1</td>\n",
       "      <td>0</td>\n",
       "      <td>0</td>\n",
       "      <td>0.0</td>\n",
       "    </tr>\n",
       "    <tr>\n",
       "      <th>3</th>\n",
       "      <td>4</td>\n",
       "      <td>0</td>\n",
       "      <td>0.233810</td>\n",
       "      <td>30</td>\n",
       "      <td>0</td>\n",
       "      <td>0.036050</td>\n",
       "      <td>3300.0</td>\n",
       "      <td>5</td>\n",
       "      <td>0</td>\n",
       "      <td>0</td>\n",
       "      <td>0</td>\n",
       "      <td>0.0</td>\n",
       "    </tr>\n",
       "    <tr>\n",
       "      <th>4</th>\n",
       "      <td>5</td>\n",
       "      <td>0</td>\n",
       "      <td>0.907239</td>\n",
       "      <td>49</td>\n",
       "      <td>1</td>\n",
       "      <td>0.024926</td>\n",
       "      <td>63588.0</td>\n",
       "      <td>7</td>\n",
       "      <td>0</td>\n",
       "      <td>1</td>\n",
       "      <td>0</td>\n",
       "      <td>0.0</td>\n",
       "    </tr>\n",
       "  </tbody>\n",
       "</table>\n",
       "</div>"
      ],
      "text/plain": [
       "   Unnamed: 0  SeriousDlqin2yrs  RevolvingUtilizationOfUnsecuredLines  age  \\\n",
       "0           1                 1                              0.766127   45   \n",
       "1           2                 0                              0.957151   40   \n",
       "2           3                 0                              0.658180   38   \n",
       "3           4                 0                              0.233810   30   \n",
       "4           5                 0                              0.907239   49   \n",
       "\n",
       "   NumberOfTime30-59DaysPastDueNotWorse  DebtRatio  MonthlyIncome  \\\n",
       "0                                     2   0.802982         9120.0   \n",
       "1                                     0   0.121876         2600.0   \n",
       "2                                     1   0.085113         3042.0   \n",
       "3                                     0   0.036050         3300.0   \n",
       "4                                     1   0.024926        63588.0   \n",
       "\n",
       "   NumberOfOpenCreditLinesAndLoans  NumberOfTimes90DaysLate  \\\n",
       "0                               13                        0   \n",
       "1                                4                        0   \n",
       "2                                2                        1   \n",
       "3                                5                        0   \n",
       "4                                7                        0   \n",
       "\n",
       "   NumberRealEstateLoansOrLines  NumberOfTime60-89DaysPastDueNotWorse  \\\n",
       "0                             6                                     0   \n",
       "1                             0                                     0   \n",
       "2                             0                                     0   \n",
       "3                             0                                     0   \n",
       "4                             1                                     0   \n",
       "\n",
       "   NumberOfDependents  \n",
       "0                 2.0  \n",
       "1                 1.0  \n",
       "2                 0.0  \n",
       "3                 0.0  \n",
       "4                 0.0  "
      ]
     },
     "execution_count": 2,
     "metadata": {},
     "output_type": "execute_result"
    }
   ],
   "source": [
    "# acquire dataset\n",
    "df = pd.read_csv('client_data.csv')\n",
    "# view first few rows\n",
    "df.head()"
   ]
  },
  {
   "cell_type": "code",
   "execution_count": 3,
   "id": "b6edcaa4-15b6-4083-8376-128914de3706",
   "metadata": {},
   "outputs": [
    {
     "data": {
      "text/plain": [
       "(150000, 12)"
      ]
     },
     "execution_count": 3,
     "metadata": {},
     "output_type": "execute_result"
    }
   ],
   "source": [
    "# size of dataset\n",
    "df.shape"
   ]
  },
  {
   "cell_type": "code",
   "execution_count": 4,
   "id": "5f073bf6-af09-4ee7-90ff-28e7dacc1ccc",
   "metadata": {},
   "outputs": [
    {
     "name": "stdout",
     "output_type": "stream",
     "text": [
      "<class 'pandas.core.frame.DataFrame'>\n",
      "RangeIndex: 150000 entries, 0 to 149999\n",
      "Data columns (total 12 columns):\n",
      " #   Column                                Non-Null Count   Dtype  \n",
      "---  ------                                --------------   -----  \n",
      " 0   Unnamed: 0                            150000 non-null  int64  \n",
      " 1   SeriousDlqin2yrs                      150000 non-null  int64  \n",
      " 2   RevolvingUtilizationOfUnsecuredLines  150000 non-null  float64\n",
      " 3   age                                   150000 non-null  int64  \n",
      " 4   NumberOfTime30-59DaysPastDueNotWorse  150000 non-null  int64  \n",
      " 5   DebtRatio                             150000 non-null  float64\n",
      " 6   MonthlyIncome                         120269 non-null  float64\n",
      " 7   NumberOfOpenCreditLinesAndLoans       150000 non-null  int64  \n",
      " 8   NumberOfTimes90DaysLate               150000 non-null  int64  \n",
      " 9   NumberRealEstateLoansOrLines          150000 non-null  int64  \n",
      " 10  NumberOfTime60-89DaysPastDueNotWorse  150000 non-null  int64  \n",
      " 11  NumberOfDependents                    146076 non-null  float64\n",
      "dtypes: float64(4), int64(8)\n",
      "memory usage: 13.7 MB\n"
     ]
    }
   ],
   "source": [
    "# view column names and datatypes\n",
    "df.info()"
   ]
  },
  {
   "cell_type": "code",
   "execution_count": 5,
   "id": "410a7487-9a2f-4565-a6fd-d05b3d2a1f50",
   "metadata": {},
   "outputs": [
    {
     "data": {
      "text/plain": [
       "Unnamed: 0                                  0\n",
       "SeriousDlqin2yrs                            0\n",
       "RevolvingUtilizationOfUnsecuredLines        0\n",
       "age                                         0\n",
       "NumberOfTime30-59DaysPastDueNotWorse        0\n",
       "DebtRatio                                   0\n",
       "MonthlyIncome                           29731\n",
       "NumberOfOpenCreditLinesAndLoans             0\n",
       "NumberOfTimes90DaysLate                     0\n",
       "NumberRealEstateLoansOrLines                0\n",
       "NumberOfTime60-89DaysPastDueNotWorse        0\n",
       "NumberOfDependents                       3924\n",
       "dtype: int64"
      ]
     },
     "execution_count": 5,
     "metadata": {},
     "output_type": "execute_result"
    }
   ],
   "source": [
    "# Obtain count of nulls per column\n",
    "df.isnull().sum()"
   ]
  },
  {
   "cell_type": "code",
   "execution_count": 6,
   "id": "ee77cc4f-6f4f-4653-b586-73bd478a23d9",
   "metadata": {},
   "outputs": [
    {
     "data": {
      "text/plain": [
       "Unnamed: 0                              0.000000\n",
       "SeriousDlqin2yrs                        0.000000\n",
       "RevolvingUtilizationOfUnsecuredLines    0.000000\n",
       "age                                     0.000000\n",
       "NumberOfTime30-59DaysPastDueNotWorse    0.000000\n",
       "DebtRatio                               0.000000\n",
       "MonthlyIncome                           0.198207\n",
       "NumberOfOpenCreditLinesAndLoans         0.000000\n",
       "NumberOfTimes90DaysLate                 0.000000\n",
       "NumberRealEstateLoansOrLines            0.000000\n",
       "NumberOfTime60-89DaysPastDueNotWorse    0.000000\n",
       "NumberOfDependents                      0.026160\n",
       "dtype: float64"
      ]
     },
     "execution_count": 6,
     "metadata": {},
     "output_type": "execute_result"
    }
   ],
   "source": [
    "df.isnull().mean()"
   ]
  },
  {
   "cell_type": "code",
   "execution_count": 7,
   "id": "c88ce0f5-7c9c-49ec-9071-5321314c4b9c",
   "metadata": {},
   "outputs": [
    {
     "data": {
      "text/html": [
       "<div>\n",
       "<style scoped>\n",
       "    .dataframe tbody tr th:only-of-type {\n",
       "        vertical-align: middle;\n",
       "    }\n",
       "\n",
       "    .dataframe tbody tr th {\n",
       "        vertical-align: top;\n",
       "    }\n",
       "\n",
       "    .dataframe thead th {\n",
       "        text-align: right;\n",
       "    }\n",
       "</style>\n",
       "<table border=\"1\" class=\"dataframe\">\n",
       "  <thead>\n",
       "    <tr style=\"text-align: right;\">\n",
       "      <th></th>\n",
       "      <th>Unnamed: 0</th>\n",
       "      <th>SeriousDlqin2yrs</th>\n",
       "      <th>RevolvingUtilizationOfUnsecuredLines</th>\n",
       "      <th>age</th>\n",
       "      <th>NumberOfTime30-59DaysPastDueNotWorse</th>\n",
       "      <th>DebtRatio</th>\n",
       "      <th>MonthlyIncome</th>\n",
       "      <th>NumberOfOpenCreditLinesAndLoans</th>\n",
       "      <th>NumberOfTimes90DaysLate</th>\n",
       "      <th>NumberRealEstateLoansOrLines</th>\n",
       "      <th>NumberOfTime60-89DaysPastDueNotWorse</th>\n",
       "      <th>NumberOfDependents</th>\n",
       "    </tr>\n",
       "  </thead>\n",
       "  <tbody>\n",
       "    <tr>\n",
       "      <th>count</th>\n",
       "      <td>150000.000000</td>\n",
       "      <td>150000.000000</td>\n",
       "      <td>150000.000000</td>\n",
       "      <td>150000.000000</td>\n",
       "      <td>150000.000000</td>\n",
       "      <td>150000.000000</td>\n",
       "      <td>1.202690e+05</td>\n",
       "      <td>150000.000000</td>\n",
       "      <td>150000.000000</td>\n",
       "      <td>150000.000000</td>\n",
       "      <td>150000.000000</td>\n",
       "      <td>146076.000000</td>\n",
       "    </tr>\n",
       "    <tr>\n",
       "      <th>mean</th>\n",
       "      <td>75000.500000</td>\n",
       "      <td>0.066840</td>\n",
       "      <td>6.048438</td>\n",
       "      <td>52.295207</td>\n",
       "      <td>0.421033</td>\n",
       "      <td>353.005076</td>\n",
       "      <td>6.670221e+03</td>\n",
       "      <td>8.452760</td>\n",
       "      <td>0.265973</td>\n",
       "      <td>1.018240</td>\n",
       "      <td>0.240387</td>\n",
       "      <td>0.757222</td>\n",
       "    </tr>\n",
       "    <tr>\n",
       "      <th>std</th>\n",
       "      <td>43301.414527</td>\n",
       "      <td>0.249746</td>\n",
       "      <td>249.755371</td>\n",
       "      <td>14.771866</td>\n",
       "      <td>4.192781</td>\n",
       "      <td>2037.818523</td>\n",
       "      <td>1.438467e+04</td>\n",
       "      <td>5.145951</td>\n",
       "      <td>4.169304</td>\n",
       "      <td>1.129771</td>\n",
       "      <td>4.155179</td>\n",
       "      <td>1.115086</td>\n",
       "    </tr>\n",
       "    <tr>\n",
       "      <th>min</th>\n",
       "      <td>1.000000</td>\n",
       "      <td>0.000000</td>\n",
       "      <td>0.000000</td>\n",
       "      <td>0.000000</td>\n",
       "      <td>0.000000</td>\n",
       "      <td>0.000000</td>\n",
       "      <td>0.000000e+00</td>\n",
       "      <td>0.000000</td>\n",
       "      <td>0.000000</td>\n",
       "      <td>0.000000</td>\n",
       "      <td>0.000000</td>\n",
       "      <td>0.000000</td>\n",
       "    </tr>\n",
       "    <tr>\n",
       "      <th>25%</th>\n",
       "      <td>37500.750000</td>\n",
       "      <td>0.000000</td>\n",
       "      <td>0.029867</td>\n",
       "      <td>41.000000</td>\n",
       "      <td>0.000000</td>\n",
       "      <td>0.175074</td>\n",
       "      <td>3.400000e+03</td>\n",
       "      <td>5.000000</td>\n",
       "      <td>0.000000</td>\n",
       "      <td>0.000000</td>\n",
       "      <td>0.000000</td>\n",
       "      <td>0.000000</td>\n",
       "    </tr>\n",
       "    <tr>\n",
       "      <th>50%</th>\n",
       "      <td>75000.500000</td>\n",
       "      <td>0.000000</td>\n",
       "      <td>0.154181</td>\n",
       "      <td>52.000000</td>\n",
       "      <td>0.000000</td>\n",
       "      <td>0.366508</td>\n",
       "      <td>5.400000e+03</td>\n",
       "      <td>8.000000</td>\n",
       "      <td>0.000000</td>\n",
       "      <td>1.000000</td>\n",
       "      <td>0.000000</td>\n",
       "      <td>0.000000</td>\n",
       "    </tr>\n",
       "    <tr>\n",
       "      <th>75%</th>\n",
       "      <td>112500.250000</td>\n",
       "      <td>0.000000</td>\n",
       "      <td>0.559046</td>\n",
       "      <td>63.000000</td>\n",
       "      <td>0.000000</td>\n",
       "      <td>0.868254</td>\n",
       "      <td>8.249000e+03</td>\n",
       "      <td>11.000000</td>\n",
       "      <td>0.000000</td>\n",
       "      <td>2.000000</td>\n",
       "      <td>0.000000</td>\n",
       "      <td>1.000000</td>\n",
       "    </tr>\n",
       "    <tr>\n",
       "      <th>max</th>\n",
       "      <td>150000.000000</td>\n",
       "      <td>1.000000</td>\n",
       "      <td>50708.000000</td>\n",
       "      <td>109.000000</td>\n",
       "      <td>98.000000</td>\n",
       "      <td>329664.000000</td>\n",
       "      <td>3.008750e+06</td>\n",
       "      <td>58.000000</td>\n",
       "      <td>98.000000</td>\n",
       "      <td>54.000000</td>\n",
       "      <td>98.000000</td>\n",
       "      <td>20.000000</td>\n",
       "    </tr>\n",
       "  </tbody>\n",
       "</table>\n",
       "</div>"
      ],
      "text/plain": [
       "          Unnamed: 0  SeriousDlqin2yrs  RevolvingUtilizationOfUnsecuredLines  \\\n",
       "count  150000.000000     150000.000000                         150000.000000   \n",
       "mean    75000.500000          0.066840                              6.048438   \n",
       "std     43301.414527          0.249746                            249.755371   \n",
       "min         1.000000          0.000000                              0.000000   \n",
       "25%     37500.750000          0.000000                              0.029867   \n",
       "50%     75000.500000          0.000000                              0.154181   \n",
       "75%    112500.250000          0.000000                              0.559046   \n",
       "max    150000.000000          1.000000                          50708.000000   \n",
       "\n",
       "                 age  NumberOfTime30-59DaysPastDueNotWorse      DebtRatio  \\\n",
       "count  150000.000000                         150000.000000  150000.000000   \n",
       "mean       52.295207                              0.421033     353.005076   \n",
       "std        14.771866                              4.192781    2037.818523   \n",
       "min         0.000000                              0.000000       0.000000   \n",
       "25%        41.000000                              0.000000       0.175074   \n",
       "50%        52.000000                              0.000000       0.366508   \n",
       "75%        63.000000                              0.000000       0.868254   \n",
       "max       109.000000                             98.000000  329664.000000   \n",
       "\n",
       "       MonthlyIncome  NumberOfOpenCreditLinesAndLoans  \\\n",
       "count   1.202690e+05                    150000.000000   \n",
       "mean    6.670221e+03                         8.452760   \n",
       "std     1.438467e+04                         5.145951   \n",
       "min     0.000000e+00                         0.000000   \n",
       "25%     3.400000e+03                         5.000000   \n",
       "50%     5.400000e+03                         8.000000   \n",
       "75%     8.249000e+03                        11.000000   \n",
       "max     3.008750e+06                        58.000000   \n",
       "\n",
       "       NumberOfTimes90DaysLate  NumberRealEstateLoansOrLines  \\\n",
       "count            150000.000000                 150000.000000   \n",
       "mean                  0.265973                      1.018240   \n",
       "std                   4.169304                      1.129771   \n",
       "min                   0.000000                      0.000000   \n",
       "25%                   0.000000                      0.000000   \n",
       "50%                   0.000000                      1.000000   \n",
       "75%                   0.000000                      2.000000   \n",
       "max                  98.000000                     54.000000   \n",
       "\n",
       "       NumberOfTime60-89DaysPastDueNotWorse  NumberOfDependents  \n",
       "count                         150000.000000       146076.000000  \n",
       "mean                               0.240387            0.757222  \n",
       "std                                4.155179            1.115086  \n",
       "min                                0.000000            0.000000  \n",
       "25%                                0.000000            0.000000  \n",
       "50%                                0.000000            0.000000  \n",
       "75%                                0.000000            1.000000  \n",
       "max                               98.000000           20.000000  "
      ]
     },
     "execution_count": 7,
     "metadata": {},
     "output_type": "execute_result"
    }
   ],
   "source": [
    "# View descriptive stats for all columns\n",
    "df.describe()"
   ]
  },
  {
   "cell_type": "markdown",
   "id": "f19e541f-b87b-4929-bbc2-db338d3f1d79",
   "metadata": {},
   "source": [
    "==================================================================================================================================="
   ]
  },
  {
   "cell_type": "markdown",
   "id": "a0618941-9c26-49ef-9aa9-fce5dec5a7dc",
   "metadata": {},
   "source": [
    "## II. PREPARE"
   ]
  },
  {
   "cell_type": "markdown",
   "id": "cd128bc0-59f7-4263-903b-8a0f0f601235",
   "metadata": {},
   "source": [
    "Tasks to prepare:\n",
    "\n",
    "- Delete \"Unnamed' index\n",
    "- Rename columns for understanding, while making lowercase\n",
    "- Drop missing values (29_731 in monthly_income and 3_924 in quantity_dep)\n",
    "- Deal with outliers - only if they impact exploration or modeling"
   ]
  },
  {
   "cell_type": "code",
   "execution_count": 8,
   "id": "adbae5df-2d60-43ee-bb89-9f0faa10ae22",
   "metadata": {
    "tags": []
   },
   "outputs": [
    {
     "data": {
      "text/html": [
       "<div>\n",
       "<style scoped>\n",
       "    .dataframe tbody tr th:only-of-type {\n",
       "        vertical-align: middle;\n",
       "    }\n",
       "\n",
       "    .dataframe tbody tr th {\n",
       "        vertical-align: top;\n",
       "    }\n",
       "\n",
       "    .dataframe thead th {\n",
       "        text-align: right;\n",
       "    }\n",
       "</style>\n",
       "<table border=\"1\" class=\"dataframe\">\n",
       "  <thead>\n",
       "    <tr style=\"text-align: right;\">\n",
       "      <th></th>\n",
       "      <th>serious_delinquency</th>\n",
       "      <th>revolv_unsec_utilization</th>\n",
       "      <th>age</th>\n",
       "      <th>quantity_30_59_pd</th>\n",
       "      <th>debt_to_income_ratio</th>\n",
       "      <th>monthly_income</th>\n",
       "      <th>quantity_loans_and_lines</th>\n",
       "      <th>quantity_90_days_pd</th>\n",
       "      <th>quantity_real_estate_loans</th>\n",
       "      <th>quantity_60_89_days_pd</th>\n",
       "      <th>quantity_dependents</th>\n",
       "      <th>age_bins</th>\n",
       "      <th>quantity_dependents_bins</th>\n",
       "    </tr>\n",
       "  </thead>\n",
       "  <tbody>\n",
       "    <tr>\n",
       "      <th>0</th>\n",
       "      <td>1</td>\n",
       "      <td>0.766127</td>\n",
       "      <td>45</td>\n",
       "      <td>2</td>\n",
       "      <td>0.802982</td>\n",
       "      <td>9120.0</td>\n",
       "      <td>13</td>\n",
       "      <td>0</td>\n",
       "      <td>6</td>\n",
       "      <td>0</td>\n",
       "      <td>2.0</td>\n",
       "      <td>age_45-54</td>\n",
       "      <td>1_2_dep</td>\n",
       "    </tr>\n",
       "    <tr>\n",
       "      <th>1</th>\n",
       "      <td>0</td>\n",
       "      <td>0.957151</td>\n",
       "      <td>40</td>\n",
       "      <td>0</td>\n",
       "      <td>0.121876</td>\n",
       "      <td>2600.0</td>\n",
       "      <td>4</td>\n",
       "      <td>0</td>\n",
       "      <td>0</td>\n",
       "      <td>0</td>\n",
       "      <td>1.0</td>\n",
       "      <td>age_35-44</td>\n",
       "      <td>1_2_dep</td>\n",
       "    </tr>\n",
       "    <tr>\n",
       "      <th>2</th>\n",
       "      <td>0</td>\n",
       "      <td>0.658180</td>\n",
       "      <td>38</td>\n",
       "      <td>1</td>\n",
       "      <td>0.085113</td>\n",
       "      <td>3042.0</td>\n",
       "      <td>2</td>\n",
       "      <td>1</td>\n",
       "      <td>0</td>\n",
       "      <td>0</td>\n",
       "      <td>0.0</td>\n",
       "      <td>age_35-44</td>\n",
       "      <td>0_dep</td>\n",
       "    </tr>\n",
       "    <tr>\n",
       "      <th>3</th>\n",
       "      <td>0</td>\n",
       "      <td>0.233810</td>\n",
       "      <td>30</td>\n",
       "      <td>0</td>\n",
       "      <td>0.036050</td>\n",
       "      <td>3300.0</td>\n",
       "      <td>5</td>\n",
       "      <td>0</td>\n",
       "      <td>0</td>\n",
       "      <td>0</td>\n",
       "      <td>0.0</td>\n",
       "      <td>age_25-34</td>\n",
       "      <td>0_dep</td>\n",
       "    </tr>\n",
       "    <tr>\n",
       "      <th>5</th>\n",
       "      <td>0</td>\n",
       "      <td>0.213179</td>\n",
       "      <td>74</td>\n",
       "      <td>0</td>\n",
       "      <td>0.375607</td>\n",
       "      <td>3500.0</td>\n",
       "      <td>3</td>\n",
       "      <td>0</td>\n",
       "      <td>1</td>\n",
       "      <td>0</td>\n",
       "      <td>1.0</td>\n",
       "      <td>age_65-74</td>\n",
       "      <td>1_2_dep</td>\n",
       "    </tr>\n",
       "  </tbody>\n",
       "</table>\n",
       "</div>"
      ],
      "text/plain": [
       "   serious_delinquency  revolv_unsec_utilization  age  quantity_30_59_pd  \\\n",
       "0                    1                  0.766127   45                  2   \n",
       "1                    0                  0.957151   40                  0   \n",
       "2                    0                  0.658180   38                  1   \n",
       "3                    0                  0.233810   30                  0   \n",
       "5                    0                  0.213179   74                  0   \n",
       "\n",
       "   debt_to_income_ratio  monthly_income  quantity_loans_and_lines  \\\n",
       "0              0.802982          9120.0                        13   \n",
       "1              0.121876          2600.0                         4   \n",
       "2              0.085113          3042.0                         2   \n",
       "3              0.036050          3300.0                         5   \n",
       "5              0.375607          3500.0                         3   \n",
       "\n",
       "   quantity_90_days_pd  quantity_real_estate_loans  quantity_60_89_days_pd  \\\n",
       "0                    0                           6                       0   \n",
       "1                    0                           0                       0   \n",
       "2                    1                           0                       0   \n",
       "3                    0                           0                       0   \n",
       "5                    0                           1                       0   \n",
       "\n",
       "   quantity_dependents   age_bins quantity_dependents_bins  \n",
       "0                  2.0  age_45-54                  1_2_dep  \n",
       "1                  1.0  age_35-44                  1_2_dep  \n",
       "2                  0.0  age_35-44                    0_dep  \n",
       "3                  0.0  age_25-34                    0_dep  \n",
       "5                  1.0  age_65-74                  1_2_dep  "
      ]
     },
     "execution_count": 8,
     "metadata": {},
     "output_type": "execute_result"
    }
   ],
   "source": [
    "# apply the data preparation observations and tasks to clean the data using the wrangle_client function found in the wrangle.py\n",
    "df = wrangle.wrangle_client(df)\n",
    "df.head()"
   ]
  },
  {
   "cell_type": "markdown",
   "id": "e216323f-e13d-4e37-ad34-98b77b0531bf",
   "metadata": {},
   "source": [
    "----"
   ]
  },
  {
   "cell_type": "markdown",
   "id": "82151396-4426-44ab-a64c-8e8ebdb1c12f",
   "metadata": {},
   "source": [
    "### PREPARE - UNIVARIATE"
   ]
  },
  {
   "cell_type": "markdown",
   "id": "b94f2a62-3a82-458e-988c-51e1da919a1c",
   "metadata": {},
   "source": [
    "### Univariate exploration will be conducted on the following variables:\n",
    "1. Serious Delinquency - Target Variable (boolean)\n",
    "    - Person experienced 90 days past due delinquency or worse (0= False / 1= True)\n",
    "2. quantity_90_days_pd \n",
    "    - Number of times borrower has been 90 days or more past due.\n",
    "3. age\n",
    "    - Age of borrower in years   \n",
    "4. revolv_unsec_utilization (Revolving Unsecured Loan Utilization)\n",
    "    - Total balance on credit cards and personal lines of credit except real estate and no installment debt like car loans divided by the sum of credit limits\n",
    "5. monthly_income \n",
    "    - Total monthly income\n",
    "6. debt_to_income_ratio \n",
    "    - Monthly debt payments, alimony,living costs divided by monthy gross income\n",
    "7. quantity_30_59_pd\n",
    "    - Number of times borrower has been 30-59 days past due but no worse in the last 2 years.\n",
    "8. quantity_60_89_days_pd \n",
    "    - Number of times borrower has been 60-89 days past due but no worse in the last 2 years.\n",
    "9. quantity_real_estate_loans \n",
    "    - Number of mortgage and real estate loans including home equity lines of credit\n",
    "10. quantity_dependents     \n",
    "    - Number of dependents in family excluding themselves (spouse, children etc.)"
   ]
  },
  {
   "cell_type": "markdown",
   "id": "301b46e0-bc60-448c-9c57-72e9d7647915",
   "metadata": {},
   "source": [
    "---"
   ]
  },
  {
   "cell_type": "markdown",
   "id": "b424dd83-3630-499e-ade1-d066655ed42f",
   "metadata": {
    "tags": []
   },
   "source": [
    "### UNIVARIATE QUESTION 1: Target Variable -> Serious Delinquency\n",
    "- What is the distribution of the Target Variable (Serious Delinquency)?"
   ]
  },
  {
   "cell_type": "code",
   "execution_count": 9,
   "id": "df06cc2e-3772-48fe-8324-512944f43bec",
   "metadata": {},
   "outputs": [
    {
     "name": "stdout",
     "output_type": "stream",
     "text": [
      "0    106468\n",
      "1      8092\n",
      "Name: serious_delinquency, dtype: int64\n"
     ]
    },
    {
     "data": {
      "image/png": "[encoded data removed]",
      "text/plain": [
       "<Figure size 432x288 with 1 Axes>"
      ]
     },
     "metadata": {
      "needs_background": "light"
     },
     "output_type": "display_data"
    }
   ],
   "source": [
    "# View distribution of target variable: serious_delinquency\n",
    "print(df.serious_delinquency.value_counts())\n",
    "plt.title(\"Distribution of Serious Delinquency\")\n",
    "df.serious_delinquency.hist()\n",
    "plt.show()"
   ]
  },
  {
   "cell_type": "code",
   "execution_count": 10,
   "id": "763c7949-46eb-41ad-937a-77386a576440",
   "metadata": {},
   "outputs": [
    {
     "name": "stdout",
     "output_type": "stream",
     "text": [
      "0    106468\n",
      "1      8092\n",
      "Name: serious_delinquency, dtype: int64\n"
     ]
    },
    {
     "data": {
      "image/png": "[encoded data removed]",
      "text/plain": [
       "<Figure size 432x288 with 1 Axes>"
      ]
     },
     "metadata": {},
     "output_type": "display_data"
    },
    {
     "name": "stdout",
     "output_type": "stream",
     "text": [
      "Percent seriously delinquent from dataset\n"
     ]
    },
    {
     "data": {
      "text/plain": [
       "0.071"
      ]
     },
     "execution_count": 10,
     "metadata": {},
     "output_type": "execute_result"
    }
   ],
   "source": [
    "# Another visual option. \n",
    "\n",
    "print(df.serious_delinquency.value_counts())\n",
    "\n",
    "y = df.serious_delinquency.value_counts()\n",
    "plt.title('Serious Delinquency')\n",
    "plt.pie(y)\n",
    "plt.show() \n",
    "\n",
    "print(\"Percent seriously delinquent from dataset\")\n",
    "round(df.serious_delinquency.mean(), 3)"
   ]
  },
  {
   "cell_type": "markdown",
   "id": "c19def42-0ca1-4f00-81f0-0441cf413cbb",
   "metadata": {},
   "source": [
    "### OBSERVATIONS: \n",
    "- This is an inbalanced dataset with 7% relating to the target variable for serious delinquency. Consider resampling to create a more balanced dataset. "
   ]
  },
  {
   "cell_type": "markdown",
   "id": "990384b7-1714-453b-85df-9a910ebb3008",
   "metadata": {},
   "source": [
    "---"
   ]
  },
  {
   "cell_type": "markdown",
   "id": "cb19b011-c0c9-4041-927c-c01d93903572",
   "metadata": {},
   "source": [
    "### UNIVARIATE QUESTION 2: quantity_90_days_pd \n",
    "- What is the distribution of the quantity of 90 days past due?"
   ]
  },
  {
   "cell_type": "code",
   "execution_count": 11,
   "id": "17b600e8-0f33-401c-9cb8-4abb442d7919",
   "metadata": {},
   "outputs": [
    {
     "data": {
      "text/plain": [
       "count    114560.000000\n",
       "mean          0.219701\n",
       "std           3.537851\n",
       "min           0.000000\n",
       "25%           0.000000\n",
       "50%           0.000000\n",
       "75%           0.000000\n",
       "max          98.000000\n",
       "Name: quantity_90_days_pd, dtype: float64"
      ]
     },
     "execution_count": 11,
     "metadata": {},
     "output_type": "execute_result"
    }
   ],
   "source": [
    "# Obtain descriptive stats for variable\n",
    "df.quantity_90_days_pd.describe()"
   ]
  },
  {
   "cell_type": "code",
   "execution_count": 12,
   "id": "116f618b-ce54-410d-a888-cff9b211e835",
   "metadata": {},
   "outputs": [
    {
     "data": {
      "text/plain": [
       "quantity_90_days_pd\n",
       "0     107979\n",
       "1       4207\n",
       "2       1213\n",
       "3        533\n",
       "4        239\n",
       "5        101\n",
       "6         61\n",
       "7         29\n",
       "8         16\n",
       "9         14\n",
       "10         6\n",
       "11         4\n",
       "12         2\n",
       "13         4\n",
       "14         2\n",
       "15         2\n",
       "17         1\n",
       "96         4\n",
       "98       143\n",
       "Name: quantity_90_days_pd, dtype: int64"
      ]
     },
     "execution_count": 12,
     "metadata": {},
     "output_type": "execute_result"
    }
   ],
   "source": [
    "df.groupby('quantity_90_days_pd').quantity_90_days_pd.count()"
   ]
  },
  {
   "cell_type": "code",
   "execution_count": 13,
   "id": "c9ab022a-2b94-4ca6-bb0d-8ef46362d6b3",
   "metadata": {},
   "outputs": [
    {
     "data": {
      "text/plain": [
       "(0.0, 1000.0)"
      ]
     },
     "execution_count": 13,
     "metadata": {},
     "output_type": "execute_result"
    },
    {
     "data": {
      "image/png": "[encoded data removed]",
      "text/plain": [
       "<Figure size 432x288 with 1 Axes>"
      ]
     },
     "metadata": {
      "needs_background": "light"
     },
     "output_type": "display_data"
    }
   ],
   "source": [
    "sns.countplot(data= df, x= 'quantity_90_days_pd')  \n",
    "plt.xlim(0, 20)\n",
    "plt.ylim(0, 1000)"
   ]
  },
  {
   "cell_type": "markdown",
   "id": "7fd66cd2-fdbb-43ab-8007-21b87cbb22a9",
   "metadata": {},
   "source": [
    "### OBSERVATIONS: \n",
    "- Most have zero 90 days past due instances. \n",
    "- 144 instances of being past due 98 times, seems unusual, compared to the other quanities. \n",
    "- Consider binning \n"
   ]
  },
  {
   "cell_type": "markdown",
   "id": "52a80d00-6a60-4123-b13d-28112b1beb5b",
   "metadata": {},
   "source": [
    "---"
   ]
  },
  {
   "cell_type": "markdown",
   "id": "fe58f6ba-4459-4005-b134-0c8995b4bd3b",
   "metadata": {
    "tags": []
   },
   "source": [
    "### UNIVARIATE QUESTION 3: age\n",
    "- What is the distribution of age?"
   ]
  },
  {
   "cell_type": "markdown",
   "id": "ef9ffde2-fb63-4c5c-9999-1bedb8416175",
   "metadata": {},
   "source": [
    "** We have to be careful when utilizing the age variable in modeling, as age cannot be used as a reason to approve or deny someone credit according to the Fair Lending Laws. **"
   ]
  },
  {
   "cell_type": "code",
   "execution_count": 14,
   "id": "dd4bb0cd-75d6-4fc8-9703-13fe1c13a200",
   "metadata": {},
   "outputs": [
    {
     "data": {
      "text/plain": [
       "count    114560.000000\n",
       "mean         51.146281\n",
       "std          14.571032\n",
       "min           0.000000\n",
       "25%          40.000000\n",
       "50%          50.000000\n",
       "75%          61.000000\n",
       "max         103.000000\n",
       "Name: age, dtype: float64"
      ]
     },
     "execution_count": 14,
     "metadata": {},
     "output_type": "execute_result"
    }
   ],
   "source": [
    "# Obtain descriptive stats for variable\n",
    "df.age.describe()"
   ]
  },
  {
   "cell_type": "code",
   "execution_count": 15,
   "id": "33d7930f-8945-4989-9478-dd396d7024ba",
   "metadata": {},
   "outputs": [
    {
     "data": {
      "text/plain": [
       "age\n",
       "0         1\n",
       "21      130\n",
       "22      329\n",
       "23      514\n",
       "24      651\n",
       "25      796\n",
       "26     1010\n",
       "27     1123\n",
       "28     1340\n",
       "29     1454\n",
       "30     1657\n",
       "31     1758\n",
       "32     1785\n",
       "33     1925\n",
       "34     1834\n",
       "35     1876\n",
       "36     2005\n",
       "37     2077\n",
       "38     2192\n",
       "39     2473\n",
       "40     2529\n",
       "41     2551\n",
       "42     2515\n",
       "43     2619\n",
       "44     2667\n",
       "45     2827\n",
       "46     2957\n",
       "47     2970\n",
       "48     2978\n",
       "49     3040\n",
       "50     2927\n",
       "51     2803\n",
       "52     2764\n",
       "53     2810\n",
       "54     2714\n",
       "55     2555\n",
       "56     2665\n",
       "57     2491\n",
       "58     2497\n",
       "59     2384\n",
       "60     2333\n",
       "61     2529\n",
       "62     2531\n",
       "63     2595\n",
       "64     2097\n",
       "65     1795\n",
       "66     1752\n",
       "67     1712\n",
       "68     1523\n",
       "69     1364\n",
       "70     1215\n",
       "71     1163\n",
       "72     1185\n",
       "73     1061\n",
       "74     1026\n",
       "75      837\n",
       "76      824\n",
       "77      758\n",
       "78      734\n",
       "79      681\n",
       "80      606\n",
       "81      522\n",
       "82      429\n",
       "83      310\n",
       "84      297\n",
       "85      304\n",
       "86      248\n",
       "87      208\n",
       "88      191\n",
       "89      177\n",
       "90      113\n",
       "91       79\n",
       "92       54\n",
       "93       46\n",
       "94       20\n",
       "95       20\n",
       "96        6\n",
       "97       10\n",
       "98        3\n",
       "99        3\n",
       "101       2\n",
       "102       2\n",
       "103       2\n",
       "Name: age, dtype: int64"
      ]
     },
     "execution_count": 15,
     "metadata": {},
     "output_type": "execute_result"
    }
   ],
   "source": [
    "df.groupby('age').age.count()"
   ]
  },
  {
   "cell_type": "markdown",
   "id": "a9b106dc-ddd6-4d5f-a039-922b62a0bccb",
   "metadata": {
    "tags": []
   },
   "source": [
    "### OBSERVATIONS: \n",
    "- Most of the age data seems reasonable. \n",
    "- There is one instance of age listed as 0, which would most likely be an input error, but 1 instance won't be impactful. \n",
    "- Ages over 100, might seem unusual, but the quantities are not large or alarming. \n",
    "- Most are between 26 and 74, which seems reasonable.\n",
    "- I will not delete any age data, as there is not any alarming or drastically unusual data. \n",
    "- Consider binning into age categories (0 - 29), (30 - 39), (40 - 49), (50 - 59), (60 - 69), (70 - 79), (80 - 89), (90 and above)"
   ]
  },
  {
   "cell_type": "markdown",
   "id": "35defd04-79f9-4032-be42-77569deb8754",
   "metadata": {},
   "source": [
    "---"
   ]
  },
  {
   "cell_type": "markdown",
   "id": "b2947a3c-db4d-4975-a51b-1848636be80d",
   "metadata": {},
   "source": [
    "### UNIVARIATE QUESTION 4: revolv_unsec_utilization (Revolving Unsecured Loan Utilization)\n",
    "- What is the distribution of Revolving Unsecured Loan Utilization?\n",
    "- revolv_unsec_utilization -> Total balance on credit cards and personal lines of credit except real estate and no installment debt like car loans divided by the sum of credit limits"
   ]
  },
  {
   "cell_type": "code",
   "execution_count": 16,
   "id": "468e85cd-07f4-45c6-94b6-50d7210cd9fb",
   "metadata": {},
   "outputs": [
    {
     "data": {
      "text/plain": [
       "count    114560.000000\n",
       "mean          5.129865\n",
       "std         207.017068\n",
       "min           0.000000\n",
       "25%           0.034741\n",
       "50%           0.178860\n",
       "75%           0.586459\n",
       "max       29110.000000\n",
       "Name: revolv_unsec_utilization, dtype: float64"
      ]
     },
     "execution_count": 16,
     "metadata": {},
     "output_type": "execute_result"
    }
   ],
   "source": [
    "# Obtain descriptive stats for variable\n",
    "df. revolv_unsec_utilization.describe()"
   ]
  },
  {
   "cell_type": "code",
   "execution_count": 17,
   "id": "36c669d3-dd5f-4b27-bf70-34cd70c455f6",
   "metadata": {},
   "outputs": [],
   "source": [
    "# sns.histplot(data= df, x='revolv_unsec_utilization')  "
   ]
  },
  {
   "cell_type": "markdown",
   "id": "5537afdf-ed4d-4906-8b41-7fb00da17c4b",
   "metadata": {
    "tags": []
   },
   "source": [
    "### OBSERVATIONS: \n"
   ]
  },
  {
   "cell_type": "markdown",
   "id": "07540eb9-51ef-4de9-a519-0b835b02fb3a",
   "metadata": {},
   "source": [
    "---"
   ]
  },
  {
   "cell_type": "markdown",
   "id": "ba00438d-bd9a-4765-94b5-53d09c5a55af",
   "metadata": {},
   "source": [
    "### UNIVARIATE QUESTION 5: monthly_income \n",
    "- What is the distribution of monthly income?"
   ]
  },
  {
   "cell_type": "code",
   "execution_count": 18,
   "id": "ac4836a9-2ce8-4919-af60-dbea3c4ffb89",
   "metadata": {},
   "outputs": [
    {
     "data": {
      "text/plain": [
       "count    114560.000000\n",
       "mean       5693.642310\n",
       "std        3195.259494\n",
       "min           0.000000\n",
       "25%        3300.000000\n",
       "50%        5165.000000\n",
       "75%        7723.250000\n",
       "max       14999.000000\n",
       "Name: monthly_income, dtype: float64"
      ]
     },
     "execution_count": 18,
     "metadata": {},
     "output_type": "execute_result"
    }
   ],
   "source": [
    "# Obtain descriptive stats for variable\n",
    "df.monthly_income.describe()"
   ]
  },
  {
   "cell_type": "code",
   "execution_count": null,
   "id": "2aeb97d2-68ec-4b2e-ab01-38575c22a2e5",
   "metadata": {},
   "outputs": [],
   "source": []
  },
  {
   "cell_type": "markdown",
   "id": "65c92d3b-2746-4b6b-82aa-c72d0afdc177",
   "metadata": {
    "tags": []
   },
   "source": [
    "### OBSERVATIONS: \n"
   ]
  },
  {
   "cell_type": "markdown",
   "id": "a92c063d-f650-472e-84fb-4ea63340526b",
   "metadata": {},
   "source": [
    "---"
   ]
  },
  {
   "cell_type": "markdown",
   "id": "6ee28587-4619-45be-a52a-177f6c866593",
   "metadata": {},
   "source": [
    "### UNIVARIATE QUESTION 6: debt_to_income_ratio \n",
    "- What is the distribution of debt to income ratio?"
   ]
  },
  {
   "cell_type": "markdown",
   "id": "201b61b1-44cd-46af-9c5a-18a2f62451d7",
   "metadata": {},
   "source": [
    "Debt-to-income ratio is all monthly debt payments divided by gross monthly income. This number is one way lenders measure ability to manage monthly payments to repay borrowed money."
   ]
  },
  {
   "cell_type": "code",
   "execution_count": 19,
   "id": "c898a4c4-02d8-46f4-ae73-899da8b9505a",
   "metadata": {},
   "outputs": [
    {
     "data": {
      "text/plain": [
       "count    114560.000000\n",
       "mean         27.911465\n",
       "std         434.852182\n",
       "min           0.000000\n",
       "25%           0.145461\n",
       "50%           0.301924\n",
       "75%           0.491379\n",
       "max       61106.500000\n",
       "Name: debt_to_income_ratio, dtype: float64"
      ]
     },
     "execution_count": 19,
     "metadata": {},
     "output_type": "execute_result"
    }
   ],
   "source": [
    "# Obtain descriptive stats for variable\n",
    "df.debt_to_income_ratio.describe()"
   ]
  },
  {
   "cell_type": "code",
   "execution_count": null,
   "id": "511ae7de-f60c-4eca-8d1c-1c9b65325364",
   "metadata": {},
   "outputs": [],
   "source": []
  },
  {
   "cell_type": "markdown",
   "id": "f64578d0-0ac4-43ba-989f-81c5a83d9aa4",
   "metadata": {
    "tags": []
   },
   "source": [
    "### OBSERVATIONS: \n"
   ]
  },
  {
   "cell_type": "markdown",
   "id": "697000da-3b31-41e7-a46f-7c7416dcad18",
   "metadata": {},
   "source": [
    "---"
   ]
  },
  {
   "cell_type": "markdown",
   "id": "fa6dc918-000c-49d7-af8d-9a1e1367713f",
   "metadata": {},
   "source": [
    "### UNIVARIATE QUESTION 7: quantity_30_59_pd\n",
    "- What is the distribution of the quantity of 30 - 59 days past due?"
   ]
  },
  {
   "cell_type": "code",
   "execution_count": 20,
   "id": "c6dac8b4-a214-497a-940b-36223ed5d6e0",
   "metadata": {},
   "outputs": [
    {
     "data": {
      "text/plain": [
       "count    114560.000000\n",
       "mean          0.387299\n",
       "std           3.570083\n",
       "min           0.000000\n",
       "25%           0.000000\n",
       "50%           0.000000\n",
       "75%           0.000000\n",
       "max          98.000000\n",
       "Name: quantity_30_59_pd, dtype: float64"
      ]
     },
     "execution_count": 20,
     "metadata": {},
     "output_type": "execute_result"
    }
   ],
   "source": [
    "# Obtain descriptive stats for variable\n",
    "df.quantity_30_59_pd.describe()"
   ]
  },
  {
   "cell_type": "code",
   "execution_count": null,
   "id": "8e2c777b-6be5-4c54-8ad6-3a0623d1031c",
   "metadata": {},
   "outputs": [],
   "source": []
  },
  {
   "cell_type": "markdown",
   "id": "d8b6fd85-779a-44bc-a4aa-22bc04b4c2e1",
   "metadata": {
    "tags": []
   },
   "source": [
    "### OBSERVATIONS: \n"
   ]
  },
  {
   "cell_type": "markdown",
   "id": "942cdf77-276a-4d56-ac83-bc703f17713a",
   "metadata": {},
   "source": [
    "---"
   ]
  },
  {
   "cell_type": "markdown",
   "id": "4db4c9a9-1060-4136-a368-fa0d872a353e",
   "metadata": {},
   "source": [
    "### UNIVARIATE QUESTION 8: quantity_60_89_days_pd \n",
    "- What is the distribution of the quantity of 60 - 89 days past due?"
   ]
  },
  {
   "cell_type": "code",
   "execution_count": 21,
   "id": "71974e54-b54b-4fb3-b4a9-bfc345c35d2c",
   "metadata": {},
   "outputs": [
    {
     "data": {
      "text/plain": [
       "count    114560.000000\n",
       "mean          0.194073\n",
       "std           3.520100\n",
       "min           0.000000\n",
       "25%           0.000000\n",
       "50%           0.000000\n",
       "75%           0.000000\n",
       "max          98.000000\n",
       "Name: quantity_60_89_days_pd, dtype: float64"
      ]
     },
     "execution_count": 21,
     "metadata": {},
     "output_type": "execute_result"
    }
   ],
   "source": [
    "# Obtain descriptive stats for variable\n",
    "df.quantity_60_89_days_pd.describe()"
   ]
  },
  {
   "cell_type": "code",
   "execution_count": null,
   "id": "cb26521f-10c0-4cc9-895c-f74294886eb8",
   "metadata": {},
   "outputs": [],
   "source": []
  },
  {
   "cell_type": "markdown",
   "id": "7bdde526-ec29-4e77-bf44-d3d6fa403f6e",
   "metadata": {
    "tags": []
   },
   "source": [
    "### OBSERVATIONS: \n"
   ]
  },
  {
   "cell_type": "markdown",
   "id": "cb4f7176-66f3-497b-b023-c878379df805",
   "metadata": {},
   "source": [
    "---"
   ]
  },
  {
   "cell_type": "markdown",
   "id": "6b2d48fc-6766-4a8f-89c2-e26cb35732d7",
   "metadata": {},
   "source": [
    "### UNIVARIATE QUESTION 9: quantity_real_estate_loans \n",
    "- What is the distribution of quanitty of real estate loans?"
   ]
  },
  {
   "cell_type": "code",
   "execution_count": 22,
   "id": "a84ce35b-52e3-432e-88df-2468791d4cce",
   "metadata": {},
   "outputs": [
    {
     "data": {
      "text/plain": [
       "count    114560.000000\n",
       "mean          1.004949\n",
       "std           1.067425\n",
       "min           0.000000\n",
       "25%           0.000000\n",
       "50%           1.000000\n",
       "75%           2.000000\n",
       "max          54.000000\n",
       "Name: quantity_real_estate_loans, dtype: float64"
      ]
     },
     "execution_count": 22,
     "metadata": {},
     "output_type": "execute_result"
    }
   ],
   "source": [
    "# Obtain descriptive stats for variable\n",
    "df.quantity_real_estate_loans.describe()"
   ]
  },
  {
   "cell_type": "code",
   "execution_count": null,
   "id": "495c8518-8a0d-4758-9137-563b4fee99ef",
   "metadata": {},
   "outputs": [],
   "source": []
  },
  {
   "cell_type": "markdown",
   "id": "f5671290-36a8-4669-a786-332db1c2419b",
   "metadata": {
    "tags": []
   },
   "source": [
    "### OBSERVATIONS: \n"
   ]
  },
  {
   "cell_type": "markdown",
   "id": "b9419a78-0e32-4c3f-aa84-6f03ca760863",
   "metadata": {},
   "source": [
    "---"
   ]
  },
  {
   "cell_type": "markdown",
   "id": "3978e22c-75e5-4e47-a985-9c61b35d4b50",
   "metadata": {},
   "source": [
    "### UNIVARIATE QUESTION 10: quantity_dependents \n",
    "- What is the distribution of quanitty of dependents?"
   ]
  },
  {
   "cell_type": "code",
   "execution_count": 23,
   "id": "dd9906d1-a8ac-4ac7-862c-609a6fdd0ae2",
   "metadata": {},
   "outputs": [
    {
     "data": {
      "text/plain": [
       "count    114560.000000\n",
       "mean          0.831084\n",
       "std           1.135917\n",
       "min           0.000000\n",
       "25%           0.000000\n",
       "50%           0.000000\n",
       "75%           1.000000\n",
       "max          20.000000\n",
       "Name: quantity_dependents, dtype: float64"
      ]
     },
     "execution_count": 23,
     "metadata": {},
     "output_type": "execute_result"
    }
   ],
   "source": [
    "# Obtain descriptive stats for variable\n",
    "df.quantity_dependents.describe()"
   ]
  },
  {
   "cell_type": "code",
   "execution_count": 24,
   "id": "8762039d-7b25-4407-a069-c587a81417c6",
   "metadata": {},
   "outputs": [
    {
     "data": {
      "text/plain": [
       "quantity_dependents\n",
       "0.0     63301\n",
       "1.0     23010\n",
       "2.0     16940\n",
       "3.0      8086\n",
       "4.0      2401\n",
       "5.0       611\n",
       "6.0       136\n",
       "7.0        44\n",
       "8.0        21\n",
       "9.0         3\n",
       "10.0        5\n",
       "13.0        1\n",
       "20.0        1\n",
       "Name: quantity_dependents, dtype: int64"
      ]
     },
     "execution_count": 24,
     "metadata": {},
     "output_type": "execute_result"
    }
   ],
   "source": [
    "df.groupby('quantity_dependents').quantity_dependents.count()"
   ]
  },
  {
   "cell_type": "code",
   "execution_count": 25,
   "id": "618e86ef-5cca-4fc5-8ea9-dff9a4cd1d3a",
   "metadata": {},
   "outputs": [
    {
     "data": {
      "text/plain": [
       "(0.0, 1000.0)"
      ]
     },
     "execution_count": 25,
     "metadata": {},
     "output_type": "execute_result"
    },
    {
     "data": {
      "image/png": "[encoded data removed]",
      "text/plain": [
       "<Figure size 432x288 with 1 Axes>"
      ]
     },
     "metadata": {
      "needs_background": "light"
     },
     "output_type": "display_data"
    }
   ],
   "source": [
    "# visualize the data\n",
    "sns.countplot(data= df, x= 'quantity_dependents')  \n",
    "plt.xlim(0, 20)\n",
    "plt.ylim(0, 1000)"
   ]
  },
  {
   "cell_type": "markdown",
   "id": "eabeed94-7d2b-436c-884b-15410c1ca8cf",
   "metadata": {},
   "source": [
    "### OBSERVATIONS: \n",
    "- Most of the dependent data seems reasonable. \n",
    "- There is one instance of depdendents listed as 13 and one of 20, which could be an data-entry error or could be accurate, but 1 instance of each won't be impactful.\n",
    "- Most are between 0 and 5, which seems reasonable.\n",
    "- I will not delete any dependent data, as there is not any alarming or drastically unusual data. \n",
    "- Consider binning into age categories (0), (1-2), (3-4), (5-6), (7 or more)"
   ]
  },
  {
   "cell_type": "markdown",
   "id": "4aae7845-1af7-444c-baf8-8d29eb75c769",
   "metadata": {},
   "source": [
    "### UNIVARIATE EXPLORATION TAKEAWAYS"
   ]
  },
  {
   "cell_type": "code",
   "execution_count": null,
   "id": "f88f591a-dedc-4e79-946b-761b7d0502ad",
   "metadata": {},
   "outputs": [],
   "source": [
    "#### UNIVARIATE EXPLORATION SUMMARY:\n",
    "\n",
    "The following were takeaways from the univariate exploration section of the workbook. Only the takeaways are being included in this final report to keep the focus on the most pertinent information for the conclusion of this report. \n",
    "\n",
    "- Variable: quantity_90_days_pd \n",
    "    - Most have zero 90 days past due instances. \n",
    "    - 144 instances of being past due 98 times, seems unusual, compared to the other quanities. \n",
    "    - Consider binning \n",
    "    \n",
    "- Variable: age\n",
    "    - Most of the age data seems reasonable. \n",
    "    - There is one instance of age listed as 0, which would most likely be an input error, but 1 instance won't be impactful. \n",
    "    - Ages over 100, might seem unusual, but the quantities are not large or alarming. \n",
    "    - Most borrower ages are between 26 and 74, which seems reasonable.\n",
    "    - I will not delete any age data, as there is not any alarming or drastically unusual data. \n",
    "    - Age was binned into age categories for ease of bivariate exploration('age_0-19', 'age_20_24','age_25-34', 'age_35-44', 'age_45-54', 'age_54-64', 'age_65-74', 'age_75-84', 'age_85-105')\n",
    "    \n",
    "- Variable: revolv_unsec_utilization (Revolving Unsecured Loan Utilization)\n",
    "\n",
    "- Variable: monthly_income \n",
    "\n",
    "- Variable: debt_to_income_ratio \n",
    "\n",
    "- Variable: quantity_30_59_pd\n",
    "\n",
    "- Variable: quantity_60_89_days_pd \n",
    "\n",
    "- Variable: quantity_real_estate_loans \n",
    "\n",
    "- Variable: quantity_dependents \n",
    "    - Most of the dependent data seems reasonable. \n",
    "    - There is one instance of depdendents listed as 13 and one of 20, which could be an data-entry error or could be accurate, but 1 instance of each won't be impactful.\n",
    "    - Most are between 0 and 5, which seems reasonable.\n",
    "    - I will not delete any dependent data, as there is not any alarming or drastically unusual data. \n",
    "    - Dependents were binned into age categories for ease of bivariate exploration (0), (1-2), (3-4), (5-6), (7 or more)\n",
    "  "
   ]
  },
  {
   "cell_type": "markdown",
   "id": "5d2b5115-95bb-48f1-b4c0-a76b10fad69e",
   "metadata": {},
   "source": [
    "===================================================================================================================================================================================================="
   ]
  },
  {
   "cell_type": "markdown",
   "id": "18bef115-e56c-475b-921e-d32e1d9f653a",
   "metadata": {},
   "source": [
    "### PREPARE - SPLIT"
   ]
  },
  {
   "cell_type": "code",
   "execution_count": 26,
   "id": "69c72d05-cb42-48b8-873c-d9d1220cdf76",
   "metadata": {},
   "outputs": [],
   "source": [
    "plt.rc('figure', figsize=(20, 8))\n",
    "# determine font size\n",
    "plt.rc('font', size=15)\n",
    "# determine style\n",
    "plt.style.use('bmh')"
   ]
  },
  {
   "cell_type": "code",
   "execution_count": 27,
   "id": "be65fda7-7e6a-4e08-9505-133be600c15d",
   "metadata": {},
   "outputs": [
    {
     "name": "stdout",
     "output_type": "stream",
     "text": [
      "train -> (64153, 13)\n",
      "validate -> (27495, 13)\n",
      "test -> (22912, 13)\n"
     ]
    }
   ],
   "source": [
    "# split the data into train, validate, and test using the split_data function found in the wrangle.py\n",
    "train, validate, test = wrangle.split_data(df)"
   ]
  },
  {
   "cell_type": "markdown",
   "id": "d9ee4d81-09ec-451d-8bb6-f714930e3922",
   "metadata": {},
   "source": [
    "===================================================================================================================================================================================================="
   ]
  },
  {
   "cell_type": "markdown",
   "id": "f96e6c41-648a-40ba-9486-f668567e2550",
   "metadata": {},
   "source": [
    "## III. EXPLORE - BIVARIATE"
   ]
  },
  {
   "cell_type": "code",
   "execution_count": 28,
   "id": "a3780e78-b6b5-41ad-be41-2c3ed65d836e",
   "metadata": {},
   "outputs": [
    {
     "data": {
      "image/png": "[encoded data removed]",
      "text/plain": [
       "<Figure size 1296x864 with 2 Axes>"
      ]
     },
     "metadata": {
      "needs_background": "light"
     },
     "output_type": "display_data"
    }
   ],
   "source": [
    "'''\n",
    "Use a correlation matrix to look at relationships with 'serious_delinquency'.\n",
    "'''\n",
    "correlations = train.corr()\n",
    "plt.figure(figsize=(18,12))\n",
    "sns.set_theme(style=\"white\")\n",
    "corr = correlations\n",
    "heatmap = sns.heatmap(corr, annot=True, cmap=\"coolwarm\", fmt='.1g')"
   ]
  },
  {
   "cell_type": "markdown",
   "id": "7582dc37-a999-4ad5-ab77-8df98a50c0a4",
   "metadata": {},
   "source": [
    "### Obervation: \n",
    "- According to the heatmap, Age (0.1) and quantity_30_59_pd (-0.1) have the highest correlation with serious_delinquency followed by quanitity_loans_and_lines (0.03), quantity_dependents(0.05), and monthly_income(-0.07). Whereas, quantity_real_estate_loans (-0.008), debt_to_income_ratio (-0.007), and revolv_unsec_utilization(-0.003) have the lowest correlation with serious_delinquency  \n"
   ]
  },
  {
   "cell_type": "markdown",
   "id": "53df2754-aad7-48cc-8f3d-9065eea1a419",
   "metadata": {},
   "source": [
    "---"
   ]
  },
  {
   "cell_type": "markdown",
   "id": "ec5e7d4b-beff-4ce6-8bb7-f74858370be4",
   "metadata": {},
   "source": [
    "### EXPLORE QUESTIONS"
   ]
  },
  {
   "cell_type": "markdown",
   "id": "1f38ff45-b5fc-44fc-b4f7-20361566b3a5",
   "metadata": {},
   "source": [
    "1. Are applicants in certain age groups more likely to be seriously delinquent?\n",
    "2. Are applicants with higher debt to income ratio more likely to be seriously delinquent?\n",
    "\n",
    "\n",
    "\n",
    "\n"
   ]
  },
  {
   "cell_type": "markdown",
   "id": "ea779081-785b-4e47-8a8f-f30a3418f773",
   "metadata": {},
   "source": [
    "### QUESTION: AGE\n",
    "- Are applicants in certain age groups more likely to be seriously delinquent?"
   ]
  },
  {
   "cell_type": "code",
   "execution_count": 29,
   "id": "37b81f0e-904a-4550-b804-01fc3c1ef401",
   "metadata": {},
   "outputs": [
    {
     "data": {
      "image/png": "[encoded data removed]",
      "text/plain": [
       "<Figure size 1440x576 with 1 Axes>"
      ]
     },
     "metadata": {},
     "output_type": "display_data"
    }
   ],
   "source": [
    "# create visualization for relationchip between age and serious delinquency\n",
    "plt.title(\"People with Serious Delinquency are Younger\")\n",
    "sns.boxplot(data = train, x = 'serious_delinquency', y = 'age')\n",
    "plt.show()"
   ]
  },
  {
   "cell_type": "code",
   "execution_count": 30,
   "id": "bb688e40-1a35-4567-a408-e9212ae1415f",
   "metadata": {},
   "outputs": [
    {
     "data": {
      "text/html": [
       "<div>\n",
       "<style scoped>\n",
       "    .dataframe tbody tr th:only-of-type {\n",
       "        vertical-align: middle;\n",
       "    }\n",
       "\n",
       "    .dataframe tbody tr th {\n",
       "        vertical-align: top;\n",
       "    }\n",
       "\n",
       "    .dataframe thead th {\n",
       "        text-align: right;\n",
       "    }\n",
       "</style>\n",
       "<table border=\"1\" class=\"dataframe\">\n",
       "  <thead>\n",
       "    <tr style=\"text-align: right;\">\n",
       "      <th></th>\n",
       "      <th>min</th>\n",
       "      <th>mean</th>\n",
       "      <th>max</th>\n",
       "    </tr>\n",
       "    <tr>\n",
       "      <th>serious_delinquency</th>\n",
       "      <th></th>\n",
       "      <th></th>\n",
       "      <th></th>\n",
       "    </tr>\n",
       "  </thead>\n",
       "  <tbody>\n",
       "    <tr>\n",
       "      <th>0</th>\n",
       "      <td>0</td>\n",
       "      <td>51.615864</td>\n",
       "      <td>103</td>\n",
       "    </tr>\n",
       "    <tr>\n",
       "      <th>1</th>\n",
       "      <td>21</td>\n",
       "      <td>45.708379</td>\n",
       "      <td>99</td>\n",
       "    </tr>\n",
       "  </tbody>\n",
       "</table>\n",
       "</div>"
      ],
      "text/plain": [
       "                     min       mean  max\n",
       "serious_delinquency                     \n",
       "0                      0  51.615864  103\n",
       "1                     21  45.708379   99"
      ]
     },
     "execution_count": 30,
     "metadata": {},
     "output_type": "execute_result"
    }
   ],
   "source": [
    "train.groupby(['serious_delinquency']).age.agg(['min', 'mean', 'max'])"
   ]
  },
  {
   "cell_type": "code",
   "execution_count": 31,
   "id": "cf574340-d2f6-4a98-9d63-727746ddf070",
   "metadata": {},
   "outputs": [
    {
     "data": {
      "text/plain": [
       "Text(0.5, 1.0, 'Serious Delinquency')"
      ]
     },
     "execution_count": 31,
     "metadata": {},
     "output_type": "execute_result"
    },
    {
     "data": {
      "image/png": "[encoded data removed]",
      "text/plain": [
       "<Figure size 1440x576 with 2 Axes>"
      ]
     },
     "metadata": {},
     "output_type": "display_data"
    }
   ],
   "source": [
    "# another way to look at it\n",
    "ax = train['age'].hist(by=train['serious_delinquency'], bins = 20, layout=(2,1))\n",
    "ax[0].set_xlim((0,100))\n",
    "ax[0].set_title('No Serious Delinquency')\n",
    "ax[1].set_xlim((0,100))\n",
    "ax[1].set_title('Serious Delinquency')\n"
   ]
  },
  {
   "cell_type": "code",
   "execution_count": 32,
   "id": "d5754f94-2f30-453e-be37-9beac0dd3b1a",
   "metadata": {},
   "outputs": [
    {
     "data": {
      "text/plain": [
       "age\n",
       "99     0.500000\n",
       "28     0.132597\n",
       "27     0.130159\n",
       "26     0.123214\n",
       "25     0.121951\n",
       "33     0.120869\n",
       "36     0.107914\n",
       "24     0.107817\n",
       "32     0.107143\n",
       "35     0.106000\n",
       "29     0.103960\n",
       "30     0.100552\n",
       "41     0.100424\n",
       "42     0.099715\n",
       "39     0.094828\n",
       "23     0.094077\n",
       "31     0.093117\n",
       "38     0.091590\n",
       "34     0.089682\n",
       "47     0.087220\n",
       "49     0.086028\n",
       "43     0.085092\n",
       "48     0.084360\n",
       "46     0.084330\n",
       "40     0.083624\n",
       "54     0.080645\n",
       "37     0.080440\n",
       "52     0.079501\n",
       "50     0.076303\n",
       "53     0.076293\n",
       "45     0.076282\n",
       "44     0.071046\n",
       "21     0.068493\n",
       "51     0.068381\n",
       "56     0.065595\n",
       "55     0.063592\n",
       "22     0.062500\n",
       "60     0.056929\n",
       "59     0.056476\n",
       "57     0.051712\n",
       "62     0.051228\n",
       "61     0.048645\n",
       "58     0.048387\n",
       "65     0.043564\n",
       "70     0.043284\n",
       "93     0.037037\n",
       "89     0.037037\n",
       "63     0.035172\n",
       "73     0.034596\n",
       "67     0.034447\n",
       "82     0.034188\n",
       "66     0.033846\n",
       "87     0.032787\n",
       "71     0.031949\n",
       "74     0.031690\n",
       "72     0.029586\n",
       "64     0.029561\n",
       "78     0.029268\n",
       "83     0.028249\n",
       "81     0.025180\n",
       "84     0.024390\n",
       "80     0.024024\n",
       "69     0.022487\n",
       "85     0.021622\n",
       "86     0.020979\n",
       "68     0.018583\n",
       "88     0.018519\n",
       "75     0.017699\n",
       "76     0.017699\n",
       "79     0.015915\n",
       "90     0.014706\n",
       "77     0.014320\n",
       "102    0.000000\n",
       "96     0.000000\n",
       "98     0.000000\n",
       "97     0.000000\n",
       "0      0.000000\n",
       "95     0.000000\n",
       "94     0.000000\n",
       "92     0.000000\n",
       "91     0.000000\n",
       "103    0.000000\n",
       "Name: serious_delinquency, dtype: float64"
      ]
     },
     "execution_count": 32,
     "metadata": {},
     "output_type": "execute_result"
    }
   ],
   "source": [
    "train.groupby('age').serious_delinquency.mean().sort_values(ascending=False)"
   ]
  },
  {
   "cell_type": "code",
   "execution_count": null,
   "id": "a12ade27-2465-40b4-b1e2-fca88378b59c",
   "metadata": {},
   "outputs": [],
   "source": []
  },
  {
   "cell_type": "code",
   "execution_count": null,
   "id": "26f2ce53-2a6d-4191-af02-a4a752d0a89d",
   "metadata": {},
   "outputs": [],
   "source": []
  },
  {
   "cell_type": "markdown",
   "id": "ba72fed3-be66-43d5-b691-9816fbbbc1f4",
   "metadata": {},
   "source": [
    "### QUESTION: Debt to Income Ratio\n",
    "- Are applicants with higher debt to income ratio more likely to be seriously delinquent?"
   ]
  },
  {
   "cell_type": "code",
   "execution_count": 33,
   "id": "d6ab82c8-016d-4dae-a7e7-6473c086f29a",
   "metadata": {},
   "outputs": [
    {
     "data": {
      "image/png": "[encoded data removed]",
      "text/plain": [
       "<Figure size 1440x576 with 1 Axes>"
      ]
     },
     "metadata": {},
     "output_type": "display_data"
    }
   ],
   "source": [
    "# create visualization for relationchip between age and serious delinquency\n",
    "plt.title(\"People with Serious Delinquency are Younger\")\n",
    "ax = sns.boxplot(data = train, x = 'serious_delinquency', y = 'debt_to_income_ratio')\n",
    "#  format y-axis into percent\n",
    "ax.yaxis.set_major_formatter(StrMethodFormatter('{x:.0%}'))\n",
    "plt.ylim(0, 1000)\n",
    "plt.show()"
   ]
  },
  {
   "cell_type": "code",
   "execution_count": 34,
   "id": "0487a304-199c-46b0-bbe6-790a21175353",
   "metadata": {},
   "outputs": [
    {
     "data": {
      "image/png": "[encoded data removed]",
      "text/plain": [
       "<Figure size 1440x576 with 1 Axes>"
      ]
     },
     "metadata": {},
     "output_type": "display_data"
    }
   ],
   "source": [
    "# create visualization for relationship between age and serious delinquency\n",
    "plt.title(\"People with Serious Delinquency are Younger\")\n",
    "sns.boxplot(data = train, x = 'serious_delinquency', y = 'debt_to_income_ratio')\n",
    "plt.show()"
   ]
  },
  {
   "cell_type": "code",
   "execution_count": null,
   "id": "441c84e6-6205-4db2-8456-5335dc71e1d8",
   "metadata": {},
   "outputs": [],
   "source": []
  },
  {
   "cell_type": "code",
   "execution_count": null,
   "id": "06da1073-ff53-48ae-9a64-800667101eda",
   "metadata": {},
   "outputs": [],
   "source": []
  },
  {
   "cell_type": "code",
   "execution_count": null,
   "id": "fe378fc7-13c5-4f11-b1a0-507b9a3ef4a5",
   "metadata": {},
   "outputs": [],
   "source": []
  },
  {
   "cell_type": "markdown",
   "id": "4c10970d-cc71-413f-b329-a021d41152c0",
   "metadata": {},
   "source": [
    "### B. Form a Hypothesis\n",
    "H0: Serious Delinquency is not independent of age.\n",
    "Ha: Serious Delinquency is not independent of age."
   ]
  },
  {
   "cell_type": "markdown",
   "id": "5865ab21-3c64-4b7c-a58c-83fa724c053a",
   "metadata": {},
   "source": [
    "### C. Select Appropriate Test\n",
    "CHI^2 - 2 Categorical Variables"
   ]
  },
  {
   "cell_type": "code",
   "execution_count": 35,
   "id": "0b0ac8a9-f299-4459-bf53-80c9971e93f0",
   "metadata": {},
   "outputs": [
    {
     "data": {
      "text/html": [
       "<div>\n",
       "<style scoped>\n",
       "    .dataframe tbody tr th:only-of-type {\n",
       "        vertical-align: middle;\n",
       "    }\n",
       "\n",
       "    .dataframe tbody tr th {\n",
       "        vertical-align: top;\n",
       "    }\n",
       "\n",
       "    .dataframe thead th {\n",
       "        text-align: right;\n",
       "    }\n",
       "</style>\n",
       "<table border=\"1\" class=\"dataframe\">\n",
       "  <thead>\n",
       "    <tr style=\"text-align: right;\">\n",
       "      <th>age</th>\n",
       "      <th>0</th>\n",
       "      <th>21</th>\n",
       "      <th>22</th>\n",
       "      <th>23</th>\n",
       "      <th>24</th>\n",
       "      <th>25</th>\n",
       "      <th>26</th>\n",
       "      <th>27</th>\n",
       "      <th>28</th>\n",
       "      <th>29</th>\n",
       "      <th>30</th>\n",
       "      <th>31</th>\n",
       "      <th>32</th>\n",
       "      <th>33</th>\n",
       "      <th>34</th>\n",
       "      <th>35</th>\n",
       "      <th>36</th>\n",
       "      <th>37</th>\n",
       "      <th>38</th>\n",
       "      <th>39</th>\n",
       "      <th>40</th>\n",
       "      <th>41</th>\n",
       "      <th>42</th>\n",
       "      <th>43</th>\n",
       "      <th>44</th>\n",
       "      <th>45</th>\n",
       "      <th>46</th>\n",
       "      <th>47</th>\n",
       "      <th>48</th>\n",
       "      <th>49</th>\n",
       "      <th>50</th>\n",
       "      <th>51</th>\n",
       "      <th>52</th>\n",
       "      <th>53</th>\n",
       "      <th>54</th>\n",
       "      <th>55</th>\n",
       "      <th>56</th>\n",
       "      <th>57</th>\n",
       "      <th>58</th>\n",
       "      <th>59</th>\n",
       "      <th>60</th>\n",
       "      <th>61</th>\n",
       "      <th>62</th>\n",
       "      <th>63</th>\n",
       "      <th>64</th>\n",
       "      <th>65</th>\n",
       "      <th>66</th>\n",
       "      <th>67</th>\n",
       "      <th>68</th>\n",
       "      <th>69</th>\n",
       "      <th>70</th>\n",
       "      <th>71</th>\n",
       "      <th>72</th>\n",
       "      <th>73</th>\n",
       "      <th>74</th>\n",
       "      <th>75</th>\n",
       "      <th>76</th>\n",
       "      <th>77</th>\n",
       "      <th>78</th>\n",
       "      <th>79</th>\n",
       "      <th>80</th>\n",
       "      <th>81</th>\n",
       "      <th>82</th>\n",
       "      <th>83</th>\n",
       "      <th>84</th>\n",
       "      <th>85</th>\n",
       "      <th>86</th>\n",
       "      <th>87</th>\n",
       "      <th>88</th>\n",
       "      <th>89</th>\n",
       "      <th>90</th>\n",
       "      <th>91</th>\n",
       "      <th>92</th>\n",
       "      <th>93</th>\n",
       "      <th>94</th>\n",
       "      <th>95</th>\n",
       "      <th>96</th>\n",
       "      <th>97</th>\n",
       "      <th>98</th>\n",
       "      <th>99</th>\n",
       "      <th>102</th>\n",
       "      <th>103</th>\n",
       "    </tr>\n",
       "    <tr>\n",
       "      <th>serious_delinquency</th>\n",
       "      <th></th>\n",
       "      <th></th>\n",
       "      <th></th>\n",
       "      <th></th>\n",
       "      <th></th>\n",
       "      <th></th>\n",
       "      <th></th>\n",
       "      <th></th>\n",
       "      <th></th>\n",
       "      <th></th>\n",
       "      <th></th>\n",
       "      <th></th>\n",
       "      <th></th>\n",
       "      <th></th>\n",
       "      <th></th>\n",
       "      <th></th>\n",
       "      <th></th>\n",
       "      <th></th>\n",
       "      <th></th>\n",
       "      <th></th>\n",
       "      <th></th>\n",
       "      <th></th>\n",
       "      <th></th>\n",
       "      <th></th>\n",
       "      <th></th>\n",
       "      <th></th>\n",
       "      <th></th>\n",
       "      <th></th>\n",
       "      <th></th>\n",
       "      <th></th>\n",
       "      <th></th>\n",
       "      <th></th>\n",
       "      <th></th>\n",
       "      <th></th>\n",
       "      <th></th>\n",
       "      <th></th>\n",
       "      <th></th>\n",
       "      <th></th>\n",
       "      <th></th>\n",
       "      <th></th>\n",
       "      <th></th>\n",
       "      <th></th>\n",
       "      <th></th>\n",
       "      <th></th>\n",
       "      <th></th>\n",
       "      <th></th>\n",
       "      <th></th>\n",
       "      <th></th>\n",
       "      <th></th>\n",
       "      <th></th>\n",
       "      <th></th>\n",
       "      <th></th>\n",
       "      <th></th>\n",
       "      <th></th>\n",
       "      <th></th>\n",
       "      <th></th>\n",
       "      <th></th>\n",
       "      <th></th>\n",
       "      <th></th>\n",
       "      <th></th>\n",
       "      <th></th>\n",
       "      <th></th>\n",
       "      <th></th>\n",
       "      <th></th>\n",
       "      <th></th>\n",
       "      <th></th>\n",
       "      <th></th>\n",
       "      <th></th>\n",
       "      <th></th>\n",
       "      <th></th>\n",
       "      <th></th>\n",
       "      <th></th>\n",
       "      <th></th>\n",
       "      <th></th>\n",
       "      <th></th>\n",
       "      <th></th>\n",
       "      <th></th>\n",
       "      <th></th>\n",
       "      <th></th>\n",
       "      <th></th>\n",
       "      <th></th>\n",
       "      <th></th>\n",
       "    </tr>\n",
       "  </thead>\n",
       "  <tbody>\n",
       "    <tr>\n",
       "      <th>0</th>\n",
       "      <td>1</td>\n",
       "      <td>68</td>\n",
       "      <td>180</td>\n",
       "      <td>260</td>\n",
       "      <td>331</td>\n",
       "      <td>396</td>\n",
       "      <td>491</td>\n",
       "      <td>548</td>\n",
       "      <td>628</td>\n",
       "      <td>724</td>\n",
       "      <td>814</td>\n",
       "      <td>896</td>\n",
       "      <td>875</td>\n",
       "      <td>931</td>\n",
       "      <td>944</td>\n",
       "      <td>894</td>\n",
       "      <td>992</td>\n",
       "      <td>1086</td>\n",
       "      <td>1091</td>\n",
       "      <td>1260</td>\n",
       "      <td>1315</td>\n",
       "      <td>1272</td>\n",
       "      <td>1264</td>\n",
       "      <td>1344</td>\n",
       "      <td>1386</td>\n",
       "      <td>1441</td>\n",
       "      <td>1531</td>\n",
       "      <td>1507</td>\n",
       "      <td>1487</td>\n",
       "      <td>1583</td>\n",
       "      <td>1489</td>\n",
       "      <td>1485</td>\n",
       "      <td>1401</td>\n",
       "      <td>1465</td>\n",
       "      <td>1425</td>\n",
       "      <td>1340</td>\n",
       "      <td>1453</td>\n",
       "      <td>1357</td>\n",
       "      <td>1357</td>\n",
       "      <td>1253</td>\n",
       "      <td>1259</td>\n",
       "      <td>1369</td>\n",
       "      <td>1352</td>\n",
       "      <td>1399</td>\n",
       "      <td>1149</td>\n",
       "      <td>966</td>\n",
       "      <td>942</td>\n",
       "      <td>925</td>\n",
       "      <td>845</td>\n",
       "      <td>739</td>\n",
       "      <td>641</td>\n",
       "      <td>606</td>\n",
       "      <td>656</td>\n",
       "      <td>586</td>\n",
       "      <td>550</td>\n",
       "      <td>444</td>\n",
       "      <td>444</td>\n",
       "      <td>413</td>\n",
       "      <td>398</td>\n",
       "      <td>371</td>\n",
       "      <td>325</td>\n",
       "      <td>271</td>\n",
       "      <td>226</td>\n",
       "      <td>172</td>\n",
       "      <td>160</td>\n",
       "      <td>181</td>\n",
       "      <td>140</td>\n",
       "      <td>118</td>\n",
       "      <td>106</td>\n",
       "      <td>104</td>\n",
       "      <td>67</td>\n",
       "      <td>37</td>\n",
       "      <td>36</td>\n",
       "      <td>26</td>\n",
       "      <td>14</td>\n",
       "      <td>12</td>\n",
       "      <td>5</td>\n",
       "      <td>6</td>\n",
       "      <td>1</td>\n",
       "      <td>1</td>\n",
       "      <td>1</td>\n",
       "      <td>2</td>\n",
       "    </tr>\n",
       "    <tr>\n",
       "      <th>1</th>\n",
       "      <td>0</td>\n",
       "      <td>5</td>\n",
       "      <td>12</td>\n",
       "      <td>27</td>\n",
       "      <td>40</td>\n",
       "      <td>55</td>\n",
       "      <td>69</td>\n",
       "      <td>82</td>\n",
       "      <td>96</td>\n",
       "      <td>84</td>\n",
       "      <td>91</td>\n",
       "      <td>92</td>\n",
       "      <td>105</td>\n",
       "      <td>128</td>\n",
       "      <td>93</td>\n",
       "      <td>106</td>\n",
       "      <td>120</td>\n",
       "      <td>95</td>\n",
       "      <td>110</td>\n",
       "      <td>132</td>\n",
       "      <td>120</td>\n",
       "      <td>142</td>\n",
       "      <td>140</td>\n",
       "      <td>125</td>\n",
       "      <td>106</td>\n",
       "      <td>119</td>\n",
       "      <td>141</td>\n",
       "      <td>144</td>\n",
       "      <td>137</td>\n",
       "      <td>149</td>\n",
       "      <td>123</td>\n",
       "      <td>109</td>\n",
       "      <td>121</td>\n",
       "      <td>121</td>\n",
       "      <td>125</td>\n",
       "      <td>91</td>\n",
       "      <td>102</td>\n",
       "      <td>74</td>\n",
       "      <td>69</td>\n",
       "      <td>75</td>\n",
       "      <td>76</td>\n",
       "      <td>70</td>\n",
       "      <td>73</td>\n",
       "      <td>51</td>\n",
       "      <td>35</td>\n",
       "      <td>44</td>\n",
       "      <td>33</td>\n",
       "      <td>33</td>\n",
       "      <td>16</td>\n",
       "      <td>17</td>\n",
       "      <td>29</td>\n",
       "      <td>20</td>\n",
       "      <td>20</td>\n",
       "      <td>21</td>\n",
       "      <td>18</td>\n",
       "      <td>8</td>\n",
       "      <td>8</td>\n",
       "      <td>6</td>\n",
       "      <td>12</td>\n",
       "      <td>6</td>\n",
       "      <td>8</td>\n",
       "      <td>7</td>\n",
       "      <td>8</td>\n",
       "      <td>5</td>\n",
       "      <td>4</td>\n",
       "      <td>4</td>\n",
       "      <td>3</td>\n",
       "      <td>4</td>\n",
       "      <td>2</td>\n",
       "      <td>4</td>\n",
       "      <td>1</td>\n",
       "      <td>0</td>\n",
       "      <td>0</td>\n",
       "      <td>1</td>\n",
       "      <td>0</td>\n",
       "      <td>0</td>\n",
       "      <td>0</td>\n",
       "      <td>0</td>\n",
       "      <td>0</td>\n",
       "      <td>1</td>\n",
       "      <td>0</td>\n",
       "      <td>0</td>\n",
       "    </tr>\n",
       "  </tbody>\n",
       "</table>\n",
       "</div>"
      ],
      "text/plain": [
       "age                  0    21   22   23   24   25   26   27   28   29   30   \\\n",
       "serious_delinquency                                                          \n",
       "0                      1   68  180  260  331  396  491  548  628  724  814   \n",
       "1                      0    5   12   27   40   55   69   82   96   84   91   \n",
       "\n",
       "age                  31   32   33   34   35   36    37    38    39    40   \\\n",
       "serious_delinquency                                                         \n",
       "0                    896  875  931  944  894  992  1086  1091  1260  1315   \n",
       "1                     92  105  128   93  106  120    95   110   132   120   \n",
       "\n",
       "age                   41    42    43    44    45    46    47    48    49   \\\n",
       "serious_delinquency                                                         \n",
       "0                    1272  1264  1344  1386  1441  1531  1507  1487  1583   \n",
       "1                     142   140   125   106   119   141   144   137   149   \n",
       "\n",
       "age                   50    51    52    53    54    55    56    57    58   \\\n",
       "serious_delinquency                                                         \n",
       "0                    1489  1485  1401  1465  1425  1340  1453  1357  1357   \n",
       "1                     123   109   121   121   125    91   102    74    69   \n",
       "\n",
       "age                   59    60    61    62    63    64   65   66   67   68   \\\n",
       "serious_delinquency                                                           \n",
       "0                    1253  1259  1369  1352  1399  1149  966  942  925  845   \n",
       "1                      75    76    70    73    51    35   44   33   33   16   \n",
       "\n",
       "age                  69   70   71   72   73   74   75   76   77   78   79   \\\n",
       "serious_delinquency                                                          \n",
       "0                    739  641  606  656  586  550  444  444  413  398  371   \n",
       "1                     17   29   20   20   21   18    8    8    6   12    6   \n",
       "\n",
       "age                  80   81   82   83   84   85   86   87   88   89   90   \\\n",
       "serious_delinquency                                                          \n",
       "0                    325  271  226  172  160  181  140  118  106  104   67   \n",
       "1                      8    7    8    5    4    4    3    4    2    4    1   \n",
       "\n",
       "age                  91   92   93   94   95   96   97   98   99   102  103  \n",
       "serious_delinquency                                                         \n",
       "0                     37   36   26   14   12    5    6    1    1    1    2  \n",
       "1                      0    0    1    0    0    0    0    0    1    0    0  "
      ]
     },
     "execution_count": 35,
     "metadata": {},
     "output_type": "execute_result"
    }
   ],
   "source": [
    "observed = pd.crosstab(train.serious_delinquency, train.age)\n",
    "observed"
   ]
  },
  {
   "cell_type": "markdown",
   "id": "e632208c-ba58-48d1-8c12-a55a9c201be7",
   "metadata": {},
   "source": [
    "### D. Set a Significance Level (Alpha)\n"
   ]
  },
  {
   "cell_type": "code",
   "execution_count": 36,
   "id": "e866b143-1f28-4aba-9812-aa672121f5e0",
   "metadata": {},
   "outputs": [],
   "source": [
    "alpha= 0.05"
   ]
  },
  {
   "cell_type": "markdown",
   "id": "2f1f3f94-3ab7-41c1-8ce1-5ec8f93c7e76",
   "metadata": {},
   "source": [
    "### E. Assumptions for CHI^2"
   ]
  },
  {
   "cell_type": "code",
   "execution_count": null,
   "id": "a77e284e-963d-41c9-be6e-e23cee19b51c",
   "metadata": {},
   "outputs": [],
   "source": []
  },
  {
   "cell_type": "markdown",
   "id": "8c3ee74d-55d9-46f9-b981-aa556aa0f73f",
   "metadata": {
    "tags": []
   },
   "source": [
    "### ANSWER:\n",
    "- Those with serious delinquency are 6 years younger than those without serious delinquency, at 45.8 years old. "
   ]
  },
  {
   "cell_type": "markdown",
   "id": "efe8a9f7-b914-44b6-90af-b9a0e9cda703",
   "metadata": {},
   "source": [
    "----"
   ]
  },
  {
   "cell_type": "markdown",
   "id": "d94b7ab3-41e7-4dfe-8ae7-f3a218075991",
   "metadata": {
    "tags": []
   },
   "source": [
    "### QUESTION"
   ]
  },
  {
   "cell_type": "markdown",
   "id": "209d03b0-b030-4c7a-a8ab-181ce2a970be",
   "metadata": {},
   "source": [
    "- What is the relationship between number of dependents and serious delinquency?"
   ]
  },
  {
   "cell_type": "code",
   "execution_count": 37,
   "id": "ef08fd93-cf17-4ddc-a678-0f75febc7d39",
   "metadata": {},
   "outputs": [
    {
     "data": {
      "image/png": "[encoded data removed]",
      "text/plain": [
       "<Figure size 1440x576 with 1 Axes>"
      ]
     },
     "metadata": {},
     "output_type": "display_data"
    }
   ],
   "source": [
    "# create visualization for relationchip between number of dependents and serious delinquency\n",
    "plt.title(\"People with Serious Delinquency Have More Dependents on Average\")\n",
    "ax=sns.boxplot(data = train, x = 'serious_delinquency', y = 'quantity_dependents')\n",
    "ax.set_ylim(0, 6)\n",
    "plt.show()"
   ]
  },
  {
   "cell_type": "code",
   "execution_count": 38,
   "id": "f8730bc2-7218-4a65-8891-23db5918ab35",
   "metadata": {},
   "outputs": [
    {
     "data": {
      "text/html": [
       "<div>\n",
       "<style scoped>\n",
       "    .dataframe tbody tr th:only-of-type {\n",
       "        vertical-align: middle;\n",
       "    }\n",
       "\n",
       "    .dataframe tbody tr th {\n",
       "        vertical-align: top;\n",
       "    }\n",
       "\n",
       "    .dataframe thead th {\n",
       "        text-align: right;\n",
       "    }\n",
       "</style>\n",
       "<table border=\"1\" class=\"dataframe\">\n",
       "  <thead>\n",
       "    <tr style=\"text-align: right;\">\n",
       "      <th></th>\n",
       "      <th>min</th>\n",
       "      <th>mean</th>\n",
       "      <th>max</th>\n",
       "    </tr>\n",
       "    <tr>\n",
       "      <th>serious_delinquency</th>\n",
       "      <th></th>\n",
       "      <th></th>\n",
       "      <th></th>\n",
       "    </tr>\n",
       "  </thead>\n",
       "  <tbody>\n",
       "    <tr>\n",
       "      <th>0</th>\n",
       "      <td>0.0</td>\n",
       "      <td>0.818581</td>\n",
       "      <td>20.0</td>\n",
       "    </tr>\n",
       "    <tr>\n",
       "      <th>1</th>\n",
       "      <td>0.0</td>\n",
       "      <td>1.030732</td>\n",
       "      <td>8.0</td>\n",
       "    </tr>\n",
       "  </tbody>\n",
       "</table>\n",
       "</div>"
      ],
      "text/plain": [
       "                     min      mean   max\n",
       "serious_delinquency                     \n",
       "0                    0.0  0.818581  20.0\n",
       "1                    0.0  1.030732   8.0"
      ]
     },
     "execution_count": 38,
     "metadata": {},
     "output_type": "execute_result"
    }
   ],
   "source": [
    "train.groupby(['serious_delinquency']).quantity_dependents.agg(['min', 'mean', 'max'])"
   ]
  },
  {
   "cell_type": "markdown",
   "id": "0ba7c701-58e0-46f6-9f10-77c221ab0d35",
   "metadata": {
    "tags": []
   },
   "source": [
    "### ANSWER:\n",
    "- Those with serious delinquency have 1 or more dependents on average, 1 more than those without serious delinquency, who have fewer than 1 depedent on average.  "
   ]
  },
  {
   "cell_type": "markdown",
   "id": "feaef598-85a9-4902-b5a6-83253111ba6b",
   "metadata": {
    "tags": []
   },
   "source": [
    "### QUESTION"
   ]
  },
  {
   "cell_type": "markdown",
   "id": "af3f338e-126c-4d6d-9a60-5668c3542f0d",
   "metadata": {},
   "source": [
    "- What is the relationship between monthly income and serious delinquency?"
   ]
  },
  {
   "cell_type": "code",
   "execution_count": 39,
   "id": "97f29dbc-640e-44ba-9b76-25646e48ee24",
   "metadata": {},
   "outputs": [],
   "source": [
    "# subset the data into no serious delinquency and serious delinquency\n",
    "no_serious_delinquency = train[train.serious_delinquency == 0]\n",
    "serious_delinquency = train[train.serious_delinquency == 1]"
   ]
  },
  {
   "cell_type": "code",
   "execution_count": 40,
   "id": "ec061937-92aa-46d1-ba4a-8cd20909e9d3",
   "metadata": {},
   "outputs": [
    {
     "data": {
      "image/png": "[encoded data removed]",
      "text/plain": [
       "<Figure size 1440x576 with 1 Axes>"
      ]
     },
     "metadata": {},
     "output_type": "display_data"
    }
   ],
   "source": [
    "plt.title(\"People with serious delinquency have lower monthly income.\")\n",
    "sns.barplot(data = train, y = 'monthly_income', x = 'serious_delinquency')\n",
    "plt.show()"
   ]
  },
  {
   "cell_type": "code",
   "execution_count": 41,
   "id": "2597d0c1-be85-4bbe-b614-6857b12c1c89",
   "metadata": {},
   "outputs": [
    {
     "data": {
      "text/html": [
       "<div>\n",
       "<style scoped>\n",
       "    .dataframe tbody tr th:only-of-type {\n",
       "        vertical-align: middle;\n",
       "    }\n",
       "\n",
       "    .dataframe tbody tr th {\n",
       "        vertical-align: top;\n",
       "    }\n",
       "\n",
       "    .dataframe thead th {\n",
       "        text-align: right;\n",
       "    }\n",
       "</style>\n",
       "<table border=\"1\" class=\"dataframe\">\n",
       "  <thead>\n",
       "    <tr style=\"text-align: right;\">\n",
       "      <th></th>\n",
       "      <th>min</th>\n",
       "      <th>mean</th>\n",
       "      <th>max</th>\n",
       "    </tr>\n",
       "    <tr>\n",
       "      <th>serious_delinquency</th>\n",
       "      <th></th>\n",
       "      <th></th>\n",
       "      <th></th>\n",
       "    </tr>\n",
       "  </thead>\n",
       "  <tbody>\n",
       "    <tr>\n",
       "      <th>0</th>\n",
       "      <td>0.0</td>\n",
       "      <td>5756.197434</td>\n",
       "      <td>14999.0</td>\n",
       "    </tr>\n",
       "    <tr>\n",
       "      <th>1</th>\n",
       "      <td>0.0</td>\n",
       "      <td>4943.006191</td>\n",
       "      <td>14932.0</td>\n",
       "    </tr>\n",
       "  </tbody>\n",
       "</table>\n",
       "</div>"
      ],
      "text/plain": [
       "                     min         mean      max\n",
       "serious_delinquency                           \n",
       "0                    0.0  5756.197434  14999.0\n",
       "1                    0.0  4943.006191  14932.0"
      ]
     },
     "execution_count": 41,
     "metadata": {},
     "output_type": "execute_result"
    }
   ],
   "source": [
    "train.groupby(['serious_delinquency']).monthly_income.agg(['min', 'mean', 'max'])"
   ]
  },
  {
   "cell_type": "markdown",
   "id": "604262f5-b0c3-48ff-ba02-23c88d42067c",
   "metadata": {
    "tags": []
   },
   "source": [
    "### ANSWER:\n",
    "- Those with serious delinquency make \\\\$5600 per month on average, \\\\$1100 less than those without serious delinquency who make \\\\$6700 per month on average."
   ]
  },
  {
   "cell_type": "markdown",
   "id": "2975cf5e-c652-4f3d-b4f1-01672dd253f0",
   "metadata": {
    "tags": []
   },
   "source": [
    "### QUESTION"
   ]
  },
  {
   "cell_type": "markdown",
   "id": "7756d8c8-e5d8-47a7-a187-b12ef3c427d2",
   "metadata": {},
   "source": [
    "What is the relationship between debt to income ratio and serious delinquency?"
   ]
  },
  {
   "cell_type": "code",
   "execution_count": 42,
   "id": "1f889799-c500-4ffe-a321-c0b9d9b633c1",
   "metadata": {},
   "outputs": [
    {
     "data": {
      "image/png": "[encoded data removed]",
      "text/plain": [
       "<Figure size 1440x576 with 1 Axes>"
      ]
     },
     "metadata": {},
     "output_type": "display_data"
    }
   ],
   "source": [
    "plt.title(\"People with serious delinquency have lower debt to income ratio.\")\n",
    "ax=sns.barplot(data = train, y = 'debt_to_income_ratio', x = 'serious_delinquency')\n",
    "#make y-axis percentage\n",
    "#ax.yaxis.set_major_formatter(StrMethodFormatter('{x:.0%}'))\n",
    "plt.show()"
   ]
  },
  {
   "cell_type": "code",
   "execution_count": 43,
   "id": "62daddde-ed64-48bb-ad13-24390a56a240",
   "metadata": {},
   "outputs": [
    {
     "data": {
      "text/html": [
       "<div>\n",
       "<style scoped>\n",
       "    .dataframe tbody tr th:only-of-type {\n",
       "        vertical-align: middle;\n",
       "    }\n",
       "\n",
       "    .dataframe tbody tr th {\n",
       "        vertical-align: top;\n",
       "    }\n",
       "\n",
       "    .dataframe thead th {\n",
       "        text-align: right;\n",
       "    }\n",
       "</style>\n",
       "<table border=\"1\" class=\"dataframe\">\n",
       "  <thead>\n",
       "    <tr style=\"text-align: right;\">\n",
       "      <th></th>\n",
       "      <th>min</th>\n",
       "      <th>mean</th>\n",
       "      <th>max</th>\n",
       "    </tr>\n",
       "    <tr>\n",
       "      <th>serious_delinquency</th>\n",
       "      <th></th>\n",
       "      <th></th>\n",
       "      <th></th>\n",
       "    </tr>\n",
       "  </thead>\n",
       "  <tbody>\n",
       "    <tr>\n",
       "      <th>0</th>\n",
       "      <td>0.0</td>\n",
       "      <td>29.700021</td>\n",
       "      <td>61106.5</td>\n",
       "    </tr>\n",
       "    <tr>\n",
       "      <th>1</th>\n",
       "      <td>0.0</td>\n",
       "      <td>16.215666</td>\n",
       "      <td>5774.5</td>\n",
       "    </tr>\n",
       "  </tbody>\n",
       "</table>\n",
       "</div>"
      ],
      "text/plain": [
       "                     min       mean      max\n",
       "serious_delinquency                         \n",
       "0                    0.0  29.700021  61106.5\n",
       "1                    0.0  16.215666   5774.5"
      ]
     },
     "execution_count": 43,
     "metadata": {},
     "output_type": "execute_result"
    }
   ],
   "source": [
    "# single category, multiple aggregates\n",
    "train.groupby(['serious_delinquency']).debt_to_income_ratio.agg(['min', 'mean', 'max'])"
   ]
  },
  {
   "cell_type": "markdown",
   "id": "0d51ebf5-c111-4514-87f3-b25343750a47",
   "metadata": {
    "tags": []
   },
   "source": [
    "### ANSWER:\n",
    "- Those with serious delinquency have a 16% debt to income ratio, which is 12% lower than those without serious delinquency, who have a 29% debt to income ratio on average. "
   ]
  },
  {
   "cell_type": "markdown",
   "id": "c9221c78-1ad3-409c-bcdd-0b2501b3e29a",
   "metadata": {},
   "source": [
    "---"
   ]
  },
  {
   "cell_type": "markdown",
   "id": "a688218f-d8b9-4f6f-9e0b-210bffac46ec",
   "metadata": {},
   "source": [
    "### EXPLORE - Multivariate"
   ]
  },
  {
   "cell_type": "code",
   "execution_count": null,
   "id": "12f8183b-42f7-4685-b08f-cc9a363e655d",
   "metadata": {},
   "outputs": [],
   "source": []
  },
  {
   "cell_type": "markdown",
   "id": "53cfaf4f-1f88-4d5a-8072-d2ba2df68a5e",
   "metadata": {},
   "source": [
    "1. How is monthly income related to serious_delinquency."
   ]
  },
  {
   "cell_type": "markdown",
   "id": "1ce5d7ed-3528-4358-9ed9-5626f8f06713",
   "metadata": {},
   "source": [
    "### EXPLORATION SUMMARY"
   ]
  },
  {
   "cell_type": "markdown",
   "id": "2990d15a-9bc9-4d86-90fa-d6f1a6126a5e",
   "metadata": {},
   "source": [
    "Through exploration, we could see people with serious delinquency have \n",
    "- less monthly income\n",
    "- more dependents\n",
    "- lower debt to income ratio"
   ]
  },
  {
   "cell_type": "code",
   "execution_count": null,
   "id": "799df0f4-dfd6-46eb-9dcb-38718a5e9fec",
   "metadata": {},
   "outputs": [],
   "source": []
  },
  {
   "cell_type": "markdown",
   "id": "a6a766ab-e7cf-4c61-81a5-75f613fd7504",
   "metadata": {},
   "source": [
    "==================================================================================================================================="
   ]
  },
  {
   "cell_type": "markdown",
   "id": "029a5287-2ab3-407d-bd77-de9b79c6d2a9",
   "metadata": {},
   "source": [
    "## IV. MODEL"
   ]
  },
  {
   "cell_type": "markdown",
   "id": "155987c4-9387-4a82-ace4-172e0dfb7a13",
   "metadata": {},
   "source": [
    "The goal is to create a robust and generalizable model that is a mapping between features and a target outcome."
   ]
  },
  {
   "cell_type": "markdown",
   "id": "ad7eccba-1b8e-48c7-b079-373978b9cda7",
   "metadata": {},
   "source": [
    "## EVALUATION METRIX"
   ]
  },
  {
   "cell_type": "code",
   "execution_count": 44,
   "id": "292bc237-bb94-4894-a2e8-34f7c4f1b2c1",
   "metadata": {},
   "outputs": [
    {
     "name": "stdout",
     "output_type": "stream",
     "text": [
      "<class 'pandas.core.frame.DataFrame'>\n",
      "Int64Index: 64153 entries, 77955 to 30352\n",
      "Data columns (total 13 columns):\n",
      " #   Column                      Non-Null Count  Dtype   \n",
      "---  ------                      --------------  -----   \n",
      " 0   serious_delinquency         64153 non-null  int64   \n",
      " 1   revolv_unsec_utilization    64153 non-null  float64 \n",
      " 2   age                         64153 non-null  int64   \n",
      " 3   quantity_30_59_pd           64153 non-null  int64   \n",
      " 4   debt_to_income_ratio        64153 non-null  float64 \n",
      " 5   monthly_income              64153 non-null  float64 \n",
      " 6   quantity_loans_and_lines    64153 non-null  int64   \n",
      " 7   quantity_90_days_pd         64153 non-null  int64   \n",
      " 8   quantity_real_estate_loans  64153 non-null  int64   \n",
      " 9   quantity_60_89_days_pd      64153 non-null  int64   \n",
      " 10  quantity_dependents         64153 non-null  float64 \n",
      " 11  age_bins                    64152 non-null  category\n",
      " 12  quantity_dependents_bins    64153 non-null  category\n",
      "dtypes: category(2), float64(4), int64(7)\n",
      "memory usage: 8.0 MB\n"
     ]
    }
   ],
   "source": [
    "train.info()"
   ]
  },
  {
   "cell_type": "markdown",
   "id": "f3ecd765-d992-47eb-940e-e246e5d7f06a",
   "metadata": {},
   "source": [
    "Because serious delinquency is a yes or no (boolean) value, classification machine learning algorithms were used to fit to the training data and the models were evaluated on validate data. The best model was selected using accuracy, because the data is mostly balanced, and the risk of an event happening balances the risk of getting a prediction wrong. In other words, the model was optimized for identifying true positives (actual delinquency when predicted), and true negatives (no serious delinquency when predicted), while minimizing false positive and false negatives."
   ]
  },
  {
   "cell_type": "markdown",
   "id": "94e86c50-30c4-455d-8142-8d8f2c4e6af2",
   "metadata": {
    "tags": []
   },
   "source": [
    "### MODEL - SCALE"
   ]
  },
  {
   "cell_type": "markdown",
   "id": "9c9d2096-77d3-4f50-be5f-4e2a8e35c03a",
   "metadata": {},
   "source": [
    "### Set X & y"
   ]
  },
  {
   "cell_type": "code",
   "execution_count": 45,
   "id": "9dcf9c1f-87bc-4a75-b25d-96612fdaf017",
   "metadata": {},
   "outputs": [],
   "source": [
    "# create X & y version of train, where y is a series with just the target variable and X are all the features. \n",
    "X_train = train.drop(columns=['serious_delinquency','quantity_90_days_pd', 'age_bins', 'quantity_dependents_bins'])\n",
    "y_train = train.serious_delinquency\n",
    "\n",
    "X_validate = validate.drop(columns=['serious_delinquency','quantity_90_days_pd', 'age_bins', 'quantity_dependents_bins'])\n",
    "y_validate = validate.serious_delinquency\n",
    "\n",
    "X_test = test.drop(columns=['serious_delinquency','quantity_90_days_pd', 'age_bins', 'quantity_dependents_bins'])\n",
    "y_test = test.serious_delinquency"
   ]
  },
  {
   "cell_type": "markdown",
   "id": "fcf44265-394e-40d7-aa02-f2fda712f0cd",
   "metadata": {},
   "source": [
    "### Set Baseline"
   ]
  },
  {
   "cell_type": "code",
   "execution_count": 46,
   "id": "60fed068-a5c9-4b6d-894a-5c142b89ee23",
   "metadata": {},
   "outputs": [
    {
     "name": "stdout",
     "output_type": "stream",
     "text": [
      "Baseline Accuracy: 92.95%\n"
     ]
    }
   ],
   "source": [
    "# Obtain the mode for the target\n",
    "baseline = y_train.mode()\n",
    "\n",
    "# produce boolean array with True assigned to match the baseline prediction and real data. \n",
    "matches_baseline_prediction = (y_train == 0)\n",
    "\n",
    "baseline_accuracy = matches_baseline_prediction.mean()\n",
    "\n",
    "print(f'Baseline Accuracy: {baseline_accuracy:.2%}')"
   ]
  },
  {
   "cell_type": "markdown",
   "id": "b8454a2d-f79b-4900-b66b-866d6f755a01",
   "metadata": {},
   "source": [
    "### MODEL - DECISION TREE"
   ]
  },
  {
   "cell_type": "code",
   "execution_count": 47,
   "id": "81e9474b-b2b5-46f8-a849-7373d98507b7",
   "metadata": {},
   "outputs": [],
   "source": [
    "#Create the object\n",
    "clf1 = DecisionTreeClassifier(max_depth=2, random_state=123)\n",
    "# Fit the model\n",
    "clf1 = clf1.fit(X_train, y_train)"
   ]
  },
  {
   "cell_type": "code",
   "execution_count": 48,
   "id": "abe0470f-9421-498a-9d22-1d60fcc79663",
   "metadata": {},
   "outputs": [
    {
     "data": {
      "text/plain": [
       "[Text(0.5, 0.8333333333333334, 'quantity_60_89_days_pd <= 0.5\\ngini = 0.131\\nsamples = 64153\\nvalue = [59630, 4523]'),\n",
       " Text(0.25, 0.5, 'revolv_unsec_utilization <= 0.533\\ngini = 0.103\\nsamples = 60773\\nvalue = [57465, 3308]'),\n",
       " Text(0.125, 0.16666666666666666, 'gini = 0.051\\nsamples = 45377\\nvalue = [44198, 1179]'),\n",
       " Text(0.375, 0.16666666666666666, 'gini = 0.238\\nsamples = 15396\\nvalue = [13267, 2129]'),\n",
       " Text(0.75, 0.5, 'revolv_unsec_utilization <= 0.599\\ngini = 0.461\\nsamples = 3380\\nvalue = [2165, 1215]'),\n",
       " Text(0.625, 0.16666666666666666, 'gini = 0.329\\nsamples = 1299\\nvalue = [1029, 270]'),\n",
       " Text(0.875, 0.16666666666666666, 'gini = 0.496\\nsamples = 2081\\nvalue = [1136, 945]')]"
      ]
     },
     "execution_count": 48,
     "metadata": {},
     "output_type": "execute_result"
    },
    {
     "data": {
      "image/png": "[encoded data removed]",
      "text/plain": [
       "<Figure size 1584x864 with 1 Axes>"
      ]
     },
     "metadata": {},
     "output_type": "display_data"
    }
   ],
   "source": [
    "#Visualize the model\n",
    "plt.figure(figsize=(22, 12))\n",
    "plot_tree(clf1,feature_names=X_train.columns)"
   ]
  },
  {
   "cell_type": "code",
   "execution_count": 49,
   "id": "2807c8f0-d4a9-40a3-95bc-8b3cbc1fcc9c",
   "metadata": {},
   "outputs": [],
   "source": [
    "# make predictions\n",
    "y_pred = clf1.predict(X_train)"
   ]
  },
  {
   "cell_type": "code",
   "execution_count": 50,
   "id": "87218810-d207-482e-bf23-0c1b0cf243e8",
   "metadata": {},
   "outputs": [
    {
     "data": {
      "text/html": [
       "<div>\n",
       "<style scoped>\n",
       "    .dataframe tbody tr th:only-of-type {\n",
       "        vertical-align: middle;\n",
       "    }\n",
       "\n",
       "    .dataframe tbody tr th {\n",
       "        vertical-align: top;\n",
       "    }\n",
       "\n",
       "    .dataframe thead th {\n",
       "        text-align: right;\n",
       "    }\n",
       "</style>\n",
       "<table border=\"1\" class=\"dataframe\">\n",
       "  <thead>\n",
       "    <tr style=\"text-align: right;\">\n",
       "      <th></th>\n",
       "      <th>Not Seriously Delinquent</th>\n",
       "      <th>Seriously Delinquent</th>\n",
       "    </tr>\n",
       "  </thead>\n",
       "  <tbody>\n",
       "    <tr>\n",
       "      <th>0</th>\n",
       "      <td>0.974018</td>\n",
       "      <td>0.025982</td>\n",
       "    </tr>\n",
       "    <tr>\n",
       "      <th>1</th>\n",
       "      <td>0.861717</td>\n",
       "      <td>0.138283</td>\n",
       "    </tr>\n",
       "    <tr>\n",
       "      <th>2</th>\n",
       "      <td>0.974018</td>\n",
       "      <td>0.025982</td>\n",
       "    </tr>\n",
       "    <tr>\n",
       "      <th>3</th>\n",
       "      <td>0.974018</td>\n",
       "      <td>0.025982</td>\n",
       "    </tr>\n",
       "    <tr>\n",
       "      <th>4</th>\n",
       "      <td>0.974018</td>\n",
       "      <td>0.025982</td>\n",
       "    </tr>\n",
       "  </tbody>\n",
       "</table>\n",
       "</div>"
      ],
      "text/plain": [
       "   Not Seriously Delinquent  Seriously Delinquent\n",
       "0                  0.974018              0.025982\n",
       "1                  0.861717              0.138283\n",
       "2                  0.974018              0.025982\n",
       "3                  0.974018              0.025982\n",
       "4                  0.974018              0.025982"
      ]
     },
     "execution_count": 50,
     "metadata": {},
     "output_type": "execute_result"
    }
   ],
   "source": [
    "y_pred_proba = clf1.predict_proba(X_train)\n",
    "pd.DataFrame(y_pred_proba, columns = ['Not Seriously Delinquent', 'Seriously Delinquent']).head()"
   ]
  },
  {
   "cell_type": "markdown",
   "id": "fa5da0a7-e9e0-4d4c-8659-f4ad3d543713",
   "metadata": {},
   "source": [
    "### Evaluate Model"
   ]
  },
  {
   "cell_type": "code",
   "execution_count": 51,
   "id": "3b06b70f-cbd2-4df5-b46f-47ff490bfa69",
   "metadata": {},
   "outputs": [
    {
     "name": "stdout",
     "output_type": "stream",
     "text": [
      "Accuracy of Decision Tree classifier on training set: 0.93\n"
     ]
    }
   ],
   "source": [
    "print('Accuracy of Decision Tree classifier on training set: {:.2f}'\n",
    "      .format(clf1.score(X_train, y_train)))"
   ]
  },
  {
   "cell_type": "markdown",
   "id": "2a57f519-4ca2-4fe9-a276-30cd090f77fb",
   "metadata": {},
   "source": [
    "### Create a Confusion Matrix\n",
    "- True Positive: number of occurrences where serious delinquency is true and serious delinquency is predicted true.\n",
    "- True Negative: number of occurrences where serious delinquency is false and serious delinquency is predicted false.\n",
    "- False Positive: number of occurrences where serious delinquency is false and serious delinquency is predicted true.\n",
    "- False Negative: number of occurrences where serious delinquency is true and serious delinquency is predicted false."
   ]
  },
  {
   "cell_type": "code",
   "execution_count": 52,
   "id": "5246ea90-2b9f-4130-95e5-72efdd34902e",
   "metadata": {},
   "outputs": [
    {
     "data": {
      "text/plain": [
       "array([[59630,     0],\n",
       "       [ 4523,     0]])"
      ]
     },
     "execution_count": 52,
     "metadata": {},
     "output_type": "execute_result"
    }
   ],
   "source": [
    "confusion_matrix(y_train, y_pred)"
   ]
  },
  {
   "cell_type": "code",
   "execution_count": 53,
   "id": "eae0c348-ad61-4fe9-a041-66714c402013",
   "metadata": {},
   "outputs": [
    {
     "data": {
      "text/plain": [
       "0    59630\n",
       "1     4523\n",
       "Name: serious_delinquency, dtype: int64"
      ]
     },
     "execution_count": 53,
     "metadata": {},
     "output_type": "execute_result"
    }
   ],
   "source": [
    "y_train.value_counts()"
   ]
  },
  {
   "cell_type": "code",
   "execution_count": 54,
   "id": "82fd42df-5efa-4a70-bb18-c11757c6a3c7",
   "metadata": {},
   "outputs": [
    {
     "data": {
      "text/html": [
       "<div>\n",
       "<style scoped>\n",
       "    .dataframe tbody tr th:only-of-type {\n",
       "        vertical-align: middle;\n",
       "    }\n",
       "\n",
       "    .dataframe tbody tr th {\n",
       "        vertical-align: top;\n",
       "    }\n",
       "\n",
       "    .dataframe thead th {\n",
       "        text-align: right;\n",
       "    }\n",
       "</style>\n",
       "<table border=\"1\" class=\"dataframe\">\n",
       "  <thead>\n",
       "    <tr style=\"text-align: right;\">\n",
       "      <th></th>\n",
       "      <th>0</th>\n",
       "      <th>1</th>\n",
       "    </tr>\n",
       "  </thead>\n",
       "  <tbody>\n",
       "    <tr>\n",
       "      <th>0</th>\n",
       "      <td>59630</td>\n",
       "      <td>0</td>\n",
       "    </tr>\n",
       "    <tr>\n",
       "      <th>1</th>\n",
       "      <td>4523</td>\n",
       "      <td>0</td>\n",
       "    </tr>\n",
       "  </tbody>\n",
       "</table>\n",
       "</div>"
      ],
      "text/plain": [
       "       0  1\n",
       "0  59630  0\n",
       "1   4523  0"
      ]
     },
     "execution_count": 54,
     "metadata": {},
     "output_type": "execute_result"
    }
   ],
   "source": [
    "labels = sorted(y_train.unique())\n",
    "\n",
    "pd.DataFrame(confusion_matrix(y_train, y_pred), index=labels, columns=labels)"
   ]
  },
  {
   "cell_type": "markdown",
   "id": "6a0c952d-4dcc-427d-9d54-15187d8d5bcb",
   "metadata": {
    "tags": []
   },
   "source": [
    "### Create a Classification Report\n",
    "- Acuracy isn't everything, look at other evaluation metrics, such as recalll and precision."
   ]
  },
  {
   "cell_type": "code",
   "execution_count": 55,
   "id": "d81e07e1-170d-4bf5-9e63-ded4d54334d5",
   "metadata": {},
   "outputs": [
    {
     "name": "stdout",
     "output_type": "stream",
     "text": [
      "              precision    recall  f1-score   support\n",
      "\n",
      "           0       0.93      1.00      0.96     59630\n",
      "           1       0.00      0.00      0.00      4523\n",
      "\n",
      "    accuracy                           0.93     64153\n",
      "   macro avg       0.46      0.50      0.48     64153\n",
      "weighted avg       0.86      0.93      0.90     64153\n",
      "\n"
     ]
    }
   ],
   "source": [
    "print(classification_report(y_train, y_pred))"
   ]
  },
  {
   "cell_type": "markdown",
   "id": "2aab3d36-79d0-4c8e-bcba-81f34769cf3b",
   "metadata": {},
   "source": [
    "### Evaluate the Model with our Validate dataset"
   ]
  },
  {
   "cell_type": "code",
   "execution_count": 56,
   "id": "b103677d-aa25-48d3-8a7f-892a9cf80c2a",
   "metadata": {},
   "outputs": [
    {
     "name": "stdout",
     "output_type": "stream",
     "text": [
      "Accuracy of Decision Tree classifier on validate set: 0.93\n"
     ]
    }
   ],
   "source": [
    "print('Accuracy of Decision Tree classifier on validate set: {:.2f}'\n",
    "     .format(clf1.score(X_validate, y_validate)))"
   ]
  },
  {
   "cell_type": "code",
   "execution_count": 57,
   "id": "6696e2cc-7829-4ed5-b59b-b58b0bb1798e",
   "metadata": {},
   "outputs": [
    {
     "name": "stdout",
     "output_type": "stream",
     "text": [
      "              precision    recall  f1-score   support\n",
      "\n",
      "           0       0.93      1.00      0.96     25566\n",
      "           1       0.00      0.00      0.00      1929\n",
      "\n",
      "    accuracy                           0.93     27495\n",
      "   macro avg       0.46      0.50      0.48     27495\n",
      "weighted avg       0.86      0.93      0.90     27495\n",
      "\n"
     ]
    }
   ],
   "source": [
    "# Produce y_predictions that come from the X_validate\n",
    "y_pred = clf1.predict(X_validate)\n",
    "\n",
    "# Compare actual y values (from validate) to predicted y_values from the model run on X_validate\n",
    "print(classification_report(y_validate, y_pred))"
   ]
  },
  {
   "cell_type": "markdown",
   "id": "5c0c4868-7219-45dd-b18e-a08455de79e2",
   "metadata": {},
   "source": [
    "### Model - RANDOM FOREST"
   ]
  },
  {
   "cell_type": "code",
   "execution_count": 58,
   "id": "4b037f63-e30c-4a4c-8e48-132e99d3048f",
   "metadata": {},
   "outputs": [
    {
     "data": {
      "text/html": [
       "<div>\n",
       "<style scoped>\n",
       "    .dataframe tbody tr th:only-of-type {\n",
       "        vertical-align: middle;\n",
       "    }\n",
       "\n",
       "    .dataframe tbody tr th {\n",
       "        vertical-align: top;\n",
       "    }\n",
       "\n",
       "    .dataframe thead th {\n",
       "        text-align: right;\n",
       "    }\n",
       "</style>\n",
       "<table border=\"1\" class=\"dataframe\">\n",
       "  <thead>\n",
       "    <tr style=\"text-align: right;\">\n",
       "      <th></th>\n",
       "      <th>min_samples_per_leaf</th>\n",
       "      <th>max_depth</th>\n",
       "      <th>train_accuracy</th>\n",
       "      <th>validate_accuracy</th>\n",
       "      <th>difference</th>\n",
       "    </tr>\n",
       "  </thead>\n",
       "  <tbody>\n",
       "    <tr>\n",
       "      <th>0</th>\n",
       "      <td>1</td>\n",
       "      <td>1</td>\n",
       "      <td>0.929497</td>\n",
       "      <td>0.929842</td>\n",
       "      <td>-0.000345</td>\n",
       "    </tr>\n",
       "    <tr>\n",
       "      <th>1</th>\n",
       "      <td>2</td>\n",
       "      <td>2</td>\n",
       "      <td>0.929497</td>\n",
       "      <td>0.929842</td>\n",
       "      <td>-0.000345</td>\n",
       "    </tr>\n",
       "    <tr>\n",
       "      <th>2</th>\n",
       "      <td>3</td>\n",
       "      <td>3</td>\n",
       "      <td>0.929497</td>\n",
       "      <td>0.929842</td>\n",
       "      <td>-0.000345</td>\n",
       "    </tr>\n",
       "    <tr>\n",
       "      <th>3</th>\n",
       "      <td>4</td>\n",
       "      <td>4</td>\n",
       "      <td>0.931227</td>\n",
       "      <td>0.931115</td>\n",
       "      <td>0.000112</td>\n",
       "    </tr>\n",
       "    <tr>\n",
       "      <th>4</th>\n",
       "      <td>5</td>\n",
       "      <td>5</td>\n",
       "      <td>0.931913</td>\n",
       "      <td>0.931624</td>\n",
       "      <td>0.000289</td>\n",
       "    </tr>\n",
       "    <tr>\n",
       "      <th>5</th>\n",
       "      <td>6</td>\n",
       "      <td>6</td>\n",
       "      <td>0.933347</td>\n",
       "      <td>0.932242</td>\n",
       "      <td>0.001105</td>\n",
       "    </tr>\n",
       "    <tr>\n",
       "      <th>6</th>\n",
       "      <td>7</td>\n",
       "      <td>7</td>\n",
       "      <td>0.934157</td>\n",
       "      <td>0.931806</td>\n",
       "      <td>0.002352</td>\n",
       "    </tr>\n",
       "    <tr>\n",
       "      <th>7</th>\n",
       "      <td>8</td>\n",
       "      <td>8</td>\n",
       "      <td>0.935436</td>\n",
       "      <td>0.932606</td>\n",
       "      <td>0.002830</td>\n",
       "    </tr>\n",
       "    <tr>\n",
       "      <th>8</th>\n",
       "      <td>9</td>\n",
       "      <td>9</td>\n",
       "      <td>0.935950</td>\n",
       "      <td>0.932679</td>\n",
       "      <td>0.003271</td>\n",
       "    </tr>\n",
       "    <tr>\n",
       "      <th>9</th>\n",
       "      <td>10</td>\n",
       "      <td>10</td>\n",
       "      <td>0.937026</td>\n",
       "      <td>0.932242</td>\n",
       "      <td>0.004783</td>\n",
       "    </tr>\n",
       "    <tr>\n",
       "      <th>10</th>\n",
       "      <td>11</td>\n",
       "      <td>11</td>\n",
       "      <td>0.937415</td>\n",
       "      <td>0.932570</td>\n",
       "      <td>0.004846</td>\n",
       "    </tr>\n",
       "    <tr>\n",
       "      <th>11</th>\n",
       "      <td>12</td>\n",
       "      <td>12</td>\n",
       "      <td>0.937649</td>\n",
       "      <td>0.932206</td>\n",
       "      <td>0.005443</td>\n",
       "    </tr>\n",
       "    <tr>\n",
       "      <th>12</th>\n",
       "      <td>13</td>\n",
       "      <td>13</td>\n",
       "      <td>0.937680</td>\n",
       "      <td>0.932497</td>\n",
       "      <td>0.005183</td>\n",
       "    </tr>\n",
       "    <tr>\n",
       "      <th>13</th>\n",
       "      <td>14</td>\n",
       "      <td>14</td>\n",
       "      <td>0.937618</td>\n",
       "      <td>0.932351</td>\n",
       "      <td>0.005267</td>\n",
       "    </tr>\n",
       "    <tr>\n",
       "      <th>14</th>\n",
       "      <td>15</td>\n",
       "      <td>15</td>\n",
       "      <td>0.937259</td>\n",
       "      <td>0.932133</td>\n",
       "      <td>0.005126</td>\n",
       "    </tr>\n",
       "    <tr>\n",
       "      <th>15</th>\n",
       "      <td>16</td>\n",
       "      <td>16</td>\n",
       "      <td>0.936838</td>\n",
       "      <td>0.932133</td>\n",
       "      <td>0.004705</td>\n",
       "    </tr>\n",
       "    <tr>\n",
       "      <th>16</th>\n",
       "      <td>17</td>\n",
       "      <td>17</td>\n",
       "      <td>0.936386</td>\n",
       "      <td>0.932970</td>\n",
       "      <td>0.003417</td>\n",
       "    </tr>\n",
       "    <tr>\n",
       "      <th>17</th>\n",
       "      <td>18</td>\n",
       "      <td>18</td>\n",
       "      <td>0.935794</td>\n",
       "      <td>0.932497</td>\n",
       "      <td>0.003297</td>\n",
       "    </tr>\n",
       "    <tr>\n",
       "      <th>18</th>\n",
       "      <td>19</td>\n",
       "      <td>19</td>\n",
       "      <td>0.935576</td>\n",
       "      <td>0.932315</td>\n",
       "      <td>0.003261</td>\n",
       "    </tr>\n",
       "    <tr>\n",
       "      <th>19</th>\n",
       "      <td>20</td>\n",
       "      <td>20</td>\n",
       "      <td>0.935872</td>\n",
       "      <td>0.932606</td>\n",
       "      <td>0.003266</td>\n",
       "    </tr>\n",
       "  </tbody>\n",
       "</table>\n",
       "</div>"
      ],
      "text/plain": [
       "    min_samples_per_leaf  max_depth  train_accuracy  validate_accuracy  \\\n",
       "0                      1          1        0.929497           0.929842   \n",
       "1                      2          2        0.929497           0.929842   \n",
       "2                      3          3        0.929497           0.929842   \n",
       "3                      4          4        0.931227           0.931115   \n",
       "4                      5          5        0.931913           0.931624   \n",
       "5                      6          6        0.933347           0.932242   \n",
       "6                      7          7        0.934157           0.931806   \n",
       "7                      8          8        0.935436           0.932606   \n",
       "8                      9          9        0.935950           0.932679   \n",
       "9                     10         10        0.937026           0.932242   \n",
       "10                    11         11        0.937415           0.932570   \n",
       "11                    12         12        0.937649           0.932206   \n",
       "12                    13         13        0.937680           0.932497   \n",
       "13                    14         14        0.937618           0.932351   \n",
       "14                    15         15        0.937259           0.932133   \n",
       "15                    16         16        0.936838           0.932133   \n",
       "16                    17         17        0.936386           0.932970   \n",
       "17                    18         18        0.935794           0.932497   \n",
       "18                    19         19        0.935576           0.932315   \n",
       "19                    20         20        0.935872           0.932606   \n",
       "\n",
       "    difference  \n",
       "0    -0.000345  \n",
       "1    -0.000345  \n",
       "2    -0.000345  \n",
       "3     0.000112  \n",
       "4     0.000289  \n",
       "5     0.001105  \n",
       "6     0.002352  \n",
       "7     0.002830  \n",
       "8     0.003271  \n",
       "9     0.004783  \n",
       "10    0.004846  \n",
       "11    0.005443  \n",
       "12    0.005183  \n",
       "13    0.005267  \n",
       "14    0.005126  \n",
       "15    0.004705  \n",
       "16    0.003417  \n",
       "17    0.003297  \n",
       "18    0.003261  \n",
       "19    0.003266  "
      ]
     },
     "execution_count": 58,
     "metadata": {},
     "output_type": "execute_result"
    }
   ],
   "source": [
    "# Evaluate Random Forest models on train & validate set \n",
    "# by looping through different values for max_depth and min_samples_leaf hyperparameters\n",
    "\n",
    "# create empty list for which to append metrics from each loop\n",
    "scores = []\n",
    "max_value = range(1,21)\n",
    "# create loop for range 1-20\n",
    "for i in max_value:\n",
    "    # set depth & n_samples to value for current loop\n",
    "    depth = i\n",
    "    n_samples = i\n",
    "    # define the model setting hyperparameters to values for current loop\n",
    "    forest = RandomForestClassifier(max_depth=depth, min_samples_leaf=n_samples, random_state=123)\n",
    "    # fit the model on train\n",
    "    forest = forest.fit(X_train, y_train)\n",
    "    # use the model and evaluate performance on train\n",
    "    in_sample_accuracy = forest.score(X_train, y_train)\n",
    "    # use the model and evaluate performance on validate\n",
    "    out_of_sample_accuracy = forest.score(X_validate, y_validate)\n",
    "    # create output of current loop’s hyperparameters and accuracy to append to metrics\n",
    "    output = {\n",
    "        'min_samples_per_leaf': n_samples,\n",
    "        'max_depth': depth,\n",
    "        'train_accuracy': in_sample_accuracy,\n",
    "        'validate_accuracy': out_of_sample_accuracy\n",
    "    }\n",
    "    scores.append(output)\n",
    "# convert metrics list to a dataframe for easy reading\n",
    "df = pd.DataFrame(scores)\n",
    "# add column to assess the difference between train & validate accuracy\n",
    "df['difference'] = df.train_accuracy - df.validate_accuracy\n",
    "df"
   ]
  },
  {
   "cell_type": "code",
   "execution_count": 59,
   "id": "0bad3470-8c5c-4504-b0fb-ca166984be35",
   "metadata": {},
   "outputs": [
    {
     "name": "stdout",
     "output_type": "stream",
     "text": [
      "train_accuracy:  93.768023%\n",
      "validate_accuracy:  93.249682%\n"
     ]
    }
   ],
   "source": [
    "# The Random Forest model that performed the best on train & validate set had max_depth of 12 and min_sample_leaf of 12. \n",
    "# Isolating that model to use as best performing model. \n",
    "\n",
    "# define the model setting hyperparameters to values for the best performing model\n",
    "forest = RandomForestClassifier(max_depth=13, min_samples_leaf=13, random_state=123)\n",
    "\n",
    "# fit the model on train\n",
    "forest = forest.fit(X_train, y_train)\n",
    "\n",
    "# use the model and evaluate performance on train\n",
    "train_accuracy = forest.score(X_train, y_train)\n",
    "# use the model and evaluate performance on validate\n",
    "validate_accuracy = forest.score(X_validate, y_validate)\n",
    "\n",
    "print(f'train_accuracy: {train_accuracy: 2%}')\n",
    "print(f'validate_accuracy: {validate_accuracy: 2%}')"
   ]
  },
  {
   "cell_type": "markdown",
   "id": "90a6f3e4-456a-4d17-9da9-7658a108d1c9",
   "metadata": {},
   "source": [
    "### Model - LOGISTIC REGRESSION"
   ]
  },
  {
   "cell_type": "code",
   "execution_count": 60,
   "id": "75534837-2864-4367-acd7-e003bfb868d4",
   "metadata": {},
   "outputs": [
    {
     "data": {
      "text/html": [
       "<div>\n",
       "<style scoped>\n",
       "    .dataframe tbody tr th:only-of-type {\n",
       "        vertical-align: middle;\n",
       "    }\n",
       "\n",
       "    .dataframe tbody tr th {\n",
       "        vertical-align: top;\n",
       "    }\n",
       "\n",
       "    .dataframe thead th {\n",
       "        text-align: right;\n",
       "    }\n",
       "</style>\n",
       "<table border=\"1\" class=\"dataframe\">\n",
       "  <thead>\n",
       "    <tr style=\"text-align: right;\">\n",
       "      <th></th>\n",
       "      <th>C</th>\n",
       "      <th>train_accuracy</th>\n",
       "      <th>validate_accuracy</th>\n",
       "      <th>difference</th>\n",
       "    </tr>\n",
       "  </thead>\n",
       "  <tbody>\n",
       "    <tr>\n",
       "      <th>0</th>\n",
       "      <td>0.001</td>\n",
       "      <td>0.929653</td>\n",
       "      <td>0.929987</td>\n",
       "      <td>-0.000335</td>\n",
       "    </tr>\n",
       "    <tr>\n",
       "      <th>1</th>\n",
       "      <td>0.005</td>\n",
       "      <td>0.929668</td>\n",
       "      <td>0.929915</td>\n",
       "      <td>-0.000246</td>\n",
       "    </tr>\n",
       "    <tr>\n",
       "      <th>2</th>\n",
       "      <td>0.010</td>\n",
       "      <td>0.929668</td>\n",
       "      <td>0.929987</td>\n",
       "      <td>-0.000319</td>\n",
       "    </tr>\n",
       "    <tr>\n",
       "      <th>3</th>\n",
       "      <td>0.050</td>\n",
       "      <td>0.929497</td>\n",
       "      <td>0.929733</td>\n",
       "      <td>-0.000236</td>\n",
       "    </tr>\n",
       "    <tr>\n",
       "      <th>4</th>\n",
       "      <td>0.100</td>\n",
       "      <td>0.929575</td>\n",
       "      <td>0.929842</td>\n",
       "      <td>-0.000267</td>\n",
       "    </tr>\n",
       "    <tr>\n",
       "      <th>5</th>\n",
       "      <td>0.500</td>\n",
       "      <td>0.929637</td>\n",
       "      <td>0.930024</td>\n",
       "      <td>-0.000387</td>\n",
       "    </tr>\n",
       "    <tr>\n",
       "      <th>6</th>\n",
       "      <td>1.000</td>\n",
       "      <td>0.929653</td>\n",
       "      <td>0.929987</td>\n",
       "      <td>-0.000335</td>\n",
       "    </tr>\n",
       "    <tr>\n",
       "      <th>7</th>\n",
       "      <td>5.000</td>\n",
       "      <td>0.929575</td>\n",
       "      <td>0.929805</td>\n",
       "      <td>-0.000231</td>\n",
       "    </tr>\n",
       "    <tr>\n",
       "      <th>8</th>\n",
       "      <td>10.000</td>\n",
       "      <td>0.929481</td>\n",
       "      <td>0.929842</td>\n",
       "      <td>-0.000361</td>\n",
       "    </tr>\n",
       "    <tr>\n",
       "      <th>9</th>\n",
       "      <td>50.000</td>\n",
       "      <td>0.929668</td>\n",
       "      <td>0.929987</td>\n",
       "      <td>-0.000319</td>\n",
       "    </tr>\n",
       "    <tr>\n",
       "      <th>10</th>\n",
       "      <td>100.000</td>\n",
       "      <td>0.929653</td>\n",
       "      <td>0.929987</td>\n",
       "      <td>-0.000335</td>\n",
       "    </tr>\n",
       "    <tr>\n",
       "      <th>11</th>\n",
       "      <td>500.000</td>\n",
       "      <td>0.929653</td>\n",
       "      <td>0.929987</td>\n",
       "      <td>-0.000335</td>\n",
       "    </tr>\n",
       "    <tr>\n",
       "      <th>12</th>\n",
       "      <td>1000.000</td>\n",
       "      <td>0.929653</td>\n",
       "      <td>0.929987</td>\n",
       "      <td>-0.000335</td>\n",
       "    </tr>\n",
       "  </tbody>\n",
       "</table>\n",
       "</div>"
      ],
      "text/plain": [
       "           C  train_accuracy  validate_accuracy  difference\n",
       "0      0.001        0.929653           0.929987   -0.000335\n",
       "1      0.005        0.929668           0.929915   -0.000246\n",
       "2      0.010        0.929668           0.929987   -0.000319\n",
       "3      0.050        0.929497           0.929733   -0.000236\n",
       "4      0.100        0.929575           0.929842   -0.000267\n",
       "5      0.500        0.929637           0.930024   -0.000387\n",
       "6      1.000        0.929653           0.929987   -0.000335\n",
       "7      5.000        0.929575           0.929805   -0.000231\n",
       "8     10.000        0.929481           0.929842   -0.000361\n",
       "9     50.000        0.929668           0.929987   -0.000319\n",
       "10   100.000        0.929653           0.929987   -0.000335\n",
       "11   500.000        0.929653           0.929987   -0.000335\n",
       "12  1000.000        0.929653           0.929987   -0.000335"
      ]
     },
     "execution_count": 60,
     "metadata": {},
     "output_type": "execute_result"
    }
   ],
   "source": [
    "# Evaluate Logistic Regression models on train & validate set by looping through different values for c hyperparameter\n",
    "\n",
    "# create empty list for which to append metrics from each loop\n",
    "metrics = []\n",
    "\n",
    "# create loop for values in list\n",
    "for c in [.001, .005, .01, .05, .1, .5, 1, 5, 10, 50, 100, 500, 1000]:\n",
    "            \n",
    "    # define the model setting hyperparameters to values for current loop\n",
    "    logit = LogisticRegression(C=c)\n",
    "    \n",
    "    # fit the model on train\n",
    "    logit.fit(X_train, y_train)\n",
    "    \n",
    "    # use the model and evaluate performance on train\n",
    "    train_accuracy = logit.score(X_train, y_train)\n",
    "    # use the model and evaluate performance on validate\n",
    "    validate_accuracy = logit.score(X_validate, y_validate)\n",
    "    \n",
    "    # create output of current loop's hyperparameters and accuracy to append to metrics\n",
    "    output = {\n",
    "        'C': c,\n",
    "        'train_accuracy': train_accuracy,\n",
    "        'validate_accuracy': validate_accuracy\n",
    "    }\n",
    "    \n",
    "    metrics.append(output)\n",
    "\n",
    "# convert metrics list to a dataframe for easy reading\n",
    "df = pd.DataFrame(metrics)\n",
    "# add column to assess the difference between train & validate accuracy\n",
    "df['difference'] = df.train_accuracy - df.validate_accuracy\n",
    "df"
   ]
  },
  {
   "cell_type": "code",
   "execution_count": 61,
   "id": "0cedce68-1527-413b-8371-2ce557c11ffd",
   "metadata": {},
   "outputs": [
    {
     "name": "stdout",
     "output_type": "stream",
     "text": [
      "Coefficient: \n",
      " [[-0.000206   -0.04731319  0.07868075 -0.00049153 -0.00011551  0.03176106\n",
      "   0.03493758 -0.04198021  0.04054895]]\n",
      "Intercept: \n",
      " [-0.02364445]\n"
     ]
    }
   ],
   "source": [
    "# Feature importance\n",
    "print('Coefficient: \\n', logit.coef_)\n",
    "print('Intercept: \\n', logit.intercept_)"
   ]
  },
  {
   "cell_type": "code",
   "execution_count": 62,
   "id": "4230cb23-58ec-4418-b823-832c3afb7a4e",
   "metadata": {},
   "outputs": [],
   "source": [
    "#Make Probability\n",
    "y_pred = logit.predict(X_train)"
   ]
  },
  {
   "cell_type": "code",
   "execution_count": 63,
   "id": "3dbed026-18ac-4df3-9fef-465c706124c7",
   "metadata": {},
   "outputs": [],
   "source": [
    "# Estimate Predictions\n",
    "y_pred_proba = logit.predict_proba(X_train)"
   ]
  },
  {
   "cell_type": "markdown",
   "id": "ca84a231-9773-4a7d-8e80-e652c8c9b250",
   "metadata": {},
   "source": [
    "Evaluate the Model with Our Validate Set\n",
    "Done in Function above\n",
    "The Logistic Regression Model that performed best had a c-statistic of 0.1 with a train accuracy of 93.0% and validate accuracy of 93.0.% performing nearly the same as baseline on unseen (validate) data."
   ]
  },
  {
   "cell_type": "markdown",
   "id": "601259bd-aa76-4ec1-88b7-e535afd18ee4",
   "metadata": {},
   "source": [
    "### Create a Confusion Matrix\n",
    "- True Positive: number of occurrences where churn is true and churn is predicted true.\n",
    "- True Negative: number of occurrences where churn is false and churn is predicted false.\n",
    "- False Positive: number of occurrences where churn is false and churn is predicted true.\n",
    "- False Negative: number of occurrences where churn is true and churn is predicted false."
   ]
  },
  {
   "cell_type": "code",
   "execution_count": 64,
   "id": "cdcf0b15-0320-4965-ad2c-b348cc082ecf",
   "metadata": {},
   "outputs": [
    {
     "name": "stdout",
     "output_type": "stream",
     "text": [
      "[[59591    39]\n",
      " [ 4474    49]]\n"
     ]
    }
   ],
   "source": [
    "print(confusion_matrix(y_train, y_pred))"
   ]
  },
  {
   "cell_type": "markdown",
   "id": "03411b7c-ea9a-42fc-8cb2-9f0cf248c361",
   "metadata": {},
   "source": [
    "Create Classification Report\n",
    "Acuracy isn't everything, look at other evaluation metrics, such as recalll and precision."
   ]
  },
  {
   "cell_type": "code",
   "execution_count": 65,
   "id": "62601080-0694-4ea4-a82b-79790ebba5b0",
   "metadata": {},
   "outputs": [
    {
     "name": "stdout",
     "output_type": "stream",
     "text": [
      "              precision    recall  f1-score   support\n",
      "\n",
      "           0       0.93      1.00      0.96     59630\n",
      "           1       0.56      0.01      0.02      4523\n",
      "\n",
      "    accuracy                           0.93     64153\n",
      "   macro avg       0.74      0.51      0.49     64153\n",
      "weighted avg       0.90      0.93      0.90     64153\n",
      "\n"
     ]
    }
   ],
   "source": [
    "print(classification_report(y_train, y_pred))"
   ]
  },
  {
   "cell_type": "markdown",
   "id": "d09639dd-0e83-4d54-ace2-22ee40b53576",
   "metadata": {},
   "source": [
    "### Best Model Overall\n",
    "- The best performing model overall was the _, performing _ on train, __ on validate, and optimized for ___.\n",
    "- This model will now be used on the test data to confirm best performance."
   ]
  },
  {
   "cell_type": "code",
   "execution_count": null,
   "id": "85038868-a16f-42e9-8bf9-e978896c056c",
   "metadata": {},
   "outputs": [],
   "source": []
  },
  {
   "cell_type": "code",
   "execution_count": null,
   "id": "a6a8f154-49bd-497a-a453-daf166027977",
   "metadata": {},
   "outputs": [],
   "source": []
  },
  {
   "cell_type": "code",
   "execution_count": null,
   "id": "e6f212ce-1132-4cd6-814a-69725ea7d937",
   "metadata": {},
   "outputs": [],
   "source": []
  },
  {
   "cell_type": "markdown",
   "id": "cb8677d9-b870-4d73-b348-8b2e702dc773",
   "metadata": {},
   "source": [
    "==================================================================================================================================="
   ]
  },
  {
   "cell_type": "markdown",
   "id": "583ac056-1f5f-4c37-bf29-e14c20502803",
   "metadata": {},
   "source": [
    "## V. CONCLUSION"
   ]
  },
  {
   "cell_type": "markdown",
   "id": "a4ad585b-62b1-4765-9ca7-21066825a333",
   "metadata": {},
   "source": [
    "### RECOMMENDATIONS"
   ]
  },
  {
   "cell_type": "code",
   "execution_count": null,
   "id": "43f17b8e-10f1-434a-a95c-a68f495f4fa1",
   "metadata": {},
   "outputs": [],
   "source": []
  },
  {
   "cell_type": "markdown",
   "id": "7cc52bcc-6ef1-418e-9148-1cca1a5dbb47",
   "metadata": {},
   "source": [
    "### NEXT STEPS"
   ]
  },
  {
   "cell_type": "code",
   "execution_count": null,
   "id": "593bfb5c-2efd-4ecc-b84a-1c122d7b9e5b",
   "metadata": {},
   "outputs": [],
   "source": []
  },
  {
   "cell_type": "code",
   "execution_count": null,
   "id": "7f08b1fd-70d8-4772-ad2e-5997b11ea400",
   "metadata": {},
   "outputs": [],
   "source": []
  }
 ],
 "metadata": {
  "kernelspec": {
   "display_name": "Python 3 (ipykernel)",
   "language": "python",
   "name": "python3"
  },
  "language_info": {
   "codemirror_mode": {
    "name": "ipython",
    "version": 3
   },
   "file_extension": ".py",
   "mimetype": "text/x-python",
   "name": "python",
   "nbconvert_exporter": "python",
   "pygments_lexer": "ipython3",
   "version": "3.9.7"
  }
 },
 "nbformat": 4,
 "nbformat_minor": 5
}
