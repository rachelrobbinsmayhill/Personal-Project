{
 "cells": [
  {
   "cell_type": "markdown",
   "id": "b64e8d56-c5b1-4dd8-ae08-4ab210c6296f",
   "metadata": {},
   "source": [
    "# DRAFT WORKBOOK:\n",
    "## CAN I GET A LITTLE CREDIT? \n",
    "### An Exploration of Credit Worthiness, Using Classification to Predict Serious Repayment Delinquency"
   ]
  },
  {
   "cell_type": "markdown",
   "id": "f2f23c67-16dc-41fe-a684-9d8c6a5d6ccc",
   "metadata": {},
   "source": [
    "Personal Project & Final Report Created By: Rachel Robbins-Mayhill | April , 2022"
   ]
  },
  {
   "cell_type": "code",
   "execution_count": 1,
   "id": "35ed9df3-b52c-4e9a-be38-f980725e6fe6",
   "metadata": {},
   "outputs": [],
   "source": [
    "# Import for data manipulation\n",
    "import pandas as pd\n",
    "import numpy as np\n",
    "\n",
    "# Import for data viz\n",
    "import seaborn as sns\n",
    "from matplotlib import pyplot as plt\n",
    "from matplotlib.ticker import StrMethodFormatter\n",
    "import squarify\n",
    "\n",
    "# Import for Hypothesis Testing\n",
    "import scipy.stats as stats\n",
    "from sklearn.tree import DecisionTreeClassifier, plot_tree\n",
    "from sklearn.metrics import classification_report\n",
    "from sklearn.metrics import confusion_matrix\n",
    "\n",
    "from sklearn.ensemble import RandomForestClassifier\n",
    "from sklearn.neighbors import KNeighborsClassifier\n",
    "from sklearn.linear_model import LogisticRegression\n",
    "\n",
    "# Import for acquisition\n",
    "import env\n",
    "import os\n",
    "import wrangle\n",
    "\n",
    "# Add for setting to see all rows and columns\n",
    "pd.options.display.max_rows = None\n",
    "pd.options.display.max_columns = None\n",
    "\n",
    "# Import to ignore warnings\n",
    "import warnings\n",
    "warnings.filterwarnings('ignore')"
   ]
  },
  {
   "cell_type": "markdown",
   "id": "5d79abdd-5f4e-406a-8b2a-65343b1e5e90",
   "metadata": {},
   "source": [
    "## PROJECT DESCRIPTION"
   ]
  },
  {
   "cell_type": "markdown",
   "id": "0ba83e44-a072-44cb-8867-f87746c41061",
   "metadata": {},
   "source": [
    "Banks play a crucial role in market economies. They decide who can get finance and on what terms and can make or break investment decisions. For markets and society to function, individuals and companies need access to credit. \n",
    "\n",
    "Credit scoring algorithms, which make a guess at the probability of default, are the methods banks use to determine whether or not a loan should be granted. This project aims to improve upon the state of the art in credit scoring, by predicting the probability that somebody will experience financial distress in the next two years.\n",
    "\n",
    "I am interested in this project because identifying at-risk populations helps to protect the consumer, the business, the market, and society as a whole. Identifying customers who are at risk of default helps to prevent the consumer from entering into a situation that could be harmful to their long-term financial stability. It helps the banking institution prevent significant and costly losses which could impact business sustainability and limit the potential to help others. Lastly, as we saw with the housing crisis of 2008, accurately identifying at-risk loan applicants can prevent the destabilizing of the market which can have far-reaching consequences for society as a whole."
   ]
  },
  {
   "cell_type": "markdown",
   "id": "c6c3a10e-363f-4dd6-8ae9-2caa45b6b63e",
   "metadata": {},
   "source": [
    "## PROJECT GOAL"
   ]
  },
  {
   "cell_type": "markdown",
   "id": "cb3b7928-cfb2-438a-abc3-f0b55c898dca",
   "metadata": {},
   "source": [
    "The goal of this project is to build a model that borrowers can use to help make the best financial decisions."
   ]
  },
  {
   "cell_type": "markdown",
   "id": "9cead56f-1368-4878-ab45-ff439325e708",
   "metadata": {},
   "source": [
    "## I. ACQUIRE"
   ]
  },
  {
   "cell_type": "code",
   "execution_count": 2,
   "id": "5c213a55-3ad2-4d0b-afb5-11d36f846574",
   "metadata": {},
   "outputs": [
    {
     "data": {
      "text/html": [
       "<div>\n",
       "<style scoped>\n",
       "    .dataframe tbody tr th:only-of-type {\n",
       "        vertical-align: middle;\n",
       "    }\n",
       "\n",
       "    .dataframe tbody tr th {\n",
       "        vertical-align: top;\n",
       "    }\n",
       "\n",
       "    .dataframe thead th {\n",
       "        text-align: right;\n",
       "    }\n",
       "</style>\n",
       "<table border=\"1\" class=\"dataframe\">\n",
       "  <thead>\n",
       "    <tr style=\"text-align: right;\">\n",
       "      <th></th>\n",
       "      <th>Unnamed: 0</th>\n",
       "      <th>SeriousDlqin2yrs</th>\n",
       "      <th>RevolvingUtilizationOfUnsecuredLines</th>\n",
       "      <th>age</th>\n",
       "      <th>NumberOfTime30-59DaysPastDueNotWorse</th>\n",
       "      <th>DebtRatio</th>\n",
       "      <th>MonthlyIncome</th>\n",
       "      <th>NumberOfOpenCreditLinesAndLoans</th>\n",
       "      <th>NumberOfTimes90DaysLate</th>\n",
       "      <th>NumberRealEstateLoansOrLines</th>\n",
       "      <th>NumberOfTime60-89DaysPastDueNotWorse</th>\n",
       "      <th>NumberOfDependents</th>\n",
       "    </tr>\n",
       "  </thead>\n",
       "  <tbody>\n",
       "    <tr>\n",
       "      <th>0</th>\n",
       "      <td>1</td>\n",
       "      <td>1</td>\n",
       "      <td>0.766127</td>\n",
       "      <td>45</td>\n",
       "      <td>2</td>\n",
       "      <td>0.802982</td>\n",
       "      <td>9120.0</td>\n",
       "      <td>13</td>\n",
       "      <td>0</td>\n",
       "      <td>6</td>\n",
       "      <td>0</td>\n",
       "      <td>2.0</td>\n",
       "    </tr>\n",
       "    <tr>\n",
       "      <th>1</th>\n",
       "      <td>2</td>\n",
       "      <td>0</td>\n",
       "      <td>0.957151</td>\n",
       "      <td>40</td>\n",
       "      <td>0</td>\n",
       "      <td>0.121876</td>\n",
       "      <td>2600.0</td>\n",
       "      <td>4</td>\n",
       "      <td>0</td>\n",
       "      <td>0</td>\n",
       "      <td>0</td>\n",
       "      <td>1.0</td>\n",
       "    </tr>\n",
       "    <tr>\n",
       "      <th>2</th>\n",
       "      <td>3</td>\n",
       "      <td>0</td>\n",
       "      <td>0.658180</td>\n",
       "      <td>38</td>\n",
       "      <td>1</td>\n",
       "      <td>0.085113</td>\n",
       "      <td>3042.0</td>\n",
       "      <td>2</td>\n",
       "      <td>1</td>\n",
       "      <td>0</td>\n",
       "      <td>0</td>\n",
       "      <td>0.0</td>\n",
       "    </tr>\n",
       "    <tr>\n",
       "      <th>3</th>\n",
       "      <td>4</td>\n",
       "      <td>0</td>\n",
       "      <td>0.233810</td>\n",
       "      <td>30</td>\n",
       "      <td>0</td>\n",
       "      <td>0.036050</td>\n",
       "      <td>3300.0</td>\n",
       "      <td>5</td>\n",
       "      <td>0</td>\n",
       "      <td>0</td>\n",
       "      <td>0</td>\n",
       "      <td>0.0</td>\n",
       "    </tr>\n",
       "    <tr>\n",
       "      <th>4</th>\n",
       "      <td>5</td>\n",
       "      <td>0</td>\n",
       "      <td>0.907239</td>\n",
       "      <td>49</td>\n",
       "      <td>1</td>\n",
       "      <td>0.024926</td>\n",
       "      <td>63588.0</td>\n",
       "      <td>7</td>\n",
       "      <td>0</td>\n",
       "      <td>1</td>\n",
       "      <td>0</td>\n",
       "      <td>0.0</td>\n",
       "    </tr>\n",
       "  </tbody>\n",
       "</table>\n",
       "</div>"
      ],
      "text/plain": [
       "   Unnamed: 0  SeriousDlqin2yrs  RevolvingUtilizationOfUnsecuredLines  age  \\\n",
       "0           1                 1                              0.766127   45   \n",
       "1           2                 0                              0.957151   40   \n",
       "2           3                 0                              0.658180   38   \n",
       "3           4                 0                              0.233810   30   \n",
       "4           5                 0                              0.907239   49   \n",
       "\n",
       "   NumberOfTime30-59DaysPastDueNotWorse  DebtRatio  MonthlyIncome  \\\n",
       "0                                     2   0.802982         9120.0   \n",
       "1                                     0   0.121876         2600.0   \n",
       "2                                     1   0.085113         3042.0   \n",
       "3                                     0   0.036050         3300.0   \n",
       "4                                     1   0.024926        63588.0   \n",
       "\n",
       "   NumberOfOpenCreditLinesAndLoans  NumberOfTimes90DaysLate  \\\n",
       "0                               13                        0   \n",
       "1                                4                        0   \n",
       "2                                2                        1   \n",
       "3                                5                        0   \n",
       "4                                7                        0   \n",
       "\n",
       "   NumberRealEstateLoansOrLines  NumberOfTime60-89DaysPastDueNotWorse  \\\n",
       "0                             6                                     0   \n",
       "1                             0                                     0   \n",
       "2                             0                                     0   \n",
       "3                             0                                     0   \n",
       "4                             1                                     0   \n",
       "\n",
       "   NumberOfDependents  \n",
       "0                 2.0  \n",
       "1                 1.0  \n",
       "2                 0.0  \n",
       "3                 0.0  \n",
       "4                 0.0  "
      ]
     },
     "execution_count": 2,
     "metadata": {},
     "output_type": "execute_result"
    }
   ],
   "source": [
    "# acquire dataset\n",
    "df = pd.read_csv('client_data.csv')\n",
    "# view first few rows\n",
    "df.head()"
   ]
  },
  {
   "cell_type": "code",
   "execution_count": 3,
   "id": "b6edcaa4-15b6-4083-8376-128914de3706",
   "metadata": {},
   "outputs": [
    {
     "data": {
      "text/plain": [
       "(150000, 12)"
      ]
     },
     "execution_count": 3,
     "metadata": {},
     "output_type": "execute_result"
    }
   ],
   "source": [
    "# size of dataset\n",
    "df.shape"
   ]
  },
  {
   "cell_type": "code",
   "execution_count": 4,
   "id": "5f073bf6-af09-4ee7-90ff-28e7dacc1ccc",
   "metadata": {},
   "outputs": [
    {
     "name": "stdout",
     "output_type": "stream",
     "text": [
      "<class 'pandas.core.frame.DataFrame'>\n",
      "RangeIndex: 150000 entries, 0 to 149999\n",
      "Data columns (total 12 columns):\n",
      " #   Column                                Non-Null Count   Dtype  \n",
      "---  ------                                --------------   -----  \n",
      " 0   Unnamed: 0                            150000 non-null  int64  \n",
      " 1   SeriousDlqin2yrs                      150000 non-null  int64  \n",
      " 2   RevolvingUtilizationOfUnsecuredLines  150000 non-null  float64\n",
      " 3   age                                   150000 non-null  int64  \n",
      " 4   NumberOfTime30-59DaysPastDueNotWorse  150000 non-null  int64  \n",
      " 5   DebtRatio                             150000 non-null  float64\n",
      " 6   MonthlyIncome                         120269 non-null  float64\n",
      " 7   NumberOfOpenCreditLinesAndLoans       150000 non-null  int64  \n",
      " 8   NumberOfTimes90DaysLate               150000 non-null  int64  \n",
      " 9   NumberRealEstateLoansOrLines          150000 non-null  int64  \n",
      " 10  NumberOfTime60-89DaysPastDueNotWorse  150000 non-null  int64  \n",
      " 11  NumberOfDependents                    146076 non-null  float64\n",
      "dtypes: float64(4), int64(8)\n",
      "memory usage: 13.7 MB\n"
     ]
    }
   ],
   "source": [
    "# view column names and datatypes\n",
    "df.info()"
   ]
  },
  {
   "cell_type": "code",
   "execution_count": 5,
   "id": "410a7487-9a2f-4565-a6fd-d05b3d2a1f50",
   "metadata": {},
   "outputs": [
    {
     "data": {
      "text/plain": [
       "Unnamed: 0                                  0\n",
       "SeriousDlqin2yrs                            0\n",
       "RevolvingUtilizationOfUnsecuredLines        0\n",
       "age                                         0\n",
       "NumberOfTime30-59DaysPastDueNotWorse        0\n",
       "DebtRatio                                   0\n",
       "MonthlyIncome                           29731\n",
       "NumberOfOpenCreditLinesAndLoans             0\n",
       "NumberOfTimes90DaysLate                     0\n",
       "NumberRealEstateLoansOrLines                0\n",
       "NumberOfTime60-89DaysPastDueNotWorse        0\n",
       "NumberOfDependents                       3924\n",
       "dtype: int64"
      ]
     },
     "execution_count": 5,
     "metadata": {},
     "output_type": "execute_result"
    }
   ],
   "source": [
    "# Obtain count of nulls per column\n",
    "df.isnull().sum()"
   ]
  },
  {
   "cell_type": "code",
   "execution_count": 6,
   "id": "c88ce0f5-7c9c-49ec-9071-5321314c4b9c",
   "metadata": {},
   "outputs": [
    {
     "data": {
      "text/html": [
       "<div>\n",
       "<style scoped>\n",
       "    .dataframe tbody tr th:only-of-type {\n",
       "        vertical-align: middle;\n",
       "    }\n",
       "\n",
       "    .dataframe tbody tr th {\n",
       "        vertical-align: top;\n",
       "    }\n",
       "\n",
       "    .dataframe thead th {\n",
       "        text-align: right;\n",
       "    }\n",
       "</style>\n",
       "<table border=\"1\" class=\"dataframe\">\n",
       "  <thead>\n",
       "    <tr style=\"text-align: right;\">\n",
       "      <th></th>\n",
       "      <th>Unnamed: 0</th>\n",
       "      <th>SeriousDlqin2yrs</th>\n",
       "      <th>RevolvingUtilizationOfUnsecuredLines</th>\n",
       "      <th>age</th>\n",
       "      <th>NumberOfTime30-59DaysPastDueNotWorse</th>\n",
       "      <th>DebtRatio</th>\n",
       "      <th>MonthlyIncome</th>\n",
       "      <th>NumberOfOpenCreditLinesAndLoans</th>\n",
       "      <th>NumberOfTimes90DaysLate</th>\n",
       "      <th>NumberRealEstateLoansOrLines</th>\n",
       "      <th>NumberOfTime60-89DaysPastDueNotWorse</th>\n",
       "      <th>NumberOfDependents</th>\n",
       "    </tr>\n",
       "  </thead>\n",
       "  <tbody>\n",
       "    <tr>\n",
       "      <th>count</th>\n",
       "      <td>150000.000000</td>\n",
       "      <td>150000.000000</td>\n",
       "      <td>150000.000000</td>\n",
       "      <td>150000.000000</td>\n",
       "      <td>150000.000000</td>\n",
       "      <td>150000.000000</td>\n",
       "      <td>1.202690e+05</td>\n",
       "      <td>150000.000000</td>\n",
       "      <td>150000.000000</td>\n",
       "      <td>150000.000000</td>\n",
       "      <td>150000.000000</td>\n",
       "      <td>146076.000000</td>\n",
       "    </tr>\n",
       "    <tr>\n",
       "      <th>mean</th>\n",
       "      <td>75000.500000</td>\n",
       "      <td>0.066840</td>\n",
       "      <td>6.048438</td>\n",
       "      <td>52.295207</td>\n",
       "      <td>0.421033</td>\n",
       "      <td>353.005076</td>\n",
       "      <td>6.670221e+03</td>\n",
       "      <td>8.452760</td>\n",
       "      <td>0.265973</td>\n",
       "      <td>1.018240</td>\n",
       "      <td>0.240387</td>\n",
       "      <td>0.757222</td>\n",
       "    </tr>\n",
       "    <tr>\n",
       "      <th>std</th>\n",
       "      <td>43301.414527</td>\n",
       "      <td>0.249746</td>\n",
       "      <td>249.755371</td>\n",
       "      <td>14.771866</td>\n",
       "      <td>4.192781</td>\n",
       "      <td>2037.818523</td>\n",
       "      <td>1.438467e+04</td>\n",
       "      <td>5.145951</td>\n",
       "      <td>4.169304</td>\n",
       "      <td>1.129771</td>\n",
       "      <td>4.155179</td>\n",
       "      <td>1.115086</td>\n",
       "    </tr>\n",
       "    <tr>\n",
       "      <th>min</th>\n",
       "      <td>1.000000</td>\n",
       "      <td>0.000000</td>\n",
       "      <td>0.000000</td>\n",
       "      <td>0.000000</td>\n",
       "      <td>0.000000</td>\n",
       "      <td>0.000000</td>\n",
       "      <td>0.000000e+00</td>\n",
       "      <td>0.000000</td>\n",
       "      <td>0.000000</td>\n",
       "      <td>0.000000</td>\n",
       "      <td>0.000000</td>\n",
       "      <td>0.000000</td>\n",
       "    </tr>\n",
       "    <tr>\n",
       "      <th>25%</th>\n",
       "      <td>37500.750000</td>\n",
       "      <td>0.000000</td>\n",
       "      <td>0.029867</td>\n",
       "      <td>41.000000</td>\n",
       "      <td>0.000000</td>\n",
       "      <td>0.175074</td>\n",
       "      <td>3.400000e+03</td>\n",
       "      <td>5.000000</td>\n",
       "      <td>0.000000</td>\n",
       "      <td>0.000000</td>\n",
       "      <td>0.000000</td>\n",
       "      <td>0.000000</td>\n",
       "    </tr>\n",
       "    <tr>\n",
       "      <th>50%</th>\n",
       "      <td>75000.500000</td>\n",
       "      <td>0.000000</td>\n",
       "      <td>0.154181</td>\n",
       "      <td>52.000000</td>\n",
       "      <td>0.000000</td>\n",
       "      <td>0.366508</td>\n",
       "      <td>5.400000e+03</td>\n",
       "      <td>8.000000</td>\n",
       "      <td>0.000000</td>\n",
       "      <td>1.000000</td>\n",
       "      <td>0.000000</td>\n",
       "      <td>0.000000</td>\n",
       "    </tr>\n",
       "    <tr>\n",
       "      <th>75%</th>\n",
       "      <td>112500.250000</td>\n",
       "      <td>0.000000</td>\n",
       "      <td>0.559046</td>\n",
       "      <td>63.000000</td>\n",
       "      <td>0.000000</td>\n",
       "      <td>0.868254</td>\n",
       "      <td>8.249000e+03</td>\n",
       "      <td>11.000000</td>\n",
       "      <td>0.000000</td>\n",
       "      <td>2.000000</td>\n",
       "      <td>0.000000</td>\n",
       "      <td>1.000000</td>\n",
       "    </tr>\n",
       "    <tr>\n",
       "      <th>max</th>\n",
       "      <td>150000.000000</td>\n",
       "      <td>1.000000</td>\n",
       "      <td>50708.000000</td>\n",
       "      <td>109.000000</td>\n",
       "      <td>98.000000</td>\n",
       "      <td>329664.000000</td>\n",
       "      <td>3.008750e+06</td>\n",
       "      <td>58.000000</td>\n",
       "      <td>98.000000</td>\n",
       "      <td>54.000000</td>\n",
       "      <td>98.000000</td>\n",
       "      <td>20.000000</td>\n",
       "    </tr>\n",
       "  </tbody>\n",
       "</table>\n",
       "</div>"
      ],
      "text/plain": [
       "          Unnamed: 0  SeriousDlqin2yrs  RevolvingUtilizationOfUnsecuredLines  \\\n",
       "count  150000.000000     150000.000000                         150000.000000   \n",
       "mean    75000.500000          0.066840                              6.048438   \n",
       "std     43301.414527          0.249746                            249.755371   \n",
       "min         1.000000          0.000000                              0.000000   \n",
       "25%     37500.750000          0.000000                              0.029867   \n",
       "50%     75000.500000          0.000000                              0.154181   \n",
       "75%    112500.250000          0.000000                              0.559046   \n",
       "max    150000.000000          1.000000                          50708.000000   \n",
       "\n",
       "                 age  NumberOfTime30-59DaysPastDueNotWorse      DebtRatio  \\\n",
       "count  150000.000000                         150000.000000  150000.000000   \n",
       "mean       52.295207                              0.421033     353.005076   \n",
       "std        14.771866                              4.192781    2037.818523   \n",
       "min         0.000000                              0.000000       0.000000   \n",
       "25%        41.000000                              0.000000       0.175074   \n",
       "50%        52.000000                              0.000000       0.366508   \n",
       "75%        63.000000                              0.000000       0.868254   \n",
       "max       109.000000                             98.000000  329664.000000   \n",
       "\n",
       "       MonthlyIncome  NumberOfOpenCreditLinesAndLoans  \\\n",
       "count   1.202690e+05                    150000.000000   \n",
       "mean    6.670221e+03                         8.452760   \n",
       "std     1.438467e+04                         5.145951   \n",
       "min     0.000000e+00                         0.000000   \n",
       "25%     3.400000e+03                         5.000000   \n",
       "50%     5.400000e+03                         8.000000   \n",
       "75%     8.249000e+03                        11.000000   \n",
       "max     3.008750e+06                        58.000000   \n",
       "\n",
       "       NumberOfTimes90DaysLate  NumberRealEstateLoansOrLines  \\\n",
       "count            150000.000000                 150000.000000   \n",
       "mean                  0.265973                      1.018240   \n",
       "std                   4.169304                      1.129771   \n",
       "min                   0.000000                      0.000000   \n",
       "25%                   0.000000                      0.000000   \n",
       "50%                   0.000000                      1.000000   \n",
       "75%                   0.000000                      2.000000   \n",
       "max                  98.000000                     54.000000   \n",
       "\n",
       "       NumberOfTime60-89DaysPastDueNotWorse  NumberOfDependents  \n",
       "count                         150000.000000       146076.000000  \n",
       "mean                               0.240387            0.757222  \n",
       "std                                4.155179            1.115086  \n",
       "min                                0.000000            0.000000  \n",
       "25%                                0.000000            0.000000  \n",
       "50%                                0.000000            0.000000  \n",
       "75%                                0.000000            1.000000  \n",
       "max                               98.000000           20.000000  "
      ]
     },
     "execution_count": 6,
     "metadata": {},
     "output_type": "execute_result"
    }
   ],
   "source": [
    "# View descriptive stats for all columns\n",
    "df.describe()"
   ]
  },
  {
   "cell_type": "markdown",
   "id": "f19e541f-b87b-4929-bbc2-db338d3f1d79",
   "metadata": {},
   "source": [
    "==================================================================================================================================="
   ]
  },
  {
   "cell_type": "markdown",
   "id": "a0618941-9c26-49ef-9aa9-fce5dec5a7dc",
   "metadata": {},
   "source": [
    "## II. PREPARE"
   ]
  },
  {
   "cell_type": "markdown",
   "id": "cd128bc0-59f7-4263-903b-8a0f0f601235",
   "metadata": {},
   "source": [
    "Tasks to prepare:\n",
    "\n",
    "- Delete \"Unnamed' index\n",
    "- Rename columns for understanding, while making lowercase\n",
    "- Drop missing values (29_731 in monthly_income and 3_924 in quantity_dep)\n",
    "- Deal with outliers - only if they impact exploration or modeling"
   ]
  },
  {
   "cell_type": "code",
   "execution_count": 7,
   "id": "adbae5df-2d60-43ee-bb89-9f0faa10ae22",
   "metadata": {
    "tags": []
   },
   "outputs": [
    {
     "data": {
      "text/html": [
       "<div>\n",
       "<style scoped>\n",
       "    .dataframe tbody tr th:only-of-type {\n",
       "        vertical-align: middle;\n",
       "    }\n",
       "\n",
       "    .dataframe tbody tr th {\n",
       "        vertical-align: top;\n",
       "    }\n",
       "\n",
       "    .dataframe thead th {\n",
       "        text-align: right;\n",
       "    }\n",
       "</style>\n",
       "<table border=\"1\" class=\"dataframe\">\n",
       "  <thead>\n",
       "    <tr style=\"text-align: right;\">\n",
       "      <th></th>\n",
       "      <th>serious_delinquency</th>\n",
       "      <th>revolv_unsec_utilization</th>\n",
       "      <th>age</th>\n",
       "      <th>quantity_30_59_pd</th>\n",
       "      <th>debt_to_income_ratio</th>\n",
       "      <th>monthly_income</th>\n",
       "      <th>quantity_loans_and_lines</th>\n",
       "      <th>quantity_90_days_pd</th>\n",
       "      <th>quantity_real_estate_loans</th>\n",
       "      <th>quantity_60_89_days_pd</th>\n",
       "      <th>quantity_dependents</th>\n",
       "    </tr>\n",
       "  </thead>\n",
       "  <tbody>\n",
       "    <tr>\n",
       "      <th>0</th>\n",
       "      <td>1</td>\n",
       "      <td>0.766127</td>\n",
       "      <td>45</td>\n",
       "      <td>2</td>\n",
       "      <td>0.802982</td>\n",
       "      <td>9120.0</td>\n",
       "      <td>13</td>\n",
       "      <td>0</td>\n",
       "      <td>6</td>\n",
       "      <td>0</td>\n",
       "      <td>2.0</td>\n",
       "    </tr>\n",
       "    <tr>\n",
       "      <th>1</th>\n",
       "      <td>0</td>\n",
       "      <td>0.957151</td>\n",
       "      <td>40</td>\n",
       "      <td>0</td>\n",
       "      <td>0.121876</td>\n",
       "      <td>2600.0</td>\n",
       "      <td>4</td>\n",
       "      <td>0</td>\n",
       "      <td>0</td>\n",
       "      <td>0</td>\n",
       "      <td>1.0</td>\n",
       "    </tr>\n",
       "    <tr>\n",
       "      <th>2</th>\n",
       "      <td>0</td>\n",
       "      <td>0.658180</td>\n",
       "      <td>38</td>\n",
       "      <td>1</td>\n",
       "      <td>0.085113</td>\n",
       "      <td>3042.0</td>\n",
       "      <td>2</td>\n",
       "      <td>1</td>\n",
       "      <td>0</td>\n",
       "      <td>0</td>\n",
       "      <td>0.0</td>\n",
       "    </tr>\n",
       "    <tr>\n",
       "      <th>3</th>\n",
       "      <td>0</td>\n",
       "      <td>0.233810</td>\n",
       "      <td>30</td>\n",
       "      <td>0</td>\n",
       "      <td>0.036050</td>\n",
       "      <td>3300.0</td>\n",
       "      <td>5</td>\n",
       "      <td>0</td>\n",
       "      <td>0</td>\n",
       "      <td>0</td>\n",
       "      <td>0.0</td>\n",
       "    </tr>\n",
       "    <tr>\n",
       "      <th>4</th>\n",
       "      <td>0</td>\n",
       "      <td>0.907239</td>\n",
       "      <td>49</td>\n",
       "      <td>1</td>\n",
       "      <td>0.024926</td>\n",
       "      <td>63588.0</td>\n",
       "      <td>7</td>\n",
       "      <td>0</td>\n",
       "      <td>1</td>\n",
       "      <td>0</td>\n",
       "      <td>0.0</td>\n",
       "    </tr>\n",
       "  </tbody>\n",
       "</table>\n",
       "</div>"
      ],
      "text/plain": [
       "   serious_delinquency  revolv_unsec_utilization  age  quantity_30_59_pd  \\\n",
       "0                    1                  0.766127   45                  2   \n",
       "1                    0                  0.957151   40                  0   \n",
       "2                    0                  0.658180   38                  1   \n",
       "3                    0                  0.233810   30                  0   \n",
       "4                    0                  0.907239   49                  1   \n",
       "\n",
       "   debt_to_income_ratio  monthly_income  quantity_loans_and_lines  \\\n",
       "0              0.802982          9120.0                        13   \n",
       "1              0.121876          2600.0                         4   \n",
       "2              0.085113          3042.0                         2   \n",
       "3              0.036050          3300.0                         5   \n",
       "4              0.024926         63588.0                         7   \n",
       "\n",
       "   quantity_90_days_pd  quantity_real_estate_loans  quantity_60_89_days_pd  \\\n",
       "0                    0                           6                       0   \n",
       "1                    0                           0                       0   \n",
       "2                    1                           0                       0   \n",
       "3                    0                           0                       0   \n",
       "4                    0                           1                       0   \n",
       "\n",
       "   quantity_dependents  \n",
       "0                  2.0  \n",
       "1                  1.0  \n",
       "2                  0.0  \n",
       "3                  0.0  \n",
       "4                  0.0  "
      ]
     },
     "execution_count": 7,
     "metadata": {},
     "output_type": "execute_result"
    }
   ],
   "source": [
    "# apply the data preparation observations and tasks to clean the data using the wrangle_client function found in the wrangle.py\n",
    "df = wrangle.wrangle_client(df)\n",
    "df.head()"
   ]
  },
  {
   "cell_type": "markdown",
   "id": "82151396-4426-44ab-a64c-8e8ebdb1c12f",
   "metadata": {},
   "source": [
    "### PREPARE - UNIVARIATE"
   ]
  },
  {
   "cell_type": "markdown",
   "id": "b94f2a62-3a82-458e-988c-51e1da919a1c",
   "metadata": {},
   "source": [
    "### Univariate exploration will be conducted on the following variables:\n",
    "1. Serious Delinquency - Target Variable (boolean)\n",
    "    - Person experienced 90 days past due delinquency or worse (0= False / 1= True)\n",
    "2. quantity_90_days_pd \n",
    "    - Number of times borrower has been 90 days or more past due.\n",
    "3. age\n",
    "    - Age of borrower in years   \n",
    "4. revolv_unsec_utilization (Revolving Unsecured Loan Utilization)\n",
    "    - Total balance on credit cards and personal lines of credit except real estate and no installment debt like car loans divided by the sum of credit limits\n",
    "5. monthly_income \n",
    "    - Total monthly income\n",
    "6. debt_to_income_ratio \n",
    "    - Monthly debt payments, alimony,living costs divided by monthy gross income\n",
    "7. quantity_30_59_pd\n",
    "    - Number of times borrower has been 30-59 days past due but no worse in the last 2 years.\n",
    "8. quantity_60_89_days_pd \n",
    "    - Number of times borrower has been 60-89 days past due but no worse in the last 2 years.\n",
    "9. quantity_real_estate_loans \n",
    "    - Number of mortgage and real estate loans including home equity lines of credit\n",
    "10. quantity_dependents     \n",
    "    - Number of dependents in family excluding themselves (spouse, children etc.)"
   ]
  },
  {
   "cell_type": "markdown",
   "id": "b424dd83-3630-499e-ade1-d066655ed42f",
   "metadata": {
    "tags": []
   },
   "source": [
    "### UNIVARIATE QUESTION 1: Target Variable -> Serious Delinquency\n",
    "- What is the distribution of the Target Variable (Serious Delinquency)?"
   ]
  },
  {
   "cell_type": "code",
   "execution_count": 8,
   "id": "df06cc2e-3772-48fe-8324-512944f43bec",
   "metadata": {},
   "outputs": [
    {
     "name": "stdout",
     "output_type": "stream",
     "text": [
      "0    111912\n",
      "1      8357\n",
      "Name: serious_delinquency, dtype: int64\n"
     ]
    },
    {
     "data": {
      "image/png": "[encoded data removed]",
      "text/plain": [
       "<Figure size 432x288 with 1 Axes>"
      ]
     },
     "metadata": {
      "needs_background": "light"
     },
     "output_type": "display_data"
    }
   ],
   "source": [
    "# View distribution of target variable: serious_delinquency\n",
    "print(df.serious_delinquency.value_counts())\n",
    "plt.title(\"Distribution of Serious Delinquency\")\n",
    "df.serious_delinquency.hist()\n",
    "plt.show()"
   ]
  },
  {
   "cell_type": "code",
   "execution_count": 9,
   "id": "763c7949-46eb-41ad-937a-77386a576440",
   "metadata": {},
   "outputs": [
    {
     "name": "stdout",
     "output_type": "stream",
     "text": [
      "0    111912\n",
      "1      8357\n",
      "Name: serious_delinquency, dtype: int64\n"
     ]
    },
    {
     "data": {
      "image/png": "[encoded data removed]",
      "text/plain": [
       "<Figure size 432x288 with 1 Axes>"
      ]
     },
     "metadata": {},
     "output_type": "display_data"
    },
    {
     "name": "stdout",
     "output_type": "stream",
     "text": [
      "Percent seriously delinquent from dataset\n"
     ]
    },
    {
     "data": {
      "text/plain": [
       "0.069"
      ]
     },
     "execution_count": 9,
     "metadata": {},
     "output_type": "execute_result"
    }
   ],
   "source": [
    "# Another visual option. \n",
    "\n",
    "print(df.serious_delinquency.value_counts())\n",
    "\n",
    "y = df.serious_delinquency.value_counts()\n",
    "plt.title('Serious Delinquency')\n",
    "plt.pie(y)\n",
    "plt.show() \n",
    "\n",
    "print(\"Percent seriously delinquent from dataset\")\n",
    "round(df.serious_delinquency.mean(), 3)"
   ]
  },
  {
   "cell_type": "markdown",
   "id": "c19def42-0ca1-4f00-81f0-0441cf413cbb",
   "metadata": {},
   "source": [
    "### OBSERVATIONS: \n",
    "- This is an inbalanced dataset with 7% relating to the target variable fo serious delinquency. Consider resampling to create a more balanced dataset. "
   ]
  },
  {
   "cell_type": "markdown",
   "id": "cb19b011-c0c9-4041-927c-c01d93903572",
   "metadata": {},
   "source": [
    "### UNIVARIATE QUESTION 2: quantity_90_days_pd \n",
    "- What is the distribution of the quantity of 90 days past due?"
   ]
  },
  {
   "cell_type": "code",
   "execution_count": 10,
   "id": "17b600e8-0f33-401c-9cb8-4abb442d7919",
   "metadata": {},
   "outputs": [
    {
     "data": {
      "text/plain": [
       "count    120269.000000\n",
       "mean          0.211925\n",
       "std           3.465276\n",
       "min           0.000000\n",
       "25%           0.000000\n",
       "50%           0.000000\n",
       "75%           0.000000\n",
       "max          98.000000\n",
       "Name: quantity_90_days_pd, dtype: float64"
      ]
     },
     "execution_count": 10,
     "metadata": {},
     "output_type": "execute_result"
    }
   ],
   "source": [
    "# Obtain descriptive stats for variable\n",
    "df.quantity_90_days_pd.describe()"
   ]
  },
  {
   "cell_type": "code",
   "execution_count": 11,
   "id": "116f618b-ce54-410d-a888-cff9b211e835",
   "metadata": {},
   "outputs": [],
   "source": [
    "x = df.groupby('quantity_90_days_pd').quantity_90_days_pd.count()"
   ]
  },
  {
   "cell_type": "code",
   "execution_count": null,
   "id": "c9ab022a-2b94-4ca6-bb0d-8ef46362d6b3",
   "metadata": {},
   "outputs": [],
   "source": [
    "sns.countplot(data= df, x= 'quantity_90_days_pd')  \n",
    "plt.xlim(0, 20)\n",
    "plt.ylim(0, 1000)"
   ]
  },
  {
   "cell_type": "markdown",
   "id": "7fd66cd2-fdbb-43ab-8007-21b87cbb22a9",
   "metadata": {},
   "source": [
    "### OBSERVATIONS: \n",
    "- Most have zero 90 days past due instances. \n",
    "- 144 instances of being past due 98 times, seems unusual, compared to the other quanities. \n",
    "- Consider binning \n"
   ]
  },
  {
   "cell_type": "markdown",
   "id": "55e345a5-4875-4b23-8f56-94c9297f0540",
   "metadata": {},
   "source": [
    "The distribution is "
   ]
  },
  {
   "cell_type": "markdown",
   "id": "fe58f6ba-4459-4005-b134-0c8995b4bd3b",
   "metadata": {
    "jp-MarkdownHeadingCollapsed": true,
    "tags": []
   },
   "source": [
    "### UNIVARIATE QUESTION 3: age\n",
    "- What is the distribution of age?"
   ]
  },
  {
   "cell_type": "markdown",
   "id": "ef9ffde2-fb63-4c5c-9999-1bedb8416175",
   "metadata": {},
   "source": [
    "** We have to be careful when utilizing the age variable in modeling, as age cannot be used as a reason to approve or deny someone credit according to the Fair Lending Laws. **"
   ]
  },
  {
   "cell_type": "code",
   "execution_count": 13,
   "id": "dd4bb0cd-75d6-4fc8-9703-13fe1c13a200",
   "metadata": {},
   "outputs": [
    {
     "data": {
      "text/plain": [
       "count    120269.000000\n",
       "mean         51.289792\n",
       "std          14.426684\n",
       "min           0.000000\n",
       "25%          40.000000\n",
       "50%          51.000000\n",
       "75%          61.000000\n",
       "max         103.000000\n",
       "Name: age, dtype: float64"
      ]
     },
     "execution_count": 13,
     "metadata": {},
     "output_type": "execute_result"
    }
   ],
   "source": [
    "# Obtain descriptive stats for variable\n",
    "df.age.describe()"
   ]
  },
  {
   "cell_type": "code",
   "execution_count": 14,
   "id": "33d7930f-8945-4989-9478-dd396d7024ba",
   "metadata": {},
   "outputs": [
    {
     "data": {
      "text/plain": [
       "age\n",
       "0         1\n",
       "21      130\n",
       "22      329\n",
       "23      515\n",
       "24      652\n",
       "25      797\n",
       "26     1012\n",
       "27     1126\n",
       "28     1349\n",
       "29     1468\n",
       "30     1674\n",
       "31     1783\n",
       "32     1804\n",
       "33     1957\n",
       "34     1867\n",
       "35     1930\n",
       "36     2056\n",
       "37     2157\n",
       "38     2266\n",
       "39     2566\n",
       "40     2645\n",
       "41     2660\n",
       "42     2633\n",
       "43     2751\n",
       "44     2820\n",
       "45     2969\n",
       "46     3117\n",
       "47     3134\n",
       "48     3163\n",
       "49     3217\n",
       "50     3105\n",
       "51     3001\n",
       "52     2951\n",
       "53     2974\n",
       "54     2905\n",
       "55     2745\n",
       "56     2846\n",
       "57     2699\n",
       "58     2702\n",
       "59     2574\n",
       "60     2505\n",
       "61     2713\n",
       "62     2725\n",
       "63     2802\n",
       "64     2278\n",
       "65     1922\n",
       "66     1874\n",
       "67     1835\n",
       "68     1613\n",
       "69     1443\n",
       "70     1270\n",
       "71     1212\n",
       "72     1226\n",
       "73     1093\n",
       "74     1059\n",
       "75      860\n",
       "76      839\n",
       "77      775\n",
       "78      749\n",
       "79      697\n",
       "80      621\n",
       "81      530\n",
       "82      443\n",
       "83      317\n",
       "84      304\n",
       "85      309\n",
       "86      254\n",
       "87      211\n",
       "88      193\n",
       "89      178\n",
       "90      114\n",
       "91       83\n",
       "92       55\n",
       "93       48\n",
       "94       21\n",
       "95       20\n",
       "96        6\n",
       "97       10\n",
       "98        3\n",
       "99        3\n",
       "101       2\n",
       "102       2\n",
       "103       2\n",
       "Name: age, dtype: int64"
      ]
     },
     "execution_count": 14,
     "metadata": {},
     "output_type": "execute_result"
    }
   ],
   "source": [
    "df.groupby('age').age.count()"
   ]
  },
  {
   "cell_type": "markdown",
   "id": "a9b106dc-ddd6-4d5f-a039-922b62a0bccb",
   "metadata": {},
   "source": [
    "### OBSERVATIONS: \n",
    "- Most of the age data seems reasonable. \n",
    "- There is one instance of age listed as 0, which would most likely be an input error, but 1 instance won't be impactful. \n",
    "- Ages over 100, might seem unusual, but the quantities are not large or alarming. \n",
    "- Most are between 26 and 74, which seems reasonable.\n",
    "- I will not delete any age data, as there is not any alarming or drastically unusual data. \n",
    "- Consider binning into age categories (0 - 29), (30 - 39), (40 - 49), (50 - 59), (60 - 69), (70 - 79), (80 - 89), (90 and above)"
   ]
  },
  {
   "cell_type": "markdown",
   "id": "b2947a3c-db4d-4975-a51b-1848636be80d",
   "metadata": {},
   "source": [
    "### UNIVARIATE QUESTION 4: revolv_unsec_utilization (Revolving Unsecured Loan Utilization)\n",
    "- What is the distribution of Revolving Unsecured Loan Utilization?\n",
    "- revolv_unsec_utilization -> Total balance on credit cards and personal lines of credit except real estate and no installment debt like car loans divided by the sum of credit limits"
   ]
  },
  {
   "cell_type": "code",
   "execution_count": 15,
   "id": "468e85cd-07f4-45c6-94b6-50d7210cd9fb",
   "metadata": {},
   "outputs": [
    {
     "data": {
      "text/plain": [
       "count    120269.000000\n",
       "mean          5.899873\n",
       "std         257.040685\n",
       "min           0.000000\n",
       "25%           0.035084\n",
       "50%           0.177282\n",
       "75%           0.579428\n",
       "max       50708.000000\n",
       "Name: revolv_unsec_utilization, dtype: float64"
      ]
     },
     "execution_count": 15,
     "metadata": {},
     "output_type": "execute_result"
    }
   ],
   "source": [
    "# Obtain descriptive stats for variable\n",
    "df. revolv_unsec_utilization.describe()"
   ]
  },
  {
   "cell_type": "code",
   "execution_count": 16,
   "id": "36c669d3-dd5f-4b27-bf70-34cd70c455f6",
   "metadata": {},
   "outputs": [],
   "source": [
    "# sns.histplot(data= df, x='revolv_unsec_utilization')  "
   ]
  },
  {
   "cell_type": "markdown",
   "id": "5537afdf-ed4d-4906-8b41-7fb00da17c4b",
   "metadata": {
    "jp-MarkdownHeadingCollapsed": true,
    "tags": []
   },
   "source": [
    "### OBSERVATIONS: \n"
   ]
  },
  {
   "cell_type": "markdown",
   "id": "ba00438d-bd9a-4765-94b5-53d09c5a55af",
   "metadata": {},
   "source": [
    "### UNIVARIATE QUESTION 5: monthly_income \n",
    "- What is the distribution of monthly income?"
   ]
  },
  {
   "cell_type": "code",
   "execution_count": 17,
   "id": "ac4836a9-2ce8-4919-af60-dbea3c4ffb89",
   "metadata": {},
   "outputs": [
    {
     "data": {
      "text/plain": [
       "count    1.202690e+05\n",
       "mean     6.670221e+03\n",
       "std      1.438467e+04\n",
       "min      0.000000e+00\n",
       "25%      3.400000e+03\n",
       "50%      5.400000e+03\n",
       "75%      8.249000e+03\n",
       "max      3.008750e+06\n",
       "Name: monthly_income, dtype: float64"
      ]
     },
     "execution_count": 17,
     "metadata": {},
     "output_type": "execute_result"
    }
   ],
   "source": [
    "# Obtain descriptive stats for variable\n",
    "df.monthly_income.describe()"
   ]
  },
  {
   "cell_type": "markdown",
   "id": "65c92d3b-2746-4b6b-82aa-c72d0afdc177",
   "metadata": {
    "jp-MarkdownHeadingCollapsed": true,
    "tags": []
   },
   "source": [
    "### OBSERVATIONS: \n"
   ]
  },
  {
   "cell_type": "markdown",
   "id": "6ee28587-4619-45be-a52a-177f6c866593",
   "metadata": {},
   "source": [
    "### UNIVARIATE QUESTION 6: debt_to_income_ratio \n",
    "- What is the distribution of debt to income ratio?"
   ]
  },
  {
   "cell_type": "markdown",
   "id": "201b61b1-44cd-46af-9c5a-18a2f62451d7",
   "metadata": {},
   "source": [
    "Debt-to-income ratio is all monthly debt payments divided by gross monthly income. This number is one way lenders measure ability to manage monthly payments to repay borrowed money."
   ]
  },
  {
   "cell_type": "code",
   "execution_count": 18,
   "id": "c898a4c4-02d8-46f4-ae73-899da8b9505a",
   "metadata": {},
   "outputs": [
    {
     "data": {
      "text/plain": [
       "count    120269.000000\n",
       "mean         26.598777\n",
       "std         424.446457\n",
       "min           0.000000\n",
       "25%           0.143388\n",
       "50%           0.296023\n",
       "75%           0.482559\n",
       "max       61106.500000\n",
       "Name: debt_to_income_ratio, dtype: float64"
      ]
     },
     "execution_count": 18,
     "metadata": {},
     "output_type": "execute_result"
    }
   ],
   "source": [
    "# Obtain descriptive stats for variable\n",
    "df.debt_to_income_ratio.describe()"
   ]
  },
  {
   "cell_type": "markdown",
   "id": "f64578d0-0ac4-43ba-989f-81c5a83d9aa4",
   "metadata": {
    "jp-MarkdownHeadingCollapsed": true,
    "tags": []
   },
   "source": [
    "### OBSERVATIONS: \n"
   ]
  },
  {
   "cell_type": "markdown",
   "id": "fa6dc918-000c-49d7-af8d-9a1e1367713f",
   "metadata": {},
   "source": [
    "### UNIVARIATE QUESTION 7: quantity_30_59_pd\n",
    "- What is the distribution of the quantity of 30 - 59 days past due?"
   ]
  },
  {
   "cell_type": "code",
   "execution_count": 19,
   "id": "c6dac8b4-a214-497a-940b-36223ed5d6e0",
   "metadata": {},
   "outputs": [
    {
     "data": {
      "text/plain": [
       "count    120269.000000\n",
       "mean          0.381769\n",
       "std           3.499234\n",
       "min           0.000000\n",
       "25%           0.000000\n",
       "50%           0.000000\n",
       "75%           0.000000\n",
       "max          98.000000\n",
       "Name: quantity_30_59_pd, dtype: float64"
      ]
     },
     "execution_count": 19,
     "metadata": {},
     "output_type": "execute_result"
    }
   ],
   "source": [
    "# Obtain descriptive stats for variable\n",
    "df.quantity_30_59_pd.describe()"
   ]
  },
  {
   "cell_type": "markdown",
   "id": "d8b6fd85-779a-44bc-a4aa-22bc04b4c2e1",
   "metadata": {
    "jp-MarkdownHeadingCollapsed": true,
    "tags": []
   },
   "source": [
    "### OBSERVATIONS: \n"
   ]
  },
  {
   "cell_type": "markdown",
   "id": "4db4c9a9-1060-4136-a368-fa0d872a353e",
   "metadata": {},
   "source": [
    "### UNIVARIATE QUESTION 8: quantity_60_89_days_pd \n",
    "- What is the distribution of the quantity of 60 - 89 days past due?"
   ]
  },
  {
   "cell_type": "code",
   "execution_count": 20,
   "id": "71974e54-b54b-4fb3-b4a9-bfc345c35d2c",
   "metadata": {},
   "outputs": [
    {
     "data": {
      "text/plain": [
       "count    120269.000000\n",
       "mean          0.187829\n",
       "std           3.447901\n",
       "min           0.000000\n",
       "25%           0.000000\n",
       "50%           0.000000\n",
       "75%           0.000000\n",
       "max          98.000000\n",
       "Name: quantity_60_89_days_pd, dtype: float64"
      ]
     },
     "execution_count": 20,
     "metadata": {},
     "output_type": "execute_result"
    }
   ],
   "source": [
    "# Obtain descriptive stats for variable\n",
    "df.quantity_60_89_days_pd.describe()"
   ]
  },
  {
   "cell_type": "markdown",
   "id": "7bdde526-ec29-4e77-bf44-d3d6fa403f6e",
   "metadata": {
    "jp-MarkdownHeadingCollapsed": true,
    "tags": []
   },
   "source": [
    "### OBSERVATIONS: \n"
   ]
  },
  {
   "cell_type": "markdown",
   "id": "6b2d48fc-6766-4a8f-89c2-e26cb35732d7",
   "metadata": {},
   "source": [
    "### UNIVARIATE QUESTION 9: quantity_real_estate_loans \n",
    "- What is the distribution of quanitty of real estate loans?"
   ]
  },
  {
   "cell_type": "code",
   "execution_count": 21,
   "id": "a84ce35b-52e3-432e-88df-2468791d4cce",
   "metadata": {},
   "outputs": [
    {
     "data": {
      "text/plain": [
       "count    120269.000000\n",
       "mean          1.054519\n",
       "std           1.149273\n",
       "min           0.000000\n",
       "25%           0.000000\n",
       "50%           1.000000\n",
       "75%           2.000000\n",
       "max          54.000000\n",
       "Name: quantity_real_estate_loans, dtype: float64"
      ]
     },
     "execution_count": 21,
     "metadata": {},
     "output_type": "execute_result"
    }
   ],
   "source": [
    "# Obtain descriptive stats for variable\n",
    "df.quantity_real_estate_loans.describe()"
   ]
  },
  {
   "cell_type": "markdown",
   "id": "f5671290-36a8-4669-a786-332db1c2419b",
   "metadata": {
    "jp-MarkdownHeadingCollapsed": true,
    "tags": []
   },
   "source": [
    "### OBSERVATIONS: \n"
   ]
  },
  {
   "cell_type": "markdown",
   "id": "3978e22c-75e5-4e47-a985-9c61b35d4b50",
   "metadata": {},
   "source": [
    "### UNIVARIATE QUESTION 10: quantity_dependents \n",
    "- What is the distribution of quanitty of dependents?"
   ]
  },
  {
   "cell_type": "code",
   "execution_count": 22,
   "id": "dd9906d1-a8ac-4ac7-862c-609a6fdd0ae2",
   "metadata": {},
   "outputs": [
    {
     "data": {
      "text/plain": [
       "count    120269.000000\n",
       "mean          0.851832\n",
       "std           1.148391\n",
       "min           0.000000\n",
       "25%           0.000000\n",
       "50%           0.000000\n",
       "75%           2.000000\n",
       "max          20.000000\n",
       "Name: quantity_dependents, dtype: float64"
      ]
     },
     "execution_count": 22,
     "metadata": {},
     "output_type": "execute_result"
    }
   ],
   "source": [
    "# Obtain descriptive stats for variable\n",
    "df.quantity_dependents.describe()"
   ]
  },
  {
   "cell_type": "markdown",
   "id": "40f6e178-bfb3-4f80-a014-d1f0e7361d46",
   "metadata": {
    "tags": []
   },
   "source": [
    "### OBSERVATIONS: \n"
   ]
  },
  {
   "cell_type": "code",
   "execution_count": null,
   "id": "618e86ef-5cca-4fc5-8ea9-dff9a4cd1d3a",
   "metadata": {},
   "outputs": [],
   "source": []
  },
  {
   "cell_type": "code",
   "execution_count": null,
   "id": "7442b73a-94e6-431a-9247-ab7db082e130",
   "metadata": {},
   "outputs": [],
   "source": []
  },
  {
   "cell_type": "code",
   "execution_count": null,
   "id": "b628bb82-b40e-4c6b-aa19-fd838e56bad1",
   "metadata": {},
   "outputs": [],
   "source": []
  },
  {
   "cell_type": "code",
   "execution_count": null,
   "id": "a83c2928-9413-4ad0-8893-2f68d2e8a041",
   "metadata": {},
   "outputs": [],
   "source": []
  },
  {
   "cell_type": "code",
   "execution_count": null,
   "id": "5320cca9-2b11-4027-a295-80b8a8bb638d",
   "metadata": {},
   "outputs": [],
   "source": []
  },
  {
   "cell_type": "code",
   "execution_count": null,
   "id": "554b31cb-1f0d-4a77-9ae9-d1675100cabc",
   "metadata": {},
   "outputs": [],
   "source": []
  },
  {
   "cell_type": "code",
   "execution_count": null,
   "id": "c57e4b2e-e951-46f8-8867-e052eaf80f70",
   "metadata": {},
   "outputs": [],
   "source": []
  },
  {
   "cell_type": "code",
   "execution_count": null,
   "id": "45cb4550-9dd9-4f62-9cec-b9e12fdeff0e",
   "metadata": {},
   "outputs": [],
   "source": []
  },
  {
   "cell_type": "code",
   "execution_count": null,
   "id": "3dc3b2a5-0717-408c-9385-6aa8fd18f468",
   "metadata": {},
   "outputs": [],
   "source": []
  },
  {
   "cell_type": "code",
   "execution_count": null,
   "id": "1b0bfcf5-da92-48a2-b207-a1bf3c83852e",
   "metadata": {},
   "outputs": [],
   "source": []
  },
  {
   "cell_type": "code",
   "execution_count": null,
   "id": "8eb56ec3-89fd-42a1-8c90-7edd660c3ea7",
   "metadata": {},
   "outputs": [],
   "source": []
  },
  {
   "cell_type": "markdown",
   "id": "18bef115-e56c-475b-921e-d32e1d9f653a",
   "metadata": {},
   "source": [
    "### PREPARE - SPLIT"
   ]
  },
  {
   "cell_type": "code",
   "execution_count": 23,
   "id": "69c72d05-cb42-48b8-873c-d9d1220cdf76",
   "metadata": {},
   "outputs": [],
   "source": [
    "plt.rc('figure', figsize=(20, 8))\n",
    "# determine font size\n",
    "plt.rc('font', size=15)\n",
    "# determine style\n",
    "plt.style.use('bmh')"
   ]
  },
  {
   "cell_type": "code",
   "execution_count": 24,
   "id": "be65fda7-7e6a-4e08-9505-133be600c15d",
   "metadata": {},
   "outputs": [
    {
     "name": "stdout",
     "output_type": "stream",
     "text": [
      "train -> (67350, 11)\n",
      "validate -> (28865, 11)\n",
      "test -> (24054, 11)\n"
     ]
    }
   ],
   "source": [
    "# split the data into train, validate, and test using the split_data function found in the wrangle.py\n",
    "train, validate, test = wrangle.split_data(df)"
   ]
  },
  {
   "cell_type": "markdown",
   "id": "d9ee4d81-09ec-451d-8bb6-f714930e3922",
   "metadata": {},
   "source": [
    "==================================================================================================================================="
   ]
  },
  {
   "cell_type": "markdown",
   "id": "f96e6c41-648a-40ba-9486-f668567e2550",
   "metadata": {},
   "source": [
    "## III. EXPLORE"
   ]
  },
  {
   "cell_type": "code",
   "execution_count": 25,
   "id": "e004585b-3de3-475f-9386-d36c1a39c81f",
   "metadata": {},
   "outputs": [
    {
     "data": {
      "image/png": "[encoded data removed]",
      "text/plain": [
       "<Figure size 1296x864 with 2 Axes>"
      ]
     },
     "metadata": {
      "needs_background": "light"
     },
     "output_type": "display_data"
    }
   ],
   "source": [
    "'''\n",
    "Use a correlation matrix to look at relationships with 'serious_delinquency'.\n",
    "'''\n",
    "correlations = train.corr()\n",
    "plt.figure(figsize=(18,12))\n",
    "sns.set_theme(style=\"white\")\n",
    "corr = correlations\n",
    "heatmap = sns.heatmap(corr, annot=True, cmap=\"coolwarm\", fmt='.1g')"
   ]
  },
  {
   "cell_type": "markdown",
   "id": "ec5e7d4b-beff-4ce6-8bb7-f74858370be4",
   "metadata": {},
   "source": [
    "### EXPLORE QUESTIONS"
   ]
  },
  {
   "cell_type": "markdown",
   "id": "9e7746ad-2d35-4649-8c3f-f1ef8f22448c",
   "metadata": {
    "tags": []
   },
   "source": [
    "### EXPLORE - Bivariate"
   ]
  },
  {
   "cell_type": "markdown",
   "id": "ea779081-785b-4e47-8a8f-f30a3418f773",
   "metadata": {},
   "source": [
    "### QUESTION: AGE\n",
    "- What is the relationship between age and serious delinquency?"
   ]
  },
  {
   "cell_type": "code",
   "execution_count": 26,
   "id": "37b81f0e-904a-4550-b804-01fc3c1ef401",
   "metadata": {},
   "outputs": [
    {
     "data": {
      "image/png": "[encoded data removed]",
      "text/plain": [
       "<Figure size 1440x576 with 1 Axes>"
      ]
     },
     "metadata": {},
     "output_type": "display_data"
    }
   ],
   "source": [
    "# create visualization for relationchip between age and serious delinquency\n",
    "plt.title(\"People with Serious Delinquency are Younger\")\n",
    "sns.boxplot(data = train, x = 'serious_delinquency', y = 'age')\n",
    "plt.show()"
   ]
  },
  {
   "cell_type": "code",
   "execution_count": 27,
   "id": "bb688e40-1a35-4567-a408-e9212ae1415f",
   "metadata": {},
   "outputs": [
    {
     "data": {
      "text/html": [
       "<div>\n",
       "<style scoped>\n",
       "    .dataframe tbody tr th:only-of-type {\n",
       "        vertical-align: middle;\n",
       "    }\n",
       "\n",
       "    .dataframe tbody tr th {\n",
       "        vertical-align: top;\n",
       "    }\n",
       "\n",
       "    .dataframe thead th {\n",
       "        text-align: right;\n",
       "    }\n",
       "</style>\n",
       "<table border=\"1\" class=\"dataframe\">\n",
       "  <thead>\n",
       "    <tr style=\"text-align: right;\">\n",
       "      <th></th>\n",
       "      <th>min</th>\n",
       "      <th>mean</th>\n",
       "      <th>max</th>\n",
       "    </tr>\n",
       "    <tr>\n",
       "      <th>serious_delinquency</th>\n",
       "      <th></th>\n",
       "      <th></th>\n",
       "      <th></th>\n",
       "    </tr>\n",
       "  </thead>\n",
       "  <tbody>\n",
       "    <tr>\n",
       "      <th>0</th>\n",
       "      <td>0</td>\n",
       "      <td>51.727656</td>\n",
       "      <td>102</td>\n",
       "    </tr>\n",
       "    <tr>\n",
       "      <th>1</th>\n",
       "      <td>21</td>\n",
       "      <td>45.796336</td>\n",
       "      <td>93</td>\n",
       "    </tr>\n",
       "  </tbody>\n",
       "</table>\n",
       "</div>"
      ],
      "text/plain": [
       "                     min       mean  max\n",
       "serious_delinquency                     \n",
       "0                      0  51.727656  102\n",
       "1                     21  45.796336   93"
      ]
     },
     "execution_count": 27,
     "metadata": {},
     "output_type": "execute_result"
    }
   ],
   "source": [
    "train.groupby(['serious_delinquency']).age.agg(['min', 'mean', 'max'])"
   ]
  },
  {
   "cell_type": "code",
   "execution_count": 28,
   "id": "cf574340-d2f6-4a98-9d63-727746ddf070",
   "metadata": {},
   "outputs": [
    {
     "data": {
      "text/plain": [
       "Text(0.5, 1.0, 'Serious Delinquency')"
      ]
     },
     "execution_count": 28,
     "metadata": {},
     "output_type": "execute_result"
    },
    {
     "data": {
      "image/png": "[encoded data removed]",
      "text/plain": [
       "<Figure size 1440x576 with 2 Axes>"
      ]
     },
     "metadata": {},
     "output_type": "display_data"
    }
   ],
   "source": [
    "# another way to look at it\n",
    "ax = train['age'].hist(by=train['serious_delinquency'], bins = 20, layout=(2,1))\n",
    "ax[0].set_xlim((0,100))\n",
    "ax[0].set_title('No Serious Delinquency')\n",
    "ax[1].set_xlim((0,100))\n",
    "ax[1].set_title('Serious Delinquency')\n"
   ]
  },
  {
   "cell_type": "markdown",
   "id": "4c10970d-cc71-413f-b329-a021d41152c0",
   "metadata": {},
   "source": [
    "### B. Form a Hypothesis\n",
    "H0: Churn is independent of internet service type.\n",
    "Ha: Churn is not independent of internet service type."
   ]
  },
  {
   "cell_type": "markdown",
   "id": "5865ab21-3c64-4b7c-a58c-83fa724c053a",
   "metadata": {},
   "source": [
    "### C. Select Appropriate Test\n",
    "CHI^2 - 2 Categorical Variables"
   ]
  },
  {
   "cell_type": "code",
   "execution_count": 29,
   "id": "0b0ac8a9-f299-4459-bf53-80c9971e93f0",
   "metadata": {},
   "outputs": [
    {
     "data": {
      "text/html": [
       "<div>\n",
       "<style scoped>\n",
       "    .dataframe tbody tr th:only-of-type {\n",
       "        vertical-align: middle;\n",
       "    }\n",
       "\n",
       "    .dataframe tbody tr th {\n",
       "        vertical-align: top;\n",
       "    }\n",
       "\n",
       "    .dataframe thead th {\n",
       "        text-align: right;\n",
       "    }\n",
       "</style>\n",
       "<table border=\"1\" class=\"dataframe\">\n",
       "  <thead>\n",
       "    <tr style=\"text-align: right;\">\n",
       "      <th>age</th>\n",
       "      <th>0</th>\n",
       "      <th>21</th>\n",
       "      <th>22</th>\n",
       "      <th>23</th>\n",
       "      <th>24</th>\n",
       "      <th>25</th>\n",
       "      <th>26</th>\n",
       "      <th>27</th>\n",
       "      <th>28</th>\n",
       "      <th>29</th>\n",
       "      <th>30</th>\n",
       "      <th>31</th>\n",
       "      <th>32</th>\n",
       "      <th>33</th>\n",
       "      <th>34</th>\n",
       "      <th>35</th>\n",
       "      <th>36</th>\n",
       "      <th>37</th>\n",
       "      <th>38</th>\n",
       "      <th>39</th>\n",
       "      <th>40</th>\n",
       "      <th>41</th>\n",
       "      <th>42</th>\n",
       "      <th>43</th>\n",
       "      <th>44</th>\n",
       "      <th>45</th>\n",
       "      <th>46</th>\n",
       "      <th>47</th>\n",
       "      <th>48</th>\n",
       "      <th>49</th>\n",
       "      <th>50</th>\n",
       "      <th>51</th>\n",
       "      <th>52</th>\n",
       "      <th>53</th>\n",
       "      <th>54</th>\n",
       "      <th>55</th>\n",
       "      <th>56</th>\n",
       "      <th>57</th>\n",
       "      <th>58</th>\n",
       "      <th>59</th>\n",
       "      <th>60</th>\n",
       "      <th>61</th>\n",
       "      <th>62</th>\n",
       "      <th>63</th>\n",
       "      <th>64</th>\n",
       "      <th>65</th>\n",
       "      <th>66</th>\n",
       "      <th>67</th>\n",
       "      <th>68</th>\n",
       "      <th>69</th>\n",
       "      <th>70</th>\n",
       "      <th>71</th>\n",
       "      <th>72</th>\n",
       "      <th>73</th>\n",
       "      <th>74</th>\n",
       "      <th>75</th>\n",
       "      <th>76</th>\n",
       "      <th>77</th>\n",
       "      <th>78</th>\n",
       "      <th>79</th>\n",
       "      <th>80</th>\n",
       "      <th>81</th>\n",
       "      <th>82</th>\n",
       "      <th>83</th>\n",
       "      <th>84</th>\n",
       "      <th>85</th>\n",
       "      <th>86</th>\n",
       "      <th>87</th>\n",
       "      <th>88</th>\n",
       "      <th>89</th>\n",
       "      <th>90</th>\n",
       "      <th>91</th>\n",
       "      <th>92</th>\n",
       "      <th>93</th>\n",
       "      <th>94</th>\n",
       "      <th>95</th>\n",
       "      <th>96</th>\n",
       "      <th>97</th>\n",
       "      <th>98</th>\n",
       "      <th>101</th>\n",
       "      <th>102</th>\n",
       "    </tr>\n",
       "    <tr>\n",
       "      <th>serious_delinquency</th>\n",
       "      <th></th>\n",
       "      <th></th>\n",
       "      <th></th>\n",
       "      <th></th>\n",
       "      <th></th>\n",
       "      <th></th>\n",
       "      <th></th>\n",
       "      <th></th>\n",
       "      <th></th>\n",
       "      <th></th>\n",
       "      <th></th>\n",
       "      <th></th>\n",
       "      <th></th>\n",
       "      <th></th>\n",
       "      <th></th>\n",
       "      <th></th>\n",
       "      <th></th>\n",
       "      <th></th>\n",
       "      <th></th>\n",
       "      <th></th>\n",
       "      <th></th>\n",
       "      <th></th>\n",
       "      <th></th>\n",
       "      <th></th>\n",
       "      <th></th>\n",
       "      <th></th>\n",
       "      <th></th>\n",
       "      <th></th>\n",
       "      <th></th>\n",
       "      <th></th>\n",
       "      <th></th>\n",
       "      <th></th>\n",
       "      <th></th>\n",
       "      <th></th>\n",
       "      <th></th>\n",
       "      <th></th>\n",
       "      <th></th>\n",
       "      <th></th>\n",
       "      <th></th>\n",
       "      <th></th>\n",
       "      <th></th>\n",
       "      <th></th>\n",
       "      <th></th>\n",
       "      <th></th>\n",
       "      <th></th>\n",
       "      <th></th>\n",
       "      <th></th>\n",
       "      <th></th>\n",
       "      <th></th>\n",
       "      <th></th>\n",
       "      <th></th>\n",
       "      <th></th>\n",
       "      <th></th>\n",
       "      <th></th>\n",
       "      <th></th>\n",
       "      <th></th>\n",
       "      <th></th>\n",
       "      <th></th>\n",
       "      <th></th>\n",
       "      <th></th>\n",
       "      <th></th>\n",
       "      <th></th>\n",
       "      <th></th>\n",
       "      <th></th>\n",
       "      <th></th>\n",
       "      <th></th>\n",
       "      <th></th>\n",
       "      <th></th>\n",
       "      <th></th>\n",
       "      <th></th>\n",
       "      <th></th>\n",
       "      <th></th>\n",
       "      <th></th>\n",
       "      <th></th>\n",
       "      <th></th>\n",
       "      <th></th>\n",
       "      <th></th>\n",
       "      <th></th>\n",
       "      <th></th>\n",
       "      <th></th>\n",
       "      <th></th>\n",
       "    </tr>\n",
       "  </thead>\n",
       "  <tbody>\n",
       "    <tr>\n",
       "      <th>0</th>\n",
       "      <td>1</td>\n",
       "      <td>84</td>\n",
       "      <td>187</td>\n",
       "      <td>263</td>\n",
       "      <td>335</td>\n",
       "      <td>418</td>\n",
       "      <td>515</td>\n",
       "      <td>545</td>\n",
       "      <td>643</td>\n",
       "      <td>743</td>\n",
       "      <td>835</td>\n",
       "      <td>905</td>\n",
       "      <td>910</td>\n",
       "      <td>973</td>\n",
       "      <td>917</td>\n",
       "      <td>954</td>\n",
       "      <td>1022</td>\n",
       "      <td>1106</td>\n",
       "      <td>1169</td>\n",
       "      <td>1286</td>\n",
       "      <td>1357</td>\n",
       "      <td>1356</td>\n",
       "      <td>1344</td>\n",
       "      <td>1433</td>\n",
       "      <td>1470</td>\n",
       "      <td>1548</td>\n",
       "      <td>1540</td>\n",
       "      <td>1594</td>\n",
       "      <td>1629</td>\n",
       "      <td>1603</td>\n",
       "      <td>1600</td>\n",
       "      <td>1488</td>\n",
       "      <td>1510</td>\n",
       "      <td>1561</td>\n",
       "      <td>1471</td>\n",
       "      <td>1436</td>\n",
       "      <td>1465</td>\n",
       "      <td>1412</td>\n",
       "      <td>1450</td>\n",
       "      <td>1395</td>\n",
       "      <td>1332</td>\n",
       "      <td>1473</td>\n",
       "      <td>1452</td>\n",
       "      <td>1522</td>\n",
       "      <td>1225</td>\n",
       "      <td>1032</td>\n",
       "      <td>1030</td>\n",
       "      <td>962</td>\n",
       "      <td>878</td>\n",
       "      <td>783</td>\n",
       "      <td>721</td>\n",
       "      <td>691</td>\n",
       "      <td>671</td>\n",
       "      <td>586</td>\n",
       "      <td>564</td>\n",
       "      <td>462</td>\n",
       "      <td>467</td>\n",
       "      <td>433</td>\n",
       "      <td>423</td>\n",
       "      <td>388</td>\n",
       "      <td>355</td>\n",
       "      <td>299</td>\n",
       "      <td>268</td>\n",
       "      <td>167</td>\n",
       "      <td>169</td>\n",
       "      <td>163</td>\n",
       "      <td>134</td>\n",
       "      <td>122</td>\n",
       "      <td>108</td>\n",
       "      <td>95</td>\n",
       "      <td>73</td>\n",
       "      <td>43</td>\n",
       "      <td>28</td>\n",
       "      <td>30</td>\n",
       "      <td>11</td>\n",
       "      <td>11</td>\n",
       "      <td>2</td>\n",
       "      <td>6</td>\n",
       "      <td>2</td>\n",
       "      <td>1</td>\n",
       "      <td>1</td>\n",
       "    </tr>\n",
       "    <tr>\n",
       "      <th>1</th>\n",
       "      <td>0</td>\n",
       "      <td>5</td>\n",
       "      <td>13</td>\n",
       "      <td>34</td>\n",
       "      <td>37</td>\n",
       "      <td>49</td>\n",
       "      <td>69</td>\n",
       "      <td>75</td>\n",
       "      <td>88</td>\n",
       "      <td>95</td>\n",
       "      <td>84</td>\n",
       "      <td>98</td>\n",
       "      <td>108</td>\n",
       "      <td>142</td>\n",
       "      <td>98</td>\n",
       "      <td>127</td>\n",
       "      <td>126</td>\n",
       "      <td>110</td>\n",
       "      <td>95</td>\n",
       "      <td>137</td>\n",
       "      <td>123</td>\n",
       "      <td>148</td>\n",
       "      <td>139</td>\n",
       "      <td>138</td>\n",
       "      <td>127</td>\n",
       "      <td>125</td>\n",
       "      <td>150</td>\n",
       "      <td>136</td>\n",
       "      <td>131</td>\n",
       "      <td>152</td>\n",
       "      <td>130</td>\n",
       "      <td>123</td>\n",
       "      <td>125</td>\n",
       "      <td>119</td>\n",
       "      <td>108</td>\n",
       "      <td>83</td>\n",
       "      <td>101</td>\n",
       "      <td>94</td>\n",
       "      <td>80</td>\n",
       "      <td>86</td>\n",
       "      <td>76</td>\n",
       "      <td>77</td>\n",
       "      <td>72</td>\n",
       "      <td>63</td>\n",
       "      <td>43</td>\n",
       "      <td>44</td>\n",
       "      <td>44</td>\n",
       "      <td>38</td>\n",
       "      <td>18</td>\n",
       "      <td>14</td>\n",
       "      <td>21</td>\n",
       "      <td>22</td>\n",
       "      <td>22</td>\n",
       "      <td>20</td>\n",
       "      <td>23</td>\n",
       "      <td>7</td>\n",
       "      <td>10</td>\n",
       "      <td>10</td>\n",
       "      <td>10</td>\n",
       "      <td>10</td>\n",
       "      <td>7</td>\n",
       "      <td>3</td>\n",
       "      <td>6</td>\n",
       "      <td>2</td>\n",
       "      <td>3</td>\n",
       "      <td>3</td>\n",
       "      <td>3</td>\n",
       "      <td>4</td>\n",
       "      <td>4</td>\n",
       "      <td>4</td>\n",
       "      <td>0</td>\n",
       "      <td>2</td>\n",
       "      <td>0</td>\n",
       "      <td>1</td>\n",
       "      <td>0</td>\n",
       "      <td>0</td>\n",
       "      <td>0</td>\n",
       "      <td>0</td>\n",
       "      <td>0</td>\n",
       "      <td>0</td>\n",
       "      <td>0</td>\n",
       "    </tr>\n",
       "  </tbody>\n",
       "</table>\n",
       "</div>"
      ],
      "text/plain": [
       "age                  0    21   22   23   24   25   26   27   28   29   30   \\\n",
       "serious_delinquency                                                          \n",
       "0                      1   84  187  263  335  418  515  545  643  743  835   \n",
       "1                      0    5   13   34   37   49   69   75   88   95   84   \n",
       "\n",
       "age                  31   32   33   34   35    36    37    38    39    40   \\\n",
       "serious_delinquency                                                          \n",
       "0                    905  910  973  917  954  1022  1106  1169  1286  1357   \n",
       "1                     98  108  142   98  127   126   110    95   137   123   \n",
       "\n",
       "age                   41    42    43    44    45    46    47    48    49   \\\n",
       "serious_delinquency                                                         \n",
       "0                    1356  1344  1433  1470  1548  1540  1594  1629  1603   \n",
       "1                     148   139   138   127   125   150   136   131   152   \n",
       "\n",
       "age                   50    51    52    53    54    55    56    57    58   \\\n",
       "serious_delinquency                                                         \n",
       "0                    1600  1488  1510  1561  1471  1436  1465  1412  1450   \n",
       "1                     130   123   125   119   108    83   101    94    80   \n",
       "\n",
       "age                   59    60    61    62    63    64    65    66   67   68   \\\n",
       "serious_delinquency                                                             \n",
       "0                    1395  1332  1473  1452  1522  1225  1032  1030  962  878   \n",
       "1                      86    76    77    72    63    43    44    44   38   18   \n",
       "\n",
       "age                  69   70   71   72   73   74   75   76   77   78   79   \\\n",
       "serious_delinquency                                                          \n",
       "0                    783  721  691  671  586  564  462  467  433  423  388   \n",
       "1                     14   21   22   22   20   23    7   10   10   10   10   \n",
       "\n",
       "age                  80   81   82   83   84   85   86   87   88   89   90   \\\n",
       "serious_delinquency                                                          \n",
       "0                    355  299  268  167  169  163  134  122  108   95   73   \n",
       "1                      7    3    6    2    3    3    3    4    4    4    0   \n",
       "\n",
       "age                  91   92   93   94   95   96   97   98   101  102  \n",
       "serious_delinquency                                                    \n",
       "0                     43   28   30   11   11    2    6    2    1    1  \n",
       "1                      2    0    1    0    0    0    0    0    0    0  "
      ]
     },
     "execution_count": 29,
     "metadata": {},
     "output_type": "execute_result"
    }
   ],
   "source": [
    "observed = pd.crosstab(train.serious_delinquency, train.age)\n",
    "observed"
   ]
  },
  {
   "cell_type": "markdown",
   "id": "e632208c-ba58-48d1-8c12-a55a9c201be7",
   "metadata": {},
   "source": [
    "### D. Set a Significance Level (Alpha)\n"
   ]
  },
  {
   "cell_type": "code",
   "execution_count": 30,
   "id": "e866b143-1f28-4aba-9812-aa672121f5e0",
   "metadata": {},
   "outputs": [],
   "source": [
    "alpha= 0.05"
   ]
  },
  {
   "cell_type": "markdown",
   "id": "2f1f3f94-3ab7-41c1-8ce1-5ec8f93c7e76",
   "metadata": {},
   "source": [
    "### E. Assumptions for CHI^2"
   ]
  },
  {
   "cell_type": "code",
   "execution_count": null,
   "id": "a77e284e-963d-41c9-be6e-e23cee19b51c",
   "metadata": {},
   "outputs": [],
   "source": []
  },
  {
   "cell_type": "markdown",
   "id": "8c3ee74d-55d9-46f9-b981-aa556aa0f73f",
   "metadata": {
    "tags": []
   },
   "source": [
    "### ANSWER:\n",
    "- Those with serious delinquency are 6 years younger than those without serious delinquency, at 45.8 years old. "
   ]
  },
  {
   "cell_type": "markdown",
   "id": "efe8a9f7-b914-44b6-90af-b9a0e9cda703",
   "metadata": {},
   "source": [
    "----"
   ]
  },
  {
   "cell_type": "markdown",
   "id": "d94b7ab3-41e7-4dfe-8ae7-f3a218075991",
   "metadata": {
    "tags": []
   },
   "source": [
    "### QUESTION"
   ]
  },
  {
   "cell_type": "markdown",
   "id": "209d03b0-b030-4c7a-a8ab-181ce2a970be",
   "metadata": {},
   "source": [
    "What is the relationship between number of dependents and serious delinquency?"
   ]
  },
  {
   "cell_type": "code",
   "execution_count": 31,
   "id": "ef08fd93-cf17-4ddc-a678-0f75febc7d39",
   "metadata": {},
   "outputs": [
    {
     "data": {
      "image/png": "[encoded data removed]",
      "text/plain": [
       "<Figure size 1440x576 with 1 Axes>"
      ]
     },
     "metadata": {},
     "output_type": "display_data"
    }
   ],
   "source": [
    "# create visualization for relationchip between number of dependents and serious delinquency\n",
    "plt.title(\"People with Serious Delinquency Have More Dependents on Average\")\n",
    "ax=sns.boxplot(data = train, x = 'serious_delinquency', y = 'quantity_dependents')\n",
    "ax.set_ylim(0, 6)\n",
    "plt.show()"
   ]
  },
  {
   "cell_type": "code",
   "execution_count": 32,
   "id": "f8730bc2-7218-4a65-8891-23db5918ab35",
   "metadata": {},
   "outputs": [
    {
     "data": {
      "text/html": [
       "<div>\n",
       "<style scoped>\n",
       "    .dataframe tbody tr th:only-of-type {\n",
       "        vertical-align: middle;\n",
       "    }\n",
       "\n",
       "    .dataframe tbody tr th {\n",
       "        vertical-align: top;\n",
       "    }\n",
       "\n",
       "    .dataframe thead th {\n",
       "        text-align: right;\n",
       "    }\n",
       "</style>\n",
       "<table border=\"1\" class=\"dataframe\">\n",
       "  <thead>\n",
       "    <tr style=\"text-align: right;\">\n",
       "      <th></th>\n",
       "      <th>min</th>\n",
       "      <th>mean</th>\n",
       "      <th>max</th>\n",
       "    </tr>\n",
       "    <tr>\n",
       "      <th>serious_delinquency</th>\n",
       "      <th></th>\n",
       "      <th></th>\n",
       "      <th></th>\n",
       "    </tr>\n",
       "  </thead>\n",
       "  <tbody>\n",
       "    <tr>\n",
       "      <th>0</th>\n",
       "      <td>0.0</td>\n",
       "      <td>0.834046</td>\n",
       "      <td>20.0</td>\n",
       "    </tr>\n",
       "    <tr>\n",
       "      <th>1</th>\n",
       "      <td>0.0</td>\n",
       "      <td>1.033660</td>\n",
       "      <td>8.0</td>\n",
       "    </tr>\n",
       "  </tbody>\n",
       "</table>\n",
       "</div>"
      ],
      "text/plain": [
       "                     min      mean   max\n",
       "serious_delinquency                     \n",
       "0                    0.0  0.834046  20.0\n",
       "1                    0.0  1.033660   8.0"
      ]
     },
     "execution_count": 32,
     "metadata": {},
     "output_type": "execute_result"
    }
   ],
   "source": [
    "train.groupby(['serious_delinquency']).quantity_dependents.agg(['min', 'mean', 'max'])"
   ]
  },
  {
   "cell_type": "markdown",
   "id": "0ba7c701-58e0-46f6-9f10-77c221ab0d35",
   "metadata": {
    "tags": []
   },
   "source": [
    "### ANSWER:\n",
    "- Those with serious delinquency have 1 or more dependents on average, 1 more than those without serious delinquency, who have fewer than 1 depedent on average.  "
   ]
  },
  {
   "cell_type": "markdown",
   "id": "feaef598-85a9-4902-b5a6-83253111ba6b",
   "metadata": {
    "tags": []
   },
   "source": [
    "### QUESTION"
   ]
  },
  {
   "cell_type": "markdown",
   "id": "af3f338e-126c-4d6d-9a60-5668c3542f0d",
   "metadata": {},
   "source": [
    "What is the relationship between monthly income and serious delinquency?"
   ]
  },
  {
   "cell_type": "code",
   "execution_count": 33,
   "id": "97f29dbc-640e-44ba-9b76-25646e48ee24",
   "metadata": {},
   "outputs": [],
   "source": [
    "# subset the data into no serious delinquency and serious delinquency\n",
    "no_serious_delinquency = train[train.serious_delinquency == 0]\n",
    "serious_delinquency = train[train.serious_delinquency == 1]"
   ]
  },
  {
   "cell_type": "code",
   "execution_count": 34,
   "id": "ec061937-92aa-46d1-ba4a-8cd20909e9d3",
   "metadata": {},
   "outputs": [
    {
     "data": {
      "image/png": "[encoded data removed]",
      "text/plain": [
       "<Figure size 1440x576 with 1 Axes>"
      ]
     },
     "metadata": {},
     "output_type": "display_data"
    }
   ],
   "source": [
    "plt.title(\"People with serious delinquency have lower monthly income.\")\n",
    "sns.barplot(data = train, y = 'monthly_income', x = 'serious_delinquency')\n",
    "plt.show()"
   ]
  },
  {
   "cell_type": "code",
   "execution_count": 35,
   "id": "2597d0c1-be85-4bbe-b614-6857b12c1c89",
   "metadata": {},
   "outputs": [
    {
     "data": {
      "text/html": [
       "<div>\n",
       "<style scoped>\n",
       "    .dataframe tbody tr th:only-of-type {\n",
       "        vertical-align: middle;\n",
       "    }\n",
       "\n",
       "    .dataframe tbody tr th {\n",
       "        vertical-align: top;\n",
       "    }\n",
       "\n",
       "    .dataframe thead th {\n",
       "        text-align: right;\n",
       "    }\n",
       "</style>\n",
       "<table border=\"1\" class=\"dataframe\">\n",
       "  <thead>\n",
       "    <tr style=\"text-align: right;\">\n",
       "      <th></th>\n",
       "      <th>min</th>\n",
       "      <th>mean</th>\n",
       "      <th>max</th>\n",
       "    </tr>\n",
       "    <tr>\n",
       "      <th>serious_delinquency</th>\n",
       "      <th></th>\n",
       "      <th></th>\n",
       "      <th></th>\n",
       "    </tr>\n",
       "  </thead>\n",
       "  <tbody>\n",
       "    <tr>\n",
       "      <th>0</th>\n",
       "      <td>0.0</td>\n",
       "      <td>6714.347740</td>\n",
       "      <td>1794060.0</td>\n",
       "    </tr>\n",
       "    <tr>\n",
       "      <th>1</th>\n",
       "      <td>0.0</td>\n",
       "      <td>5621.177461</td>\n",
       "      <td>234600.0</td>\n",
       "    </tr>\n",
       "  </tbody>\n",
       "</table>\n",
       "</div>"
      ],
      "text/plain": [
       "                     min         mean        max\n",
       "serious_delinquency                             \n",
       "0                    0.0  6714.347740  1794060.0\n",
       "1                    0.0  5621.177461   234600.0"
      ]
     },
     "execution_count": 35,
     "metadata": {},
     "output_type": "execute_result"
    }
   ],
   "source": [
    "train.groupby(['serious_delinquency']).monthly_income.agg(['min', 'mean', 'max'])"
   ]
  },
  {
   "cell_type": "markdown",
   "id": "604262f5-b0c3-48ff-ba02-23c88d42067c",
   "metadata": {
    "tags": []
   },
   "source": [
    "### ANSWER:\n",
    "- Those with serious delinquency make \\\\$5600 per month on average, \\\\$1100 less than those without serious delinquency who make \\\\$6700 per month on average."
   ]
  },
  {
   "cell_type": "markdown",
   "id": "2975cf5e-c652-4f3d-b4f1-01672dd253f0",
   "metadata": {
    "tags": []
   },
   "source": [
    "### QUESTION"
   ]
  },
  {
   "cell_type": "markdown",
   "id": "7756d8c8-e5d8-47a7-a187-b12ef3c427d2",
   "metadata": {},
   "source": [
    "What is the relationship between debt to income ratio and serious delinquency?"
   ]
  },
  {
   "cell_type": "code",
   "execution_count": 36,
   "id": "1f889799-c500-4ffe-a321-c0b9d9b633c1",
   "metadata": {},
   "outputs": [
    {
     "data": {
      "image/png": "[encoded data removed]",
      "text/plain": [
       "<Figure size 1440x576 with 1 Axes>"
      ]
     },
     "metadata": {},
     "output_type": "display_data"
    }
   ],
   "source": [
    "plt.title(\"People with serious delinquency have lower debt to income ratio.\")\n",
    "ax=sns.barplot(data = train, y = 'debt_to_income_ratio', x = 'serious_delinquency')\n",
    "#make y-axis percentage\n",
    "#ax.yaxis.set_major_formatter(StrMethodFormatter('{x:.0%}'))\n",
    "plt.show()"
   ]
  },
  {
   "cell_type": "code",
   "execution_count": 37,
   "id": "62daddde-ed64-48bb-ad13-24390a56a240",
   "metadata": {},
   "outputs": [
    {
     "data": {
      "text/html": [
       "<div>\n",
       "<style scoped>\n",
       "    .dataframe tbody tr th:only-of-type {\n",
       "        vertical-align: middle;\n",
       "    }\n",
       "\n",
       "    .dataframe tbody tr th {\n",
       "        vertical-align: top;\n",
       "    }\n",
       "\n",
       "    .dataframe thead th {\n",
       "        text-align: right;\n",
       "    }\n",
       "</style>\n",
       "<table border=\"1\" class=\"dataframe\">\n",
       "  <thead>\n",
       "    <tr style=\"text-align: right;\">\n",
       "      <th></th>\n",
       "      <th>min</th>\n",
       "      <th>mean</th>\n",
       "      <th>max</th>\n",
       "    </tr>\n",
       "    <tr>\n",
       "      <th>serious_delinquency</th>\n",
       "      <th></th>\n",
       "      <th></th>\n",
       "      <th></th>\n",
       "    </tr>\n",
       "  </thead>\n",
       "  <tbody>\n",
       "    <tr>\n",
       "      <th>0</th>\n",
       "      <td>0.0</td>\n",
       "      <td>28.757354</td>\n",
       "      <td>61106.5</td>\n",
       "    </tr>\n",
       "    <tr>\n",
       "      <th>1</th>\n",
       "      <td>0.0</td>\n",
       "      <td>16.358447</td>\n",
       "      <td>8901.0</td>\n",
       "    </tr>\n",
       "  </tbody>\n",
       "</table>\n",
       "</div>"
      ],
      "text/plain": [
       "                     min       mean      max\n",
       "serious_delinquency                         \n",
       "0                    0.0  28.757354  61106.5\n",
       "1                    0.0  16.358447   8901.0"
      ]
     },
     "execution_count": 37,
     "metadata": {},
     "output_type": "execute_result"
    }
   ],
   "source": [
    "# single category, multiple aggregates\n",
    "train.groupby(['serious_delinquency']).debt_to_income_ratio.agg(['min', 'mean', 'max'])"
   ]
  },
  {
   "cell_type": "markdown",
   "id": "0d51ebf5-c111-4514-87f3-b25343750a47",
   "metadata": {
    "tags": []
   },
   "source": [
    "### ANSWER:\n",
    "- Those with serious delinquency have a 16% debt to income ratio, which is 12% lower than those without serious delinquency, who have a 29% debt to income ratio on average. "
   ]
  },
  {
   "cell_type": "markdown",
   "id": "a688218f-d8b9-4f6f-9e0b-210bffac46ec",
   "metadata": {},
   "source": [
    "### EXPLORE - Multivariate"
   ]
  },
  {
   "cell_type": "markdown",
   "id": "53cfaf4f-1f88-4d5a-8072-d2ba2df68a5e",
   "metadata": {},
   "source": [
    "1. How is monthly income related to serious_delinquency."
   ]
  },
  {
   "cell_type": "markdown",
   "id": "1ce5d7ed-3528-4358-9ed9-5626f8f06713",
   "metadata": {},
   "source": [
    "### EXPLORATION SUMMARY"
   ]
  },
  {
   "cell_type": "markdown",
   "id": "2990d15a-9bc9-4d86-90fa-d6f1a6126a5e",
   "metadata": {},
   "source": [
    "Through exploration, we could see people with serious delinquency have \n",
    "- less monthly income\n",
    "- more dependents\n",
    "- lower debt to income ratio"
   ]
  },
  {
   "cell_type": "code",
   "execution_count": null,
   "id": "799df0f4-dfd6-46eb-9dcb-38718a5e9fec",
   "metadata": {},
   "outputs": [],
   "source": []
  },
  {
   "cell_type": "markdown",
   "id": "a6a766ab-e7cf-4c61-81a5-75f613fd7504",
   "metadata": {},
   "source": [
    "==================================================================================================================================="
   ]
  },
  {
   "cell_type": "markdown",
   "id": "029a5287-2ab3-407d-bd77-de9b79c6d2a9",
   "metadata": {},
   "source": [
    "## IV. MODEL"
   ]
  },
  {
   "cell_type": "markdown",
   "id": "155987c4-9387-4a82-ace4-172e0dfb7a13",
   "metadata": {},
   "source": [
    "The goal is to create a robust and generalizable model that is a mapping between features and a target outcome."
   ]
  },
  {
   "cell_type": "markdown",
   "id": "ad7eccba-1b8e-48c7-b079-373978b9cda7",
   "metadata": {},
   "source": [
    "## EVALUATION METRIX"
   ]
  },
  {
   "cell_type": "code",
   "execution_count": 38,
   "id": "292bc237-bb94-4894-a2e8-34f7c4f1b2c1",
   "metadata": {},
   "outputs": [
    {
     "name": "stdout",
     "output_type": "stream",
     "text": [
      "<class 'pandas.core.frame.DataFrame'>\n",
      "Int64Index: 67350 entries, 21945 to 146361\n",
      "Data columns (total 11 columns):\n",
      " #   Column                      Non-Null Count  Dtype  \n",
      "---  ------                      --------------  -----  \n",
      " 0   serious_delinquency         67350 non-null  int64  \n",
      " 1   revolv_unsec_utilization    67350 non-null  float64\n",
      " 2   age                         67350 non-null  int64  \n",
      " 3   quantity_30_59_pd           67350 non-null  int64  \n",
      " 4   debt_to_income_ratio        67350 non-null  float64\n",
      " 5   monthly_income              67350 non-null  float64\n",
      " 6   quantity_loans_and_lines    67350 non-null  int64  \n",
      " 7   quantity_90_days_pd         67350 non-null  int64  \n",
      " 8   quantity_real_estate_loans  67350 non-null  int64  \n",
      " 9   quantity_60_89_days_pd      67350 non-null  int64  \n",
      " 10  quantity_dependents         67350 non-null  float64\n",
      "dtypes: float64(4), int64(7)\n",
      "memory usage: 8.2 MB\n"
     ]
    }
   ],
   "source": [
    "train.info()"
   ]
  },
  {
   "cell_type": "markdown",
   "id": "f3ecd765-d992-47eb-940e-e246e5d7f06a",
   "metadata": {},
   "source": [
    "Because serious delinquency is a yes or no (boolean) value, classification machine learning algorithms were used to fit to the training data and the models were evaluated on validate data. The best model was selected using accuracy, because the data is mostly balanced, and the risk of an event happening balances the risk of getting a prediction wrong. In other words, the model was optimized for identifying true positives (actual delinquency when predicted), and true negatives (no serious delinquency when predicted), while minimizing false positive and false negatives."
   ]
  },
  {
   "cell_type": "markdown",
   "id": "94e86c50-30c4-455d-8142-8d8f2c4e6af2",
   "metadata": {
    "tags": []
   },
   "source": [
    "### MODEL - SCALE"
   ]
  },
  {
   "cell_type": "markdown",
   "id": "9c9d2096-77d3-4f50-be5f-4e2a8e35c03a",
   "metadata": {},
   "source": [
    "### Set X & y"
   ]
  },
  {
   "cell_type": "code",
   "execution_count": 39,
   "id": "9dcf9c1f-87bc-4a75-b25d-96612fdaf017",
   "metadata": {},
   "outputs": [],
   "source": [
    "# create X & y version of train, where y is a series with just the target variable and X are all the features. \n",
    "X_train = train.drop(columns=['serious_delinquency','quantity_90_days_pd'])\n",
    "y_train = train.serious_delinquency\n",
    "\n",
    "X_validate = validate.drop(columns=['serious_delinquency', 'quantity_90_days_pd'])\n",
    "y_validate = validate.serious_delinquency\n",
    "\n",
    "X_test = test.drop(columns=['serious_delinquency', 'quantity_90_days_pd'])\n",
    "y_test = test.serious_delinquency"
   ]
  },
  {
   "cell_type": "markdown",
   "id": "fcf44265-394e-40d7-aa02-f2fda712f0cd",
   "metadata": {},
   "source": [
    "### Set Baseline"
   ]
  },
  {
   "cell_type": "code",
   "execution_count": 40,
   "id": "60fed068-a5c9-4b6d-894a-5c142b89ee23",
   "metadata": {},
   "outputs": [
    {
     "name": "stdout",
     "output_type": "stream",
     "text": [
      "Baseline Accuracy: 93.03%\n"
     ]
    }
   ],
   "source": [
    "# Obtain the mode for the target\n",
    "baseline = y_train.mode()\n",
    "\n",
    "# produce boolean array with True assigned to match the baseline prediction and real data. \n",
    "matches_baseline_prediction = (y_train == 0)\n",
    "\n",
    "baseline_accuracy = matches_baseline_prediction.mean()\n",
    "\n",
    "print(f'Baseline Accuracy: {baseline_accuracy:.2%}')"
   ]
  },
  {
   "cell_type": "markdown",
   "id": "b8454a2d-f79b-4900-b66b-866d6f755a01",
   "metadata": {},
   "source": [
    "### MODEL - DECISION TREE"
   ]
  },
  {
   "cell_type": "code",
   "execution_count": 41,
   "id": "81e9474b-b2b5-46f8-a849-7373d98507b7",
   "metadata": {},
   "outputs": [],
   "source": [
    "#Create the object\n",
    "clf1 = DecisionTreeClassifier(max_depth=2, random_state=123)\n",
    "# Fit the model\n",
    "clf1 = clf1.fit(X_train, y_train)"
   ]
  },
  {
   "cell_type": "code",
   "execution_count": 42,
   "id": "abe0470f-9421-498a-9d22-1d60fcc79663",
   "metadata": {},
   "outputs": [
    {
     "data": {
      "text/plain": [
       "[Text(0.5, 0.8333333333333334, 'quantity_60_89_days_pd <= 0.5\\ngini = 0.13\\nsamples = 67350\\nvalue = [62656, 4694]'),\n",
       " Text(0.25, 0.5, 'revolv_unsec_utilization <= 0.699\\ngini = 0.102\\nsamples = 63886\\nvalue = [60440, 3446]'),\n",
       " Text(0.125, 0.16666666666666666, 'gini = 0.059\\nsamples = 52115\\nvalue = [50522, 1593]'),\n",
       " Text(0.375, 0.16666666666666666, 'gini = 0.265\\nsamples = 11771\\nvalue = [9918, 1853]'),\n",
       " Text(0.75, 0.5, 'revolv_unsec_utilization <= 0.74\\ngini = 0.461\\nsamples = 3464\\nvalue = [2216, 1248]'),\n",
       " Text(0.625, 0.16666666666666666, 'gini = 0.366\\nsamples = 1672\\nvalue = [1269, 403]'),\n",
       " Text(0.875, 0.16666666666666666, 'gini = 0.498\\nsamples = 1792\\nvalue = [947, 845]')]"
      ]
     },
     "execution_count": 42,
     "metadata": {},
     "output_type": "execute_result"
    },
    {
     "data": {
      "image/png": "[encoded data removed]",
      "text/plain": [
       "<Figure size 1584x864 with 1 Axes>"
      ]
     },
     "metadata": {},
     "output_type": "display_data"
    }
   ],
   "source": [
    "#Visualize the model\n",
    "plt.figure(figsize=(22, 12))\n",
    "plot_tree(clf1,feature_names=X_train.columns)"
   ]
  },
  {
   "cell_type": "code",
   "execution_count": 43,
   "id": "2807c8f0-d4a9-40a3-95bc-8b3cbc1fcc9c",
   "metadata": {},
   "outputs": [],
   "source": [
    "# make predictions\n",
    "y_pred = clf1.predict(X_train)"
   ]
  },
  {
   "cell_type": "code",
   "execution_count": 44,
   "id": "87218810-d207-482e-bf23-0c1b0cf243e8",
   "metadata": {},
   "outputs": [
    {
     "data": {
      "text/html": [
       "<div>\n",
       "<style scoped>\n",
       "    .dataframe tbody tr th:only-of-type {\n",
       "        vertical-align: middle;\n",
       "    }\n",
       "\n",
       "    .dataframe tbody tr th {\n",
       "        vertical-align: top;\n",
       "    }\n",
       "\n",
       "    .dataframe thead th {\n",
       "        text-align: right;\n",
       "    }\n",
       "</style>\n",
       "<table border=\"1\" class=\"dataframe\">\n",
       "  <thead>\n",
       "    <tr style=\"text-align: right;\">\n",
       "      <th></th>\n",
       "      <th>Not Seriously Delinquent</th>\n",
       "      <th>Seriously Delinquent</th>\n",
       "    </tr>\n",
       "  </thead>\n",
       "  <tbody>\n",
       "    <tr>\n",
       "      <th>0</th>\n",
       "      <td>0.969433</td>\n",
       "      <td>0.030567</td>\n",
       "    </tr>\n",
       "    <tr>\n",
       "      <th>1</th>\n",
       "      <td>0.758971</td>\n",
       "      <td>0.241029</td>\n",
       "    </tr>\n",
       "    <tr>\n",
       "      <th>2</th>\n",
       "      <td>0.969433</td>\n",
       "      <td>0.030567</td>\n",
       "    </tr>\n",
       "    <tr>\n",
       "      <th>3</th>\n",
       "      <td>0.969433</td>\n",
       "      <td>0.030567</td>\n",
       "    </tr>\n",
       "    <tr>\n",
       "      <th>4</th>\n",
       "      <td>0.969433</td>\n",
       "      <td>0.030567</td>\n",
       "    </tr>\n",
       "  </tbody>\n",
       "</table>\n",
       "</div>"
      ],
      "text/plain": [
       "   Not Seriously Delinquent  Seriously Delinquent\n",
       "0                  0.969433              0.030567\n",
       "1                  0.758971              0.241029\n",
       "2                  0.969433              0.030567\n",
       "3                  0.969433              0.030567\n",
       "4                  0.969433              0.030567"
      ]
     },
     "execution_count": 44,
     "metadata": {},
     "output_type": "execute_result"
    }
   ],
   "source": [
    "y_pred_proba = clf1.predict_proba(X_train)\n",
    "pd.DataFrame(y_pred_proba, columns = ['Not Seriously Delinquent', 'Seriously Delinquent']).head()"
   ]
  },
  {
   "cell_type": "markdown",
   "id": "fa5da0a7-e9e0-4d4c-8659-f4ad3d543713",
   "metadata": {},
   "source": [
    "### Evaluate Model"
   ]
  },
  {
   "cell_type": "code",
   "execution_count": 45,
   "id": "3b06b70f-cbd2-4df5-b46f-47ff490bfa69",
   "metadata": {},
   "outputs": [
    {
     "name": "stdout",
     "output_type": "stream",
     "text": [
      "Accuracy of Decision Tree classifier on training set: 0.93\n"
     ]
    }
   ],
   "source": [
    "print('Accuracy of Decision Tree classifier on training set: {:.2f}'\n",
    "      .format(clf1.score(X_train, y_train)))"
   ]
  },
  {
   "cell_type": "markdown",
   "id": "2a57f519-4ca2-4fe9-a276-30cd090f77fb",
   "metadata": {},
   "source": [
    "### Create a Confusion Matrix\n",
    "- True Positive: number of occurrences where serious delinquency is true and serious delinquency is predicted true.\n",
    "- True Negative: number of occurrences where serious delinquency is false and serious delinquency is predicted false.\n",
    "- False Positive: number of occurrences where serious delinquency is false and serious delinquency is predicted true.\n",
    "- False Negative: number of occurrences where serious delinquency is true and serious delinquency is predicted false."
   ]
  },
  {
   "cell_type": "code",
   "execution_count": 46,
   "id": "5246ea90-2b9f-4130-95e5-72efdd34902e",
   "metadata": {},
   "outputs": [
    {
     "data": {
      "text/plain": [
       "array([[62656,     0],\n",
       "       [ 4694,     0]])"
      ]
     },
     "execution_count": 46,
     "metadata": {},
     "output_type": "execute_result"
    }
   ],
   "source": [
    "confusion_matrix(y_train, y_pred)"
   ]
  },
  {
   "cell_type": "code",
   "execution_count": 47,
   "id": "eae0c348-ad61-4fe9-a041-66714c402013",
   "metadata": {},
   "outputs": [
    {
     "data": {
      "text/plain": [
       "0    62656\n",
       "1     4694\n",
       "Name: serious_delinquency, dtype: int64"
      ]
     },
     "execution_count": 47,
     "metadata": {},
     "output_type": "execute_result"
    }
   ],
   "source": [
    "y_train.value_counts()"
   ]
  },
  {
   "cell_type": "code",
   "execution_count": 48,
   "id": "82fd42df-5efa-4a70-bb18-c11757c6a3c7",
   "metadata": {},
   "outputs": [
    {
     "data": {
      "text/html": [
       "<div>\n",
       "<style scoped>\n",
       "    .dataframe tbody tr th:only-of-type {\n",
       "        vertical-align: middle;\n",
       "    }\n",
       "\n",
       "    .dataframe tbody tr th {\n",
       "        vertical-align: top;\n",
       "    }\n",
       "\n",
       "    .dataframe thead th {\n",
       "        text-align: right;\n",
       "    }\n",
       "</style>\n",
       "<table border=\"1\" class=\"dataframe\">\n",
       "  <thead>\n",
       "    <tr style=\"text-align: right;\">\n",
       "      <th></th>\n",
       "      <th>0</th>\n",
       "      <th>1</th>\n",
       "    </tr>\n",
       "  </thead>\n",
       "  <tbody>\n",
       "    <tr>\n",
       "      <th>0</th>\n",
       "      <td>62656</td>\n",
       "      <td>0</td>\n",
       "    </tr>\n",
       "    <tr>\n",
       "      <th>1</th>\n",
       "      <td>4694</td>\n",
       "      <td>0</td>\n",
       "    </tr>\n",
       "  </tbody>\n",
       "</table>\n",
       "</div>"
      ],
      "text/plain": [
       "       0  1\n",
       "0  62656  0\n",
       "1   4694  0"
      ]
     },
     "execution_count": 48,
     "metadata": {},
     "output_type": "execute_result"
    }
   ],
   "source": [
    "labels = sorted(y_train.unique())\n",
    "\n",
    "pd.DataFrame(confusion_matrix(y_train, y_pred), index=labels, columns=labels)"
   ]
  },
  {
   "cell_type": "markdown",
   "id": "6a0c952d-4dcc-427d-9d54-15187d8d5bcb",
   "metadata": {
    "tags": []
   },
   "source": [
    "### Create a Classification Report\n",
    "- Acuracy isn't everything, look at other evaluation metrics, such as recalll and precision."
   ]
  },
  {
   "cell_type": "code",
   "execution_count": 49,
   "id": "d81e07e1-170d-4bf5-9e63-ded4d54334d5",
   "metadata": {},
   "outputs": [
    {
     "name": "stdout",
     "output_type": "stream",
     "text": [
      "              precision    recall  f1-score   support\n",
      "\n",
      "           0       0.93      1.00      0.96     62656\n",
      "           1       0.00      0.00      0.00      4694\n",
      "\n",
      "    accuracy                           0.93     67350\n",
      "   macro avg       0.47      0.50      0.48     67350\n",
      "weighted avg       0.87      0.93      0.90     67350\n",
      "\n"
     ]
    }
   ],
   "source": [
    "print(classification_report(y_train, y_pred))"
   ]
  },
  {
   "cell_type": "markdown",
   "id": "2aab3d36-79d0-4c8e-bcba-81f34769cf3b",
   "metadata": {},
   "source": [
    "### Evaluate the Model with our Validate dataset"
   ]
  },
  {
   "cell_type": "code",
   "execution_count": 50,
   "id": "b103677d-aa25-48d3-8a7f-892a9cf80c2a",
   "metadata": {},
   "outputs": [
    {
     "name": "stdout",
     "output_type": "stream",
     "text": [
      "Accuracy of Decision Tree classifier on validate set: 0.93\n"
     ]
    }
   ],
   "source": [
    "print('Accuracy of Decision Tree classifier on validate set: {:.2f}'\n",
    "     .format(clf1.score(X_validate, y_validate)))"
   ]
  },
  {
   "cell_type": "code",
   "execution_count": 51,
   "id": "6696e2cc-7829-4ed5-b59b-b58b0bb1798e",
   "metadata": {},
   "outputs": [
    {
     "name": "stdout",
     "output_type": "stream",
     "text": [
      "              precision    recall  f1-score   support\n",
      "\n",
      "           0       0.93      1.00      0.96     26836\n",
      "           1       0.00      0.00      0.00      2029\n",
      "\n",
      "    accuracy                           0.93     28865\n",
      "   macro avg       0.46      0.50      0.48     28865\n",
      "weighted avg       0.86      0.93      0.90     28865\n",
      "\n"
     ]
    }
   ],
   "source": [
    "# Produce y_predictions that come from the X_validate\n",
    "y_pred = clf1.predict(X_validate)\n",
    "\n",
    "# Compare actual y values (from validate) to predicted y_values from the model run on X_validate\n",
    "print(classification_report(y_validate, y_pred))"
   ]
  },
  {
   "cell_type": "markdown",
   "id": "5c0c4868-7219-45dd-b18e-a08455de79e2",
   "metadata": {},
   "source": [
    "### Model - RANDOM FOREST"
   ]
  },
  {
   "cell_type": "code",
   "execution_count": null,
   "id": "4b037f63-e30c-4a4c-8e48-132e99d3048f",
   "metadata": {},
   "outputs": [],
   "source": [
    "# Evaluate Random Forest models on train & validate set \n",
    "# by looping through different values for max_depth and min_samples_leaf hyperparameters\n",
    "\n",
    "# create empty list for which to append metrics from each loop\n",
    "scores = []\n",
    "max_value = range(1,21)\n",
    "# create loop for range 1-20\n",
    "for i in max_value:\n",
    "    # set depth & n_samples to value for current loop\n",
    "    depth = i\n",
    "    n_samples = i\n",
    "    # define the model setting hyperparameters to values for current loop\n",
    "    forest = RandomForestClassifier(max_depth=depth, min_samples_leaf=n_samples, random_state=123)\n",
    "    # fit the model on train\n",
    "    forest = forest.fit(X_train, y_train)\n",
    "    # use the model and evaluate performance on train\n",
    "    in_sample_accuracy = forest.score(X_train, y_train)\n",
    "    # use the model and evaluate performance on validate\n",
    "    out_of_sample_accuracy = forest.score(X_validate, y_validate)\n",
    "    # create output of current loop’s hyperparameters and accuracy to append to metrics\n",
    "    output = {\n",
    "        'min_samples_per_leaf': n_samples,\n",
    "        'max_depth': depth,\n",
    "        'train_accuracy': in_sample_accuracy,\n",
    "        'validate_accuracy': out_of_sample_accuracy\n",
    "    }\n",
    "    scores.append(output)\n",
    "# convert metrics list to a dataframe for easy reading\n",
    "df = pd.DataFrame(scores)\n",
    "# add column to assess the difference between train & validate accuracy\n",
    "df['difference'] = df.train_accuracy - df.validate_accuracy\n",
    "df"
   ]
  },
  {
   "cell_type": "code",
   "execution_count": null,
   "id": "0bad3470-8c5c-4504-b0fb-ca166984be35",
   "metadata": {},
   "outputs": [],
   "source": [
    "# The Random Forest model that performed the best on train & validate set had max_depth of 12 and min_sample_leaf of 12. \n",
    "# Isolating that model to use as best performing model. \n",
    "\n",
    "# define the model setting hyperparameters to values for the best performing model\n",
    "forest = RandomForestClassifier(max_depth=13, min_samples_leaf=13, random_state=123)\n",
    "\n",
    "# fit the model on train\n",
    "forest = forest.fit(X_train, y_train)\n",
    "\n",
    "# use the model and evaluate performance on train\n",
    "train_accuracy = forest.score(X_train, y_train)\n",
    "# use the model and evaluate performance on validate\n",
    "validate_accuracy = forest.score(X_validate, y_validate)\n",
    "\n",
    "print(f'train_accuracy: {train_accuracy: 2%}')\n",
    "print(f'validate_accuracy: {validate_accuracy: 2%}')"
   ]
  },
  {
   "cell_type": "markdown",
   "id": "90a6f3e4-456a-4d17-9da9-7658a108d1c9",
   "metadata": {},
   "source": [
    "### Model - LOGISTIC REGRESSION"
   ]
  },
  {
   "cell_type": "code",
   "execution_count": null,
   "id": "75534837-2864-4367-acd7-e003bfb868d4",
   "metadata": {},
   "outputs": [],
   "source": [
    "# Evaluate Logistic Regression models on train & validate set by looping through different values for c hyperparameter\n",
    "\n",
    "# create empty list for which to append metrics from each loop\n",
    "metrics = []\n",
    "\n",
    "# create loop for values in list\n",
    "for c in [.001, .005, .01, .05, .1, .5, 1, 5, 10, 50, 100, 500, 1000]:\n",
    "            \n",
    "    # define the model setting hyperparameters to values for current loop\n",
    "    logit = LogisticRegression(C=c)\n",
    "    \n",
    "    # fit the model on train\n",
    "    logit.fit(X_train, y_train)\n",
    "    \n",
    "    # use the model and evaluate performance on train\n",
    "    train_accuracy = logit.score(X_train, y_train)\n",
    "    # use the model and evaluate performance on validate\n",
    "    validate_accuracy = logit.score(X_validate, y_validate)\n",
    "    \n",
    "    # create output of current loop's hyperparameters and accuracy to append to metrics\n",
    "    output = {\n",
    "        'C': c,\n",
    "        'train_accuracy': train_accuracy,\n",
    "        'validate_accuracy': validate_accuracy\n",
    "    }\n",
    "    \n",
    "    metrics.append(output)\n",
    "\n",
    "# convert metrics list to a dataframe for easy reading\n",
    "df = pd.DataFrame(metrics)\n",
    "# add column to assess the difference between train & validate accuracy\n",
    "df['difference'] = df.train_accuracy - df.validate_accuracy\n",
    "df"
   ]
  },
  {
   "cell_type": "code",
   "execution_count": null,
   "id": "0cedce68-1527-413b-8371-2ce557c11ffd",
   "metadata": {},
   "outputs": [],
   "source": [
    "# Feature importance\n",
    "print('Coefficient: \\n', logit.coef_)\n",
    "print('Intercept: \\n', logit.intercept_)"
   ]
  },
  {
   "cell_type": "code",
   "execution_count": null,
   "id": "4230cb23-58ec-4418-b823-832c3afb7a4e",
   "metadata": {},
   "outputs": [],
   "source": [
    "#Make Probability\n",
    "y_pred = logit.predict(X_train)"
   ]
  },
  {
   "cell_type": "code",
   "execution_count": null,
   "id": "3dbed026-18ac-4df3-9fef-465c706124c7",
   "metadata": {},
   "outputs": [],
   "source": [
    "# Estimate Predictions\n",
    "y_pred_proba = logit.predict_proba(X_train)"
   ]
  },
  {
   "cell_type": "markdown",
   "id": "ca84a231-9773-4a7d-8e80-e652c8c9b250",
   "metadata": {},
   "source": [
    "Evaluate the Model with Our Validate Set\n",
    "Done in Function above\n",
    "The Logistic Regression Model that performed best had a c-statistic of 0.1 with a train accuracy of 93.0% and validate accuracy of 93.0.% performing nearly the same as baseline on unseen (validate) data."
   ]
  },
  {
   "cell_type": "markdown",
   "id": "601259bd-aa76-4ec1-88b7-e535afd18ee4",
   "metadata": {},
   "source": [
    "### Create a Confusion Matrix\n",
    "- True Positive: number of occurrences where churn is true and churn is predicted true.\n",
    "- True Negative: number of occurrences where churn is false and churn is predicted false.\n",
    "- False Positive: number of occurrences where churn is false and churn is predicted true.\n",
    "- False Negative: number of occurrences where churn is true and churn is predicted false."
   ]
  },
  {
   "cell_type": "code",
   "execution_count": null,
   "id": "cdcf0b15-0320-4965-ad2c-b348cc082ecf",
   "metadata": {},
   "outputs": [],
   "source": [
    "print(confusion_matrix(y_train, y_pred))"
   ]
  },
  {
   "cell_type": "markdown",
   "id": "03411b7c-ea9a-42fc-8cb2-9f0cf248c361",
   "metadata": {},
   "source": [
    "Create Classification Report\n",
    "Acuracy isn't everything, look at other evaluation metrics, such as recalll and precision."
   ]
  },
  {
   "cell_type": "code",
   "execution_count": null,
   "id": "62601080-0694-4ea4-a82b-79790ebba5b0",
   "metadata": {},
   "outputs": [],
   "source": [
    "print(classification_report(y_train, y_pred))"
   ]
  },
  {
   "cell_type": "markdown",
   "id": "d09639dd-0e83-4d54-ace2-22ee40b53576",
   "metadata": {},
   "source": [
    "### Best Model Overall\n",
    "- The best performing model overall was the _, performing _ on train, __ on validate, and optimized for ___.\n",
    "- This model will now be used on the test data to confirm best performance."
   ]
  },
  {
   "cell_type": "code",
   "execution_count": null,
   "id": "85038868-a16f-42e9-8bf9-e978896c056c",
   "metadata": {},
   "outputs": [],
   "source": []
  },
  {
   "cell_type": "code",
   "execution_count": null,
   "id": "a6a8f154-49bd-497a-a453-daf166027977",
   "metadata": {},
   "outputs": [],
   "source": []
  },
  {
   "cell_type": "code",
   "execution_count": null,
   "id": "e6f212ce-1132-4cd6-814a-69725ea7d937",
   "metadata": {},
   "outputs": [],
   "source": []
  },
  {
   "cell_type": "markdown",
   "id": "cb8677d9-b870-4d73-b348-8b2e702dc773",
   "metadata": {},
   "source": [
    "==================================================================================================================================="
   ]
  },
  {
   "cell_type": "markdown",
   "id": "583ac056-1f5f-4c37-bf29-e14c20502803",
   "metadata": {},
   "source": [
    "## V. CONCLUSION"
   ]
  },
  {
   "cell_type": "markdown",
   "id": "a4ad585b-62b1-4765-9ca7-21066825a333",
   "metadata": {},
   "source": [
    "### RECOMMENDATIONS"
   ]
  },
  {
   "cell_type": "code",
   "execution_count": null,
   "id": "43f17b8e-10f1-434a-a95c-a68f495f4fa1",
   "metadata": {},
   "outputs": [],
   "source": []
  },
  {
   "cell_type": "markdown",
   "id": "7cc52bcc-6ef1-418e-9148-1cca1a5dbb47",
   "metadata": {},
   "source": [
    "### NEXT STEPS"
   ]
  },
  {
   "cell_type": "code",
   "execution_count": null,
   "id": "593bfb5c-2efd-4ecc-b84a-1c122d7b9e5b",
   "metadata": {},
   "outputs": [],
   "source": []
  }
 ],
 "metadata": {
  "kernelspec": {
   "display_name": "Python 3 (ipykernel)",
   "language": "python",
   "name": "python3"
  },
  "language_info": {
   "codemirror_mode": {
    "name": "ipython",
    "version": 3
   },
   "file_extension": ".py",
   "mimetype": "text/x-python",
   "name": "python",
   "nbconvert_exporter": "python",
   "pygments_lexer": "ipython3",
   "version": "3.9.7"
  }
 },
 "nbformat": 4,
 "nbformat_minor": 5
}
