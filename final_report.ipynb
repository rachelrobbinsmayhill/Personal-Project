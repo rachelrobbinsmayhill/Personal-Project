{
 "cells": [
  {
   "cell_type": "markdown",
   "id": "b64e8d56-c5b1-4dd8-ae08-4ab210c6296f",
   "metadata": {},
   "source": [
    "# CAN I GET A LITTLE CREDIT? \n",
    "### An Exploration of Credit Worthiness\n",
    "### Using Classification to Predict Serious Repayment Delinquency"
   ]
  },
  {
   "cell_type": "markdown",
   "id": "9716ee04-4fd7-49ec-b40d-16922e671d9e",
   "metadata": {},
   "source": [
    "-----"
   ]
  },
  {
   "cell_type": "markdown",
   "id": "d92fedb9-80ac-4775-bfc0-15918ceec2a3",
   "metadata": {},
   "source": [
    "**Personal Project & Final Report Created By:** Rachel Robbins-Mayhill | April 27, 2022"
   ]
  },
  {
   "cell_type": "markdown",
   "id": "4588a595-40ba-44b5-862e-1ae54987de8e",
   "metadata": {},
   "source": [
    "---"
   ]
  },
  {
   "cell_type": "markdown",
   "id": "6a3615fd-ed8e-457a-a24d-50e06a25e4ad",
   "metadata": {},
   "source": [
    "<img src='loan_risk.png' width=\"1500\" height=\"500\" align=\"center\"/>"
   ]
  },
  {
   "cell_type": "code",
   "execution_count": null,
   "id": "00c8bd11-48b8-4e3b-8b38-0b345ff4998e",
   "metadata": {},
   "outputs": [],
   "source": []
  },
  {
   "cell_type": "markdown",
   "id": "136712ec-707a-47f2-824e-4c623686f7e2",
   "metadata": {},
   "source": [
    "## PROJECT DESCRIPTION"
   ]
  },
  {
   "cell_type": "markdown",
   "id": "26b3ea87-3817-4400-96c5-4da6bc3ecfb0",
   "metadata": {},
   "source": [
    "Banks play a crucial role in market economies. They decide who can get financing and on what terms and can make or break investment decisions. For markets and society to function, individuals and companies need access to credit. \n",
    "\n",
    "Credit scoring algorithms, which make a guess at the probability of default, are the methods banks use to determine whether or not a loan should be granted. This project aims to improve upon the state of the art in credit scoring, by predicting the probability that somebody will experience serious delinquency in the next two years. For the purpose of this project 'Serious Delinquency' is defined as being 90 days or more past due on payment. \n",
    "\n",
    "I am interested in this project because identifying at-risk borrower populations helps to protect the consumer, the business, the market, and society as a whole. Identifying borrowers who are at risk of default helps to prevent the consumer from entering into a situation that could be harmful to their long-term financial stability. It helps the banking institution prevent significant and costly losses which could impact business sustainability and limit the potential to help others. Lastly, as we saw with the housing crisis of 2008, accurately identifying at-risk loan borrowers can prevent the destabilizing of the market which can have far-reaching consequences for society as a whole."
   ]
  },
  {
   "cell_type": "markdown",
   "id": "83b2e0c3-5ff1-4143-8833-19a9470c65a7",
   "metadata": {},
   "source": [
    "## EXECUTIVE SUMMARY"
   ]
  },
  {
   "cell_type": "code",
   "execution_count": null,
   "id": "cb253f9c-1409-4e74-ba37-b0fd515a00fb",
   "metadata": {},
   "outputs": [],
   "source": []
  },
  {
   "cell_type": "markdown",
   "id": "5ff66b47-12a1-4b8f-ab3a-f45b629caeb6",
   "metadata": {},
   "source": [
    "## PROJECT GOAL"
   ]
  },
  {
   "cell_type": "markdown",
   "id": "dcaac27e-32bf-4a7a-b536-eba73677db73",
   "metadata": {},
   "source": [
    "The goal of this project is to build a model that can used to help borrowers and banking institutions make the best financial decisions."
   ]
  },
  {
   "cell_type": "markdown",
   "id": "e0ef3825-a916-4cda-90ac-565a23b27c97",
   "metadata": {},
   "source": [
    "## INITIAL QUESTIONS:\n",
    "Data-Focused Questions\n",
    "\n",
    "- Are borrowers in certain age groups more likely to be seriously delinquent?\n",
    "- Are borrowers with lower monthly income more likely to be seriously delinquent?\n",
    "- Are borrowers with higher debt to income ratio more likely to be seriously delinquent?\n",
    "- Are borrowers with higher revolving unsecured line utilization more likely to be seriously delinquent?"
   ]
  },
  {
   "cell_type": "markdown",
   "id": "2d98227b-ceae-4cd6-bff7-e4a084eb9add",
   "metadata": {},
   "source": [
    "================================================================================================================================================================================================================================="
   ]
  },
  {
   "cell_type": "markdown",
   "id": "9cead56f-1368-4878-ab45-ff439325e708",
   "metadata": {},
   "source": [
    "## I. ACQUIRE"
   ]
  },
  {
   "cell_type": "code",
   "execution_count": 1,
   "id": "e0df78ef-1b0b-4e55-bacc-2e657eb652ac",
   "metadata": {},
   "outputs": [],
   "source": [
    "# Import for data manipulation\n",
    "import pandas as pd\n",
    "import numpy as np\n",
    "\n",
    "# Import for acquisition\n",
    "import os\n",
    "import wrangle\n",
    "\n",
    "# Import to ignore warnings\n",
    "import warnings\n",
    "warnings.filterwarnings('ignore')"
   ]
  },
  {
   "cell_type": "markdown",
   "id": "e293123a-21ab-4b76-a58b-e3a5fe9a0b12",
   "metadata": {},
   "source": [
    "The data for this report was acquired by accessing the 'client_data.csv.'  The .csv provides historical data on 150,000 borrowers and it can be found in the 'Personal Project' repository on GitHub. The data acquisition for this project requires the .csv file of the data to be saved locally.  Once the .csv file has been saved locally, the data can be accessed using the get_client_data function saved within the wrangle.py file inside the 'Personal Project' repository on GitHub. This function acquires data from a local .csv file and returns a dataframe using pandas. The function informs the user of completion."
   ]
  },
  {
   "cell_type": "code",
   "execution_count": 2,
   "id": "71e0a481-ca72-4af0-a0cd-d1019ce46f87",
   "metadata": {},
   "outputs": [
    {
     "name": "stdout",
     "output_type": "stream",
     "text": [
      "Reading from .csv file.\n",
      "Data acquisition complete.\n"
     ]
    }
   ],
   "source": [
    "df = wrangle.get_client_data()"
   ]
  },
  {
   "cell_type": "code",
   "execution_count": 3,
   "id": "9eee20ee-edf2-47c7-9138-0283567a6321",
   "metadata": {},
   "outputs": [
    {
     "data": {
      "text/plain": [
       "(150000, 12)"
      ]
     },
     "execution_count": 3,
     "metadata": {},
     "output_type": "execute_result"
    }
   ],
   "source": [
    "df.shape"
   ]
  },
  {
   "cell_type": "markdown",
   "id": "52604da3-848b-4a62-a662-12d5d887c071",
   "metadata": {},
   "source": [
    "## The Original DataFrame Size: 150,000 rows, or observations, and 12 columns."
   ]
  },
  {
   "cell_type": "markdown",
   "id": "f19e541f-b87b-4929-bbc2-db338d3f1d79",
   "metadata": {},
   "source": [
    "================================================================================================================================================================================================================================="
   ]
  },
  {
   "cell_type": "markdown",
   "id": "a0618941-9c26-49ef-9aa9-fce5dec5a7dc",
   "metadata": {},
   "source": [
    "## II. PREPARE"
   ]
  },
  {
   "cell_type": "markdown",
   "id": "db951f25-1f29-4c98-a4d5-3468befbf9ef",
   "metadata": {},
   "source": [
    "After data acquisition, the table was analyzed and cleaned to facilitate functional exploration and clarify variable confusion. The preparation of this data can be replicated using the wrangle_client function saved within the wrangle.py file inside the 'personal project' repository on GitHub. The function takes in the original client_data dataframe and returns it with the changes noted below.\n",
    "\n",
    "**Steps Taken to Clean & Prepare Data:**\n",
    "\n",
    "- Delete \"Unnamed' index\n",
    "- Rename columns for understanding, while making lowercase\n",
    "- Drop missing values (29_731 in monthly_income and 3_924 in quantity_dep)\n",
    "- Create categorical columns for binning age and dependents"
   ]
  },
  {
   "cell_type": "markdown",
   "id": "5ba6c9e6-240e-4729-a0ef-171f2b448fc4",
   "metadata": {},
   "source": [
    "---"
   ]
  },
  {
   "cell_type": "markdown",
   "id": "0c4ccee9-7341-40af-9d16-c267128dcb8b",
   "metadata": {},
   "source": [
    "### Results of Data Preparation"
   ]
  },
  {
   "cell_type": "code",
   "execution_count": 4,
   "id": "29065b90-550d-46c9-876b-499811a653c0",
   "metadata": {},
   "outputs": [
    {
     "data": {
      "text/html": [
       "<div>\n",
       "<style scoped>\n",
       "    .dataframe tbody tr th:only-of-type {\n",
       "        vertical-align: middle;\n",
       "    }\n",
       "\n",
       "    .dataframe tbody tr th {\n",
       "        vertical-align: top;\n",
       "    }\n",
       "\n",
       "    .dataframe thead th {\n",
       "        text-align: right;\n",
       "    }\n",
       "</style>\n",
       "<table border=\"1\" class=\"dataframe\">\n",
       "  <thead>\n",
       "    <tr style=\"text-align: right;\">\n",
       "      <th></th>\n",
       "      <th>serious_delinquency</th>\n",
       "      <th>revolv_unsec_utilization</th>\n",
       "      <th>age</th>\n",
       "      <th>quantity_30_59_pd</th>\n",
       "      <th>debt_to_income_ratio</th>\n",
       "      <th>monthly_income</th>\n",
       "      <th>quantity_loans_and_lines</th>\n",
       "      <th>quantity_90_days_pd</th>\n",
       "      <th>quantity_real_estate_loans</th>\n",
       "      <th>quantity_60_89_days_pd</th>\n",
       "      <th>quantity_dependents</th>\n",
       "      <th>age_bins</th>\n",
       "      <th>quantity_dependents_bins</th>\n",
       "    </tr>\n",
       "  </thead>\n",
       "  <tbody>\n",
       "    <tr>\n",
       "      <th>0</th>\n",
       "      <td>1</td>\n",
       "      <td>0.766127</td>\n",
       "      <td>45</td>\n",
       "      <td>2</td>\n",
       "      <td>0.802982</td>\n",
       "      <td>9120.0</td>\n",
       "      <td>13</td>\n",
       "      <td>0</td>\n",
       "      <td>6</td>\n",
       "      <td>0</td>\n",
       "      <td>2.0</td>\n",
       "      <td>age_45-54</td>\n",
       "      <td>1_2_dep</td>\n",
       "    </tr>\n",
       "    <tr>\n",
       "      <th>1</th>\n",
       "      <td>0</td>\n",
       "      <td>0.957151</td>\n",
       "      <td>40</td>\n",
       "      <td>0</td>\n",
       "      <td>0.121876</td>\n",
       "      <td>2600.0</td>\n",
       "      <td>4</td>\n",
       "      <td>0</td>\n",
       "      <td>0</td>\n",
       "      <td>0</td>\n",
       "      <td>1.0</td>\n",
       "      <td>age_35-44</td>\n",
       "      <td>1_2_dep</td>\n",
       "    </tr>\n",
       "    <tr>\n",
       "      <th>2</th>\n",
       "      <td>0</td>\n",
       "      <td>0.658180</td>\n",
       "      <td>38</td>\n",
       "      <td>1</td>\n",
       "      <td>0.085113</td>\n",
       "      <td>3042.0</td>\n",
       "      <td>2</td>\n",
       "      <td>1</td>\n",
       "      <td>0</td>\n",
       "      <td>0</td>\n",
       "      <td>0.0</td>\n",
       "      <td>age_35-44</td>\n",
       "      <td>0_dep</td>\n",
       "    </tr>\n",
       "    <tr>\n",
       "      <th>3</th>\n",
       "      <td>0</td>\n",
       "      <td>0.233810</td>\n",
       "      <td>30</td>\n",
       "      <td>0</td>\n",
       "      <td>0.036050</td>\n",
       "      <td>3300.0</td>\n",
       "      <td>5</td>\n",
       "      <td>0</td>\n",
       "      <td>0</td>\n",
       "      <td>0</td>\n",
       "      <td>0.0</td>\n",
       "      <td>age_25-34</td>\n",
       "      <td>0_dep</td>\n",
       "    </tr>\n",
       "    <tr>\n",
       "      <th>5</th>\n",
       "      <td>0</td>\n",
       "      <td>0.213179</td>\n",
       "      <td>74</td>\n",
       "      <td>0</td>\n",
       "      <td>0.375607</td>\n",
       "      <td>3500.0</td>\n",
       "      <td>3</td>\n",
       "      <td>0</td>\n",
       "      <td>1</td>\n",
       "      <td>0</td>\n",
       "      <td>1.0</td>\n",
       "      <td>age_65-74</td>\n",
       "      <td>1_2_dep</td>\n",
       "    </tr>\n",
       "  </tbody>\n",
       "</table>\n",
       "</div>"
      ],
      "text/plain": [
       "   serious_delinquency  revolv_unsec_utilization  age  quantity_30_59_pd  \\\n",
       "0                    1                  0.766127   45                  2   \n",
       "1                    0                  0.957151   40                  0   \n",
       "2                    0                  0.658180   38                  1   \n",
       "3                    0                  0.233810   30                  0   \n",
       "5                    0                  0.213179   74                  0   \n",
       "\n",
       "   debt_to_income_ratio  monthly_income  quantity_loans_and_lines  \\\n",
       "0              0.802982          9120.0                        13   \n",
       "1              0.121876          2600.0                         4   \n",
       "2              0.085113          3042.0                         2   \n",
       "3              0.036050          3300.0                         5   \n",
       "5              0.375607          3500.0                         3   \n",
       "\n",
       "   quantity_90_days_pd  quantity_real_estate_loans  quantity_60_89_days_pd  \\\n",
       "0                    0                           6                       0   \n",
       "1                    0                           0                       0   \n",
       "2                    1                           0                       0   \n",
       "3                    0                           0                       0   \n",
       "5                    0                           1                       0   \n",
       "\n",
       "   quantity_dependents   age_bins quantity_dependents_bins  \n",
       "0                  2.0  age_45-54                  1_2_dep  \n",
       "1                  1.0  age_35-44                  1_2_dep  \n",
       "2                  0.0  age_35-44                    0_dep  \n",
       "3                  0.0  age_25-34                    0_dep  \n",
       "5                  1.0  age_65-74                  1_2_dep  "
      ]
     },
     "execution_count": 4,
     "metadata": {},
     "output_type": "execute_result"
    }
   ],
   "source": [
    "# apply the data preparation observations and tasks to clean the data using the wrangle_client function found in the wrangle.py\n",
    "df = wrangle.wrangle_client(df)\n",
    "df.head()"
   ]
  },
  {
   "cell_type": "code",
   "execution_count": 5,
   "id": "8c1c32f0-bf9c-41b4-8eb6-d19bdc00496b",
   "metadata": {},
   "outputs": [
    {
     "data": {
      "text/plain": [
       "(114560, 13)"
      ]
     },
     "execution_count": 5,
     "metadata": {},
     "output_type": "execute_result"
    }
   ],
   "source": [
    "# obtain the number of rows and columns for the dataframe. \n",
    "df.shape"
   ]
  },
  {
   "cell_type": "markdown",
   "id": "f0b69ecd-c48c-4346-aa01-eb905360afe3",
   "metadata": {},
   "source": [
    "## Prepared DataFrame Size: 120,269 rows, 11 columns"
   ]
  },
  {
   "cell_type": "markdown",
   "id": "c62d896b-02b8-4388-9001-9c4694379f60",
   "metadata": {},
   "source": [
    "----"
   ]
  },
  {
   "cell_type": "markdown",
   "id": "18bef115-e56c-475b-921e-d32e1d9f653a",
   "metadata": {},
   "source": [
    "### PREPARE - SPLIT"
   ]
  },
  {
   "cell_type": "markdown",
   "id": "1dfc2f7f-e9ef-4d5b-9a64-8ff5ad3a8ba2",
   "metadata": {},
   "source": [
    "After preparing the data, it was split into 3 samples; train, validate, and test using:\n",
    "\n",
    "- Random State: 123\n",
    "- Test = 20% of the original dataset\n",
    "- The remaining 80% of the dataset is divided between valiidate and train\n",
    "    - Validate (.30*.80) = 24% of the original dataset\n",
    "    - Train (.70*.80) = 56% of the original dataset\n",
    "    \n",
    "The split of this data can be replicated using the split_data function saved within the wrangle.py file inside the 'personal project' repository on GitHub.\n",
    "\n",
    "\n"
   ]
  },
  {
   "cell_type": "code",
   "execution_count": 6,
   "id": "c8231946-60ce-43cb-9fe2-ef5bd4e02b3f",
   "metadata": {},
   "outputs": [
    {
     "name": "stdout",
     "output_type": "stream",
     "text": [
      "train -> (64153, 13)\n",
      "validate -> (27495, 13)\n",
      "test -> (22912, 13)\n"
     ]
    }
   ],
   "source": [
    "# split the data into train, validate, and test using the split_data function found in the wrangle.py\n",
    "train, validate, test = wrangle.split_data(df)"
   ]
  },
  {
   "cell_type": "markdown",
   "id": "d9ee4d81-09ec-451d-8bb6-f714930e3922",
   "metadata": {},
   "source": [
    "=================================================================================================================================================================================================="
   ]
  },
  {
   "cell_type": "markdown",
   "id": "f96e6c41-648a-40ba-9486-f668567e2550",
   "metadata": {},
   "source": [
    "## III. EXPLORE"
   ]
  },
  {
   "cell_type": "code",
   "execution_count": 7,
   "id": "08d1edb7-8c73-443d-8167-700947036ac4",
   "metadata": {},
   "outputs": [],
   "source": [
    "# Import for data viz\n",
    "import seaborn as sns\n",
    "from matplotlib import pyplot as plt\n",
    "from matplotlib.ticker import StrMethodFormatter"
   ]
  },
  {
   "cell_type": "markdown",
   "id": "31d0ddc2-8038-458e-b0e3-38a4f612be92",
   "metadata": {},
   "source": [
    "---"
   ]
  },
  {
   "cell_type": "markdown",
   "id": "ec5e7d4b-beff-4ce6-8bb7-f74858370be4",
   "metadata": {},
   "source": [
    "### EXPLORE QUESTIONS\n",
    "\n",
    "- Are borrowers in certain age groups more likely to be seriously delinquent?\n",
    "- Are borrowers with lower monthly income more likely to be seriously delinquent?\n",
    "- Are borrowers with higher debt to income ratio more likely to be seriously delinquent?\n",
    "- Are borrowers with higher revolving unsecured line utilization more likely to be seriously delinquent?"
   ]
  },
  {
   "cell_type": "markdown",
   "id": "66a328eb-e12f-4d1c-bad9-b5cbb38385cf",
   "metadata": {},
   "source": [
    "---"
   ]
  },
  {
   "cell_type": "markdown",
   "id": "3c874901-1242-4c85-b22a-ef609139bebb",
   "metadata": {},
   "source": [
    "## QUESTION: AGE\n",
    "### - Are borrowers in certain age groups more likely to be seriously delinquent?"
   ]
  },
  {
   "cell_type": "markdown",
   "id": "dc591b1e-a6fe-4b49-a8d9-95574759fb8b",
   "metadata": {},
   "source": [
    "In order to answer this question, the age variable has been feature engineered into categorical bins to see patterns in ages realted to serious delinquency."
   ]
  },
  {
   "cell_type": "code",
   "execution_count": 8,
   "id": "d7cd5273-81b4-4729-bc47-30a90bfea7a3",
   "metadata": {},
   "outputs": [
    {
     "data": {
      "image/png": "[encoded data removed]",
      "text/plain": [
       "<Figure size 1080x648 with 1 Axes>"
      ]
     },
     "metadata": {
      "needs_background": "light"
     },
     "output_type": "display_data"
    }
   ],
   "source": [
    "# Create visualization with designated size, title, x label, y label, and font size, as well as font-size and labels for x and y ticks. \n",
    "plt.figure(figsize=(15,9))\n",
    "labels = ['No Serious Delinquency', 'Serious Delinquency']\n",
    "sns.boxenplot(x='serious_delinquency',y='age',data=train, palette='colorblind')\n",
    "plt.title(\"Age by Delinquency\", fontsize=20)\n",
    "plt.xlabel('Seriously Delinquent', fontsize=18) \n",
    "plt.xticks(fontsize=14)\n",
    "plt.ylabel('Age', fontsize=18) \n",
    "plt.yticks(fontsize=14)\n",
    "plt.show()"
   ]
  },
  {
   "cell_type": "markdown",
   "id": "7b007bb2-7ea9-46c6-9dc0-526539316ee3",
   "metadata": {},
   "source": [
    "**Observation:** Those who are seriously delinquent tend to be younger than those who are not. Binning and a countpot will be used to try to determine where most seriously delinquent borrrowers fall within the age category. "
   ]
  },
  {
   "cell_type": "code",
   "execution_count": 9,
   "id": "55efa8bd-77f4-4976-889c-f898410bd215",
   "metadata": {},
   "outputs": [
    {
     "data": {
      "image/png": "[encoded data removed]",
      "text/plain": [
       "<Figure size 1080x648 with 1 Axes>"
      ]
     },
     "metadata": {
      "needs_background": "light"
     },
     "output_type": "display_data"
    }
   ],
   "source": [
    "# Create visualization with designated size, title, x label, y label, and font size. \n",
    "plt.figure(figsize=(15,9))\n",
    "sns.countplot(x='age_bins', hue='serious_delinquency', data=train, palette='colorblind')\n",
    "plt.title(\"Count of Customers by Age Group, Separated by Status of Serious Delinquency\", fontsize=20)\n",
    "plt.xlabel('Age Bins', fontsize=18) \n",
    "plt.xticks(fontsize=14, rotation= 40, ha='right')\n",
    "plt.ylabel('Count', fontsize=18) \n",
    "plt.yticks(fontsize=14)\n",
    "plt.legend(fontsize=20)\n",
    "plt.show()"
   ]
  },
  {
   "cell_type": "code",
   "execution_count": 10,
   "id": "f55877a0-73d9-4152-b44e-b34e47b56623",
   "metadata": {},
   "outputs": [
    {
     "data": {
      "text/plain": [
       "age_bins\n",
       "age_25-34     0.109924\n",
       "age_35-44     0.091298\n",
       "age_20_24     0.091008\n",
       "age_45-54     0.080047\n",
       "age_54-64     0.051128\n",
       "age_65-74     0.032568\n",
       "age_85-105    0.022805\n",
       "age_75-84     0.021845\n",
       "age_0-19           NaN\n",
       "Name: serious_delinquency, dtype: float64"
      ]
     },
     "execution_count": 10,
     "metadata": {},
     "output_type": "execute_result"
    }
   ],
   "source": [
    "# obtain ratio of serious delinquency per age group\n",
    "train.groupby('age_bins').serious_delinquency.mean().sort_values(ascending=False)"
   ]
  },
  {
   "cell_type": "markdown",
   "id": "8244ebce-76f7-414b-9eaa-6bb82dfcfa64",
   "metadata": {},
   "source": [
    "**Observation:** It appears through the visualization that serious delinquency occurs more frequently between 25 and 45 years old. As previously noted, there is about a 7% serious delinquency rate within this data set. When looking at the ratio of delinquency between the age groups, ages 20-24 (9%), 25-34 (11%), and 35-44(9%) all have above average ratios of serious delinquency. Statistical testing will be conducted to verify statistical relevance of observations. "
   ]
  },
  {
   "cell_type": "markdown",
   "id": "1f6189d5-c4a7-48d9-b09c-350f6e7d7173",
   "metadata": {},
   "source": [
    "### Statistical Testing"
   ]
  },
  {
   "cell_type": "code",
   "execution_count": 11,
   "id": "20dd81a7-862d-4520-abdc-8e540784a99e",
   "metadata": {},
   "outputs": [],
   "source": [
    "# Import for Hypothesis Testing\n",
    "import scipy.stats as stats"
   ]
  },
  {
   "cell_type": "markdown",
   "id": "d02c47ad-e991-428c-b010-4d7a01b58138",
   "metadata": {},
   "source": [
    "Chi^2 Statistical Testing will be conducted because the variables age bins and serious delinquency are both categorical/discrete.\n",
    "\n",
    "Hypothesis:\n",
    "- H$_{0}$: Serious Delinquency is independent of age. \n",
    "- H$_{a}$: Serious Delinquency is NOT independent of age."
   ]
  },
  {
   "cell_type": "code",
   "execution_count": 12,
   "id": "281fe8fe-af19-4f68-b9c2-13d11a0e5641",
   "metadata": {},
   "outputs": [
    {
     "name": "stdout",
     "output_type": "stream",
     "text": [
      "chi^2 = 706.8000\n",
      "p     = 0.0000\n",
      "We reject the hypothesis, our data is statistically relevant.\n"
     ]
    }
   ],
   "source": [
    "# Conduct chi^2 statistical test\n",
    "observed = pd.crosstab(train['age_bins'], train.serious_delinquency)\n",
    "\n",
    "# Set alpha\n",
    "alpha= 0.05\n",
    "chi2, p, degf, expected = stats.chi2_contingency(observed)\n",
    "\n",
    "print(f'chi^2 = {chi2:.4f}')\n",
    "print(f'p     = {p:.4f}')\n",
    "\n",
    "if p < alpha:\n",
    "    print(\"We reject the hypothesis, our data is statistically relevant.\")\n",
    "else:\n",
    "    print(\"We fail to reject the null hypothesis.\")"
   ]
  },
  {
   "cell_type": "markdown",
   "id": "ae9876f1-aa18-4f15-a780-55f7dd14935b",
   "metadata": {},
   "source": [
    "## ANSWER: AGE\n",
    "### - Yes, borrowers in certain age groups are more likely to be seriously delinquent, particulary those between the ages of 20 and 44. "
   ]
  },
  {
   "cell_type": "markdown",
   "id": "e23fb4ae-6a78-44fe-be70-425301bc66ed",
   "metadata": {},
   "source": [
    "---"
   ]
  },
  {
   "cell_type": "markdown",
   "id": "fd656d50-0027-42b1-ab32-17af92ef6290",
   "metadata": {},
   "source": [
    "## QUESTION: Monthly Income\n",
    "### - Is monthly income for borrowers with serious delinquency less than those who are not seriously delinquent?"
   ]
  },
  {
   "cell_type": "markdown",
   "id": "4994575b-18cd-4fad-ae21-979ff6bd55fd",
   "metadata": {},
   "source": [
    "In order to answer this question, the monthly income variable was manually scaled to represent a monthly income that is more expected from those seeking credit. The dataset included observations for only those with monthly_income at \\\\$15, 000 or less."
   ]
  },
  {
   "cell_type": "code",
   "execution_count": 13,
   "id": "033dd7d5-53c7-4411-964b-2c0984c6b207",
   "metadata": {},
   "outputs": [
    {
     "data": {
      "image/png": "[encoded data removed]",
      "text/plain": [
       "<Figure size 1080x648 with 1 Axes>"
      ]
     },
     "metadata": {
      "needs_background": "light"
     },
     "output_type": "display_data"
    }
   ],
   "source": [
    "# Create visualization with designated size, title, x label, y label, and font size, as well as font-size and labels for x and y ticks. \n",
    "plt.figure(figsize=(15,9))\n",
    "labels = ['No Serious Delinquency', 'Serious Delinquency']\n",
    "sns.barplot(data = train, y = 'monthly_income', x = 'serious_delinquency', palette='colorblind')\n",
    "#sns.boxplot(x='serious_delinquency',y='monthly_income',data=train, palette='colorblind')\n",
    "plt.title(\"Monthly Income by Delinquency Status\", fontsize=20)\n",
    "plt.xlabel('Seriously Delinquent', fontsize=18) \n",
    "plt.xticks(fontsize=14)\n",
    "plt.ylabel('Monthly Income $', fontsize=18) \n",
    "plt.yticks(fontsize=14)\n",
    "plt.show()"
   ]
  },
  {
   "cell_type": "code",
   "execution_count": 14,
   "id": "5dcf885b-bcfe-43a9-ac85-0ce001aa0ff0",
   "metadata": {},
   "outputs": [
    {
     "data": {
      "text/html": [
       "<div>\n",
       "<style scoped>\n",
       "    .dataframe tbody tr th:only-of-type {\n",
       "        vertical-align: middle;\n",
       "    }\n",
       "\n",
       "    .dataframe tbody tr th {\n",
       "        vertical-align: top;\n",
       "    }\n",
       "\n",
       "    .dataframe thead th {\n",
       "        text-align: right;\n",
       "    }\n",
       "</style>\n",
       "<table border=\"1\" class=\"dataframe\">\n",
       "  <thead>\n",
       "    <tr style=\"text-align: right;\">\n",
       "      <th></th>\n",
       "      <th>min</th>\n",
       "      <th>mean</th>\n",
       "      <th>max</th>\n",
       "    </tr>\n",
       "    <tr>\n",
       "      <th>serious_delinquency</th>\n",
       "      <th></th>\n",
       "      <th></th>\n",
       "      <th></th>\n",
       "    </tr>\n",
       "  </thead>\n",
       "  <tbody>\n",
       "    <tr>\n",
       "      <th>0</th>\n",
       "      <td>0.0</td>\n",
       "      <td>5756.197434</td>\n",
       "      <td>14999.0</td>\n",
       "    </tr>\n",
       "    <tr>\n",
       "      <th>1</th>\n",
       "      <td>0.0</td>\n",
       "      <td>4943.006191</td>\n",
       "      <td>14932.0</td>\n",
       "    </tr>\n",
       "  </tbody>\n",
       "</table>\n",
       "</div>"
      ],
      "text/plain": [
       "                     min         mean      max\n",
       "serious_delinquency                           \n",
       "0                    0.0  5756.197434  14999.0\n",
       "1                    0.0  4943.006191  14932.0"
      ]
     },
     "execution_count": 14,
     "metadata": {},
     "output_type": "execute_result"
    }
   ],
   "source": [
    "# Obtain average monthly income for those who are seriously delinquent and those who are not. \n",
    "train.groupby(['serious_delinquency']).monthly_income.agg(['min', 'mean', 'max'])"
   ]
  },
  {
   "cell_type": "markdown",
   "id": "e918884b-fcec-4b83-87ce-0fddd0eba0ad",
   "metadata": {},
   "source": [
    "**Observation:** It appears through the visualization that serious delinquency occurs more frequently for those with lower monthly incomes. When looking at the mean monthly income for those with serious delinquency, it is about \\\\$800 less than those without serious delinquency. Statistical testing will be conducted to verify statistical relevance of observations. "
   ]
  },
  {
   "cell_type": "markdown",
   "id": "0e30a0c1-3438-44a4-8cb1-b6e26213870a",
   "metadata": {},
   "source": [
    "### Statistical Testing\n",
    "T-Test Statistical Testing will be conducted because the we are using the mean of monthly income for each category of delinquency (a mean of a subgroup vs. a mean of a subgroup)."
   ]
  },
  {
   "cell_type": "markdown",
   "id": "e2cb6a74-ef10-449c-b246-235c99ae4f2f",
   "metadata": {},
   "source": [
    "- H$_{0}$: Mean of monthly income of seriously delinquent borrowers > Mean of monthly charges of borrowers who are not seriously delinquent. \n",
    "- H$_{a}$: Mean of monthly income of seriously delinquent borrowers <= Mean of monthly charges of borrowers who are not seriously delinquent."
   ]
  },
  {
   "cell_type": "code",
   "execution_count": 15,
   "id": "5a2be4b4-d532-4138-811a-d64468276e19",
   "metadata": {},
   "outputs": [
    {
     "data": {
      "text/plain": [
       "<AxesSubplot:>"
      ]
     },
     "execution_count": 15,
     "metadata": {},
     "output_type": "execute_result"
    },
    {
     "data": {
      "image/png": "[encoded data removed]",
      "text/plain": [
       "<Figure size 432x288 with 1 Axes>"
      ]
     },
     "metadata": {
      "needs_background": "light"
     },
     "output_type": "display_data"
    }
   ],
   "source": [
    "delinquent_sample = train[train.serious_delinquency == 1].monthly_income\n",
    "delinquent_sample.hist()"
   ]
  },
  {
   "cell_type": "code",
   "execution_count": 16,
   "id": "1aad1e78-4197-4cea-9e6e-59a063d97c50",
   "metadata": {},
   "outputs": [
    {
     "data": {
      "text/plain": [
       "<AxesSubplot:>"
      ]
     },
     "execution_count": 16,
     "metadata": {},
     "output_type": "execute_result"
    },
    {
     "data": {
      "image/png": "[encoded data removed]",
      "text/plain": [
       "<Figure size 432x288 with 1 Axes>"
      ]
     },
     "metadata": {
      "needs_background": "light"
     },
     "output_type": "display_data"
    }
   ],
   "source": [
    "no_delinquent_sample = train[train.serious_delinquency == 0].monthly_income\n",
    "no_delinquent_sample.hist()"
   ]
  },
  {
   "cell_type": "code",
   "execution_count": 17,
   "id": "0baa7e7a-b956-4a8e-8034-7341f7731c45",
   "metadata": {},
   "outputs": [
    {
     "name": "stdout",
     "output_type": "stream",
     "text": [
      "8144981.938042171\n",
      "10359135.66235622\n"
     ]
    }
   ],
   "source": [
    "print(delinquent_sample.var())\n",
    "print(no_delinquent_sample.var())"
   ]
  },
  {
   "cell_type": "code",
   "execution_count": 18,
   "id": "3cd8521f-d7a0-4c0a-8817-b59116fce141",
   "metadata": {},
   "outputs": [
    {
     "name": "stdout",
     "output_type": "stream",
     "text": [
      "-18.30047745186004 6.017563562087364e-73 0.05\n"
     ]
    }
   ],
   "source": [
    "# 1-Tailed, 2-Sample T-Test - Mean of Subgroup vs. Mean of Subgroup\n",
    "\n",
    "alpha = 0.05\n",
    "delinquent_sample = train[train.serious_delinquency == 1].monthly_income\n",
    "no_delinquent_sample = train[train.serious_delinquency == 0].monthly_income\n",
    "t, p = stats.ttest_ind(delinquent_sample, no_delinquent_sample , equal_var=False)\n",
    "t, p / 2\n",
    "\n",
    "print(t, p/2, alpha)"
   ]
  },
  {
   "cell_type": "code",
   "execution_count": 23,
   "id": "d8040e8e-8dc9-48ad-8ff3-47f7e49fe1ca",
   "metadata": {},
   "outputs": [
    {
     "name": "stdout",
     "output_type": "stream",
     "text": [
      "is p/2 < alpha?  True\n",
      "is t < 0?  True\n"
     ]
    }
   ],
   "source": [
    "print(\"is p/2 < alpha? \", p / 2 < alpha)\n",
    "print(\"is t < 0? \", t < 0)"
   ]
  },
  {
   "cell_type": "markdown",
   "id": "6305a9c5-7c4e-4e5d-96ad-e6cb23183678",
   "metadata": {},
   "source": [
    "- H$_{0}$: Mean of monthly charges of seriously delinquent borrowers = Mean of monthly charges of borrowers who are not seriously delinquent. \n",
    "- H$_{a}$: Mean of monthly charges of seriously delinquent borrowers != Mean of monthly charges of borrowers who are not seriously delinquent."
   ]
  },
  {
   "cell_type": "code",
   "execution_count": 20,
   "id": "63ffbac3-f246-4487-8e24-092e653f8ac9",
   "metadata": {},
   "outputs": [
    {
     "name": "stdout",
     "output_type": "stream",
     "text": [
      "We fail to reject $H_{0}$\n"
     ]
    }
   ],
   "source": [
    "if p / 2 > alpha:\n",
    "    print(\"We fail to reject $H_{0}$\")\n",
    "elif t < 0:\n",
    "    print(\"We fail to reject $H_{0}$\")\n",
    "else:\n",
    "    print(\"We reject $H_{0}$\")"
   ]
  },
  {
   "cell_type": "code",
   "execution_count": 21,
   "id": "d31b68af-932c-4583-a26d-39f10bf446d6",
   "metadata": {},
   "outputs": [
    {
     "name": "stdout",
     "output_type": "stream",
     "text": [
      "Is t < 0?  True\n",
      "is p/2 < alpha?  True\n"
     ]
    }
   ],
   "source": [
    "t, p = stats.ttest_ind(delinquent_sample, no_delinquent_sample, equal_var=False)\n",
    "\n",
    "t, p\n",
    "\n",
    "print(\"Is t < 0? \", t < 0)\n",
    "\n",
    "print(\"is p/2 < alpha? \", p / 2 < alpha)"
   ]
  },
  {
   "cell_type": "markdown",
   "id": "0a590de4-44ca-451e-a67e-ec358c6c7185",
   "metadata": {},
   "source": [
    "## QUESTION: Revolving Unsecured Line Utilization\n",
    "- Are borrowers with higher revolving unsecured line utilization more likely to be seriously delinquent?"
   ]
  },
  {
   "cell_type": "code",
   "execution_count": 22,
   "id": "0a97b970-d365-4eaf-a63a-8953bfcf1b7d",
   "metadata": {},
   "outputs": [
    {
     "ename": "NameError",
     "evalue": "name 'ax' is not defined",
     "output_type": "error",
     "traceback": [
      "\u001b[0;31m---------------------------------------------------------------------------\u001b[0m",
      "\u001b[0;31mNameError\u001b[0m                                 Traceback (most recent call last)",
      "\u001b[0;32m/var/folders/jx/x5_xzwy107g6d0zd021r2ph40000gn/T/ipykernel_15183/3275640467.py\u001b[0m in \u001b[0;36m<module>\u001b[0;34m\u001b[0m\n\u001b[1;32m      7\u001b[0m \u001b[0mplt\u001b[0m\u001b[0;34m.\u001b[0m\u001b[0mxticks\u001b[0m\u001b[0;34m(\u001b[0m\u001b[0mfontsize\u001b[0m\u001b[0;34m=\u001b[0m\u001b[0;36m14\u001b[0m\u001b[0;34m)\u001b[0m\u001b[0;34m\u001b[0m\u001b[0;34m\u001b[0m\u001b[0m\n\u001b[1;32m      8\u001b[0m \u001b[0mplt\u001b[0m\u001b[0;34m.\u001b[0m\u001b[0mylabel\u001b[0m\u001b[0;34m(\u001b[0m\u001b[0;34m'Utilization Rate %'\u001b[0m\u001b[0;34m,\u001b[0m \u001b[0mfontsize\u001b[0m\u001b[0;34m=\u001b[0m\u001b[0;36m18\u001b[0m\u001b[0;34m)\u001b[0m\u001b[0;34m\u001b[0m\u001b[0;34m\u001b[0m\u001b[0m\n\u001b[0;32m----> 9\u001b[0;31m \u001b[0max\u001b[0m\u001b[0;34m.\u001b[0m\u001b[0myaxis\u001b[0m\u001b[0;34m.\u001b[0m\u001b[0mset_major_formatter\u001b[0m\u001b[0;34m(\u001b[0m\u001b[0mStrMethodFormatter\u001b[0m\u001b[0;34m(\u001b[0m\u001b[0;34m'{x:.00%}'\u001b[0m\u001b[0;34m)\u001b[0m\u001b[0;34m)\u001b[0m\u001b[0;34m\u001b[0m\u001b[0;34m\u001b[0m\u001b[0m\n\u001b[0m\u001b[1;32m     10\u001b[0m \u001b[0mplt\u001b[0m\u001b[0;34m.\u001b[0m\u001b[0myticks\u001b[0m\u001b[0;34m(\u001b[0m\u001b[0mfontsize\u001b[0m\u001b[0;34m=\u001b[0m\u001b[0;36m14\u001b[0m\u001b[0;34m)\u001b[0m\u001b[0;34m\u001b[0m\u001b[0;34m\u001b[0m\u001b[0m\n\u001b[1;32m     11\u001b[0m \u001b[0mplt\u001b[0m\u001b[0;34m.\u001b[0m\u001b[0mshow\u001b[0m\u001b[0;34m(\u001b[0m\u001b[0;34m)\u001b[0m\u001b[0;34m\u001b[0m\u001b[0;34m\u001b[0m\u001b[0m\n",
      "\u001b[0;31mNameError\u001b[0m: name 'ax' is not defined"
     ]
    },
    {
     "data": {
      "image/png": "[encoded data removed]",
      "text/plain": [
       "<Figure size 1080x648 with 1 Axes>"
      ]
     },
     "metadata": {
      "needs_background": "light"
     },
     "output_type": "display_data"
    }
   ],
   "source": [
    "# Create visualization with designated size, title, x label, y label, and font size, as well as font-size and labels for x and y ticks. \n",
    "plt.figure(figsize=(15,9))\n",
    "labels = ['No Serious Delinquency', 'Serious Delinquency']\n",
    "sns.barplot(data = train, y = 'revolv_unsec_utilization', x = 'serious_delinquency', palette='colorblind')\n",
    "plt.title(\"Revolving Unsecured Loan Utilization by Delinquency Status\", fontsize=20)\n",
    "plt.xlabel('Seriously Delinquent', fontsize=18) \n",
    "plt.xticks(fontsize=14)\n",
    "plt.ylabel('Utilization Rate %', fontsize=18) \n",
    "ax.yaxis.set_major_formatter(StrMethodFormatter('{x:.00%}'))\n",
    "plt.yticks(fontsize=14)\n",
    "plt.show()"
   ]
  },
  {
   "cell_type": "code",
   "execution_count": null,
   "id": "6b2e5d99-93c3-4c68-9216-3fa9b3711321",
   "metadata": {},
   "outputs": [],
   "source": [
    "train.groupby(['serious_delinquency']).revolv_unsec_utilization.agg(['min', 'mean', 'max'])"
   ]
  },
  {
   "cell_type": "markdown",
   "id": "cc0abd33-4683-4010-a209-e788d9deaa48",
   "metadata": {},
   "source": [
    "## QUESTION\n",
    "- Are borrowers with previous delinquency between 30 and 89 days more likely to be seriously delinquent (boolean)?"
   ]
  },
  {
   "cell_type": "code",
   "execution_count": null,
   "id": "3d7a1d4c-65bd-4412-8ad6-29120230fb15",
   "metadata": {},
   "outputs": [],
   "source": []
  },
  {
   "cell_type": "markdown",
   "id": "1ce5d7ed-3528-4358-9ed9-5626f8f06713",
   "metadata": {},
   "source": [
    "### EXPLORATION SUMMARY"
   ]
  },
  {
   "cell_type": "markdown",
   "id": "a6a766ab-e7cf-4c61-81a5-75f613fd7504",
   "metadata": {},
   "source": [
    "==================================================================================================================================="
   ]
  },
  {
   "cell_type": "markdown",
   "id": "029a5287-2ab3-407d-bd77-de9b79c6d2a9",
   "metadata": {},
   "source": [
    "## IV. MODEL"
   ]
  },
  {
   "cell_type": "code",
   "execution_count": null,
   "id": "b3c1fb83-dcd4-48b2-960d-c0b455f90388",
   "metadata": {},
   "outputs": [],
   "source": [
    "# Import for modeling\n",
    "from sklearn.tree import DecisionTreeClassifier, plot_tree\n",
    "from sklearn.metrics import classification_report\n",
    "from sklearn.metrics import confusion_matrix\n",
    "\n",
    "from sklearn.ensemble import RandomForestClassifier\n",
    "from sklearn.linear_model import LogisticRegression"
   ]
  },
  {
   "cell_type": "markdown",
   "id": "45d31a68-9b74-4e5d-9a40-2269604a920b",
   "metadata": {},
   "source": [
    "Because serious delinquency is a yes or no (boolean) value, classification machine learning algorithms were used to fit to the training data and the models were evaluated on validate data. The best model was selected using accuracy, because the data is mostly balanced, and the risk of an event happening balances the risk of getting a prediction wrong. In other words, the model was optimized for identifying true positives (actual delinquency when predicted), and true negatives (no serious delinquency when predicted), while minimizing false positive and false negatives."
   ]
  },
  {
   "cell_type": "markdown",
   "id": "94e86c50-30c4-455d-8142-8d8f2c4e6af2",
   "metadata": {},
   "source": [
    "### MODEL - SCALE\n",
    "- Scaling was done manually to monthly income inside the prep function. Monthly income was scaled to include only observations below \\\\$15,000 to be more in line wiht the typical borrower. By including only the observations noted, 95\\\\% of the data was still retained. "
   ]
  },
  {
   "cell_type": "markdown",
   "id": "704b0308-a9b4-42aa-96b8-b25671cbe45f",
   "metadata": {},
   "source": [
    "### Set X & y"
   ]
  },
  {
   "cell_type": "code",
   "execution_count": null,
   "id": "a4fa23c8-4750-4490-858a-7fc5ab6572a0",
   "metadata": {},
   "outputs": [],
   "source": [
    "# create X & y version of train, where y is a series with just the target variable and X are all the features. \n",
    "X_train = train.drop(columns=['serious_delinquency','quantity_90_days_pd', 'age_bins', 'quantity_dependents_bins'])\n",
    "y_train = train.serious_delinquency\n",
    "\n",
    "X_validate = validate.drop(columns=['serious_delinquency', 'quantity_90_days_pd', 'age_bins', 'quantity_dependents_bins'])\n",
    "y_validate = validate.serious_delinquency\n",
    "\n",
    "X_test = test.drop(columns=['serious_delinquency', 'quantity_90_days_pd', 'age_bins', 'quantity_dependents_bins'])\n",
    "y_test = test.serious_delinquency"
   ]
  },
  {
   "cell_type": "markdown",
   "id": "33ddd1c0-f91b-4452-80a7-7689c71b3a14",
   "metadata": {},
   "source": [
    "### Set Baseline"
   ]
  },
  {
   "cell_type": "code",
   "execution_count": null,
   "id": "3b42d6f9-c49b-4cc6-9030-cf6ee2931cbb",
   "metadata": {},
   "outputs": [],
   "source": [
    "# Obtain the mode for the target\n",
    "baseline = y_train.mode()\n",
    "\n",
    "# produce boolean array with True assigned to match the baseline prediction and real data. \n",
    "matches_baseline_prediction = (y_train == 0)\n",
    "\n",
    "baseline_accuracy = matches_baseline_prediction.mean()\n",
    "\n",
    "print(f'Baseline Accuracy: {baseline_accuracy:.2%}')"
   ]
  },
  {
   "cell_type": "markdown",
   "id": "53b657d5-85a0-4163-88e5-5e6c4507dcba",
   "metadata": {},
   "source": [
    "### MODEL - DECISION TREE"
   ]
  },
  {
   "cell_type": "code",
   "execution_count": null,
   "id": "f7cb9339-1479-4101-9fe8-9e2b1f7bad5e",
   "metadata": {},
   "outputs": [],
   "source": [
    "#Create the object\n",
    "clf1 = DecisionTreeClassifier(max_depth=2, random_state=123)\n",
    "# Fit the model\n",
    "clf1 = clf1.fit(X_train, y_train)"
   ]
  },
  {
   "cell_type": "code",
   "execution_count": null,
   "id": "4a317906-f4a5-475a-aeb5-61abefb49aed",
   "metadata": {},
   "outputs": [],
   "source": [
    "#Visualize the model\n",
    "plt.figure(figsize=(22, 12))\n",
    "plot_tree(clf1,feature_names=X_train.columns)"
   ]
  },
  {
   "cell_type": "code",
   "execution_count": null,
   "id": "58b6e3bf-4da1-47c7-8f78-f7a1575d16fa",
   "metadata": {},
   "outputs": [],
   "source": [
    "# make predictions\n",
    "y_pred = clf1.predict(X_train)"
   ]
  },
  {
   "cell_type": "code",
   "execution_count": null,
   "id": "d906ace2-cc5a-4f12-96d6-2a36f4574939",
   "metadata": {},
   "outputs": [],
   "source": [
    "y_pred_proba = clf1.predict_proba(X_train)\n",
    "pd.DataFrame(y_pred_proba, columns = ['Not Seriously Delinquent', 'Seriously Delinquent']).head()"
   ]
  },
  {
   "cell_type": "markdown",
   "id": "688c26a8-15c3-4a9d-ad8f-4adf8eac2b29",
   "metadata": {},
   "source": [
    "### Evaluate Model"
   ]
  },
  {
   "cell_type": "code",
   "execution_count": null,
   "id": "0374aee6-d206-452f-8607-3eb95aa2239c",
   "metadata": {},
   "outputs": [],
   "source": [
    "print('Accuracy of Decision Tree classifier on training set: {:.2f}'\n",
    "      .format(clf1.score(X_train, y_train)))"
   ]
  },
  {
   "cell_type": "markdown",
   "id": "3cd9d561-c1ca-46d6-850c-61fd4e8a5616",
   "metadata": {},
   "source": [
    "### Create a Confusion Matrix\n",
    "- True Positive: number of occurrences where serious delinquency is true and serious delinquency is predicted true.\n",
    "- True Negative: number of occurrences where serious delinquency is false and serious delinquency is predicted false.\n",
    "- False Positive: number of occurrences where serious delinquency is false and serious delinquency is predicted true.\n",
    "- False Negative: number of occurrences where serious delinquency is true and serious delinquency is predicted false."
   ]
  },
  {
   "cell_type": "code",
   "execution_count": null,
   "id": "7c7c4f6e-9d3d-45b2-ac4f-630fce6be869",
   "metadata": {},
   "outputs": [],
   "source": [
    "confusion_matrix(y_train, y_pred)"
   ]
  },
  {
   "cell_type": "code",
   "execution_count": null,
   "id": "321d5eb8-7219-45f8-8c35-11da8529a2c0",
   "metadata": {},
   "outputs": [],
   "source": [
    "confusion_matrix(y_train, y_pred)"
   ]
  },
  {
   "cell_type": "code",
   "execution_count": null,
   "id": "a5d46401-4042-4ba6-8738-7fbdb01328a3",
   "metadata": {},
   "outputs": [],
   "source": [
    "y_train.value_counts()"
   ]
  },
  {
   "cell_type": "code",
   "execution_count": null,
   "id": "c37929f1-4563-45e6-8c1c-139433ee050b",
   "metadata": {},
   "outputs": [],
   "source": [
    "labels = sorted(y_train.unique())\n",
    "\n",
    "pd.DataFrame(confusion_matrix(y_train, y_pred), index=labels, columns=labels)"
   ]
  },
  {
   "cell_type": "markdown",
   "id": "61094000-ecde-4962-ab81-65b3a7e48bd9",
   "metadata": {},
   "source": [
    "### Create a Classification Report\n",
    "- Acuracy isn't everything, look at other evaluation metrics, such as recalll and precision."
   ]
  },
  {
   "cell_type": "code",
   "execution_count": null,
   "id": "76da48b2-5d48-4e29-be1c-144b4f36b82e",
   "metadata": {},
   "outputs": [],
   "source": [
    "print(classification_report(y_train, y_pred))"
   ]
  },
  {
   "cell_type": "markdown",
   "id": "6d9ab439-9813-4632-8148-9218c4808c23",
   "metadata": {},
   "source": [
    "### Evaluate the Model with our Validate dataset"
   ]
  },
  {
   "cell_type": "code",
   "execution_count": null,
   "id": "e68384d9-708d-4331-ae8d-b0ae448b958f",
   "metadata": {},
   "outputs": [],
   "source": [
    "print('Accuracy of Decision Tree classifier on validate set: {:.2f}'\n",
    "     .format(clf1.score(X_validate, y_validate)))"
   ]
  },
  {
   "cell_type": "code",
   "execution_count": null,
   "id": "9ee262c0-c577-4436-88ef-56d81bc9719a",
   "metadata": {},
   "outputs": [],
   "source": [
    "# Produce y_predictions that come from the X_validate\n",
    "y_pred = clf1.predict(X_validate)\n",
    "\n",
    "# Compare actual y values (from validate) to predicted y_values from the model run on X_validate\n",
    "print(classification_report(y_validate, y_pred))"
   ]
  },
  {
   "cell_type": "markdown",
   "id": "4d5ce56e-aff5-4668-878a-d147fa053a70",
   "metadata": {},
   "source": [
    "### Model - RANDOM FOREST"
   ]
  },
  {
   "cell_type": "code",
   "execution_count": null,
   "id": "d2829eba-8803-411b-a94a-0d66a6b80a3b",
   "metadata": {
    "jp-MarkdownHeadingCollapsed": true,
    "tags": []
   },
   "outputs": [],
   "source": [
    "# Evaluate Random Forest models on train & validate set \n",
    "# by looping through different values for max_depth and min_samples_leaf hyperparameters\n",
    "\n",
    "# create empty list for which to append metrics from each loop\n",
    "scores = []\n",
    "max_value = range(1,21)\n",
    "# create loop for range 1-20\n",
    "for i in max_value:\n",
    "    # set depth & n_samples to value for current loop\n",
    "    depth = i\n",
    "    n_samples = i\n",
    "    # define the model setting hyperparameters to values for current loop\n",
    "    forest = RandomForestClassifier(max_depth=depth, min_samples_leaf=n_samples, random_state=123)\n",
    "    # fit the model on train\n",
    "    forest = forest.fit(X_train, y_train)\n",
    "    # use the model and evaluate performance on train\n",
    "    in_sample_accuracy = forest.score(X_train, y_train)\n",
    "    # use the model and evaluate performance on validate\n",
    "    out_of_sample_accuracy = forest.score(X_validate, y_validate)\n",
    "    # create output of current loop’s hyperparameters and accuracy to append to metrics\n",
    "    output = {\n",
    "        'min_samples_per_leaf': n_samples,\n",
    "        'max_depth': depth,\n",
    "        'train_accuracy': in_sample_accuracy,\n",
    "        'validate_accuracy': out_of_sample_accuracy\n",
    "    }\n",
    "    scores.append(output)\n",
    "# convert metrics list to a dataframe for easy reading\n",
    "df = pd.DataFrame(scores)\n",
    "# add column to assess the difference between train & validate accuracy\n",
    "df['difference'] = df.train_accuracy - df.validate_accuracy\n",
    "df"
   ]
  },
  {
   "cell_type": "code",
   "execution_count": null,
   "id": "805cd30d-9926-45b8-b067-c2473bc16419",
   "metadata": {},
   "outputs": [],
   "source": [
    "# The Random Forest model that performed the best on train & validate set had max_depth of 12 and min_sample_leaf of 12. \n",
    "# Isolating that model to use as best performing model. \n",
    "\n",
    "# define the model setting hyperparameters to values for the best performing model\n",
    "forest = RandomForestClassifier(max_depth=13, min_samples_leaf=13, random_state=123)\n",
    "\n",
    "# fit the model on train\n",
    "forest = forest.fit(X_train, y_train)\n",
    "\n",
    "# use the model and evaluate performance on train\n",
    "train_accuracy = forest.score(X_train, y_train)\n",
    "# use the model and evaluate performance on validate\n",
    "validate_accuracy = forest.score(X_validate, y_validate)\n",
    "\n",
    "print(f'train_accuracy: {train_accuracy: 2%}')\n",
    "print(f'validate_accuracy: {validate_accuracy: 2%}')"
   ]
  },
  {
   "cell_type": "markdown",
   "id": "c20ac8d0-5ee9-443b-b905-20f46c600d73",
   "metadata": {},
   "source": [
    "### Model - LOGISTIC REGRESSION"
   ]
  },
  {
   "cell_type": "code",
   "execution_count": null,
   "id": "e334a29b-8ec7-45c7-a527-f54ce59587b8",
   "metadata": {},
   "outputs": [],
   "source": [
    "# Evaluate Logistic Regression models on train & validate set by looping through different values for c hyperparameter\n",
    "\n",
    "# create empty list for which to append metrics from each loop\n",
    "metrics = []\n",
    "\n",
    "# create loop for values in list\n",
    "for c in [.001, .005, .01, .05, .1, .5, 1, 5, 10, 50, 100, 500, 1000]:\n",
    "            \n",
    "    # define the model setting hyperparameters to values for current loop\n",
    "    logit = LogisticRegression(C=c)\n",
    "    \n",
    "    # fit the model on train\n",
    "    logit.fit(X_train, y_train)\n",
    "    \n",
    "    # use the model and evaluate performance on train\n",
    "    train_accuracy = logit.score(X_train, y_train)\n",
    "    # use the model and evaluate performance on validate\n",
    "    validate_accuracy = logit.score(X_validate, y_validate)\n",
    "    \n",
    "    # create output of current loop's hyperparameters and accuracy to append to metrics\n",
    "    output = {\n",
    "        'C': c,\n",
    "        'train_accuracy': train_accuracy,\n",
    "        'validate_accuracy': validate_accuracy\n",
    "    }\n",
    "    \n",
    "    metrics.append(output)\n",
    "\n",
    "# convert metrics list to a dataframe for easy reading\n",
    "df = pd.DataFrame(metrics)\n",
    "# add column to assess the difference between train & validate accuracy\n",
    "df['difference'] = df.train_accuracy - df.validate_accuracy\n",
    "df"
   ]
  },
  {
   "cell_type": "code",
   "execution_count": null,
   "id": "a18fe01a-64c9-4386-b5be-d266dcfe163b",
   "metadata": {},
   "outputs": [],
   "source": [
    "# Feature importance\n",
    "print('Coefficient: \\n', logit.coef_)\n",
    "print('Intercept: \\n', logit.intercept_)"
   ]
  },
  {
   "cell_type": "code",
   "execution_count": null,
   "id": "d40c25f2-f59d-4f26-9445-1719cf73f440",
   "metadata": {},
   "outputs": [],
   "source": [
    "#Make Probability\n",
    "y_pred = logit.predict(X_train)"
   ]
  },
  {
   "cell_type": "code",
   "execution_count": null,
   "id": "98cf6507-1cf2-490f-a23b-7b596704c489",
   "metadata": {},
   "outputs": [],
   "source": [
    "# Estimate Predictions\n",
    "y_pred_proba = logit.predict_proba(X_train)"
   ]
  },
  {
   "cell_type": "markdown",
   "id": "628be7c6-45e5-4516-a4e2-977e27994744",
   "metadata": {},
   "source": [
    "Evaluate the Model with Our Validate Set\n",
    "Done in Function above\n",
    "The Logistic Regression Model that performed best had a c-statistic of 0.1 with a train accuracy of 93.0% and validate accuracy of 93.0.% performing nearly the same as baseline on unseen (validate) data.`m"
   ]
  },
  {
   "cell_type": "markdown",
   "id": "c3a550b4-1720-481e-adf0-3e129fbcb0ac",
   "metadata": {},
   "source": [
    "### Create a Confusion Matrix\n",
    "- True Positive: number of occurrences where churn is true and churn is predicted true.\n",
    "- True Negative: number of occurrences where churn is false and churn is predicted false.\n",
    "- False Positive: number of occurrences where churn is false and churn is predicted true.\n",
    "- False Negative: number of occurrences where churn is true and churn is predicted false."
   ]
  },
  {
   "cell_type": "code",
   "execution_count": null,
   "id": "77d104ec-fbbc-4177-9498-7f73c2d67ddf",
   "metadata": {},
   "outputs": [],
   "source": [
    "print(confusion_matrix(y_train, y_pred))"
   ]
  },
  {
   "cell_type": "markdown",
   "id": "9050116b-0d43-4167-aebc-ac54d99ec69c",
   "metadata": {},
   "source": [
    "Create Classification Report\n",
    "Acuracy isn't everything, look at other evaluation metrics, such as recalll and precision."
   ]
  },
  {
   "cell_type": "code",
   "execution_count": null,
   "id": "ba18d4c6-bce7-46b4-97ff-b5092dea17b8",
   "metadata": {},
   "outputs": [],
   "source": [
    "print(classification_report(y_train, y_pred))"
   ]
  },
  {
   "cell_type": "markdown",
   "id": "78b7c9e3-5a0e-4185-8ce1-47d05e61214a",
   "metadata": {},
   "source": [
    "### Best Model Overall\n",
    "- The best performing model overall was the _, performing _ on train, __ on validate, and optimized for ___.\n",
    "- This model will now be used on the test data to confirm best performance."
   ]
  },
  {
   "cell_type": "markdown",
   "id": "84c34429-aa94-47d8-b98a-440a3732aee5",
   "metadata": {},
   "source": [
    "========================================================================================================================================================================================="
   ]
  },
  {
   "cell_type": "markdown",
   "id": "1afbe768-c1ee-44de-8699-868648902c54",
   "metadata": {},
   "source": [
    "## V. CONCLUSION"
   ]
  },
  {
   "cell_type": "markdown",
   "id": "4f1606f6-da37-4ede-8313-5c77333618e5",
   "metadata": {},
   "source": [
    "### RECOMMENDATIONS"
   ]
  },
  {
   "cell_type": "markdown",
   "id": "192670d9-2fa0-43ca-838a-704341e800b0",
   "metadata": {},
   "source": [
    "### NEXT STEPS"
   ]
  },
  {
   "cell_type": "code",
   "execution_count": null,
   "id": "5d3ee671-2aff-4784-9b07-9029cf286b64",
   "metadata": {},
   "outputs": [],
   "source": []
  },
  {
   "cell_type": "code",
   "execution_count": null,
   "id": "b5ee3cf9-1351-4791-8426-192935b30424",
   "metadata": {},
   "outputs": [],
   "source": []
  },
  {
   "cell_type": "code",
   "execution_count": null,
   "id": "9ac29869-7f91-4769-b986-dc53014c559b",
   "metadata": {},
   "outputs": [],
   "source": []
  },
  {
   "cell_type": "code",
   "execution_count": null,
   "id": "acf87f06-9507-43c0-9895-f93d07eb4f8a",
   "metadata": {},
   "outputs": [],
   "source": []
  },
  {
   "cell_type": "code",
   "execution_count": null,
   "id": "3b216bb3-db96-4a86-a322-e21c35730036",
   "metadata": {},
   "outputs": [],
   "source": []
  },
  {
   "cell_type": "code",
   "execution_count": null,
   "id": "6f830335-72d5-4531-8590-47c001dba19b",
   "metadata": {},
   "outputs": [],
   "source": []
  },
  {
   "cell_type": "code",
   "execution_count": null,
   "id": "49a479e3-1fef-4a28-8137-125d966802cd",
   "metadata": {},
   "outputs": [],
   "source": []
  },
  {
   "cell_type": "code",
   "execution_count": null,
   "id": "736e9606-373c-4992-bfbd-84f0b01a1805",
   "metadata": {},
   "outputs": [],
   "source": []
  },
  {
   "cell_type": "markdown",
   "id": "cb8677d9-b870-4d73-b348-8b2e702dc773",
   "metadata": {},
   "source": [
    "==================================================================================================================================="
   ]
  },
  {
   "cell_type": "markdown",
   "id": "583ac056-1f5f-4c37-bf29-e14c20502803",
   "metadata": {},
   "source": [
    "## V. CONCLUSION"
   ]
  },
  {
   "cell_type": "markdown",
   "id": "a4ad585b-62b1-4765-9ca7-21066825a333",
   "metadata": {},
   "source": [
    "### RECOMMENDATIONS"
   ]
  },
  {
   "cell_type": "markdown",
   "id": "7cc52bcc-6ef1-418e-9148-1cca1a5dbb47",
   "metadata": {},
   "source": [
    "### NEXT STEPS"
   ]
  }
 ],
 "metadata": {
  "kernelspec": {
   "display_name": "Python 3 (ipykernel)",
   "language": "python",
   "name": "python3"
  },
  "language_info": {
   "codemirror_mode": {
    "name": "ipython",
    "version": 3
   },
   "file_extension": ".py",
   "mimetype": "text/x-python",
   "name": "python",
   "nbconvert_exporter": "python",
   "pygments_lexer": "ipython3",
   "version": "3.9.7"
  }
 },
 "nbformat": 4,
 "nbformat_minor": 5
}
