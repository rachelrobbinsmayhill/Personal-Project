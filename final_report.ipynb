{
 "cells": [
  {
   "cell_type": "markdown",
   "id": "b64e8d56-c5b1-4dd8-ae08-4ab210c6296f",
   "metadata": {},
   "source": [
    "# TITLE"
   ]
  },
  {
   "cell_type": "markdown",
   "id": "9716ee04-4fd7-49ec-b40d-16922e671d9e",
   "metadata": {},
   "source": [
    "-----"
   ]
  },
  {
   "cell_type": "markdown",
   "id": "d92fedb9-80ac-4775-bfc0-15918ceec2a3",
   "metadata": {},
   "source": [
    "**Personal Project & Final Report Created By:** Rachel Robbins-Mayhill | April 22, 2022"
   ]
  },
  {
   "cell_type": "markdown",
   "id": "4588a595-40ba-44b5-862e-1ae54987de8e",
   "metadata": {},
   "source": [
    "---"
   ]
  },
  {
   "cell_type": "code",
   "execution_count": 1,
   "id": "00c8bd11-48b8-4e3b-8b38-0b345ff4998e",
   "metadata": {},
   "outputs": [],
   "source": [
    "# Import for data manipulation\n",
    "import pandas as pd\n",
    "import numpy as np\n",
    "\n",
    "# Import for data viz\n",
    "import seaborn as sns\n",
    "from matplotlib import pyplot as plt\n",
    "from matplotlib.ticker import StrMethodFormatter\n",
    "import squarify\n",
    "\n",
    "# Import for Hypothesis Testing\n",
    "import scipy.stats as stats\n",
    "\n",
    "# Import for acquisition\n",
    "import env\n",
    "import os\n",
    "import wrangle\n",
    "\n",
    "# Add for setting to see all rows and columns\n",
    "pd.options.display.max_rows = None\n",
    "pd.options.display.max_columns = None\n",
    "\n",
    "# Import to ignore warnings\n",
    "import warnings\n",
    "warnings.filterwarnings('ignore')"
   ]
  },
  {
   "cell_type": "markdown",
   "id": "136712ec-707a-47f2-824e-4c623686f7e2",
   "metadata": {},
   "source": [
    "## PROJECT DESCRIPTION"
   ]
  },
  {
   "cell_type": "markdown",
   "id": "26b3ea87-3817-4400-96c5-4da6bc3ecfb0",
   "metadata": {},
   "source": [
    "Banks play a crucial role in market economies. They decide who can get finance and on what terms and can make or break investment decisions. For markets and society to function, individuals and companies need access to credit. \n",
    "\n",
    "Credit scoring algorithms, which make a guess at the probability of default, are the method banks use to determine whether or not a loan should be granted. This project aims to improve upon the state of the art in credit scoring, by predicting the probability that somebody will experience financial distress in the next two years."
   ]
  },
  {
   "cell_type": "markdown",
   "id": "5ff66b47-12a1-4b8f-ab3a-f45b629caeb6",
   "metadata": {},
   "source": [
    "## PROJECT GOAL"
   ]
  },
  {
   "cell_type": "markdown",
   "id": "dcaac27e-32bf-4a7a-b536-eba73677db73",
   "metadata": {},
   "source": [
    "The goal of this project is to build a model that borrowers can use to help make the best financial decisions."
   ]
  },
  {
   "cell_type": "markdown",
   "id": "e0ef3825-a916-4cda-90ac-565a23b27c97",
   "metadata": {},
   "source": [
    "## INITIAL QUESTIONS:\n",
    "Data-Focused Questions\n"
   ]
  },
  {
   "cell_type": "markdown",
   "id": "2d98227b-ceae-4cd6-bff7-e4a084eb9add",
   "metadata": {},
   "source": [
    "================================================================================"
   ]
  },
  {
   "cell_type": "markdown",
   "id": "9cead56f-1368-4878-ab45-ff439325e708",
   "metadata": {},
   "source": [
    "## I. ACQUIRE"
   ]
  },
  {
   "cell_type": "markdown",
   "id": "e293123a-21ab-4b76-a58b-e3a5fe9a0b12",
   "metadata": {},
   "source": [
    "The data for this report was acquired by accessing 'client_data.csv' from the Codeup SQL database. The following query was used to acquire the data:"
   ]
  },
  {
   "cell_type": "code",
   "execution_count": 2,
   "id": "71e0a481-ca72-4af0-a0cd-d1019ce46f87",
   "metadata": {},
   "outputs": [],
   "source": [
    "df = wrangle.get_client_data"
   ]
  },
  {
   "cell_type": "markdown",
   "id": "52604da3-848b-4a62-a662-12d5d887c071",
   "metadata": {},
   "source": [
    "## The Original DataFrame Size: _____ rows and ___ columns."
   ]
  },
  {
   "cell_type": "markdown",
   "id": "9a67371b-f51c-4dd7-9ceb-8854884660e3",
   "metadata": {},
   "source": [
    "The acquisition of this data can be replicated using the following function saved within the wrangle.py file inside the 'Personal Project' repository on GitHub:\n",
    "\n",
    "get_client_data\n",
    "\n",
    "The function receives \n",
    "\n",
    "'''\n",
    "a boolean as input to see if the user wants to receive a fresh copy of the data from the database. Then it checks to see if the file being requested already exists as a local .csv. It runs a query for the data using the assigned url, creates a new .csv if needed, then returns the superstore dataframe.\n",
    "'''\n",
    "\n",
    "For succinctness of this report, the acquisition and preparation calls are done together in the Section II. Prepare."
   ]
  },
  {
   "cell_type": "markdown",
   "id": "f19e541f-b87b-4929-bbc2-db338d3f1d79",
   "metadata": {},
   "source": [
    "==================================================================================================================================="
   ]
  },
  {
   "cell_type": "markdown",
   "id": "a0618941-9c26-49ef-9aa9-fce5dec5a7dc",
   "metadata": {},
   "source": [
    "## II. PREPARE"
   ]
  },
  {
   "cell_type": "markdown",
   "id": "db951f25-1f29-4c98-a4d5-3468befbf9ef",
   "metadata": {},
   "source": [
    "After data acquisition, the table was analyzed and cleaned to facilitate functional exploration, clarify confusion, and standardize datatypes.\n",
    "\n",
    "The preparation of this data can be replicated using the following function saved within the wrangle.py file inside the 'mwb-rrm-codeup-time-series-project' repository on GitHub.\n",
    "\n",
    "prep_superstore\n",
    "The function takes in the original superstore dataframe and returns it with the changes noted below.\n",
    "\n",
    "Steps Taken to Clean & Prepare Data:\n",
    "\n",
    "- Delete \"Unnamed' index\n",
    "- Rename columns for understanding, while making lowercase\n",
    "- Drop missing values (29_731 in monthly_income and 3_924 in quantity_dep)\n",
    "- Deal with outliers - only if they impact exploration or modeling"
   ]
  },
  {
   "cell_type": "markdown",
   "id": "5ba6c9e6-240e-4729-a0ef-171f2b448fc4",
   "metadata": {},
   "source": [
    "---"
   ]
  },
  {
   "cell_type": "markdown",
   "id": "0c4ccee9-7341-40af-9d16-c267128dcb8b",
   "metadata": {},
   "source": [
    "### Results of Data Preparation"
   ]
  },
  {
   "cell_type": "code",
   "execution_count": null,
   "id": "29065b90-550d-46c9-876b-499811a653c0",
   "metadata": {},
   "outputs": [],
   "source": [
    "# apply the data preparation observations and tasks to clean the data using the wrangle_client function found in the wrangle.py\n",
    "df = wrangle.wrangle_client(df)\n",
    "df.head()"
   ]
  },
  {
   "cell_type": "markdown",
   "id": "f0b69ecd-c48c-4346-aa01-eb905360afe3",
   "metadata": {},
   "source": [
    "### Prepared DataFrame Size: _____ rows, ____ columns"
   ]
  },
  {
   "cell_type": "markdown",
   "id": "c62d896b-02b8-4388-9001-9c4694379f60",
   "metadata": {},
   "source": [
    "----"
   ]
  },
  {
   "cell_type": "markdown",
   "id": "18bef115-e56c-475b-921e-d32e1d9f653a",
   "metadata": {},
   "source": [
    "### PREPARE - SPLIT"
   ]
  },
  {
   "cell_type": "code",
   "execution_count": null,
   "id": "c8231946-60ce-43cb-9fe2-ef5bd4e02b3f",
   "metadata": {},
   "outputs": [],
   "source": [
    "# split the data into train, validate, and test using the split_data function found in the wrangle.py\n",
    "train, validate, test = wrangle.split_data(df)"
   ]
  },
  {
   "cell_type": "markdown",
   "id": "d9ee4d81-09ec-451d-8bb6-f714930e3922",
   "metadata": {},
   "source": [
    "==================================================================================================================================="
   ]
  },
  {
   "cell_type": "markdown",
   "id": "f96e6c41-648a-40ba-9486-f668567e2550",
   "metadata": {},
   "source": [
    "## III. EXPLORE"
   ]
  },
  {
   "cell_type": "markdown",
   "id": "ec5e7d4b-beff-4ce6-8bb7-f74858370be4",
   "metadata": {},
   "source": [
    "### EXPLORE QUESTIONS"
   ]
  },
  {
   "cell_type": "code",
   "execution_count": null,
   "id": "d2f35373-f338-4d19-b9a8-4954d42d9841",
   "metadata": {},
   "outputs": [],
   "source": [
    "plt.pie(data, labels=keys, colors=palette_color, autopct='%.0f%%')"
   ]
  },
  {
   "cell_type": "markdown",
   "id": "31d0ddc2-8038-458e-b0e3-38a4f612be92",
   "metadata": {},
   "source": [
    "---"
   ]
  },
  {
   "cell_type": "markdown",
   "id": "82151396-4426-44ab-a64c-8e8ebdb1c12f",
   "metadata": {},
   "source": [
    "### EXPLORE - Univariate"
   ]
  },
  {
   "cell_type": "markdown",
   "id": "9e7746ad-2d35-4649-8c3f-f1ef8f22448c",
   "metadata": {},
   "source": [
    "### EXPLORE - Biivariate"
   ]
  },
  {
   "cell_type": "markdown",
   "id": "a688218f-d8b9-4f6f-9e0b-210bffac46ec",
   "metadata": {},
   "source": [
    "### EXPLORE - Multivariate"
   ]
  },
  {
   "cell_type": "markdown",
   "id": "1ce5d7ed-3528-4358-9ed9-5626f8f06713",
   "metadata": {},
   "source": [
    "### EXPLORATION SUMMARY"
   ]
  },
  {
   "cell_type": "markdown",
   "id": "a6a766ab-e7cf-4c61-81a5-75f613fd7504",
   "metadata": {},
   "source": [
    "==================================================================================================================================="
   ]
  },
  {
   "cell_type": "markdown",
   "id": "029a5287-2ab3-407d-bd77-de9b79c6d2a9",
   "metadata": {},
   "source": [
    "## IV. MODEL"
   ]
  },
  {
   "cell_type": "markdown",
   "id": "94e86c50-30c4-455d-8142-8d8f2c4e6af2",
   "metadata": {},
   "source": [
    "### MODEL - SCALE"
   ]
  },
  {
   "cell_type": "markdown",
   "id": "cb8677d9-b870-4d73-b348-8b2e702dc773",
   "metadata": {},
   "source": [
    "==================================================================================================================================="
   ]
  },
  {
   "cell_type": "markdown",
   "id": "583ac056-1f5f-4c37-bf29-e14c20502803",
   "metadata": {},
   "source": [
    "## V. CONCLUSION"
   ]
  },
  {
   "cell_type": "markdown",
   "id": "a4ad585b-62b1-4765-9ca7-21066825a333",
   "metadata": {},
   "source": [
    "### RECOMMENDATIONS"
   ]
  },
  {
   "cell_type": "markdown",
   "id": "7cc52bcc-6ef1-418e-9148-1cca1a5dbb47",
   "metadata": {},
   "source": [
    "### NEXT STEPS"
   ]
  }
 ],
 "metadata": {
  "kernelspec": {
   "display_name": "Python 3 (ipykernel)",
   "language": "python",
   "name": "python3"
  },
  "language_info": {
   "codemirror_mode": {
    "name": "ipython",
    "version": 3
   },
   "file_extension": ".py",
   "mimetype": "text/x-python",
   "name": "python",
   "nbconvert_exporter": "python",
   "pygments_lexer": "ipython3",
   "version": "3.9.7"
  }
 },
 "nbformat": 4,
 "nbformat_minor": 5
}
