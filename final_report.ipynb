{
 "cells": [
  {
   "cell_type": "markdown",
   "id": "b64e8d56-c5b1-4dd8-ae08-4ab210c6296f",
   "metadata": {},
   "source": [
    "# CAN I GET A LITTLE CREDIT? \n",
    "### An Exploration of Credit Worthiness\n",
    "### Using Classification to Predict Serious Repayment Delinquency"
   ]
  },
  {
   "cell_type": "markdown",
   "id": "9716ee04-4fd7-49ec-b40d-16922e671d9e",
   "metadata": {},
   "source": [
    "-----"
   ]
  },
  {
   "cell_type": "markdown",
   "id": "d92fedb9-80ac-4775-bfc0-15918ceec2a3",
   "metadata": {},
   "source": [
    "**Personal Project & Final Report Created By:** Rachel Robbins-Mayhill | April 27, 2022"
   ]
  },
  {
   "cell_type": "markdown",
   "id": "4588a595-40ba-44b5-862e-1ae54987de8e",
   "metadata": {},
   "source": [
    "---"
   ]
  },
  {
   "cell_type": "markdown",
   "id": "6a3615fd-ed8e-457a-a24d-50e06a25e4ad",
   "metadata": {},
   "source": [
    "<img src='loan_risk.png' width=\"1500\" height=\"500\" align=\"center\"/>"
   ]
  },
  {
   "cell_type": "markdown",
   "id": "136712ec-707a-47f2-824e-4c623686f7e2",
   "metadata": {},
   "source": [
    "## PROJECT DESCRIPTION"
   ]
  },
  {
   "cell_type": "markdown",
   "id": "26b3ea87-3817-4400-96c5-4da6bc3ecfb0",
   "metadata": {},
   "source": [
    "Banks play a crucial role in market economies. They decide who can get financing and on what terms and can make or break investment decisions. For markets and society to function, individuals and companies need access to credit. \n",
    "\n",
    "Credit scoring algorithms, which make a guess at the probability of default, are the methods banks use to determine whether or not a loan should be granted. This project aims to improve upon the state of the art in credit scoring, by predicting the probability that somebody will experience serious delinquency in the next two years. For the purpose of this project 'Serious Delinquency' is defined as being 90 days or more past due on payment. \n",
    "\n",
    "I am interested in this project because identifying at-risk borrower populations helps to protect the consumer, the business, the market, and society as a whole. Identifying borrowers who are at risk of default helps to prevent the consumer from entering into a situation that could be harmful to their long-term financial stability. It helps the banking institution prevent significant and costly losses which could impact business sustainability and limit the potential to help others. Lastly, as we saw with the housing crisis of 2008, accurately identifying at-risk loan borrowers can prevent the destabilizing of the market which can have far-reaching consequences for society as a whole."
   ]
  },
  {
   "cell_type": "markdown",
   "id": "83b2e0c3-5ff1-4143-8833-19a9470c65a7",
   "metadata": {},
   "source": [
    "## EXECUTIVE SUMMARY"
   ]
  },
  {
   "cell_type": "code",
   "execution_count": null,
   "id": "cb253f9c-1409-4e74-ba37-b0fd515a00fb",
   "metadata": {},
   "outputs": [],
   "source": []
  },
  {
   "cell_type": "markdown",
   "id": "5ff66b47-12a1-4b8f-ab3a-f45b629caeb6",
   "metadata": {},
   "source": [
    "## PROJECT GOAL"
   ]
  },
  {
   "cell_type": "markdown",
   "id": "dcaac27e-32bf-4a7a-b536-eba73677db73",
   "metadata": {},
   "source": [
    "The goal of this report is to identify drivers of borrower serious delinquency and to build a model that can be used to help borrowers and banking institutions make the best financial decisions. "
   ]
  },
  {
   "cell_type": "markdown",
   "id": "6ecb9ed1-2650-45d0-8bcd-3713095880a8",
   "metadata": {},
   "source": [
    "## INITIAL THOUGHTS & HYPOTHESIS: \n",
    "The initial hypothesis of the project was that those with serious delinquency were younger, had lower monthly income, higher debt to income ratio, and a greater ratio of revolving unsecured line utilization. The thought behind this was younger people are at the beginning of their income trajectory within their professional lives, making less than those with more life/professional experience as they get older. Younger borrowers may still be learning to manage their finances and may take on more debt than reasonable given their financial situation. These thoughts and the subsequent hypothesis drove the initial exploratory questions for this project. "
   ]
  },
  {
   "cell_type": "markdown",
   "id": "e0ef3825-a916-4cda-90ac-565a23b27c97",
   "metadata": {},
   "source": [
    "## INITIAL QUESTIONS:\n",
    "Data-Focused Questions\n",
    "\n",
    "- Are borrowers in certain age groups more likely to be seriously delinquent?\n",
    "- Are borrowers with lower monthly income more likely to be seriously delinquent?\n",
    "- Are borrowers with higher debt to income ratio more likely to be seriously delinquent?\n",
    "- Are borrowers with higher revolving unsecured line utilization more likely to be seriously delinquent?"
   ]
  },
  {
   "cell_type": "markdown",
   "id": "2d98227b-ceae-4cd6-bff7-e4a084eb9add",
   "metadata": {},
   "source": [
    "================================================================================================================================================================================================================================="
   ]
  },
  {
   "cell_type": "markdown",
   "id": "9cead56f-1368-4878-ab45-ff439325e708",
   "metadata": {},
   "source": [
    "## I. ACQUIRE"
   ]
  },
  {
   "cell_type": "markdown",
   "id": "e293123a-21ab-4b76-a58b-e3a5fe9a0b12",
   "metadata": {},
   "source": [
    "The data for this report was acquired by accessing the 'client_data.csv.'  The .csv provides historical data on 150,000 borrowers and it can be found in the 'Personal Project' repository on GitHub. The data acquisition for this project requires the .csv file of the data to be saved locally (in the same folder or repository where the work will be produced).  Once the .csv file has been saved locally, the data can be accessed using the get_client_data function saved within the wrangle.py file inside the 'Personal Project' repository on GitHub. This function acquires data from a local .csv file and returns a dataframe using pandas. The function informs the user of completion."
   ]
  },
  {
   "cell_type": "markdown",
   "id": "f74c7152-40fc-45db-b6e6-cdb2ff5da7d7",
   "metadata": {},
   "source": [
    "### Note about imports:"
   ]
  },
  {
   "cell_type": "markdown",
   "id": "00af7b94-57b8-46d6-bb95-c8a4c880b3cd",
   "metadata": {},
   "source": [
    "Imports for this project are added in the sections in which they are required."
   ]
  },
  {
   "cell_type": "code",
   "execution_count": 1,
   "id": "e0df78ef-1b0b-4e55-bacc-2e657eb652ac",
   "metadata": {},
   "outputs": [],
   "source": [
    "# import for acquisition\n",
    "import os\n",
    "import wrangle\n",
    "\n",
    "# import for data manipulation\n",
    "import pandas as pd\n",
    "import numpy as np\n",
    "\n",
    "# import to ignore warnings\n",
    "import warnings\n",
    "warnings.filterwarnings('ignore')"
   ]
  },
  {
   "cell_type": "code",
   "execution_count": 2,
   "id": "71e0a481-ca72-4af0-a0cd-d1019ce46f87",
   "metadata": {},
   "outputs": [
    {
     "name": "stdout",
     "output_type": "stream",
     "text": [
      "Reading from .csv file.\n",
      "Data acquisition complete.\n"
     ]
    }
   ],
   "source": [
    "# acquire data from .csv using get_client_data function found in wrangle.py\n",
    "df = wrangle.get_client_data()"
   ]
  },
  {
   "cell_type": "code",
   "execution_count": 3,
   "id": "9eee20ee-edf2-47c7-9138-0283567a6321",
   "metadata": {},
   "outputs": [
    {
     "data": {
      "text/plain": [
       "(150000, 12)"
      ]
     },
     "execution_count": 3,
     "metadata": {},
     "output_type": "execute_result"
    }
   ],
   "source": [
    "# obtain number of columns and rows for original dataframe\n",
    "df.shape"
   ]
  },
  {
   "cell_type": "markdown",
   "id": "52604da3-848b-4a62-a662-12d5d887c071",
   "metadata": {},
   "source": [
    "## The Original DataFrame Size: 150,000 rows, or observations, and 12 columns."
   ]
  },
  {
   "cell_type": "markdown",
   "id": "f19e541f-b87b-4929-bbc2-db338d3f1d79",
   "metadata": {},
   "source": [
    "================================================================================================================================================================================================================================="
   ]
  },
  {
   "cell_type": "markdown",
   "id": "a0618941-9c26-49ef-9aa9-fce5dec5a7dc",
   "metadata": {},
   "source": [
    "## II. PREPARE"
   ]
  },
  {
   "cell_type": "markdown",
   "id": "db951f25-1f29-4c98-a4d5-3468befbf9ef",
   "metadata": {},
   "source": [
    "After data acquisition, the table was analyzed and cleaned to facilitate functional exploration and clarify variable confusion. The preparation of this data can be replicated using the wrangle_client function saved within the wrangle.py file inside the 'personal project' repository on GitHub. The function takes in the original client_data dataframe and returns it with the changes noted below.\n",
    "\n",
    "**Steps Taken to Clean & Prepare Data:**\n",
    "\n",
    "- Delete \"Unnamed' index\n",
    "- Rename columns for understanding, while making lowercase for ease of understanding and coding through exploration\n",
    "- Drop missing values (29_731 in monthly_income and 3_924 in quantity_dep) to prevent impediments in exploration and modeling \n",
    "- Create categorical columns for binning age and dependents in order to visualize and identify relationships more easily in exploration\n",
    "- Manually scaled monthly income to include only those with monthly income below\\\\$15,000 to eliminate outliers\n",
    "\n",
    "**Note on Missing Value Handling:**\n",
    "The missing value removal equated to removing 29,731 observations, which was about 20\\% of the data set. It still left a substantial number of observations, above 120,000. If given more time with the data, it is recommended to research ways to retain more of the observations through additional data collection or imputation of values.\n",
    "\n",
    "**Note on Manual Scaling of Monthly Income:**\n",
    "This decision was made after univariate exploration, to ensure the data explored represented the majority of borrowers, eliminating the monthly incomes up to \\\\$2 Million that would skew the data during exploration and modeling. It could be assumed that most people with significantly higher than average monthly income into the tens of thousands and up into the millions would be less likely to access borrower services. The monthly income variable was scaled at the dataframe level to be more useful in visualization. Therefore, the scaling applied to the train, validate, and test sets as well. "
   ]
  },
  {
   "cell_type": "markdown",
   "id": "5ba6c9e6-240e-4729-a0ef-171f2b448fc4",
   "metadata": {},
   "source": [
    "---"
   ]
  },
  {
   "cell_type": "markdown",
   "id": "0c4ccee9-7341-40af-9d16-c267128dcb8b",
   "metadata": {},
   "source": [
    "### Results of Data Preparation"
   ]
  },
  {
   "cell_type": "code",
   "execution_count": 4,
   "id": "29065b90-550d-46c9-876b-499811a653c0",
   "metadata": {},
   "outputs": [
    {
     "data": {
      "text/html": [
       "<div>\n",
       "<style scoped>\n",
       "    .dataframe tbody tr th:only-of-type {\n",
       "        vertical-align: middle;\n",
       "    }\n",
       "\n",
       "    .dataframe tbody tr th {\n",
       "        vertical-align: top;\n",
       "    }\n",
       "\n",
       "    .dataframe thead th {\n",
       "        text-align: right;\n",
       "    }\n",
       "</style>\n",
       "<table border=\"1\" class=\"dataframe\">\n",
       "  <thead>\n",
       "    <tr style=\"text-align: right;\">\n",
       "      <th></th>\n",
       "      <th>serious_delinquency</th>\n",
       "      <th>revolv_unsec_utilization</th>\n",
       "      <th>age</th>\n",
       "      <th>quantity_30_59_pd</th>\n",
       "      <th>debt_to_income_ratio</th>\n",
       "      <th>monthly_income</th>\n",
       "      <th>quantity_loans_and_lines</th>\n",
       "      <th>quantity_90_days_pd</th>\n",
       "      <th>quantity_real_estate_loans</th>\n",
       "      <th>quantity_60_89_days_pd</th>\n",
       "      <th>quantity_dependents</th>\n",
       "      <th>age_bins</th>\n",
       "      <th>quantity_dependents_bins</th>\n",
       "    </tr>\n",
       "  </thead>\n",
       "  <tbody>\n",
       "    <tr>\n",
       "      <th>0</th>\n",
       "      <td>1</td>\n",
       "      <td>0.766127</td>\n",
       "      <td>45</td>\n",
       "      <td>2</td>\n",
       "      <td>0.802982</td>\n",
       "      <td>9120.0</td>\n",
       "      <td>13</td>\n",
       "      <td>0</td>\n",
       "      <td>6</td>\n",
       "      <td>0</td>\n",
       "      <td>2.0</td>\n",
       "      <td>age_45-54</td>\n",
       "      <td>1_2_dep</td>\n",
       "    </tr>\n",
       "    <tr>\n",
       "      <th>1</th>\n",
       "      <td>0</td>\n",
       "      <td>0.957151</td>\n",
       "      <td>40</td>\n",
       "      <td>0</td>\n",
       "      <td>0.121876</td>\n",
       "      <td>2600.0</td>\n",
       "      <td>4</td>\n",
       "      <td>0</td>\n",
       "      <td>0</td>\n",
       "      <td>0</td>\n",
       "      <td>1.0</td>\n",
       "      <td>age_35-44</td>\n",
       "      <td>1_2_dep</td>\n",
       "    </tr>\n",
       "    <tr>\n",
       "      <th>2</th>\n",
       "      <td>0</td>\n",
       "      <td>0.658180</td>\n",
       "      <td>38</td>\n",
       "      <td>1</td>\n",
       "      <td>0.085113</td>\n",
       "      <td>3042.0</td>\n",
       "      <td>2</td>\n",
       "      <td>1</td>\n",
       "      <td>0</td>\n",
       "      <td>0</td>\n",
       "      <td>0.0</td>\n",
       "      <td>age_35-44</td>\n",
       "      <td>0_dep</td>\n",
       "    </tr>\n",
       "    <tr>\n",
       "      <th>3</th>\n",
       "      <td>0</td>\n",
       "      <td>0.233810</td>\n",
       "      <td>30</td>\n",
       "      <td>0</td>\n",
       "      <td>0.036050</td>\n",
       "      <td>3300.0</td>\n",
       "      <td>5</td>\n",
       "      <td>0</td>\n",
       "      <td>0</td>\n",
       "      <td>0</td>\n",
       "      <td>0.0</td>\n",
       "      <td>age_25-34</td>\n",
       "      <td>0_dep</td>\n",
       "    </tr>\n",
       "    <tr>\n",
       "      <th>5</th>\n",
       "      <td>0</td>\n",
       "      <td>0.213179</td>\n",
       "      <td>74</td>\n",
       "      <td>0</td>\n",
       "      <td>0.375607</td>\n",
       "      <td>3500.0</td>\n",
       "      <td>3</td>\n",
       "      <td>0</td>\n",
       "      <td>1</td>\n",
       "      <td>0</td>\n",
       "      <td>1.0</td>\n",
       "      <td>age_65-74</td>\n",
       "      <td>1_2_dep</td>\n",
       "    </tr>\n",
       "  </tbody>\n",
       "</table>\n",
       "</div>"
      ],
      "text/plain": [
       "   serious_delinquency  revolv_unsec_utilization  age  quantity_30_59_pd  \\\n",
       "0                    1                  0.766127   45                  2   \n",
       "1                    0                  0.957151   40                  0   \n",
       "2                    0                  0.658180   38                  1   \n",
       "3                    0                  0.233810   30                  0   \n",
       "5                    0                  0.213179   74                  0   \n",
       "\n",
       "   debt_to_income_ratio  monthly_income  quantity_loans_and_lines  \\\n",
       "0              0.802982          9120.0                        13   \n",
       "1              0.121876          2600.0                         4   \n",
       "2              0.085113          3042.0                         2   \n",
       "3              0.036050          3300.0                         5   \n",
       "5              0.375607          3500.0                         3   \n",
       "\n",
       "   quantity_90_days_pd  quantity_real_estate_loans  quantity_60_89_days_pd  \\\n",
       "0                    0                           6                       0   \n",
       "1                    0                           0                       0   \n",
       "2                    1                           0                       0   \n",
       "3                    0                           0                       0   \n",
       "5                    0                           1                       0   \n",
       "\n",
       "   quantity_dependents   age_bins quantity_dependents_bins  \n",
       "0                  2.0  age_45-54                  1_2_dep  \n",
       "1                  1.0  age_35-44                  1_2_dep  \n",
       "2                  0.0  age_35-44                    0_dep  \n",
       "3                  0.0  age_25-34                    0_dep  \n",
       "5                  1.0  age_65-74                  1_2_dep  "
      ]
     },
     "execution_count": 4,
     "metadata": {},
     "output_type": "execute_result"
    }
   ],
   "source": [
    "# apply the data preparation observations and tasks to clean the data using the wrangle_client function found in the wrangle.py\n",
    "df = wrangle.wrangle_client(df)\n",
    "# view first few rows of dataframe\n",
    "df.head()"
   ]
  },
  {
   "cell_type": "code",
   "execution_count": 5,
   "id": "8c1c32f0-bf9c-41b4-8eb6-d19bdc00496b",
   "metadata": {},
   "outputs": [
    {
     "data": {
      "text/plain": [
       "(114560, 13)"
      ]
     },
     "execution_count": 5,
     "metadata": {},
     "output_type": "execute_result"
    }
   ],
   "source": [
    "# obtain the number of rows and columns for the updated/cleaned dataframe. \n",
    "df.shape"
   ]
  },
  {
   "cell_type": "markdown",
   "id": "f0b69ecd-c48c-4346-aa01-eb905360afe3",
   "metadata": {},
   "source": [
    "## Prepared DataFrame Size: 120,269 rows, 11 columns"
   ]
  },
  {
   "cell_type": "markdown",
   "id": "c62d896b-02b8-4388-9001-9c4694379f60",
   "metadata": {},
   "source": [
    "----"
   ]
  },
  {
   "cell_type": "markdown",
   "id": "18bef115-e56c-475b-921e-d32e1d9f653a",
   "metadata": {},
   "source": [
    "### PREPARE - SPLIT"
   ]
  },
  {
   "cell_type": "markdown",
   "id": "1dfc2f7f-e9ef-4d5b-9a64-8ff5ad3a8ba2",
   "metadata": {},
   "source": [
    "After preparing the data, it was split into 3 samples; train, validate, and test using:\n",
    "\n",
    "- Random State: 123\n",
    "- Test = 20% of the original dataset\n",
    "- The remaining 80% of the dataset is divided between valiidate and train\n",
    "    - Validate (.30*.80) = 24% of the original dataset\n",
    "    - Train (.70*.80) = 56% of the original dataset\n",
    "    \n",
    "The split of this data can be replicated using the split_data function saved within the wrangle.py file inside the 'personal project' repository on GitHub.\n",
    "\n",
    "\n"
   ]
  },
  {
   "cell_type": "code",
   "execution_count": 6,
   "id": "c8231946-60ce-43cb-9fe2-ef5bd4e02b3f",
   "metadata": {},
   "outputs": [
    {
     "name": "stdout",
     "output_type": "stream",
     "text": [
      "train -> (64153, 13)\n",
      "validate -> (27495, 13)\n",
      "test -> (22912, 13)\n"
     ]
    }
   ],
   "source": [
    "# split the data into train, validate, and test using the split_data function found in the wrangle.py\n",
    "train, validate, test = wrangle.split_data(df)"
   ]
  },
  {
   "cell_type": "markdown",
   "id": "d9ee4d81-09ec-451d-8bb6-f714930e3922",
   "metadata": {},
   "source": [
    "=================================================================================================================================================================================================="
   ]
  },
  {
   "cell_type": "markdown",
   "id": "f96e6c41-648a-40ba-9486-f668567e2550",
   "metadata": {},
   "source": [
    "## III. EXPLORE"
   ]
  },
  {
   "cell_type": "markdown",
   "id": "513833db-c768-484e-a756-347675a15266",
   "metadata": {},
   "source": [
    "After acquiring and preparing the data, exploration was conducted. All univariate exploration was completed on the entire cleaned dataset in the workbook for this project. For the purpose of the final report, only the target variable will be displayed in order to reduce noise and provide focused context for the project. Following univariate exploration, the data was split into train, validate, and test samples, where only the train set was used for bivariate and multivariate exploration to prevent data leakage."
   ]
  },
  {
   "cell_type": "code",
   "execution_count": 7,
   "id": "08d1edb7-8c73-443d-8167-700947036ac4",
   "metadata": {},
   "outputs": [],
   "source": [
    "# import for data visualization\n",
    "import seaborn as sns\n",
    "from matplotlib import pyplot as plt\n",
    "from matplotlib.ticker import StrMethodFormatter"
   ]
  },
  {
   "cell_type": "markdown",
   "id": "31d0ddc2-8038-458e-b0e3-38a4f612be92",
   "metadata": {},
   "source": [
    "---"
   ]
  },
  {
   "cell_type": "markdown",
   "id": "7caa1106-b8a7-4dd4-b5bc-fa03af7bc6ad",
   "metadata": {},
   "source": [
    "### UNIVARIATE EXPLORATION"
   ]
  },
  {
   "cell_type": "markdown",
   "id": "d6067058-1109-4028-a464-0a4dd95d6c48",
   "metadata": {},
   "source": [
    "#### UNIVARIATE EXPLORATION of TARGET VARIABLE: SERIOUS DELINQUENCY"
   ]
  },
  {
   "cell_type": "code",
   "execution_count": 8,
   "id": "3e7a46cd-23ed-489c-90e9-537a144e1312",
   "metadata": {},
   "outputs": [
    {
     "name": "stdout",
     "output_type": "stream",
     "text": [
      "0    106468\n",
      "1      8092\n",
      "Name: serious_delinquency, dtype: int64\n"
     ]
    },
    {
     "data": {
      "image/png": "[encoded data removed]",
      "text/plain": [
       "<Figure size 1080x648 with 1 Axes>"
      ]
     },
     "metadata": {},
     "output_type": "display_data"
    },
    {
     "name": "stdout",
     "output_type": "stream",
     "text": [
      "Percent Seriously Delinquent from Overall Dataset\n"
     ]
    },
    {
     "data": {
      "text/plain": [
       "0.071"
      ]
     },
     "execution_count": 8,
     "metadata": {},
     "output_type": "execute_result"
    }
   ],
   "source": [
    "# obtain counts of target variable and display them through print statement\n",
    "print(df.serious_delinquency.value_counts())\n",
    "\n",
    "\n",
    "# plot figure size\n",
    "plt.figure(figsize=(15,9))\n",
    "# define variable to plot\n",
    "y = df.serious_delinquency.value_counts()\n",
    "# format title and font\n",
    "plt.title('Serious Delinquency', fontsize=20)\n",
    "# create pie chart\n",
    "plt.pie(y)\n",
    "plt.show() \n",
    "\n",
    "# obtain percentage breakdown of target variable and round it to the nearest hundredth\n",
    "print(\"Percent Seriously Delinquent from Overall Dataset\")\n",
    "round(df.serious_delinquency.mean(), 3)"
   ]
  },
  {
   "cell_type": "markdown",
   "id": "4f3fb485-259c-4197-9694-52a4af579596",
   "metadata": {},
   "source": [
    "**OBSERVATIONS:** \n",
    "Borrowers who are seriously delinquent make up 7% of the dataset. This indicates an imbalance within the dataset, which at this time will not be addressed due to the time constraints of this project. However, for future iterations, it is recommended the imbalance be addressed through downsampling."
   ]
  },
  {
   "cell_type": "markdown",
   "id": "56ef9779-cbf3-4297-87a4-95ff542b5dcc",
   "metadata": {},
   "source": [
    "#### UNIVARIATE EXPLORATION SUMMARY:\n",
    "\n",
    "The following were takeaways from the univariate exploration section of the workbook. Only the takeaways are being included in this final report to keep the focus on the most pertinent information for the conclusion of this report. \n",
    "\n",
    "- Variable: quantity_90_days_pd \n",
    "    - Most have zero 90 days past due instances. \n",
    "    - 144 instances of being past due 98 times, seems unusual, compared to the other quanities. \n",
    "    - Consider binning \n",
    "    \n",
    "- Variable: age\n",
    "    - Most of the age data seems reasonable. \n",
    "    - There is one instance of age listed as 0, which would most likely be an input error, but 1 instance won't be impactful. \n",
    "    - Ages over 100, might seem unusual, but the quantities are not large or alarming. \n",
    "    - Most borrower ages are between 26 and 74, which seems reasonable.\n",
    "    - I will not delete any age data, as there is not any alarming or drastically unusual data. \n",
    "    - Age was binned into age categories for ease of bivariate exploration('age_0-19', 'age_20_24','age_25-34', 'age_35-44', 'age_45-54', 'age_54-64', 'age_65-74', 'age_75-84', 'age_85-105')\n",
    "    \n",
    "- Variable: revolv_unsec_utilization (Revolving Unsecured Loan Utilization)\n",
    "\n",
    "- Variable: monthly_income \n",
    "\n",
    "- Variable: debt_to_income_ratio \n",
    "\n",
    "- Variable: quantity_30_59_pd\n",
    "\n",
    "- Variable: quantity_60_89_days_pd \n",
    "\n",
    "- Variable: quantity_real_estate_loans \n",
    "\n",
    "- Variable: quantity_dependents \n",
    "    - Most of the dependent data seems reasonable. \n",
    "    - There is one instance of depdendents listed as 13 and one of 20, which could be an data-entry error or could be accurate, but 1 instance of each won't be impactful.\n",
    "    - Most are between 0 and 5, which seems reasonable.\n",
    "    - I will not delete any dependent data, as there is not any alarming or drastically unusual data. \n",
    "    - Dependents were binned into age categories for ease of bivariate exploration (0), (1-2), (3-4), (5-6), (7 or more)\n",
    "  "
   ]
  },
  {
   "cell_type": "markdown",
   "id": "66a328eb-e12f-4d1c-bad9-b5cbb38385cf",
   "metadata": {},
   "source": [
    "---"
   ]
  },
  {
   "cell_type": "markdown",
   "id": "2e313d80-541b-4586-8b6e-f06dd309f885",
   "metadata": {},
   "source": [
    "### BIVARIATE EXPLORATION\n",
    "\n",
    "All bivariate exploration was conducted on the train dataset to prevent data leakage. The initial questions and univariate exploration guided the bivariate exploration."
   ]
  },
  {
   "cell_type": "markdown",
   "id": "ec5e7d4b-beff-4ce6-8bb7-f74858370be4",
   "metadata": {},
   "source": [
    "#### EXPLORE QUESTIONS\n",
    "\n",
    "- 1. Are borrowers in certain age groups more likely to be seriously delinquent?\n",
    "- 2. Is monthly income for borrowers with serious delinquency significantly different from monthly income for those who are not seriously delinquent?\n",
    "- 3. Is debt to income ratio for borrowers with serious delinquency significantly different from debt to income ratio for those who are not seriously delinquent?\n",
    "- 4. Is revolving unsecured line utilization for borrowers with serious delinquency significantly different from revolving unsecured line utilization for those who are not seriously delinquent?"
   ]
  },
  {
   "cell_type": "markdown",
   "id": "71154233-13b7-46f5-a0f4-63f330083d53",
   "metadata": {},
   "source": [
    "---"
   ]
  },
  {
   "cell_type": "markdown",
   "id": "3c874901-1242-4c85-b22a-ef609139bebb",
   "metadata": {},
   "source": [
    "### QUESTION 1: AGE\n",
    "### Are borrowers in certain age groups more likely to be seriously delinquent?"
   ]
  },
  {
   "cell_type": "markdown",
   "id": "dc591b1e-a6fe-4b49-a8d9-95574759fb8b",
   "metadata": {},
   "source": [
    "In order to answer this question, the age variable has been feature engineered into categorical bins to see patterns in ages related to serious delinquency."
   ]
  },
  {
   "cell_type": "code",
   "execution_count": 9,
   "id": "d7cd5273-81b4-4729-bc47-30a90bfea7a3",
   "metadata": {},
   "outputs": [
    {
     "data": {
      "image/png": "[encoded data removed]",
      "text/plain": [
       "<Figure size 1080x648 with 1 Axes>"
      ]
     },
     "metadata": {
      "needs_background": "light"
     },
     "output_type": "display_data"
    }
   ],
   "source": [
    "# Create visualization with designated size, title, x label, y label, and font size, as well as font-size and labels for x and y ticks. \n",
    "# plot figure size\n",
    "plt.figure(figsize=(15,9))\n",
    "# designate labels for x axis features\n",
    "labels = ['No Serious Delinquency', 'Serious Delinquency']\n",
    "# create boxenplot\n",
    "sns.boxenplot(x='serious_delinquency',y='age',data=train, palette='colorblind')\n",
    "# format title\n",
    "plt.title(\"Age by Delinquency\", fontsize=20)\n",
    "# format x label title and font\n",
    "plt.xlabel('Seriously Delinquent', fontsize=18) \n",
    "# format x tick font\n",
    "plt.xticks(fontsize=14)\n",
    "# format y label title and font\n",
    "plt.ylabel('Age', fontsize=18) \n",
    "# format y tick font\n",
    "plt.yticks(fontsize=14)\n",
    "plt.show()"
   ]
  },
  {
   "cell_type": "markdown",
   "id": "7b007bb2-7ea9-46c6-9dc0-526539316ee3",
   "metadata": {},
   "source": [
    "**Observation:** Those who are seriously delinquent tend to be younger than those who are not. Binning and a countpot will be used to try to determine where most seriously delinquent borrrowers fall within the age category. "
   ]
  },
  {
   "cell_type": "code",
   "execution_count": 10,
   "id": "55efa8bd-77f4-4976-889c-f898410bd215",
   "metadata": {},
   "outputs": [
    {
     "data": {
      "image/png": "[encoded data removed]",
      "text/plain": [
       "<Figure size 1080x648 with 1 Axes>"
      ]
     },
     "metadata": {
      "needs_background": "light"
     },
     "output_type": "display_data"
    }
   ],
   "source": [
    "# Create visualization with designated size, title, x label, y label, and font size. \n",
    "# plot figure size\n",
    "plt.figure(figsize=(15,9))\n",
    "# create countplot\n",
    "sns.countplot(x='age_bins', hue='serious_delinquency', data=train, palette='colorblind')\n",
    "# format title\n",
    "plt.title(\"Count of Customers by Age Group, Separated by Status of Serious Delinquency\", fontsize=20)\n",
    "# format x label title and font\n",
    "plt.xlabel('Age Bins', fontsize=18) \n",
    "# format x tick font\n",
    "plt.xticks(fontsize=14, rotation= 40, ha='right')\n",
    "# format y label title and font\n",
    "plt.ylabel('Count', fontsize=18) \n",
    "# format y tick font\n",
    "plt.yticks(fontsize=14)\n",
    "# format legend font\n",
    "plt.legend(fontsize=20)\n",
    "plt.show()"
   ]
  },
  {
   "cell_type": "markdown",
   "id": "b74c1ac3-e6a5-4e1a-acb3-0e19b7311a45",
   "metadata": {},
   "source": [
    "The ratio of serious delinquency will help to define the age bins that have a greater percentage of serious delinquency observations in comparison to the number of applications. "
   ]
  },
  {
   "cell_type": "code",
   "execution_count": 11,
   "id": "f55877a0-73d9-4152-b44e-b34e47b56623",
   "metadata": {},
   "outputs": [
    {
     "data": {
      "text/plain": [
       "age_bins\n",
       "age_25-34     0.109924\n",
       "age_35-44     0.091298\n",
       "age_20_24     0.091008\n",
       "age_45-54     0.080047\n",
       "age_54-64     0.051128\n",
       "age_65-74     0.032568\n",
       "age_85-105    0.022805\n",
       "age_75-84     0.021845\n",
       "age_0-19           NaN\n",
       "Name: serious_delinquency, dtype: float64"
      ]
     },
     "execution_count": 11,
     "metadata": {},
     "output_type": "execute_result"
    }
   ],
   "source": [
    "# obtain ratio of serious delinquency per age group\n",
    "train.groupby('age_bins').serious_delinquency.mean().sort_values(ascending=False)"
   ]
  },
  {
   "cell_type": "markdown",
   "id": "8244ebce-76f7-414b-9eaa-6bb82dfcfa64",
   "metadata": {},
   "source": [
    "**Observation:** It appears through the visualization that serious delinquency occurs more frequently between 25 and 45 years old. As previously noted, there is about a 7% serious delinquency rate within this data set. When looking at the ratio of delinquency between the age groups, ages 20-24 (9%), 25-34 (11%), and 35-44(9%) all have above average ratios of serious delinquency. Statistical testing will be conducted to verify statistical relevance of observations. "
   ]
  },
  {
   "cell_type": "markdown",
   "id": "1f6189d5-c4a7-48d9-b09c-350f6e7d7173",
   "metadata": {},
   "source": [
    "### Statistical Testing"
   ]
  },
  {
   "cell_type": "markdown",
   "id": "d02c47ad-e991-428c-b010-4d7a01b58138",
   "metadata": {},
   "source": [
    "Chi^2 Statistical Testing will be conducted because the variables age bins and serious delinquency are both categorical/discrete.\n",
    "\n",
    "Hypothesis:\n",
    "- H$_{0}$: Serious Delinquency is independent of age. \n",
    "- H$_{a}$: Serious Delinquency is NOT independent of age."
   ]
  },
  {
   "cell_type": "code",
   "execution_count": 12,
   "id": "281fe8fe-af19-4f68-b9c2-13d11a0e5641",
   "metadata": {},
   "outputs": [
    {
     "name": "stdout",
     "output_type": "stream",
     "text": [
      "chi^2 = 706.8000\n",
      "p     = 0.0000\n",
      "We reject the null hypothesis, our data is statistically relevant.\n"
     ]
    }
   ],
   "source": [
    "# import for Hypothesis Testing\n",
    "import scipy.stats as stats\n",
    "\n",
    "# set alpha\n",
    "alpha= 0.05\n",
    "\n",
    "# conduct chi^2 statistical test\n",
    "observed = pd.crosstab(train['age_bins'], train.serious_delinquency)\n",
    "chi2, p, degf, expected = stats.chi2_contingency(observed)\n",
    "\n",
    "# obtain test statistics through a print statement\n",
    "print(f'chi^2 = {chi2:.4f}')\n",
    "print(f'p     = {p:.4f}')\n",
    "\n",
    "# determine outcome of stats testing\n",
    "if p < alpha:\n",
    "    print(\"We reject the null hypothesis, our data is statistically relevant.\")\n",
    "else:\n",
    "    print(\"We fail to reject the null hypothesis.\")"
   ]
  },
  {
   "cell_type": "markdown",
   "id": "ae9876f1-aa18-4f15-a780-55f7dd14935b",
   "metadata": {},
   "source": [
    "### ANSWER 1: AGE\n",
    "Yes, according to visualizations, summary statistics, and verified as statistically relevent through statistical testing, we can say borrowers in certain age groups are more likely to be seriously delinquent, particulary those between the ages of 20 and 44. "
   ]
  },
  {
   "cell_type": "markdown",
   "id": "e23fb4ae-6a78-44fe-be70-425301bc66ed",
   "metadata": {},
   "source": [
    "---"
   ]
  },
  {
   "cell_type": "markdown",
   "id": "7133e0ec-e489-4630-b6ca-19b8786d1cf3",
   "metadata": {},
   "source": [
    "---"
   ]
  },
  {
   "cell_type": "markdown",
   "id": "fd656d50-0027-42b1-ab32-17af92ef6290",
   "metadata": {},
   "source": [
    "### QUESTION 2: Monthly Income\n",
    "### Is monthly income for borrowers with serious delinquency significantly different from monthly income for those who are not seriously delinquent?"
   ]
  },
  {
   "cell_type": "markdown",
   "id": "4994575b-18cd-4fad-ae21-979ff6bd55fd",
   "metadata": {},
   "source": [
    "In order to answer this question, the monthly income variable was manually scaled to represent a monthly income that is more expected from those seeking credit. The dataset included observations for only those with monthly_income at \\\\$15, 000 or less."
   ]
  },
  {
   "cell_type": "code",
   "execution_count": 13,
   "id": "033dd7d5-53c7-4411-964b-2c0984c6b207",
   "metadata": {},
   "outputs": [
    {
     "data": {
      "image/png": "[encoded data removed]",
      "text/plain": [
       "<Figure size 1080x648 with 1 Axes>"
      ]
     },
     "metadata": {
      "needs_background": "light"
     },
     "output_type": "display_data"
    }
   ],
   "source": [
    "# Create visualization with designated size, title, x label, y label, and font size, as well as font-size and labels for x and y ticks. \n",
    "plt.figure(figsize=(15,9))\n",
    "labels = ['No Serious Delinquency', 'Serious Delinquency']\n",
    "sns.barplot(data = train, y = 'monthly_income', x = 'serious_delinquency', palette='colorblind')\n",
    "#sns.boxplot(x='serious_delinquency',y='monthly_income',data=train, palette='colorblind')\n",
    "plt.title(\"Monthly Income by Delinquency Status\", fontsize=20)\n",
    "plt.xlabel('Seriously Delinquent', fontsize=18) \n",
    "plt.xticks(fontsize=14)\n",
    "plt.ylabel('Monthly Income $', fontsize=18) \n",
    "plt.yticks(fontsize=14)\n",
    "plt.show()"
   ]
  },
  {
   "cell_type": "code",
   "execution_count": 14,
   "id": "5dcf885b-bcfe-43a9-ac85-0ce001aa0ff0",
   "metadata": {},
   "outputs": [
    {
     "data": {
      "text/html": [
       "<div>\n",
       "<style scoped>\n",
       "    .dataframe tbody tr th:only-of-type {\n",
       "        vertical-align: middle;\n",
       "    }\n",
       "\n",
       "    .dataframe tbody tr th {\n",
       "        vertical-align: top;\n",
       "    }\n",
       "\n",
       "    .dataframe thead th {\n",
       "        text-align: right;\n",
       "    }\n",
       "</style>\n",
       "<table border=\"1\" class=\"dataframe\">\n",
       "  <thead>\n",
       "    <tr style=\"text-align: right;\">\n",
       "      <th></th>\n",
       "      <th>min</th>\n",
       "      <th>mean</th>\n",
       "      <th>max</th>\n",
       "    </tr>\n",
       "    <tr>\n",
       "      <th>serious_delinquency</th>\n",
       "      <th></th>\n",
       "      <th></th>\n",
       "      <th></th>\n",
       "    </tr>\n",
       "  </thead>\n",
       "  <tbody>\n",
       "    <tr>\n",
       "      <th>0</th>\n",
       "      <td>0.0</td>\n",
       "      <td>5756.197434</td>\n",
       "      <td>14999.0</td>\n",
       "    </tr>\n",
       "    <tr>\n",
       "      <th>1</th>\n",
       "      <td>0.0</td>\n",
       "      <td>4943.006191</td>\n",
       "      <td>14932.0</td>\n",
       "    </tr>\n",
       "  </tbody>\n",
       "</table>\n",
       "</div>"
      ],
      "text/plain": [
       "                     min         mean      max\n",
       "serious_delinquency                           \n",
       "0                    0.0  5756.197434  14999.0\n",
       "1                    0.0  4943.006191  14932.0"
      ]
     },
     "execution_count": 14,
     "metadata": {},
     "output_type": "execute_result"
    }
   ],
   "source": [
    "# Obtain average monthly income for those who are seriously delinquent and those who are not. \n",
    "train.groupby(['serious_delinquency']).monthly_income.agg(['min', 'mean', 'max'])"
   ]
  },
  {
   "cell_type": "markdown",
   "id": "e918884b-fcec-4b83-87ce-0fddd0eba0ad",
   "metadata": {},
   "source": [
    "**Observation:** It appears through the visualization and summary statistics that serious delinquency occurs more frequently for those with lower monthly incomes. When looking at the mean monthly income for those with serious delinquency, it is about \\\\$800 less than those without serious delinquency. Statistical testing will be conducted to verify statistical relevance of observations. "
   ]
  },
  {
   "cell_type": "markdown",
   "id": "00c5cde9-3033-41df-80c8-cda4ce92ca70",
   "metadata": {},
   "source": [
    "---"
   ]
  },
  {
   "cell_type": "markdown",
   "id": "0e30a0c1-3438-44a4-8cb1-b6e26213870a",
   "metadata": {},
   "source": [
    "### Statistical Testing\n",
    "T-Test (2 Tailed) Statistical Testing  will be conducted because we are using the mean of monthly income for each category of delinquency (a mean of a subgroup vs. a mean of a subgroup) and comparing whether they are significantly different."
   ]
  },
  {
   "cell_type": "markdown",
   "id": "e2cb6a74-ef10-449c-b246-235c99ae4f2f",
   "metadata": {},
   "source": [
    "- H$_{0}$: Mean of monthly income of seriously delinquent borrowers == Mean of monthly income of borrowers who are not seriously delinquent. \n",
    "- H$_{a}$: Mean of monthly income of seriously delinquent borrowers != Mean of monthly income of borrowers who are not seriously delinquent."
   ]
  },
  {
   "cell_type": "code",
   "execution_count": 15,
   "id": "5a2be4b4-d532-4138-811a-d64468276e19",
   "metadata": {},
   "outputs": [
    {
     "name": "stdout",
     "output_type": "stream",
     "text": [
      "8144981.938042171\n",
      "10359135.66235622\n"
     ]
    }
   ],
   "source": [
    "# Set variables for features being used in the hypothesis test. For t-test, use the mean for the features.\n",
    "delinquent_sample = train[train.serious_delinquency == 1].monthly_income\n",
    "no_delinquent_sample = train[train.serious_delinquency == 0].monthly_income\n",
    "\n",
    "# Compare variance to verify assumptions for statistical testing \n",
    "print(delinquent_sample.var())\n",
    "print(no_delinquent_sample.var())"
   ]
  },
  {
   "cell_type": "markdown",
   "id": "d055ab44-e4b5-4587-8d54-9d363796f075",
   "metadata": {},
   "source": [
    "- The variance is not equal, which will need to be annotated in the hypothesis testing code to run a Welch's t-test."
   ]
  },
  {
   "cell_type": "code",
   "execution_count": 16,
   "id": "3cd8521f-d7a0-4c0a-8817-b59116fce141",
   "metadata": {},
   "outputs": [
    {
     "name": "stdout",
     "output_type": "stream",
     "text": [
      "-18.30047745186004 1.2035127124174728e-72 0.05\n",
      "We fail to reject $H_{0}$\n"
     ]
    }
   ],
   "source": [
    "# Set Alpha\n",
    "alpha = 0.05\n",
    "\n",
    "# Compute test statistic and probability\n",
    "t, p = stats.ttest_ind(delinquent_sample, no_delinquent_sample, equal_var=False)\n",
    "\n",
    "# Obtain test statistics through a print statement\n",
    "print(t, p, alpha)\n",
    "\n",
    "# Evaluate outcome of statistical testing\n",
    "if p < alpha:\n",
    "    print(\"We fail to reject $H_{0}$\")\n",
    "else:\n",
    "    print(\"We reject $H_{0}$\")"
   ]
  },
  {
   "cell_type": "markdown",
   "id": "e3c120fa-e662-4f12-80f4-61eabb5e145e",
   "metadata": {},
   "source": [
    "#### Outcome of statistical testing\n",
    "We failed to reject the null hypothesis that the mean of monthly income of seriously delinquent borrowers == mean of monthly charges of borrowers who are not seriously delinquent, which means our observation could be due to chance. It could be possible the relationship between monthly income and serious delinquency as visualized, truly doesn’t exist in the population, which is why the hypothesis test didn’t detect it in the sample. Another possibility is that the relationship between monthly income and serious delinquency as visualized exists in the population, but the test didn’t detect it for a variety of reasons. These reasons include the following:\n",
    "\n",
    "- The sample size was too small to detect the effect, perhaps due to imbalance. Downsampling could provide a different outcome, which we could contuct as next steps.\n",
    "- The variability in the data was too high. The effect exists, but noise in the data swamped the signal (effect).\n",
    "- By chance, the data collected is a fluky sample. When dealing with random samples, chance always plays a role in the results. The luck of the draw might have caused the sample not to reflect an effect that exists in the population.\n",
    "\n",
    "Based on all of the possibilities, we can say statistical testing resulted in failure to reject the null hypothesis. "
   ]
  },
  {
   "cell_type": "markdown",
   "id": "bb5d653e-ac76-4e5a-b69b-76e0600898ed",
   "metadata": {},
   "source": [
    "### ANSWER 2: MONTHLY INCOME\n",
    "We can NOT say for sure whether monthly income for borrowers with serious delinquency is significantly different from monthly income for those who are not seriously delinquent. According to visualizations and summary statistics, borrowers with lower monthly income are more likely to be seriously delinquent than those with average monthly income of \\\\$5700. However, statistical testing did not identify a consequential relationship between average monthly income and serious delinquency. "
   ]
  },
  {
   "cell_type": "markdown",
   "id": "88dd8322-73ea-44bf-bd7e-79a8239d2462",
   "metadata": {},
   "source": [
    "---"
   ]
  },
  {
   "cell_type": "markdown",
   "id": "2cab5c8a-8924-4fdd-84e8-97559553634e",
   "metadata": {},
   "source": [
    "---"
   ]
  },
  {
   "cell_type": "markdown",
   "id": "7eaa9a25-6fb7-4ba9-bc6f-2fa35dda260f",
   "metadata": {
    "tags": []
   },
   "source": [
    "## QUESTION 3:Debt to Income Ratio\n",
    "### Is debt to income ratio for borrowers with serious delinquency significantly different from debt to income ratio for those who are not seriously delinquent?"
   ]
  },
  {
   "cell_type": "code",
   "execution_count": 17,
   "id": "3d7a1d4c-65bd-4412-8ad6-29120230fb15",
   "metadata": {},
   "outputs": [
    {
     "data": {
      "image/png": "[encoded data removed]",
      "text/plain": [
       "<Figure size 1080x648 with 1 Axes>"
      ]
     },
     "metadata": {
      "needs_background": "light"
     },
     "output_type": "display_data"
    }
   ],
   "source": [
    "# Create visualization with designated size, title, x label, y label, and font size, as well as font-size and labels for x and y ticks. \n",
    "plt.figure(figsize=(15,9))\n",
    "labels = ['No Serious Delinquency', 'Serious Delinquency']\n",
    "ax = sns.barplot(data = train, y = 'debt_to_income_ratio', x = 'serious_delinquency', palette='colorblind')\n",
    "plt.title(\"Debt to Income Ratio by Delinquency Status\", fontsize=20)\n",
    "plt.xlabel('Seriously Delinquent', fontsize=18) \n",
    "plt.xticks(fontsize=14)\n",
    "plt.ylabel('Debt to Income Ratio%', fontsize=18) \n",
    "ax.yaxis.set_major_formatter(StrMethodFormatter('{x:.000%}'))\n",
    "plt.yticks(fontsize=14)\n",
    "plt.show()"
   ]
  },
  {
   "cell_type": "code",
   "execution_count": 18,
   "id": "00277dbe-73f2-4f42-a816-cecc41cb15c1",
   "metadata": {},
   "outputs": [
    {
     "data": {
      "text/html": [
       "<div>\n",
       "<style scoped>\n",
       "    .dataframe tbody tr th:only-of-type {\n",
       "        vertical-align: middle;\n",
       "    }\n",
       "\n",
       "    .dataframe tbody tr th {\n",
       "        vertical-align: top;\n",
       "    }\n",
       "\n",
       "    .dataframe thead th {\n",
       "        text-align: right;\n",
       "    }\n",
       "</style>\n",
       "<table border=\"1\" class=\"dataframe\">\n",
       "  <thead>\n",
       "    <tr style=\"text-align: right;\">\n",
       "      <th></th>\n",
       "      <th>min</th>\n",
       "      <th>mean</th>\n",
       "      <th>max</th>\n",
       "    </tr>\n",
       "    <tr>\n",
       "      <th>serious_delinquency</th>\n",
       "      <th></th>\n",
       "      <th></th>\n",
       "      <th></th>\n",
       "    </tr>\n",
       "  </thead>\n",
       "  <tbody>\n",
       "    <tr>\n",
       "      <th>0</th>\n",
       "      <td>0.0</td>\n",
       "      <td>29.700021</td>\n",
       "      <td>61106.5</td>\n",
       "    </tr>\n",
       "    <tr>\n",
       "      <th>1</th>\n",
       "      <td>0.0</td>\n",
       "      <td>16.215666</td>\n",
       "      <td>5774.5</td>\n",
       "    </tr>\n",
       "  </tbody>\n",
       "</table>\n",
       "</div>"
      ],
      "text/plain": [
       "                     min       mean      max\n",
       "serious_delinquency                         \n",
       "0                    0.0  29.700021  61106.5\n",
       "1                    0.0  16.215666   5774.5"
      ]
     },
     "execution_count": 18,
     "metadata": {},
     "output_type": "execute_result"
    }
   ],
   "source": [
    "# Obtain average debt to income ratio for those who are seriously delinquent and those who are not. \n",
    "train.groupby(['serious_delinquency']).debt_to_income_ratio.agg(['min', 'mean', 'max'])"
   ]
  },
  {
   "cell_type": "markdown",
   "id": "499cdf7d-af5f-4f43-99aa-972f10a9eb90",
   "metadata": {},
   "source": [
    "---"
   ]
  },
  {
   "cell_type": "markdown",
   "id": "524a7315-34cb-4a90-af7e-cbfa0debef2d",
   "metadata": {},
   "source": [
    "### Statistical Testing\n",
    "T-Test (2 Tailed) Statistical Testing  will be conducted because we are using the mean of debt to income ratio for each category of delinquency (a mean of a subgroup vs. a mean of a subgroup) and comparing whether they are significantly different."
   ]
  },
  {
   "cell_type": "markdown",
   "id": "974629c0-5b66-4a64-a579-6cfa49b86b3d",
   "metadata": {},
   "source": [
    "- H$_{0}$: Mean of of debt to income ratio of seriously delinquent borrowers == Mean of of debt to income ratio of borrowers who are not seriously delinquent. \n",
    "- H$_{a}$: Mean of of debt to income ratio of seriously delinquent borrowers != Mean of of debt to income ratio of borrowers who are not seriously delinquent."
   ]
  },
  {
   "cell_type": "code",
   "execution_count": 19,
   "id": "5516951d-59ac-4a80-9d65-b80bf98dd4f1",
   "metadata": {},
   "outputs": [
    {
     "name": "stdout",
     "output_type": "stream",
     "text": [
      "51166.25954738362\n",
      "272006.1845014788\n"
     ]
    }
   ],
   "source": [
    "# Set variables for features being used in the hypothesis test. For t-test, use the mean for the features.\n",
    "delinquent_sample = train[train.serious_delinquency == 1].debt_to_income_ratio\n",
    "no_delinquent_sample = train[train.serious_delinquency == 0].debt_to_income_ratio\n",
    "\n",
    "# Compare variance to verify assumptions for statistical testing \n",
    "print(delinquent_sample.var())\n",
    "print(no_delinquent_sample.var())"
   ]
  },
  {
   "cell_type": "markdown",
   "id": "f3e06960-5063-4c80-aa92-d318ffafad22",
   "metadata": {},
   "source": [
    "- The variance is not equal, which will need to be annotated in the hypothesis testing code."
   ]
  },
  {
   "cell_type": "code",
   "execution_count": 20,
   "id": "4687433f-7a91-41aa-be91-1d882039956e",
   "metadata": {},
   "outputs": [
    {
     "name": "stdout",
     "output_type": "stream",
     "text": [
      "-3.384438444241141 0.0007163568930883903 0.05\n",
      "We fail to reject $H_{0}$\n"
     ]
    }
   ],
   "source": [
    "# Set Alpha\n",
    "alpha = 0.05\n",
    "\n",
    "# Compute test statistic and probability\n",
    "t, p = stats.ttest_ind(delinquent_sample, no_delinquent_sample, equal_var=False)\n",
    "\n",
    "# Obtain test statistics through a print statement\n",
    "print(t, p, alpha)\n",
    "\n",
    "# Evaluate outcome of statistical testing\n",
    "if p < alpha:\n",
    "    print(\"We fail to reject $H_{0}$\")\n",
    "else:\n",
    "    print(\"We reject $H_{0}$\")"
   ]
  },
  {
   "cell_type": "markdown",
   "id": "cb9dde7d-1e00-4055-9b22-11165a162021",
   "metadata": {},
   "source": [
    "### ANSWER 3: DEBT TO INCOME RATIO\n",
    "We can NOT say for sure whether debt to income ratio for borrowers with serious delinquency is significantly different from debt to income ratio for those who are not seriously delinquent. According to visualizations and summary statistics, borrowers with lower debt to income ratio are more likely to be seriously delinquent than those with average debt to income ratio of 29\\%. However, statistical testing did not identify a consequential relationship between average debt to income ratio and serious delinquency. "
   ]
  },
  {
   "cell_type": "markdown",
   "id": "324b8e6d-cbd3-4a63-9b62-691e69465626",
   "metadata": {},
   "source": [
    "---"
   ]
  },
  {
   "cell_type": "markdown",
   "id": "873a199b-0e4d-459e-b145-d11dc4ea6c8b",
   "metadata": {},
   "source": [
    "---"
   ]
  },
  {
   "cell_type": "markdown",
   "id": "0a590de4-44ca-451e-a67e-ec358c6c7185",
   "metadata": {},
   "source": [
    "## QUESTION 4: Revolving Unsecured Line Utilization\n",
    "### Is revolving unsecured line utilization for borrowers with serious delinquency significantly different from revolving unsecured line utilization for those who are not seriously delinquent?"
   ]
  },
  {
   "cell_type": "markdown",
   "id": "2e041bc8-47fa-4604-b3d2-ef8d32587ddd",
   "metadata": {},
   "source": [
    "For the purpose of this data, revolving unsecured line utilization is the total balance on credit cards and personal lines of credit divided by the sum of credit limits. It does not include real estate and it does not include installment debt, like car loans."
   ]
  },
  {
   "cell_type": "code",
   "execution_count": 21,
   "id": "0a97b970-d365-4eaf-a63a-8953bfcf1b7d",
   "metadata": {},
   "outputs": [
    {
     "data": {
      "image/png": "[encoded data removed]",
      "text/plain": [
       "<Figure size 1080x648 with 1 Axes>"
      ]
     },
     "metadata": {
      "needs_background": "light"
     },
     "output_type": "display_data"
    }
   ],
   "source": [
    "# Create visualization with designated size, title, x label, y label, and font size, as well as font-size and labels for x and y ticks. \n",
    "plt.figure(figsize=(15,9))\n",
    "labels = ['No Serious Delinquency', 'Serious Delinquency']\n",
    "ax = sns.barplot(data = train, y = 'revolv_unsec_utilization', x = 'serious_delinquency', palette='colorblind')\n",
    "plt.title(\"Revolving Unsecured Loan Utilization by Delinquency Status\", fontsize=20)\n",
    "plt.xlabel('Seriously Delinquent', fontsize=18) \n",
    "plt.xticks(fontsize=14)\n",
    "plt.ylabel('Utilization Rate %', fontsize=18) \n",
    "ax.yaxis.set_major_formatter(StrMethodFormatter('{x:.000%}'))\n",
    "plt.yticks(fontsize=14)\n",
    "plt.show()"
   ]
  },
  {
   "cell_type": "code",
   "execution_count": 22,
   "id": "6b2e5d99-93c3-4c68-9216-3fa9b3711321",
   "metadata": {},
   "outputs": [
    {
     "data": {
      "text/html": [
       "<div>\n",
       "<style scoped>\n",
       "    .dataframe tbody tr th:only-of-type {\n",
       "        vertical-align: middle;\n",
       "    }\n",
       "\n",
       "    .dataframe tbody tr th {\n",
       "        vertical-align: top;\n",
       "    }\n",
       "\n",
       "    .dataframe thead th {\n",
       "        text-align: right;\n",
       "    }\n",
       "</style>\n",
       "<table border=\"1\" class=\"dataframe\">\n",
       "  <thead>\n",
       "    <tr style=\"text-align: right;\">\n",
       "      <th></th>\n",
       "      <th>min</th>\n",
       "      <th>mean</th>\n",
       "      <th>max</th>\n",
       "    </tr>\n",
       "    <tr>\n",
       "      <th>serious_delinquency</th>\n",
       "      <th></th>\n",
       "      <th></th>\n",
       "      <th></th>\n",
       "    </tr>\n",
       "  </thead>\n",
       "  <tbody>\n",
       "    <tr>\n",
       "      <th>0</th>\n",
       "      <td>0.0</td>\n",
       "      <td>5.864567</td>\n",
       "      <td>29110.0</td>\n",
       "    </tr>\n",
       "    <tr>\n",
       "      <th>1</th>\n",
       "      <td>0.0</td>\n",
       "      <td>3.153037</td>\n",
       "      <td>3572.0</td>\n",
       "    </tr>\n",
       "  </tbody>\n",
       "</table>\n",
       "</div>"
      ],
      "text/plain": [
       "                     min      mean      max\n",
       "serious_delinquency                        \n",
       "0                    0.0  5.864567  29110.0\n",
       "1                    0.0  3.153037   3572.0"
      ]
     },
     "execution_count": 22,
     "metadata": {},
     "output_type": "execute_result"
    }
   ],
   "source": [
    "# Obtain average revolving unsecured utilization rate for those who are seriously delinquent and those who are not. \n",
    "train.groupby(['serious_delinquency']).revolv_unsec_utilization.agg(['min', 'mean', 'max'])"
   ]
  },
  {
   "cell_type": "markdown",
   "id": "97e3e7b8-b6de-46bd-829d-e8141f29017d",
   "metadata": {},
   "source": [
    "---"
   ]
  },
  {
   "cell_type": "markdown",
   "id": "6ed30ea4-5778-4430-9961-3f64639503f0",
   "metadata": {},
   "source": [
    "### Statistical Testing\n",
    "T-Test (2 Tailed) Statistical Testing  will be conducted because we are using the mean of revolving unsecured line utilization for each category of delinquency (a mean of a subgroup vs. a mean of a subgroup) and comparing whether they are significantly different."
   ]
  },
  {
   "cell_type": "markdown",
   "id": "8b5b6d58-0a2b-4be5-9026-36fcb26a4618",
   "metadata": {},
   "source": [
    "- H$_{0}$: Mean rate of revolving unsecured line utilization of seriously delinquent borrowers > Mean rate of revolving unsecured line utilization of borrowers who are not seriously delinquent. \n",
    "- H$_{a}$: Mean of revolving unsecured line utilizationof seriously delinquent borrowers <= Mean rate of revolving unsecured line utilization of borrowers who are not seriously delinquent."
   ]
  },
  {
   "cell_type": "code",
   "execution_count": 23,
   "id": "62c42691-68f3-4962-9e48-a19567350b68",
   "metadata": {},
   "outputs": [
    {
     "name": "stdout",
     "output_type": "stream",
     "text": [
      "6072.036413841905\n",
      "58649.49784731927\n"
     ]
    }
   ],
   "source": [
    "# Set variables for features being used in the hypothesis test. For t-test, use the mean for the features.\n",
    "delinquent_sample = train[train.serious_delinquency == 1].revolv_unsec_utilization\n",
    "no_delinquent_sample = train[train.serious_delinquency == 0].revolv_unsec_utilization\n",
    "\n",
    "# Compare variance to verify assumptions for statistical testing \n",
    "print(delinquent_sample.var())\n",
    "print(no_delinquent_sample.var())"
   ]
  },
  {
   "cell_type": "code",
   "execution_count": 24,
   "id": "60ffb2f5-1a70-440c-a49e-2c3d2a279985",
   "metadata": {},
   "outputs": [
    {
     "name": "stdout",
     "output_type": "stream",
     "text": [
      "-1.7778946489412928 0.07544444945948796 0.05\n",
      "We reject $H_{0}$\n"
     ]
    }
   ],
   "source": [
    "# Set Alpha\n",
    "alpha = 0.05\n",
    "\n",
    "# Compute test statistic and probability\n",
    "t, p = stats.ttest_ind(delinquent_sample, no_delinquent_sample, equal_var=False)\n",
    "\n",
    "# Obtain test statistics through a print statement\n",
    "print(t, p, alpha)\n",
    "\n",
    "# Evaluate outcome of statistical testing\n",
    "if p < alpha:\n",
    "    print(\"We fail to reject $H_{0}$\")\n",
    "else:\n",
    "    print(\"We reject $H_{0}$\")"
   ]
  },
  {
   "cell_type": "markdown",
   "id": "7356abcd-57ad-4e6f-8b1c-d46343152195",
   "metadata": {},
   "source": [
    "## ANSWER 4: Revolving Unsecured Line Utilization\n",
    "\n",
    "Yes, according to visualizations, summary statistics, and verified as statistically relevent through statistical testing, we can say revolving unsecured line utilization for borrowers with serious delinquency is significantly different from revolving unsecured line utilization for those who are not seriously delinquent. In fact, it is lower for those with serious delinquency. Those with serious delinquency have an average revolving unsecured line utilization of 315\\%, over 250\\% lower than those with no serious delinquency.\n"
   ]
  },
  {
   "cell_type": "markdown",
   "id": "234347b1-1957-4f27-a826-a81c3cc08839",
   "metadata": {},
   "source": [
    "---"
   ]
  },
  {
   "cell_type": "markdown",
   "id": "1ce5d7ed-3528-4358-9ed9-5626f8f06713",
   "metadata": {
    "tags": []
   },
   "source": [
    "### EXPLORATION SUMMARY"
   ]
  },
  {
   "cell_type": "markdown",
   "id": "dc9d4c2e-0d95-4d71-8545-b3225adadac5",
   "metadata": {},
   "source": [
    "Exploration revealed the feature of age was a driver of serious delinquency, indicating borrowers in certain age groups are more likely to be seriously delinquent, particulary those between the ages of 20 and 44. Interestingly, revolving unsecured line utilization rate is lower for borrowers with serious delinquency. This could be because they are not able to access as much credit if they have a history of delinquency. \n",
    "\n",
    "Two features, monthly income and debt to income ratio, appeared to be visually and statistically significantly different for those with serious delinquency, but statistical testing did not confirm a realtionship. Given there could be many reasons for this to include sample size, we will do some modeling with the features included and some modeling without these features.  \n",
    "\n",
    "Interestingly, revolving unsecured line utilization rate is lower for borrowers with serious delinquency. This could be because they are not able to access as much credit if they have a history of delinquency.  \n",
    "\n",
    "\n",
    "#### 1. Are borrowers in certain age groups more likely to be seriously delinquent?\n",
    "\n",
    "Yes, according to visualizations, summary statistics, and verified as statistically relevent through statistical testing, we can say borrowers in certain age groups are more likely to be seriously delinquent, particulary those between the ages of 20 and 44. \n",
    "\n",
    "---\n",
    "    \n",
    "#### 2. Is monthly income for borrowers with serious delinquency significantly different from monthly income for those who are not seriously delinquent?\n",
    "\n",
    "We can NOT say for sure whether monthly income for borrowers with serious delinquency is significantly different from monthly income for those who are not seriously delinquent. According to visualizations and summary statistics, borrowers with lower monthly income are more likely to be seriously delinquent than those with average monthly income of \\\\$5700. However, statistical testing did not identify a consequential relationship between average monthly income and serious delinquency. \n",
    " \n",
    "---\n",
    "    \n",
    "#### 3. Is debt to income ratio for borrowers with serious delinquency significantly different from debt to income ratio for those who are not seriously delinquent?\n",
    "\n",
    "We can NOT say for sure whether debt to income ratio for borrowers with serious delinquency is significantly different from debt to income ratio for those who are not seriously delinquent. According to visualizations and summary statistics, borrowers with lower debt to income ratio are more likely to be seriously delinquent than those with average debt to income ratio of 29\\%. However, statistical testing did not identify a consequential relationship between average debt to income ratio and serious delinquency. \n",
    " \n",
    "---\n",
    "    \n",
    "#### 4. Is revolving unsecured line utilization for borrowers with serious delinquency significantly different from revolving unsecured line utilization for those who are not seriously delinquent?\n",
    "\n",
    "Yes, according to visualizations, summary statistics, and verified as statistically relevent through statistical testing, we can say revolving unsecured line utilization for borrowers with serious delinquency is significantly different from revolving unsecured line utilization for those who are not seriously delinquent. In fact, it is lower for those with serious delinquency. Those with serious delinquency have an average revolving unsecured line utilization of 315\\%, over 250\\% lower than those with no serious delinquency.. "
   ]
  },
  {
   "cell_type": "markdown",
   "id": "a6a766ab-e7cf-4c61-81a5-75f613fd7504",
   "metadata": {},
   "source": [
    "==================================================================================================================================="
   ]
  },
  {
   "cell_type": "markdown",
   "id": "029a5287-2ab3-407d-bd77-de9b79c6d2a9",
   "metadata": {},
   "source": [
    "## IV. MODEL"
   ]
  },
  {
   "cell_type": "code",
   "execution_count": 25,
   "id": "b3c1fb83-dcd4-48b2-960d-c0b455f90388",
   "metadata": {},
   "outputs": [],
   "source": [
    "# Import for modeling\n",
    "from sklearn.tree import DecisionTreeClassifier, plot_tree\n",
    "from sklearn.metrics import classification_report\n",
    "from sklearn.metrics import confusion_matrix\n",
    "\n",
    "from sklearn.ensemble import RandomForestClassifier\n",
    "from sklearn.linear_model import LogisticRegression"
   ]
  },
  {
   "cell_type": "markdown",
   "id": "45d31a68-9b74-4e5d-9a40-2269604a920b",
   "metadata": {},
   "source": [
    "Because serious delinquency is a yes or no (boolean) value, classification machine learning algorithms were used to fit to the training data and the models were evaluated on validate data. The best model was selected using accuracy, because the data is mostly balanced, and the risk of an event happening balances the risk of getting a prediction wrong. In other words, the model was optimized for identifying true positives (actual delinquency when predicted), and true negatives (no serious delinquency when predicted), while minimizing false positive and false negatives."
   ]
  },
  {
   "cell_type": "markdown",
   "id": "94e86c50-30c4-455d-8142-8d8f2c4e6af2",
   "metadata": {},
   "source": [
    "### MODEL - SCALE\n",
    "As previously mentioned, scaling was done manually to monthly income inside the prep function. Monthly income was scaled to include only observations below \\\\$15,000 to be more in line with the typical borrower. By including only the observations noted, 95\\\\% of the data was still retained. No other scaling was conducted at this time."
   ]
  },
  {
   "cell_type": "markdown",
   "id": "704b0308-a9b4-42aa-96b8-b25671cbe45f",
   "metadata": {},
   "source": [
    "### Set X & y"
   ]
  },
  {
   "cell_type": "code",
   "execution_count": 26,
   "id": "a4fa23c8-4750-4490-858a-7fc5ab6572a0",
   "metadata": {},
   "outputs": [],
   "source": [
    "# create X & y version of train, where y is a series with just the target variable and X are all the features. \n",
    "X_train = train.drop(columns=['serious_delinquency','quantity_90_days_pd', 'age_bins', 'quantity_dependents_bins'])\n",
    "y_train = train.serious_delinquency\n",
    "\n",
    "X_validate = validate.drop(columns=['serious_delinquency', 'quantity_90_days_pd', 'age_bins', 'quantity_dependents_bins'])\n",
    "y_validate = validate.serious_delinquency\n",
    "\n",
    "X_test = test.drop(columns=['serious_delinquency', 'quantity_90_days_pd', 'age_bins', 'quantity_dependents_bins'])\n",
    "y_test = test.serious_delinquency"
   ]
  },
  {
   "cell_type": "markdown",
   "id": "33ddd1c0-f91b-4452-80a7-7689c71b3a14",
   "metadata": {},
   "source": [
    "### Set Baseline"
   ]
  },
  {
   "cell_type": "markdown",
   "id": "2c6a4a5b-18f7-49c1-a5cb-90251027c5df",
   "metadata": {},
   "source": [
    "A baseline prediction was set by predicting all customers will not have serious_delinquency (serious delinquency == 0). I will evaluate the accuracy of that."
   ]
  },
  {
   "cell_type": "code",
   "execution_count": 48,
   "id": "3b42d6f9-c49b-4cc6-9030-cf6ee2931cbb",
   "metadata": {},
   "outputs": [
    {
     "name": "stdout",
     "output_type": "stream",
     "text": [
      "Baseline Accuracy: 92.95%\n"
     ]
    }
   ],
   "source": [
    "# Obtain the mode for the target\n",
    "baseline = y_train.mode()\n",
    "\n",
    "# produce boolean array with True assigned to match the baseline prediction and real data. \n",
    "matches_baseline_prediction = (y_train == 0)\n",
    "\n",
    "baseline_accuracy = matches_baseline_prediction.mean()\n",
    "\n",
    "print(f'Baseline Accuracy: {baseline_accuracy:.2%}')"
   ]
  },
  {
   "cell_type": "markdown",
   "id": "ad8bf5ef-e8ea-4537-b99e-b8b93098ba04",
   "metadata": {},
   "source": [
    "#### The 3 models built were \n",
    "- Decision Tree - As viewed in workbook\n",
    "- Random Forest\n",
    "- Logistic Regression - As viewed in workbook\n",
    "\n",
    "The models were run with many trials, adjusting parameters and algorithms to find the best performing model.  \n",
    "\n",
    "- None of these model appeared to be overfit.\n",
    "\n",
    "- The Random Forest Model that performed best had ____ samples_per_leaf and max_depth of ____, with train accuracy of _____and validate accuracy of _____ performing _____ better than baseline with validate. \n",
    "    - A ____improvement improvement from the baseline.\n",
    "\n",
    "- it was then applied to the un-seen test data."
   ]
  },
  {
   "cell_type": "markdown",
   "id": "53b657d5-85a0-4163-88e5-5e6c4507dcba",
   "metadata": {},
   "source": [
    "### MODEL - DECISION TREE"
   ]
  },
  {
   "cell_type": "code",
   "execution_count": 28,
   "id": "f7cb9339-1479-4101-9fe8-9e2b1f7bad5e",
   "metadata": {},
   "outputs": [],
   "source": [
    "#Create the object\n",
    "clf1 = DecisionTreeClassifier(max_depth=2, random_state=123)\n",
    "# Fit the model\n",
    "clf1 = clf1.fit(X_train, y_train)"
   ]
  },
  {
   "cell_type": "code",
   "execution_count": 29,
   "id": "4a317906-f4a5-475a-aeb5-61abefb49aed",
   "metadata": {},
   "outputs": [
    {
     "data": {
      "text/plain": [
       "[Text(0.5, 0.8333333333333334, 'quantity_60_89_days_pd <= 0.5\\ngini = 0.131\\nsamples = 64153\\nvalue = [59630, 4523]'),\n",
       " Text(0.25, 0.5, 'revolv_unsec_utilization <= 0.533\\ngini = 0.103\\nsamples = 60773\\nvalue = [57465, 3308]'),\n",
       " Text(0.125, 0.16666666666666666, 'gini = 0.051\\nsamples = 45377\\nvalue = [44198, 1179]'),\n",
       " Text(0.375, 0.16666666666666666, 'gini = 0.238\\nsamples = 15396\\nvalue = [13267, 2129]'),\n",
       " Text(0.75, 0.5, 'revolv_unsec_utilization <= 0.599\\ngini = 0.461\\nsamples = 3380\\nvalue = [2165, 1215]'),\n",
       " Text(0.625, 0.16666666666666666, 'gini = 0.329\\nsamples = 1299\\nvalue = [1029, 270]'),\n",
       " Text(0.875, 0.16666666666666666, 'gini = 0.496\\nsamples = 2081\\nvalue = [1136, 945]')]"
      ]
     },
     "execution_count": 29,
     "metadata": {},
     "output_type": "execute_result"
    },
    {
     "data": {
      "image/png": "[encoded data removed]",
      "text/plain": [
       "<Figure size 1584x864 with 1 Axes>"
      ]
     },
     "metadata": {
      "needs_background": "light"
     },
     "output_type": "display_data"
    }
   ],
   "source": [
    "#Visualize the model\n",
    "plt.figure(figsize=(22, 12))\n",
    "plot_tree(clf1,feature_names=X_train.columns)"
   ]
  },
  {
   "cell_type": "code",
   "execution_count": 30,
   "id": "58b6e3bf-4da1-47c7-8f78-f7a1575d16fa",
   "metadata": {},
   "outputs": [],
   "source": [
    "# make predictions\n",
    "y_pred = clf1.predict(X_train)"
   ]
  },
  {
   "cell_type": "code",
   "execution_count": 31,
   "id": "d906ace2-cc5a-4f12-96d6-2a36f4574939",
   "metadata": {},
   "outputs": [
    {
     "data": {
      "text/html": [
       "<div>\n",
       "<style scoped>\n",
       "    .dataframe tbody tr th:only-of-type {\n",
       "        vertical-align: middle;\n",
       "    }\n",
       "\n",
       "    .dataframe tbody tr th {\n",
       "        vertical-align: top;\n",
       "    }\n",
       "\n",
       "    .dataframe thead th {\n",
       "        text-align: right;\n",
       "    }\n",
       "</style>\n",
       "<table border=\"1\" class=\"dataframe\">\n",
       "  <thead>\n",
       "    <tr style=\"text-align: right;\">\n",
       "      <th></th>\n",
       "      <th>Not Seriously Delinquent</th>\n",
       "      <th>Seriously Delinquent</th>\n",
       "    </tr>\n",
       "  </thead>\n",
       "  <tbody>\n",
       "    <tr>\n",
       "      <th>0</th>\n",
       "      <td>0.974018</td>\n",
       "      <td>0.025982</td>\n",
       "    </tr>\n",
       "    <tr>\n",
       "      <th>1</th>\n",
       "      <td>0.861717</td>\n",
       "      <td>0.138283</td>\n",
       "    </tr>\n",
       "    <tr>\n",
       "      <th>2</th>\n",
       "      <td>0.974018</td>\n",
       "      <td>0.025982</td>\n",
       "    </tr>\n",
       "    <tr>\n",
       "      <th>3</th>\n",
       "      <td>0.974018</td>\n",
       "      <td>0.025982</td>\n",
       "    </tr>\n",
       "    <tr>\n",
       "      <th>4</th>\n",
       "      <td>0.974018</td>\n",
       "      <td>0.025982</td>\n",
       "    </tr>\n",
       "  </tbody>\n",
       "</table>\n",
       "</div>"
      ],
      "text/plain": [
       "   Not Seriously Delinquent  Seriously Delinquent\n",
       "0                  0.974018              0.025982\n",
       "1                  0.861717              0.138283\n",
       "2                  0.974018              0.025982\n",
       "3                  0.974018              0.025982\n",
       "4                  0.974018              0.025982"
      ]
     },
     "execution_count": 31,
     "metadata": {},
     "output_type": "execute_result"
    }
   ],
   "source": [
    "y_pred_proba = clf1.predict_proba(X_train)\n",
    "pd.DataFrame(y_pred_proba, columns = ['Not Seriously Delinquent', 'Seriously Delinquent']).head()"
   ]
  },
  {
   "cell_type": "markdown",
   "id": "688c26a8-15c3-4a9d-ad8f-4adf8eac2b29",
   "metadata": {},
   "source": [
    "### Evaluate Model"
   ]
  },
  {
   "cell_type": "code",
   "execution_count": 32,
   "id": "0374aee6-d206-452f-8607-3eb95aa2239c",
   "metadata": {},
   "outputs": [
    {
     "name": "stdout",
     "output_type": "stream",
     "text": [
      "Accuracy of Decision Tree classifier on training set: 0.93\n"
     ]
    }
   ],
   "source": [
    "print('Accuracy of Decision Tree classifier on training set: {:.2f}'\n",
    "      .format(clf1.score(X_train, y_train)))"
   ]
  },
  {
   "cell_type": "markdown",
   "id": "3cd9d561-c1ca-46d6-850c-61fd4e8a5616",
   "metadata": {},
   "source": [
    "### Create a Confusion Matrix\n",
    "- True Positive: number of occurrences where serious delinquency is true and serious delinquency is predicted true.\n",
    "- True Negative: number of occurrences where serious delinquency is false and serious delinquency is predicted false.\n",
    "- False Positive: number of occurrences where serious delinquency is false and serious delinquency is predicted true.\n",
    "- False Negative: number of occurrences where serious delinquency is true and serious delinquency is predicted false."
   ]
  },
  {
   "cell_type": "code",
   "execution_count": 33,
   "id": "7c7c4f6e-9d3d-45b2-ac4f-630fce6be869",
   "metadata": {},
   "outputs": [
    {
     "data": {
      "text/plain": [
       "array([[59630,     0],\n",
       "       [ 4523,     0]])"
      ]
     },
     "execution_count": 33,
     "metadata": {},
     "output_type": "execute_result"
    }
   ],
   "source": [
    "confusion_matrix(y_train, y_pred)"
   ]
  },
  {
   "cell_type": "code",
   "execution_count": 34,
   "id": "321d5eb8-7219-45f8-8c35-11da8529a2c0",
   "metadata": {},
   "outputs": [
    {
     "data": {
      "text/plain": [
       "array([[59630,     0],\n",
       "       [ 4523,     0]])"
      ]
     },
     "execution_count": 34,
     "metadata": {},
     "output_type": "execute_result"
    }
   ],
   "source": [
    "confusion_matrix(y_train, y_pred)"
   ]
  },
  {
   "cell_type": "code",
   "execution_count": 35,
   "id": "a5d46401-4042-4ba6-8738-7fbdb01328a3",
   "metadata": {},
   "outputs": [
    {
     "data": {
      "text/plain": [
       "0    59630\n",
       "1     4523\n",
       "Name: serious_delinquency, dtype: int64"
      ]
     },
     "execution_count": 35,
     "metadata": {},
     "output_type": "execute_result"
    }
   ],
   "source": [
    "y_train.value_counts()"
   ]
  },
  {
   "cell_type": "code",
   "execution_count": 36,
   "id": "c37929f1-4563-45e6-8c1c-139433ee050b",
   "metadata": {},
   "outputs": [
    {
     "data": {
      "text/html": [
       "<div>\n",
       "<style scoped>\n",
       "    .dataframe tbody tr th:only-of-type {\n",
       "        vertical-align: middle;\n",
       "    }\n",
       "\n",
       "    .dataframe tbody tr th {\n",
       "        vertical-align: top;\n",
       "    }\n",
       "\n",
       "    .dataframe thead th {\n",
       "        text-align: right;\n",
       "    }\n",
       "</style>\n",
       "<table border=\"1\" class=\"dataframe\">\n",
       "  <thead>\n",
       "    <tr style=\"text-align: right;\">\n",
       "      <th></th>\n",
       "      <th>0</th>\n",
       "      <th>1</th>\n",
       "    </tr>\n",
       "  </thead>\n",
       "  <tbody>\n",
       "    <tr>\n",
       "      <th>0</th>\n",
       "      <td>59630</td>\n",
       "      <td>0</td>\n",
       "    </tr>\n",
       "    <tr>\n",
       "      <th>1</th>\n",
       "      <td>4523</td>\n",
       "      <td>0</td>\n",
       "    </tr>\n",
       "  </tbody>\n",
       "</table>\n",
       "</div>"
      ],
      "text/plain": [
       "       0  1\n",
       "0  59630  0\n",
       "1   4523  0"
      ]
     },
     "execution_count": 36,
     "metadata": {},
     "output_type": "execute_result"
    }
   ],
   "source": [
    "labels = sorted(y_train.unique())\n",
    "\n",
    "pd.DataFrame(confusion_matrix(y_train, y_pred), index=labels, columns=labels)"
   ]
  },
  {
   "cell_type": "markdown",
   "id": "61094000-ecde-4962-ab81-65b3a7e48bd9",
   "metadata": {},
   "source": [
    "### Create a Classification Report\n",
    "- Acuracy isn't everything, look at other evaluation metrics, such as recalll and precision."
   ]
  },
  {
   "cell_type": "code",
   "execution_count": 37,
   "id": "76da48b2-5d48-4e29-be1c-144b4f36b82e",
   "metadata": {},
   "outputs": [
    {
     "name": "stdout",
     "output_type": "stream",
     "text": [
      "              precision    recall  f1-score   support\n",
      "\n",
      "           0       0.93      1.00      0.96     59630\n",
      "           1       0.00      0.00      0.00      4523\n",
      "\n",
      "    accuracy                           0.93     64153\n",
      "   macro avg       0.46      0.50      0.48     64153\n",
      "weighted avg       0.86      0.93      0.90     64153\n",
      "\n"
     ]
    }
   ],
   "source": [
    "print(classification_report(y_train, y_pred))"
   ]
  },
  {
   "cell_type": "markdown",
   "id": "6d9ab439-9813-4632-8148-9218c4808c23",
   "metadata": {},
   "source": [
    "### Evaluate the Model with our Validate dataset"
   ]
  },
  {
   "cell_type": "code",
   "execution_count": 38,
   "id": "e68384d9-708d-4331-ae8d-b0ae448b958f",
   "metadata": {},
   "outputs": [
    {
     "name": "stdout",
     "output_type": "stream",
     "text": [
      "Accuracy of Decision Tree classifier on validate set: 0.93\n"
     ]
    }
   ],
   "source": [
    "print('Accuracy of Decision Tree classifier on validate set: {:.2f}'\n",
    "     .format(clf1.score(X_validate, y_validate)))"
   ]
  },
  {
   "cell_type": "code",
   "execution_count": 39,
   "id": "9ee262c0-c577-4436-88ef-56d81bc9719a",
   "metadata": {},
   "outputs": [
    {
     "name": "stdout",
     "output_type": "stream",
     "text": [
      "              precision    recall  f1-score   support\n",
      "\n",
      "           0       0.93      1.00      0.96     25566\n",
      "           1       0.00      0.00      0.00      1929\n",
      "\n",
      "    accuracy                           0.93     27495\n",
      "   macro avg       0.46      0.50      0.48     27495\n",
      "weighted avg       0.86      0.93      0.90     27495\n",
      "\n"
     ]
    }
   ],
   "source": [
    "# Produce y_predictions that come from the X_validate\n",
    "y_pred = clf1.predict(X_validate)\n",
    "\n",
    "# Compare actual y values (from validate) to predicted y_values from the model run on X_validate\n",
    "print(classification_report(y_validate, y_pred))"
   ]
  },
  {
   "cell_type": "markdown",
   "id": "4d5ce56e-aff5-4668-878a-d147fa053a70",
   "metadata": {},
   "source": [
    "### Model - RANDOM FOREST"
   ]
  },
  {
   "cell_type": "code",
   "execution_count": 40,
   "id": "d2829eba-8803-411b-a94a-0d66a6b80a3b",
   "metadata": {
    "jp-MarkdownHeadingCollapsed": true,
    "tags": []
   },
   "outputs": [
    {
     "data": {
      "text/html": [
       "<div>\n",
       "<style scoped>\n",
       "    .dataframe tbody tr th:only-of-type {\n",
       "        vertical-align: middle;\n",
       "    }\n",
       "\n",
       "    .dataframe tbody tr th {\n",
       "        vertical-align: top;\n",
       "    }\n",
       "\n",
       "    .dataframe thead th {\n",
       "        text-align: right;\n",
       "    }\n",
       "</style>\n",
       "<table border=\"1\" class=\"dataframe\">\n",
       "  <thead>\n",
       "    <tr style=\"text-align: right;\">\n",
       "      <th></th>\n",
       "      <th>min_samples_per_leaf</th>\n",
       "      <th>max_depth</th>\n",
       "      <th>train_accuracy</th>\n",
       "      <th>validate_accuracy</th>\n",
       "      <th>difference</th>\n",
       "    </tr>\n",
       "  </thead>\n",
       "  <tbody>\n",
       "    <tr>\n",
       "      <th>0</th>\n",
       "      <td>1</td>\n",
       "      <td>1</td>\n",
       "      <td>0.929497</td>\n",
       "      <td>0.929842</td>\n",
       "      <td>-0.000345</td>\n",
       "    </tr>\n",
       "    <tr>\n",
       "      <th>1</th>\n",
       "      <td>2</td>\n",
       "      <td>2</td>\n",
       "      <td>0.929497</td>\n",
       "      <td>0.929842</td>\n",
       "      <td>-0.000345</td>\n",
       "    </tr>\n",
       "    <tr>\n",
       "      <th>2</th>\n",
       "      <td>3</td>\n",
       "      <td>3</td>\n",
       "      <td>0.929497</td>\n",
       "      <td>0.929842</td>\n",
       "      <td>-0.000345</td>\n",
       "    </tr>\n",
       "    <tr>\n",
       "      <th>3</th>\n",
       "      <td>4</td>\n",
       "      <td>4</td>\n",
       "      <td>0.931227</td>\n",
       "      <td>0.931115</td>\n",
       "      <td>0.000112</td>\n",
       "    </tr>\n",
       "    <tr>\n",
       "      <th>4</th>\n",
       "      <td>5</td>\n",
       "      <td>5</td>\n",
       "      <td>0.931913</td>\n",
       "      <td>0.931624</td>\n",
       "      <td>0.000289</td>\n",
       "    </tr>\n",
       "    <tr>\n",
       "      <th>5</th>\n",
       "      <td>6</td>\n",
       "      <td>6</td>\n",
       "      <td>0.933347</td>\n",
       "      <td>0.932242</td>\n",
       "      <td>0.001105</td>\n",
       "    </tr>\n",
       "    <tr>\n",
       "      <th>6</th>\n",
       "      <td>7</td>\n",
       "      <td>7</td>\n",
       "      <td>0.934157</td>\n",
       "      <td>0.931806</td>\n",
       "      <td>0.002352</td>\n",
       "    </tr>\n",
       "    <tr>\n",
       "      <th>7</th>\n",
       "      <td>8</td>\n",
       "      <td>8</td>\n",
       "      <td>0.935436</td>\n",
       "      <td>0.932606</td>\n",
       "      <td>0.002830</td>\n",
       "    </tr>\n",
       "    <tr>\n",
       "      <th>8</th>\n",
       "      <td>9</td>\n",
       "      <td>9</td>\n",
       "      <td>0.935950</td>\n",
       "      <td>0.932679</td>\n",
       "      <td>0.003271</td>\n",
       "    </tr>\n",
       "    <tr>\n",
       "      <th>9</th>\n",
       "      <td>10</td>\n",
       "      <td>10</td>\n",
       "      <td>0.937026</td>\n",
       "      <td>0.932242</td>\n",
       "      <td>0.004783</td>\n",
       "    </tr>\n",
       "    <tr>\n",
       "      <th>10</th>\n",
       "      <td>11</td>\n",
       "      <td>11</td>\n",
       "      <td>0.937415</td>\n",
       "      <td>0.932570</td>\n",
       "      <td>0.004846</td>\n",
       "    </tr>\n",
       "    <tr>\n",
       "      <th>11</th>\n",
       "      <td>12</td>\n",
       "      <td>12</td>\n",
       "      <td>0.937649</td>\n",
       "      <td>0.932206</td>\n",
       "      <td>0.005443</td>\n",
       "    </tr>\n",
       "    <tr>\n",
       "      <th>12</th>\n",
       "      <td>13</td>\n",
       "      <td>13</td>\n",
       "      <td>0.937680</td>\n",
       "      <td>0.932497</td>\n",
       "      <td>0.005183</td>\n",
       "    </tr>\n",
       "    <tr>\n",
       "      <th>13</th>\n",
       "      <td>14</td>\n",
       "      <td>14</td>\n",
       "      <td>0.937618</td>\n",
       "      <td>0.932351</td>\n",
       "      <td>0.005267</td>\n",
       "    </tr>\n",
       "    <tr>\n",
       "      <th>14</th>\n",
       "      <td>15</td>\n",
       "      <td>15</td>\n",
       "      <td>0.937259</td>\n",
       "      <td>0.932133</td>\n",
       "      <td>0.005126</td>\n",
       "    </tr>\n",
       "    <tr>\n",
       "      <th>15</th>\n",
       "      <td>16</td>\n",
       "      <td>16</td>\n",
       "      <td>0.936838</td>\n",
       "      <td>0.932133</td>\n",
       "      <td>0.004705</td>\n",
       "    </tr>\n",
       "    <tr>\n",
       "      <th>16</th>\n",
       "      <td>17</td>\n",
       "      <td>17</td>\n",
       "      <td>0.936386</td>\n",
       "      <td>0.932970</td>\n",
       "      <td>0.003417</td>\n",
       "    </tr>\n",
       "    <tr>\n",
       "      <th>17</th>\n",
       "      <td>18</td>\n",
       "      <td>18</td>\n",
       "      <td>0.935794</td>\n",
       "      <td>0.932497</td>\n",
       "      <td>0.003297</td>\n",
       "    </tr>\n",
       "    <tr>\n",
       "      <th>18</th>\n",
       "      <td>19</td>\n",
       "      <td>19</td>\n",
       "      <td>0.935576</td>\n",
       "      <td>0.932315</td>\n",
       "      <td>0.003261</td>\n",
       "    </tr>\n",
       "    <tr>\n",
       "      <th>19</th>\n",
       "      <td>20</td>\n",
       "      <td>20</td>\n",
       "      <td>0.935872</td>\n",
       "      <td>0.932606</td>\n",
       "      <td>0.003266</td>\n",
       "    </tr>\n",
       "  </tbody>\n",
       "</table>\n",
       "</div>"
      ],
      "text/plain": [
       "    min_samples_per_leaf  max_depth  train_accuracy  validate_accuracy  \\\n",
       "0                      1          1        0.929497           0.929842   \n",
       "1                      2          2        0.929497           0.929842   \n",
       "2                      3          3        0.929497           0.929842   \n",
       "3                      4          4        0.931227           0.931115   \n",
       "4                      5          5        0.931913           0.931624   \n",
       "5                      6          6        0.933347           0.932242   \n",
       "6                      7          7        0.934157           0.931806   \n",
       "7                      8          8        0.935436           0.932606   \n",
       "8                      9          9        0.935950           0.932679   \n",
       "9                     10         10        0.937026           0.932242   \n",
       "10                    11         11        0.937415           0.932570   \n",
       "11                    12         12        0.937649           0.932206   \n",
       "12                    13         13        0.937680           0.932497   \n",
       "13                    14         14        0.937618           0.932351   \n",
       "14                    15         15        0.937259           0.932133   \n",
       "15                    16         16        0.936838           0.932133   \n",
       "16                    17         17        0.936386           0.932970   \n",
       "17                    18         18        0.935794           0.932497   \n",
       "18                    19         19        0.935576           0.932315   \n",
       "19                    20         20        0.935872           0.932606   \n",
       "\n",
       "    difference  \n",
       "0    -0.000345  \n",
       "1    -0.000345  \n",
       "2    -0.000345  \n",
       "3     0.000112  \n",
       "4     0.000289  \n",
       "5     0.001105  \n",
       "6     0.002352  \n",
       "7     0.002830  \n",
       "8     0.003271  \n",
       "9     0.004783  \n",
       "10    0.004846  \n",
       "11    0.005443  \n",
       "12    0.005183  \n",
       "13    0.005267  \n",
       "14    0.005126  \n",
       "15    0.004705  \n",
       "16    0.003417  \n",
       "17    0.003297  \n",
       "18    0.003261  \n",
       "19    0.003266  "
      ]
     },
     "execution_count": 40,
     "metadata": {},
     "output_type": "execute_result"
    }
   ],
   "source": [
    "# Evaluate Random Forest models on train & validate set \n",
    "# by looping through different values for max_depth and min_samples_leaf hyperparameters\n",
    "\n",
    "# create empty list for which to append metrics from each loop\n",
    "scores = []\n",
    "max_value = range(1,21)\n",
    "# create loop for range 1-20\n",
    "for i in max_value:\n",
    "    # set depth & n_samples to value for current loop\n",
    "    depth = i\n",
    "    n_samples = i\n",
    "    # define the model setting hyperparameters to values for current loop\n",
    "    forest = RandomForestClassifier(max_depth=depth, min_samples_leaf=n_samples, random_state=123)\n",
    "    # fit the model on train\n",
    "    forest = forest.fit(X_train, y_train)\n",
    "    # use the model and evaluate performance on train\n",
    "    in_sample_accuracy = forest.score(X_train, y_train)\n",
    "    # use the model and evaluate performance on validate\n",
    "    out_of_sample_accuracy = forest.score(X_validate, y_validate)\n",
    "    # create output of current loop’s hyperparameters and accuracy to append to metrics\n",
    "    output = {\n",
    "        'min_samples_per_leaf': n_samples,\n",
    "        'max_depth': depth,\n",
    "        'train_accuracy': in_sample_accuracy,\n",
    "        'validate_accuracy': out_of_sample_accuracy\n",
    "    }\n",
    "    scores.append(output)\n",
    "# convert metrics list to a dataframe for easy reading\n",
    "df = pd.DataFrame(scores)\n",
    "# add column to assess the difference between train & validate accuracy\n",
    "df['difference'] = df.train_accuracy - df.validate_accuracy\n",
    "df"
   ]
  },
  {
   "cell_type": "code",
   "execution_count": 41,
   "id": "805cd30d-9926-45b8-b067-c2473bc16419",
   "metadata": {},
   "outputs": [
    {
     "name": "stdout",
     "output_type": "stream",
     "text": [
      "train_accuracy:  93.768023%\n",
      "validate_accuracy:  93.249682%\n"
     ]
    }
   ],
   "source": [
    "# The Random Forest model that performed the best on train & validate set had max_depth of 12 and min_sample_leaf of 12. \n",
    "# Isolating that model to use as best performing model. \n",
    "\n",
    "# define the model setting hyperparameters to values for the best performing model\n",
    "forest = RandomForestClassifier(max_depth=13, min_samples_leaf=13, random_state=123)\n",
    "\n",
    "# fit the model on train\n",
    "forest = forest.fit(X_train, y_train)\n",
    "\n",
    "# use the model and evaluate performance on train\n",
    "train_accuracy = forest.score(X_train, y_train)\n",
    "# use the model and evaluate performance on validate\n",
    "validate_accuracy = forest.score(X_validate, y_validate)\n",
    "\n",
    "print(f'train_accuracy: {train_accuracy: 2%}')\n",
    "print(f'validate_accuracy: {validate_accuracy: 2%}')"
   ]
  },
  {
   "cell_type": "markdown",
   "id": "c20ac8d0-5ee9-443b-b905-20f46c600d73",
   "metadata": {},
   "source": [
    "### Model - LOGISTIC REGRESSION"
   ]
  },
  {
   "cell_type": "code",
   "execution_count": 42,
   "id": "e334a29b-8ec7-45c7-a527-f54ce59587b8",
   "metadata": {},
   "outputs": [
    {
     "data": {
      "text/html": [
       "<div>\n",
       "<style scoped>\n",
       "    .dataframe tbody tr th:only-of-type {\n",
       "        vertical-align: middle;\n",
       "    }\n",
       "\n",
       "    .dataframe tbody tr th {\n",
       "        vertical-align: top;\n",
       "    }\n",
       "\n",
       "    .dataframe thead th {\n",
       "        text-align: right;\n",
       "    }\n",
       "</style>\n",
       "<table border=\"1\" class=\"dataframe\">\n",
       "  <thead>\n",
       "    <tr style=\"text-align: right;\">\n",
       "      <th></th>\n",
       "      <th>C</th>\n",
       "      <th>train_accuracy</th>\n",
       "      <th>validate_accuracy</th>\n",
       "      <th>difference</th>\n",
       "    </tr>\n",
       "  </thead>\n",
       "  <tbody>\n",
       "    <tr>\n",
       "      <th>0</th>\n",
       "      <td>0.001</td>\n",
       "      <td>0.929653</td>\n",
       "      <td>0.929987</td>\n",
       "      <td>-0.000335</td>\n",
       "    </tr>\n",
       "    <tr>\n",
       "      <th>1</th>\n",
       "      <td>0.005</td>\n",
       "      <td>0.929668</td>\n",
       "      <td>0.929915</td>\n",
       "      <td>-0.000246</td>\n",
       "    </tr>\n",
       "    <tr>\n",
       "      <th>2</th>\n",
       "      <td>0.010</td>\n",
       "      <td>0.929668</td>\n",
       "      <td>0.929987</td>\n",
       "      <td>-0.000319</td>\n",
       "    </tr>\n",
       "    <tr>\n",
       "      <th>3</th>\n",
       "      <td>0.050</td>\n",
       "      <td>0.929497</td>\n",
       "      <td>0.929733</td>\n",
       "      <td>-0.000236</td>\n",
       "    </tr>\n",
       "    <tr>\n",
       "      <th>4</th>\n",
       "      <td>0.100</td>\n",
       "      <td>0.929575</td>\n",
       "      <td>0.929842</td>\n",
       "      <td>-0.000267</td>\n",
       "    </tr>\n",
       "    <tr>\n",
       "      <th>5</th>\n",
       "      <td>0.500</td>\n",
       "      <td>0.929637</td>\n",
       "      <td>0.930024</td>\n",
       "      <td>-0.000387</td>\n",
       "    </tr>\n",
       "    <tr>\n",
       "      <th>6</th>\n",
       "      <td>1.000</td>\n",
       "      <td>0.929653</td>\n",
       "      <td>0.929987</td>\n",
       "      <td>-0.000335</td>\n",
       "    </tr>\n",
       "    <tr>\n",
       "      <th>7</th>\n",
       "      <td>5.000</td>\n",
       "      <td>0.929575</td>\n",
       "      <td>0.929805</td>\n",
       "      <td>-0.000231</td>\n",
       "    </tr>\n",
       "    <tr>\n",
       "      <th>8</th>\n",
       "      <td>10.000</td>\n",
       "      <td>0.929481</td>\n",
       "      <td>0.929842</td>\n",
       "      <td>-0.000361</td>\n",
       "    </tr>\n",
       "    <tr>\n",
       "      <th>9</th>\n",
       "      <td>50.000</td>\n",
       "      <td>0.929668</td>\n",
       "      <td>0.929987</td>\n",
       "      <td>-0.000319</td>\n",
       "    </tr>\n",
       "    <tr>\n",
       "      <th>10</th>\n",
       "      <td>100.000</td>\n",
       "      <td>0.929653</td>\n",
       "      <td>0.929987</td>\n",
       "      <td>-0.000335</td>\n",
       "    </tr>\n",
       "    <tr>\n",
       "      <th>11</th>\n",
       "      <td>500.000</td>\n",
       "      <td>0.929653</td>\n",
       "      <td>0.929987</td>\n",
       "      <td>-0.000335</td>\n",
       "    </tr>\n",
       "    <tr>\n",
       "      <th>12</th>\n",
       "      <td>1000.000</td>\n",
       "      <td>0.929653</td>\n",
       "      <td>0.929987</td>\n",
       "      <td>-0.000335</td>\n",
       "    </tr>\n",
       "  </tbody>\n",
       "</table>\n",
       "</div>"
      ],
      "text/plain": [
       "           C  train_accuracy  validate_accuracy  difference\n",
       "0      0.001        0.929653           0.929987   -0.000335\n",
       "1      0.005        0.929668           0.929915   -0.000246\n",
       "2      0.010        0.929668           0.929987   -0.000319\n",
       "3      0.050        0.929497           0.929733   -0.000236\n",
       "4      0.100        0.929575           0.929842   -0.000267\n",
       "5      0.500        0.929637           0.930024   -0.000387\n",
       "6      1.000        0.929653           0.929987   -0.000335\n",
       "7      5.000        0.929575           0.929805   -0.000231\n",
       "8     10.000        0.929481           0.929842   -0.000361\n",
       "9     50.000        0.929668           0.929987   -0.000319\n",
       "10   100.000        0.929653           0.929987   -0.000335\n",
       "11   500.000        0.929653           0.929987   -0.000335\n",
       "12  1000.000        0.929653           0.929987   -0.000335"
      ]
     },
     "execution_count": 42,
     "metadata": {},
     "output_type": "execute_result"
    }
   ],
   "source": [
    "# Evaluate Logistic Regression models on train & validate set by looping through different values for c hyperparameter\n",
    "\n",
    "# create empty list for which to append metrics from each loop\n",
    "metrics = []\n",
    "\n",
    "# create loop for values in list\n",
    "for c in [.001, .005, .01, .05, .1, .5, 1, 5, 10, 50, 100, 500, 1000]:\n",
    "            \n",
    "    # define the model setting hyperparameters to values for current loop\n",
    "    logit = LogisticRegression(C=c)\n",
    "    \n",
    "    # fit the model on train\n",
    "    logit.fit(X_train, y_train)\n",
    "    \n",
    "    # use the model and evaluate performance on train\n",
    "    train_accuracy = logit.score(X_train, y_train)\n",
    "    # use the model and evaluate performance on validate\n",
    "    validate_accuracy = logit.score(X_validate, y_validate)\n",
    "    \n",
    "    # create output of current loop's hyperparameters and accuracy to append to metrics\n",
    "    output = {\n",
    "        'C': c,\n",
    "        'train_accuracy': train_accuracy,\n",
    "        'validate_accuracy': validate_accuracy\n",
    "    }\n",
    "    \n",
    "    metrics.append(output)\n",
    "\n",
    "# convert metrics list to a dataframe for easy reading\n",
    "df = pd.DataFrame(metrics)\n",
    "# add column to assess the difference between train & validate accuracy\n",
    "df['difference'] = df.train_accuracy - df.validate_accuracy\n",
    "df"
   ]
  },
  {
   "cell_type": "code",
   "execution_count": 43,
   "id": "a18fe01a-64c9-4386-b5be-d266dcfe163b",
   "metadata": {},
   "outputs": [
    {
     "name": "stdout",
     "output_type": "stream",
     "text": [
      "Coefficient: \n",
      " [[-0.000206   -0.04731319  0.07868075 -0.00049153 -0.00011551  0.03176106\n",
      "   0.03493758 -0.04198021  0.04054895]]\n",
      "Intercept: \n",
      " [-0.02364445]\n"
     ]
    }
   ],
   "source": [
    "# Feature importance\n",
    "print('Coefficient: \\n', logit.coef_)\n",
    "print('Intercept: \\n', logit.intercept_)"
   ]
  },
  {
   "cell_type": "code",
   "execution_count": 44,
   "id": "d40c25f2-f59d-4f26-9445-1719cf73f440",
   "metadata": {},
   "outputs": [],
   "source": [
    "#Make Probability\n",
    "y_pred = logit.predict(X_train)"
   ]
  },
  {
   "cell_type": "code",
   "execution_count": 45,
   "id": "98cf6507-1cf2-490f-a23b-7b596704c489",
   "metadata": {},
   "outputs": [],
   "source": [
    "# Estimate Predictions\n",
    "y_pred_proba = logit.predict_proba(X_train)"
   ]
  },
  {
   "cell_type": "markdown",
   "id": "628be7c6-45e5-4516-a4e2-977e27994744",
   "metadata": {},
   "source": [
    "Evaluate the Model with Our Validate Set\n",
    "Done in Function above\n",
    "The Logistic Regression Model that performed best had a c-statistic of 0.1 with a train accuracy of 93.0% and validate accuracy of 93.0.% performing nearly the same as baseline on unseen (validate) data.`m"
   ]
  },
  {
   "cell_type": "markdown",
   "id": "c3a550b4-1720-481e-adf0-3e129fbcb0ac",
   "metadata": {},
   "source": [
    "### Create a Confusion Matrix\n",
    "- True Positive: number of occurrences where churn is true and churn is predicted true.\n",
    "- True Negative: number of occurrences where churn is false and churn is predicted false.\n",
    "- False Positive: number of occurrences where churn is false and churn is predicted true.\n",
    "- False Negative: number of occurrences where churn is true and churn is predicted false."
   ]
  },
  {
   "cell_type": "code",
   "execution_count": 46,
   "id": "77d104ec-fbbc-4177-9498-7f73c2d67ddf",
   "metadata": {},
   "outputs": [
    {
     "name": "stdout",
     "output_type": "stream",
     "text": [
      "[[59591    39]\n",
      " [ 4474    49]]\n"
     ]
    }
   ],
   "source": [
    "print(confusion_matrix(y_train, y_pred))"
   ]
  },
  {
   "cell_type": "markdown",
   "id": "9050116b-0d43-4167-aebc-ac54d99ec69c",
   "metadata": {},
   "source": [
    "Create Classification Report\n",
    "Acuracy isn't everything, look at other evaluation metrics, such as recalll and precision."
   ]
  },
  {
   "cell_type": "code",
   "execution_count": 47,
   "id": "ba18d4c6-bce7-46b4-97ff-b5092dea17b8",
   "metadata": {},
   "outputs": [
    {
     "name": "stdout",
     "output_type": "stream",
     "text": [
      "              precision    recall  f1-score   support\n",
      "\n",
      "           0       0.93      1.00      0.96     59630\n",
      "           1       0.56      0.01      0.02      4523\n",
      "\n",
      "    accuracy                           0.93     64153\n",
      "   macro avg       0.74      0.51      0.49     64153\n",
      "weighted avg       0.90      0.93      0.90     64153\n",
      "\n"
     ]
    }
   ],
   "source": [
    "print(classification_report(y_train, y_pred))"
   ]
  },
  {
   "cell_type": "markdown",
   "id": "78b7c9e3-5a0e-4185-8ce1-47d05e61214a",
   "metadata": {},
   "source": [
    "### Best Model Overall\n",
    "- The best performing model overall was the _, performing _ on train, __ on validate, and optimized for ___.\n",
    "- This model will now be used on the test data to confirm best performance."
   ]
  },
  {
   "cell_type": "markdown",
   "id": "84c34429-aa94-47d8-b98a-440a3732aee5",
   "metadata": {},
   "source": [
    "========================================================================================================================================================================================="
   ]
  },
  {
   "cell_type": "markdown",
   "id": "1afbe768-c1ee-44de-8699-868648902c54",
   "metadata": {},
   "source": [
    "## V. CONCLUSION"
   ]
  },
  {
   "cell_type": "markdown",
   "id": "7d96fe7d-e4d5-4a1f-9d74-24b4a9d23963",
   "metadata": {},
   "source": [
    "The goal of this report was to identify drivers of borrower serious delinquency and to build a model that could be used to help borrowers and banking institutions make the best financial decisions.  \n",
    "Through the process of data acquisition, preparation, exploration, and statistical testing, it was determined borrowers more at-risk of serious delinquency are borrowers: \n",
    "\n",
    "- between the ages of 20 and 40\n",
    "- who have an average monthly income of \\\\$4900, which is about \\\\$800 lower than those who are not seriously delinquent  \n",
    "- who have an average debt to income ratio of 16\\%, 13\\% lower than those who are not seriously delinquent\n",
    "- who have an average revolving credit utilization rate of 315\\%, over 250\\% **lower** than those who are not seriously delinquent\n",
    "\n",
    "By using machine learning modeling, predictions to prevent serious delinquency were made with ___ accuracy within the best performing model. \n",
    "\n",
    "\n",
    "to be useful in developing mechanisms within marketing and customer retention teams to prevent churn in high-risk customer groups. "
   ]
  },
  {
   "cell_type": "markdown",
   "id": "4f1606f6-da37-4ede-8313-5c77333618e5",
   "metadata": {},
   "source": [
    "### RECOMMENDATIONS"
   ]
  },
  {
   "cell_type": "code",
   "execution_count": null,
   "id": "b7d31d03-442c-4f99-ab71-64773bc3f470",
   "metadata": {},
   "outputs": [],
   "source": []
  },
  {
   "cell_type": "markdown",
   "id": "192670d9-2fa0-43ca-838a-704341e800b0",
   "metadata": {},
   "source": [
    "### NEXT STEPS"
   ]
  },
  {
   "cell_type": "markdown",
   "id": "c42869e6-af1f-42a5-8d4d-3f7f90a65fa7",
   "metadata": {
    "tags": []
   },
   "source": [
    "If given more time, I would like to:\n",
    "\n",
    "- Eliminate more outliers and scale further aspects of the data to produce more accurate modeling/predictions.\n",
    "\n",
    "- Downsample to decrease the quantity of the majority class (no serious delinquency) in order to better see the impact of features on the target.\n",
    "\n",
    "- Identify more precise populations within the data that have serious delinquency. For instance, I would like to investigate:\n",
    "    - the 144 observations that have over 98 occurrences of serious delinquency.\n",
    "    - the relationship between intermediate delinquencies (30 days, 60 days) and the target."
   ]
  },
  {
   "cell_type": "code",
   "execution_count": null,
   "id": "5d3ee671-2aff-4784-9b07-9029cf286b64",
   "metadata": {},
   "outputs": [],
   "source": []
  },
  {
   "cell_type": "code",
   "execution_count": null,
   "id": "b5ee3cf9-1351-4791-8426-192935b30424",
   "metadata": {},
   "outputs": [],
   "source": []
  },
  {
   "cell_type": "code",
   "execution_count": null,
   "id": "9ac29869-7f91-4769-b986-dc53014c559b",
   "metadata": {},
   "outputs": [],
   "source": []
  },
  {
   "cell_type": "code",
   "execution_count": null,
   "id": "acf87f06-9507-43c0-9895-f93d07eb4f8a",
   "metadata": {},
   "outputs": [],
   "source": []
  },
  {
   "cell_type": "code",
   "execution_count": null,
   "id": "3b216bb3-db96-4a86-a322-e21c35730036",
   "metadata": {},
   "outputs": [],
   "source": []
  },
  {
   "cell_type": "code",
   "execution_count": null,
   "id": "6f830335-72d5-4531-8590-47c001dba19b",
   "metadata": {},
   "outputs": [],
   "source": []
  },
  {
   "cell_type": "code",
   "execution_count": null,
   "id": "49a479e3-1fef-4a28-8137-125d966802cd",
   "metadata": {},
   "outputs": [],
   "source": []
  },
  {
   "cell_type": "code",
   "execution_count": null,
   "id": "736e9606-373c-4992-bfbd-84f0b01a1805",
   "metadata": {},
   "outputs": [],
   "source": []
  },
  {
   "cell_type": "markdown",
   "id": "cb8677d9-b870-4d73-b348-8b2e702dc773",
   "metadata": {},
   "source": [
    "==================================================================================================================================="
   ]
  },
  {
   "cell_type": "markdown",
   "id": "583ac056-1f5f-4c37-bf29-e14c20502803",
   "metadata": {},
   "source": [
    "## V. CONCLUSION"
   ]
  },
  {
   "cell_type": "markdown",
   "id": "a4ad585b-62b1-4765-9ca7-21066825a333",
   "metadata": {},
   "source": [
    "### RECOMMENDATIONS"
   ]
  },
  {
   "cell_type": "markdown",
   "id": "7cc52bcc-6ef1-418e-9148-1cca1a5dbb47",
   "metadata": {},
   "source": [
    "### NEXT STEPS"
   ]
  }
 ],
 "metadata": {
  "kernelspec": {
   "display_name": "Python 3 (ipykernel)",
   "language": "python",
   "name": "python3"
  },
  "language_info": {
   "codemirror_mode": {
    "name": "ipython",
    "version": 3
   },
   "file_extension": ".py",
   "mimetype": "text/x-python",
   "name": "python",
   "nbconvert_exporter": "python",
   "pygments_lexer": "ipython3",
   "version": "3.9.7"
  }
 },
 "nbformat": 4,
 "nbformat_minor": 5
}
